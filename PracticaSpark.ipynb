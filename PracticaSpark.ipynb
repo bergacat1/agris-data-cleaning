{
 "cells": [
  {
   "cell_type": "code",
   "execution_count": 1,
   "metadata": {
    "collapsed": false
   },
   "outputs": [],
   "source": [
    "import os, sys\n",
    "# make sure pyspark tells workers to use python2 not 3 if both are\n",
    "#installed\n",
    "\n",
    "os.environ['PYSPARK_PYTHON'] = '/usr/bin/python2'\n",
    "reload(sys)\n",
    "sys.setdefaultencoding('utf-8')\n",
    "\n",
    "import pyspark\n",
    "from pyspark.sql import SQLContext\n",
    "\n",
    "sc =  pyspark.SparkContext('local[*]')\n",
    "sqlCtx = SQLContext(sc)"
   ]
  },
  {
   "cell_type": "code",
   "execution_count": 14,
   "metadata": {
    "collapsed": true
   },
   "outputs": [],
   "source": [
    "import csv\n",
    "\n",
    "def unicode_csv_reader(unicode_csv_data, dialect=csv.excel, **kwargs):\n",
    "    # csv.py doesn't do Unicode; encode temporarily as UTF-8:\n",
    "    csv_reader = csv.reader(utf_8_encoder(unicode_csv_data),\n",
    "                            dialect=dialect, **kwargs)\n",
    "    for row in csv_reader:\n",
    "        # decode UTF-8 back to Unicode, cell by cell:\n",
    "        yield [unicode(cell, 'utf-8') for cell in row]\n",
    "\n",
    "def utf_8_encoder(unicode_csv_data):\n",
    "    for line in unicode_csv_data:\n",
    "        yield line.encode('utf-8')"
   ]
  },
  {
   "cell_type": "code",
   "execution_count": 76,
   "metadata": {
    "collapsed": false
   },
   "outputs": [],
   "source": [
    "lines = sc.textFile(\"data/2000s_authors.csv\")"
   ]
  },
  {
   "cell_type": "code",
   "execution_count": 81,
   "metadata": {
    "collapsed": false
   },
   "outputs": [],
   "source": [
    "header = lines.first()\n",
    "rows = lines.filter(lambda line: line != header)\n",
    "authors = rows.map(lambda line: list(unicode_csv_reader(line))).filter(lambda x: len(x) == 3).flatMap(lambda x: x[2])"
   ]
  },
  {
   "cell_type": "code",
   "execution_count": 82,
   "metadata": {
    "collapsed": false
   },
   "outputs": [],
   "source": [
    "import itertools   \n",
    "coauthors = authors.flatMap(lambda a: [[tuple(sorted(coauth)), 1] for coauth in itertools.combinations(a.split('|'), 2)])"
   ]
  },
  {
   "cell_type": "code",
   "execution_count": 83,
   "metadata": {
    "collapsed": false
   },
   "outputs": [
    {
     "data": {
      "text/plain": [
       "[((u'Iriarte Navarro, L.', u'Mart\\xednez Rodr\\xedguez, A.'), 1),\n",
       " ((u'Economic Research Service.', u'Liefert, William.'), 5),\n",
       " ((u'MacDonald, G. M.', u'Sheng, Y.'), 1),\n",
       " ((u'Smekens, Koen', u'van der Zwaan, Bob'), 1),\n",
       " ((u'Bacon, Nicholas J.', u'Farese, James P.'), 1),\n",
       " ((u'Tanaka, K.', u'Tsuchizaki, N.'), 1),\n",
       " ((u'Li, Lin', u'Li, Qianqian'), 1),\n",
       " ((u'Mentis, Andreas F.', u'Panayiotou, Joanna'), 1),\n",
       " ((u'Licciulli, F.', u'Liuni, S.'), 1),\n",
       " ((u'Kennett, JP', u'Lea, DW'), 1),\n",
       " ((u'Balla, Branko', u'Mocak, Jan'), 1),\n",
       " ((u'Fukumori, Akio', u'Haug-Kr\\xf6per, Martina'), 1),\n",
       " ((u'Takami, Ikuo', u'Yoshimizu, Mamoru'), 1),\n",
       " ((u'Song, X.', u'Wang, J.'), 1),\n",
       " ((u'Bowie, Mike H.', u'Vink, Cor J.'), 1),\n",
       " ((u'Imaizumi, K.', u'Iwamoto, M.'), 3),\n",
       " ((u'Jursova, Michaela', u'Stopka, Pavel'), 1),\n",
       " ((u'Garcia, M.E.', u'Johnson, R.S.'), 2),\n",
       " ((u'Mitchell, Kendra', u'Reysenbach, Anna-Louise'), 1),\n",
       " ((u'Fab\\xedola Villa', u'Fab\\xedola Villa'), 1)]"
      ]
     },
     "execution_count": 83,
     "metadata": {},
     "output_type": "execute_result"
    }
   ],
   "source": [
    "coauthors.reduceByKey(lambda x, y: x + y).take(20)"
   ]
  },
  {
   "cell_type": "code",
   "execution_count": 80,
   "metadata": {
    "collapsed": false
   },
   "outputs": [
    {
     "data": {
      "text/plain": [
       "[[('a', 'b'), 1], [('a', 'c'), 1], [('b', 'c'), 1], [('b', 'c'), 1]]"
      ]
     },
     "execution_count": 80,
     "metadata": {},
     "output_type": "execute_result"
    }
   ],
   "source": [
    "authors = sc.parallelize([['a', 'b', 'c'], ['c', 'b']])\n",
    "authors.flatMap(lambda a: [[tuple(sorted(coauth)), 1] for coauth in itertools.combinations(a, 2)]).collect()"
   ]
  },
  {
   "cell_type": "code",
   "execution_count": null,
   "metadata": {
    "collapsed": true
   },
   "outputs": [],
   "source": []
  }
 ],
 "metadata": {
  "kernelspec": {
   "display_name": "Python 2",
   "language": "python",
   "name": "python2"
  },
  "language_info": {
   "codemirror_mode": {
    "name": "ipython",
    "version": 2
   },
   "file_extension": ".py",
   "mimetype": "text/x-python",
   "name": "python",
   "nbconvert_exporter": "python",
   "pygments_lexer": "ipython2",
   "version": "2.7.12"
  }
 },
 "nbformat": 4,
 "nbformat_minor": 1
}
