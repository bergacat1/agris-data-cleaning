{
 "cells": [
  {
   "cell_type": "code",
   "execution_count": 1,
   "metadata": {
    "collapsed": false
   },
   "outputs": [],
   "source": [
    "import pyspark\n",
    "import os\n",
    "import math\n",
    "import random\n",
    "import sys\n",
    "import pandas as pd\n",
    "import numpy as np\n",
    "from IPython.display import display\n",
    "import re\n",
    "\n",
    "# make sure pyspark tells workers to use python2 not 3 if both are installed\\\\n\\\",\\n\",\n",
    "os.environ[\"PYSPARK_PYTHON\"] = \"python2\"\n",
    "os.environ['PYTHONPATH'] = ':'.join(sys.path)\n",
    "\n",
    "import pyspark\n",
    "from pyspark.sql import SQLContext\n",
    "\n",
    "sc = pyspark.SparkContext('local[*]')\n",
    "sqlCtx = SQLContext(sc)"
   ]
  },
  {
   "cell_type": "code",
   "execution_count": 2,
   "metadata": {
    "collapsed": false
   },
   "outputs": [],
   "source": [
    "from difflib import SequenceMatcher\n",
    "# https://docs.python.org/2.4/lib/sequence-matcher.html\n",
    "\n",
    "def similar(a, b):\n",
    "    return SequenceMatcher(None, a, b).ratio()"
   ]
  },
  {
   "cell_type": "code",
   "execution_count": 3,
   "metadata": {
    "collapsed": false
   },
   "outputs": [],
   "source": [
    "df1 = pd.read_csv(\"data/0M-1M.csv\", sep=\",\",header=0,low_memory=False)\n",
    "df2 = pd.read_csv(\"data/1M-2M.csv\", sep=\",\",header=0,low_memory=False)\n",
    "df3 = pd.read_csv(\"data/2M-3M.csv\", sep=\",\",header=0,low_memory=False)\n",
    "df4 = pd.read_csv(\"data/3M-4M.csv\", sep=\",\",header=0,low_memory=False)\n",
    "df5 = pd.read_csv(\"data/4M-5M.csv\", sep=\",\",header=0,low_memory=False)\n",
    "df6 = pd.read_csv(\"data/5M-6M.csv\", sep=\",\",header=0,low_memory=False)\n",
    "\n",
    "df_ = pd.concat([df1,df2,df3,df4,df5,df6],ignore_index = True)\n",
    "\n",
    "articles = df_.sample(n=10000)\n",
    "articles.to_csv('data/current_sample.csv')\n",
    "articles.sort_index(inplace=True)"
   ]
  },
  {
   "cell_type": "code",
   "execution_count": 4,
   "metadata": {
    "collapsed": false
   },
   "outputs": [],
   "source": [
    "df1 = pd.read_csv(\"data/Authors-0M-1M.csv\", sep=\",\",header=0,low_memory=False)\n",
    "df2 = pd.read_csv(\"data/Authors-1M-2M.csv\", sep=\",\",header=0,low_memory=False)\n",
    "df3 = pd.read_csv(\"data/Authors-2M-3M.csv\", sep=\",\",header=0,low_memory=False)\n",
    "df4 = pd.read_csv(\"data/Authors-3M-4M.csv\", sep=\",\",header=0,low_memory=False)\n",
    "df5 = pd.read_csv(\"data/Authors-4M-5M.csv\", sep=\",\",header=0,low_memory=False)\n",
    "df6 = pd.read_csv(\"data/Authors-5M-6M.csv\", sep=\",\",header=0,low_memory=False)\n",
    "\n",
    "df_Authors_ = pd.concat([df1,df2,df3,df4,df5,df6],ignore_index = True)\n",
    "\n",
    "df1 = pd.read_csv(\"data/Sub-0M-1M.csv\", sep=\",\",header=0,low_memory=False)\n",
    "df2 = pd.read_csv(\"data/Sub-1M-2M.csv\", sep=\",\",header=0,low_memory=False)\n",
    "df3 = pd.read_csv(\"data/Sub-2M-3M.csv\", sep=\",\",header=0,low_memory=False)\n",
    "df4 = pd.read_csv(\"data/Sub-3M-4M.csv\", sep=\",\",header=0,low_memory=False)\n",
    "df5 = pd.read_csv(\"data/Sub-4M-5M.csv\", sep=\",\",header=0,low_memory=False)\n",
    "\n",
    "df_Subjects = pd.concat([df1,df2,df3,df4,df5],ignore_index = True)"
   ]
  },
  {
   "cell_type": "code",
   "execution_count": 5,
   "metadata": {
    "collapsed": false
   },
   "outputs": [],
   "source": [
    "articles.rename(columns={'conferenceTitle':'conferenceData', 'journalTitle':'journalData'}, inplace=True)"
   ]
  },
  {
   "cell_type": "markdown",
   "metadata": {},
   "source": [
    "## Extract conference information:\n",
    "\n",
    "We want to classify all the conferences, setting the same ID in the same conferences.\n",
    "\n",
    "Also from conferences, we are interested in the year, in order to compare it with the other years in the data."
   ]
  },
  {
   "cell_type": "code",
   "execution_count": 6,
   "metadata": {
    "collapsed": false
   },
   "outputs": [
    {
     "data": {
      "text/plain": [
       "265"
      ]
     },
     "execution_count": 6,
     "metadata": {},
     "output_type": "execute_result"
    }
   ],
   "source": [
    "# Tenen conferencia\n",
    "len(articles[articles.conferenceData.notnull()])"
   ]
  },
  {
   "cell_type": "code",
   "execution_count": 7,
   "metadata": {
    "collapsed": false
   },
   "outputs": [],
   "source": [
    "conferenceDF =  pd.DataFrame(articles.conferenceData)"
   ]
  },
  {
   "cell_type": "markdown",
   "metadata": {},
   "source": [
    "### Get the year from the data\n",
    "First, we validate if all the dates have a year"
   ]
  },
  {
   "cell_type": "code",
   "execution_count": 8,
   "metadata": {
    "collapsed": false
   },
   "outputs": [
    {
     "data": {
      "text/plain": [
       "10"
      ]
     },
     "execution_count": 8,
     "metadata": {},
     "output_type": "execute_result"
    }
   ],
   "source": [
    "# Que els quatre digits seguits siguin any\n",
    "# Primer miro si hi han mes de un grup de 4 digits seguits ens les dades\n",
    "pattern = r'^.*\\d{4}.*\\d{4}.*$'\n",
    "np.sum(conferenceDF.conferenceData[conferenceDF.conferenceData.notnull()].str.contains(pattern,na=False))"
   ]
  },
  {
   "cell_type": "code",
   "execution_count": 9,
   "metadata": {
    "collapsed": false
   },
   "outputs": [],
   "source": [
    "# Si n'hi ha, mirem que siguin el mateix any. Mostrem els que son diferents valors. Aquetst els despreciarem\n",
    "pattern = r'^.*(\\d{4}).*(\\d{4}).*$'\n",
    "moreThanOne = conferenceDF.conferenceData[conferenceDF.conferenceData.notnull()].str.extract(pattern,expand=False)\n",
    "moreThanOneDifferents = moreThanOne[moreThanOne[0].notnull() & (moreThanOne[0] != moreThanOne[1])]"
   ]
  },
  {
   "cell_type": "code",
   "execution_count": 10,
   "metadata": {
    "collapsed": false
   },
   "outputs": [
    {
     "data": {
      "text/plain": [
       "Int64Index([2838736], dtype='int64')"
      ]
     },
     "execution_count": 10,
     "metadata": {},
     "output_type": "execute_result"
    }
   ],
   "source": [
    "moreThanOneDifferents.index"
   ]
  },
  {
   "cell_type": "code",
   "execution_count": 11,
   "metadata": {
    "collapsed": false
   },
   "outputs": [
    {
     "data": {
      "text/plain": [
       "2"
      ]
     },
     "execution_count": 11,
     "metadata": {},
     "output_type": "execute_result"
    }
   ],
   "source": [
    "# Si el resultat és 0 també s'ha de comprovar que totes tinguin 4 digits seguits\n",
    "pattern = r'^.*\\d{4}.*$'\n",
    "len(conferenceDF.conferenceData[conferenceDF.conferenceData.notnull()]) - np.sum(conferenceDF.conferenceData[conferenceDF.conferenceData.notnull()].str.contains(pattern,na=False))"
   ]
  },
  {
   "cell_type": "code",
   "execution_count": 12,
   "metadata": {
    "collapsed": false
   },
   "outputs": [
    {
     "data": {
      "text/plain": [
       "3241085                                    RIZA.\n",
       "5072815    Western Cotton Production Conference.\n",
       "Name: conferenceData, dtype: object"
      ]
     },
     "execution_count": 12,
     "metadata": {},
     "output_type": "execute_result"
    }
   ],
   "source": [
    "# Busquem les que no tenen els anys amb format correcte\n",
    "badYearFormat = conferenceDF.conferenceData[conferenceDF.conferenceData.notnull()].str.contains(pattern,na=False)\n",
    "badYearFormat = badYearFormat[badYearFormat == False]\n",
    "conferenceDF.conferenceData[conferenceDF.conferenceData.index.isin(badYearFormat.index)]"
   ]
  },
  {
   "cell_type": "code",
   "execution_count": 13,
   "metadata": {
    "collapsed": false
   },
   "outputs": [
    {
     "data": {
      "text/plain": [
       "262"
      ]
     },
     "execution_count": 13,
     "metadata": {},
     "output_type": "execute_result"
    }
   ],
   "source": [
    "# Obtenim l'any i eliminem els que hi han a moreThanOneDifferents\n",
    "pattern = r'^.*(\\d{4}).*$'\n",
    "conferenceDF['conferenceDateYear'] = conferenceDF.conferenceData.str.extract(pattern, expand=False)\n",
    "conferenceDF.conferenceDateYear[conferenceDF.conferenceDateYear.index.isin(moreThanOneDifferents.index)] = np.nan\n",
    "conferenceDF.conferenceDateYear = pd.to_numeric(conferenceDF.conferenceDateYear, errors='coerce')\n",
    "len(conferenceDF.conferenceDateYear[conferenceDF.conferenceDateYear.notnull()])"
   ]
  },
  {
   "cell_type": "code",
   "execution_count": 14,
   "metadata": {
    "collapsed": false
   },
   "outputs": [],
   "source": [
    "articles[\"conferenceYear\"] = conferenceDF.conferenceDateYear"
   ]
  },
  {
   "cell_type": "markdown",
   "metadata": {},
   "source": [
    "## Extract year from issued date:"
   ]
  },
  {
   "cell_type": "code",
   "execution_count": 15,
   "metadata": {
    "collapsed": false
   },
   "outputs": [],
   "source": [
    "issuedYear = articles.issued.str.extract(\"(\\d{4}|[0,3-9]\\d)\", expand=False)\n",
    "issuedYear = pd.to_numeric(issuedYear, errors='coerce')"
   ]
  },
  {
   "cell_type": "code",
   "execution_count": 16,
   "metadata": {
    "collapsed": false
   },
   "outputs": [],
   "source": [
    "def completeYears(year):\n",
    "    century = 1900 if year > 40 else 2000\n",
    "    return century + year\n",
    "issuedYear[issuedYear < 99] = issuedYear[issuedYear < 99].apply(completeYears)"
   ]
  },
  {
   "cell_type": "code",
   "execution_count": 17,
   "metadata": {
    "collapsed": false
   },
   "outputs": [],
   "source": [
    "articles['issuedYear'] = issuedYear"
   ]
  },
  {
   "cell_type": "code",
   "execution_count": 18,
   "metadata": {
    "collapsed": false
   },
   "outputs": [],
   "source": [
    "issuedMonthText = articles.issued.str.extract(\"(ene|jan|feb|mar|apr|abr|mai|may|jun|jul|aug|ago|sept|sep|oct|nov|dic|dec)\", expand=False)\n",
    "issuedMonthNumeric = articles.issued.str.extract(\"\\D(\\d|1[1-2])\\D?$\", expand=False)\n",
    "issuedMonth = issuedMonthText.fillna(issuedMonthNumeric)"
   ]
  },
  {
   "cell_type": "code",
   "execution_count": 19,
   "metadata": {
    "collapsed": false
   },
   "outputs": [],
   "source": [
    "issuedMonth = issuedMonth.replace('ene|jan', '1', regex=True)\n",
    "issuedMonth = issuedMonth.replace('feb', '2')\n",
    "issuedMonth = issuedMonth.replace('mar', '3')\n",
    "issuedMonth = issuedMonth.replace('apr|abr', '4', regex=True)\n",
    "issuedMonth = issuedMonth.replace('mai|may', '5', regex=True)\n",
    "issuedMonth = issuedMonth.replace('jun', '6')\n",
    "issuedMonth = issuedMonth.replace('jul', '7')\n",
    "issuedMonth = issuedMonth.replace('ago|aug', '8', regex=True)\n",
    "issuedMonth = issuedMonth.replace('sept|sep', '9', regex=True)\n",
    "issuedMonth = issuedMonth.replace('oct', '10')\n",
    "issuedMonth = issuedMonth.replace('nov', '11')\n",
    "issuedMonth = issuedMonth.replace('dic|dec', '12', regex=True)\n",
    "issuedMonth = issuedMonth.fillna('6')"
   ]
  },
  {
   "cell_type": "code",
   "execution_count": 20,
   "metadata": {
    "collapsed": true
   },
   "outputs": [],
   "source": [
    "articles['issuedMonth'] = issuedMonth"
   ]
  },
  {
   "cell_type": "code",
   "execution_count": 21,
   "metadata": {
    "collapsed": false
   },
   "outputs": [
    {
     "data": {
      "text/plain": [
       "0"
      ]
     },
     "execution_count": 21,
     "metadata": {},
     "output_type": "execute_result"
    }
   ],
   "source": [
    "issuedMonth[issuedMonth.isnull() == True].count()"
   ]
  },
  {
   "cell_type": "code",
   "execution_count": 22,
   "metadata": {
    "collapsed": false
   },
   "outputs": [
    {
     "data": {
      "text/plain": [
       "20"
      ]
     },
     "execution_count": 22,
     "metadata": {},
     "output_type": "execute_result"
    }
   ],
   "source": [
    "issuedMonth[issuedYear.isnull() == True].count()"
   ]
  },
  {
   "cell_type": "markdown",
   "metadata": {},
   "source": [
    "## Check correctness of issued, submitted year and conference year"
   ]
  },
  {
   "cell_type": "code",
   "execution_count": 23,
   "metadata": {
    "collapsed": true
   },
   "outputs": [],
   "source": [
    "articles.ix[articles.submitted - articles.issuedYear < 0, 'issuedYear'] = articles[articles.submitted - articles.issuedYear < 0].submitted"
   ]
  },
  {
   "cell_type": "code",
   "execution_count": 24,
   "metadata": {
    "collapsed": false
   },
   "outputs": [
    {
     "data": {
      "text/plain": [
       "articleId         0\n",
       "issued            0\n",
       "language          0\n",
       "submitted         0\n",
       "conference        0\n",
       "conferenceData    0\n",
       "journal           0\n",
       "journalData       0\n",
       "journalIssn       0\n",
       "conferenceYear    0\n",
       "issuedYear        0\n",
       "issuedMonth       0\n",
       "dtype: int64"
      ]
     },
     "execution_count": 24,
     "metadata": {},
     "output_type": "execute_result"
    }
   ],
   "source": [
    "articles[articles.submitted - articles.issuedYear < 0].count()"
   ]
  },
  {
   "cell_type": "code",
   "execution_count": 25,
   "metadata": {
    "collapsed": false
   },
   "outputs": [
    {
     "data": {
      "text/plain": [
       "Series([], Name: conferenceYear, dtype: float64)"
      ]
     },
     "execution_count": 25,
     "metadata": {},
     "output_type": "execute_result"
    }
   ],
   "source": [
    "# Check correctness of conference year\n",
    "articles.conferenceYear[(articles.conferenceYear < 1970) | (articles.conferenceYear > 2020)]"
   ]
  },
  {
   "cell_type": "code",
   "execution_count": 26,
   "metadata": {
    "collapsed": false
   },
   "outputs": [
    {
     "data": {
      "text/plain": [
       "0"
      ]
     },
     "execution_count": 26,
     "metadata": {},
     "output_type": "execute_result"
    }
   ],
   "source": [
    "articles.articleId[articles.conferenceYear.notnull() & (articles.conferenceYear > articles.submitted)].count()"
   ]
  },
  {
   "cell_type": "markdown",
   "metadata": {},
   "source": [
    "## Removing misstyped journal names"
   ]
  },
  {
   "cell_type": "code",
   "execution_count": 27,
   "metadata": {
    "collapsed": false
   },
   "outputs": [],
   "source": [
    "articles.journalData = articles.journalIssn.map(articles.groupby('journalIssn').journalData.agg(lambda x:x.value_counts().index[0]).to_dict())"
   ]
  },
  {
   "cell_type": "code",
   "execution_count": 28,
   "metadata": {
    "collapsed": false
   },
   "outputs": [],
   "source": [
    "articles.journalIssn = articles.journalData.map(articles.groupby('journalData').journalIssn.agg(lambda x:x.value_counts().index[0]).to_dict())"
   ]
  },
  {
   "cell_type": "code",
   "execution_count": 29,
   "metadata": {
    "collapsed": false
   },
   "outputs": [
    {
     "data": {
      "text/plain": [
       "journalIssn  journalData                                                                                                       \n",
       "0001-1541    AIChE journal                                                                                                          2\n",
       "0001-2351    Transactions of the ASAE (USA)                                                                                        10\n",
       "0001-3137    Abeille de France                                                                                                      1\n",
       "0001-3943    Bulletin of the Institute of Zoology, Academia Sinica                                                                  1\n",
       "0001-4087    Bulletin de l'Academie polonaise des sciences. Serie des sciences biologiques                                          1\n",
       "0001-5296    Acta biologica Cracoviensia. Series Botanica                                                                           1\n",
       "0001-530X    Acta biologica Cracoviensia. Serie: Zoologie                                                                           1\n",
       "0001-5393    Acta chemica scandinavica                                                                                              2\n",
       "0001-5504    Acta Cientifica Venezolana                                                                                             1\n",
       "0001-5601    Acta entomologica Bohemoslovaca                                                                                        2\n",
       "0001-625X    Acta mycologica                                                                                                        1\n",
       "0001-6780    Acta phytopathologica                                                                                                  2\n",
       "0001-723X    Acta virologica                                                                                                        1\n",
       "0001-7264    Acta zoologica Academiae Scientiarum Hungaricae                                                                        1\n",
       "0001-8449    Adolescence                                                                                                            3\n",
       "0001-9704    Afinidad                                                                                                               1\n",
       "0002-0710    Agrarische Rundschau (Austria)                                                                                         1\n",
       "0002-1121    Agrarwirtschaft                                                                                                        2\n",
       "0002-1334    Agricultura                                                                                                            5\n",
       "0002-1369    Agricultural and Biological Chemistry (Japan)                                                                         10\n",
       "0002-1407    Journal of the Agricultural Chemical Society of Japan (Japan)                                                          2\n",
       "0002-1423    Agricultural economics research - U.S. Dept. of Agriculture, Economics, Statistics, and Cooperatives Service (USA)     1\n",
       "0002-144X    Agricultural education                                                                                                 1\n",
       "0002-1474    Agricultural Gazette of New South Wales                                                                                2\n",
       "0002-1482    Agricultural history (USA)                                                                                             2\n",
       "0002-1571    Agricultural meteorology                                                                                               1\n",
       "0002-161X    Agricultural research                                                                                                  9\n",
       "0002-1679    Agricultural situation in India                                                                                        1\n",
       "0002-1709    Agriculture                                                                                                            2\n",
       "0002-1725    Agriculture and agro-industries journal                                                                                1\n",
       "                                                                                                                                   ..\n",
       "2168-1074    Arboricultural journal                                                                                                 1\n",
       "2171-1216    Spanish Journal of Rural Development                                                                                   1\n",
       "2175-9405    Ambiência                                                                                                              2\n",
       "2179-4448    Alimentos e Nutrição                                                                                                   4\n",
       "2192-2209    Natural products and bioprospecting                                                                                    1\n",
       "2212-2672    Journal of the Academy of Nutrition and Dietetics                                                                      1\n",
       "2219-0635    Onderstepoort Journal of Veterinary Research                                                                           1\n",
       "2220-721X    Computational Ecology and Software                                                                                     1\n",
       "2220-8860    Proceedings of the International Academy of Ecology and Environmental Sciences                                         2\n",
       "2224-4255    Arthropods                                                                                                             1\n",
       "2224-9435    Journal of the South African Veterinary Association                                                                    1\n",
       "2225-4269    Dairy Farming Journal                                                                                                  1\n",
       "2227-7055    Vestnik of Chelyabinsk State Agroengineering Academy                                                                   1\n",
       "2228-7604    Environmental Stresses in Crop Sciences                                                                                1\n",
       "2231-1874    Journal of Biologically Active Products from Nature                                                                    1\n",
       "2251-9300    Journal of Watershed Engineering and Management                                                                        1\n",
       "2253-7325    Actas Iberoamericanas de Conservación Animal                                                                           1\n",
       "2300-9675    International Letters of Natural Sciences                                                                             43\n",
       "2303-9868    Международный научно-исследовательский журнал                                                                          7\n",
       "2307-0048    Resources and Technology                                                                                               1\n",
       "2308-4766    Food industry of agroindustrial complex                                                                                1\n",
       "2325-6087    Australian forestry                                                                                                    2\n",
       "2411-857X    Право и национальная безопасность                                                                                      1\n",
       "2412-6608    Modern Science Success                                                                                                 1\n",
       "7019-825X    NEID (France)                                                                                                          1\n",
       "8750-7943    Veterinary medicine                                                                                                    2\n",
       "8755-6839    Science of Tsunami Hazards                                                                                             1\n",
       "8756-3576    Research program on soils of the tropics, annual report for                                                            1\n",
       "8756-7938    Biotechnology progress                                                                                                 3\n",
       "8756-971X    Journal of the American Mosquito Control Association (USA)                                                             5\n",
       "Name: journalData, dtype: int64"
      ]
     },
     "execution_count": 29,
     "metadata": {},
     "output_type": "execute_result"
    }
   ],
   "source": [
    "articles.groupby('journalIssn').journalData.value_counts()"
   ]
  },
  {
   "cell_type": "code",
   "execution_count": 30,
   "metadata": {
    "collapsed": false
   },
   "outputs": [
    {
     "data": {
      "text/plain": [
       "journalData                                                                                                journalIssn\n",
       "ACS symposium series (USA)                                                                                 0097-6156       4\n",
       "AGRIS on-line Papers in Economics and Informatics                                                          1804-1930       2\n",
       "AIChE journal                                                                                              0001-1541       2\n",
       "Abeille de France                                                                                          0001-3137       1\n",
       "Acta Agraria et Silvestria. Series Agraria                                                                 0065-0919       1\n",
       "Acta Agronomica Sinica                                                                                     0496-3490       2\n",
       "Acta Amazonica                                                                                             0044-5967       4\n",
       "Acta Biomaterialia                                                                                         1742-7061       1\n",
       "Acta Bot.nica Barcinonensia                                                                                0210-7597       1\n",
       "Acta Botanica Brasilica                                                                                    0102-3306       3\n",
       "Acta Cientifica Venezolana                                                                                 0001-5504       1\n",
       "Acta Embryologiae Experimentalis                                                                           0065-1184       2\n",
       "Acta Entomologica Sinica                                                                                   0454-6296       1\n",
       "Acta Facultatis Rerum Naturalium Universitatis Comenianae : botanica                                       0524-2371       1\n",
       "Acta Horticulturae                                                                                         0018-0580       1\n",
       "Acta Horticulturae Sinica                                                                                  0513-353X       1\n",
       "Acta Scientiarum : Agronomy                                                                                1807-8621       2\n",
       "Acta Scientiarum : Animal Sciences                                                                         1807-8672       2\n",
       "Acta Scientiarum Polonorum : Technologia Alimentaria                                                       1898-9594       1\n",
       "Acta Veterinaria Scandinavica                                                                              1751-0147       2\n",
       "Acta Veterinaria Scandinavica. Supplementum (USA)                                                          0065-1699       1\n",
       "Acta agriculturæ Scandinavica                                                                              1651-1913       3\n",
       "Acta agrobotanica                                                                                          0065-0951       2\n",
       "Acta biologica Cracoviensia. Serie: Zoologie                                                               0001-530X       1\n",
       "Acta biologica Cracoviensia. Series Botanica                                                               0001-5296       1\n",
       "Acta biologica. Nova series                                                                                0563-0592       1\n",
       "Acta biotechnologica                                                                                       0138-4988       1\n",
       "Acta chemica scandinavica                                                                                  0001-5393       2\n",
       "Acta entomologica Bohemoslovaca                                                                            0001-5601       2\n",
       "Acta horticulturae                                                                                         0567-7572      49\n",
       "                                                                                                                          ..\n",
       "Zeszyty Naukowe Akademii Rolniczej w Krakowie. Geodezja                                                    0137-1835       1\n",
       "Zeszyty Naukowe Akademii Rolniczo Technicznej w Olsztynie. Rolnictwo                                       0324-9204       1\n",
       "Zeszyty Naukowe Akademii Rolniczo Technicznej w Olsztynie. Zootechnika                                     0324-9239       1\n",
       "Zeszyty Problemowe Postepow Nauk Rolniczych (Poland). no. 303.                                             0084-5477       2\n",
       "Zeszyty naukowe. Ochrona wod i rybactwo srodladowe - Akademia Rolniczo-Techniczna w Olsztynie              0324-9190       1\n",
       "Zhivotnovodstvo                                                                                            0044-4480       9\n",
       "Zhurnal obshchei biologii                                                                                  0044-4596       2\n",
       "Ziegenzuechter (Germany)                                                                                   0931-1866       1\n",
       "Zivinarstvo (Yugoslavia)                                                                                   0354-4036       1\n",
       "Zivocisna vyroba - Ceskoslovenska akademie zemedelska, Ustav vedeckotechnickych informaci pro zemedelstvi  0044-4847       1\n",
       "Zoo biology                                                                                                0733-3188       1\n",
       "Zoologicheskii zhurnal                                                                                     0044-5134       4\n",
       "Zoologischer Anzeiger                                                                                      0044-5231       3\n",
       "Zoonoses and public health                                                                                 1863-1959       1\n",
       "Zootecnica e Nutrizione Animale                                                                            0390-0487       1\n",
       "Zucker und Suesswarenwirtschaft                                                                            0373-0204       4\n",
       "Zuckerindustrie                                                                                            0344-8657       2\n",
       "Zuckerruebe                                                                                                0044-5398       1\n",
       "Zywienie Czlowieka (Poland)                                                                                0303-7851       1\n",
       "annales Agronomiques                                                                                       0003-3839       2\n",
       "iForest : Biogeosciences and Forestry                                                                      1971-7458       1\n",
       "international journal of sustainable development and world ecology                                         1745-2627       2\n",
       "journal of eukaryotic microbiology                                                                         1066-5234       1\n",
       "journal of microbiology                                                                                    1225-8873       1\n",
       "journal of nutrition, health & aging                                                                       1279-7707       1\n",
       "lancet                                                                                                     0140-6736       1\n",
       "Вестник ветеринарии                                                                                        2071-3096       2\n",
       "Международный научно-исследовательский журнал                                                              2303-9868       7\n",
       "Плодоводство (Belarus). Fruit Growing                                                                      0134-9759       1\n",
       "Право и национальная безопасность                                                                          2411-857X       1\n",
       "Name: journalIssn, dtype: int64"
      ]
     },
     "execution_count": 30,
     "metadata": {},
     "output_type": "execute_result"
    }
   ],
   "source": [
    "articles.groupby('journalData').journalIssn.value_counts()"
   ]
  },
  {
   "cell_type": "markdown",
   "metadata": {},
   "source": [
    "## Languages correctness"
   ]
  },
  {
   "cell_type": "code",
   "execution_count": 31,
   "metadata": {
    "collapsed": false
   },
   "outputs": [
    {
     "data": {
      "text/plain": [
       "language  language\n",
       "Eng       Eng            1\n",
       "FRE       FRE            1\n",
       "afr       afr            5\n",
       "ara       ara           10\n",
       "bem       bem            3\n",
       "ben       ben            1\n",
       "bul       bul           48\n",
       "cat       cat            1\n",
       "chi       chi           90\n",
       "cze       cze           49\n",
       "dan       dan           50\n",
       "dut       dut           66\n",
       "eng       eng         6629\n",
       "esp       esp          310\n",
       "est       est            2\n",
       "fin       fin            3\n",
       "fra       fra           18\n",
       "fre       fre          470\n",
       "geo       geo            3\n",
       "ger       ger          556\n",
       "gre       gre            1\n",
       "gua       gua            1\n",
       "heb       heb            3\n",
       "hun       hun           34\n",
       "ind       ind           23\n",
       "ita       ita          191\n",
       "jpn       jpn          174\n",
       "kor       kor            6\n",
       "lat       lat            1\n",
       "lav       lav            7\n",
       "mac       mac            3\n",
       "mal       mal            1\n",
       "map       map            1\n",
       "mul       mul            1\n",
       "nor       nor           16\n",
       "per       per            3\n",
       "phi       phi            1\n",
       "pol       pol           65\n",
       "por       por          127\n",
       "rum       rum           37\n",
       "rus       rus          456\n",
       "scc       scc            6\n",
       "scr       scr           16\n",
       "slo       slo           26\n",
       "slv       slv            4\n",
       "spa       spa           45\n",
       "srp       srp            4\n",
       "srr       srr            7\n",
       "swe       swe           40\n",
       "tha       tha            3\n",
       "tur       tur            2\n",
       "ukr       ukr           21\n",
       "Name: language, dtype: int64"
      ]
     },
     "execution_count": 31,
     "metadata": {},
     "output_type": "execute_result"
    }
   ],
   "source": [
    "articles.groupby('language').language.value_counts()"
   ]
  },
  {
   "cell_type": "markdown",
   "metadata": {},
   "source": [
    "### Set conference Ids"
   ]
  },
  {
   "cell_type": "code",
   "execution_count": 32,
   "metadata": {
    "collapsed": false,
    "scrolled": true
   },
   "outputs": [],
   "source": [
    "conferenceDF[\"conferenceId\"] = np.nan"
   ]
  },
  {
   "cell_type": "code",
   "execution_count": 33,
   "metadata": {
    "collapsed": false
   },
   "outputs": [
    {
     "data": {
      "text/plain": [
       "7"
      ]
     },
     "execution_count": 33,
     "metadata": {},
     "output_type": "execute_result"
    }
   ],
   "source": [
    "def similarConference(a,b):\n",
    "    if a[\"conferenceDateYear\"] != b[\"conferenceDateYear\"]:\n",
    "        return False\n",
    "    return similar(a[\"conferenceData\"],b[\"conferenceData\"]) > 0.6\n",
    "\n",
    "def conferenceComput(cdf):\n",
    "    ID = 1\n",
    "    diff = 0\n",
    "    addNew = True\n",
    "    for idx, x in cdf[cdf.conferenceData.notnull()].iterrows():\n",
    "        if ID == 1:\n",
    "            cdf.loc[idx,\"conferenceId\"] = ID\n",
    "            ID += 1\n",
    "            continue\n",
    "        for idy, y in cdf[cdf.conferenceId.notnull()].iterrows():\n",
    "            if similarConference(x,y):\n",
    "                #cdf.loc[idx,\"conferenceId\"] = cdf.loc[idy,\"conferenceId\"]\n",
    "                cdf.set_value(idx,\"conferenceId\",cdf.loc[idy,\"conferenceId\"])\n",
    "                addNew = False\n",
    "                diff += 1\n",
    "                break\n",
    "        if addNew:\n",
    "            cdf.loc[idx,\"conferenceId\"] = ID\n",
    "            ID += 1\n",
    "        addNew = True\n",
    "    return diff\n",
    "conferenceComput(conferenceDF)"
   ]
  },
  {
   "cell_type": "code",
   "execution_count": 34,
   "metadata": {
    "collapsed": true
   },
   "outputs": [],
   "source": [
    "articles[\"ConferenceId\"] = conferenceDF.conferenceId"
   ]
  }
 ],
 "metadata": {
  "kernelspec": {
   "display_name": "Python 2",
   "language": "python",
   "name": "python2"
  },
  "language_info": {
   "codemirror_mode": {
    "name": "ipython",
    "version": 2
   },
   "file_extension": ".py",
   "mimetype": "text/x-python",
   "name": "python",
   "nbconvert_exporter": "python",
   "pygments_lexer": "ipython2",
   "version": "2.7.12"
  }
 },
 "nbformat": 4,
 "nbformat_minor": 0
}
