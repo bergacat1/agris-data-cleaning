{
 "cells": [
  {
   "cell_type": "code",
   "execution_count": 1,
   "metadata": {
    "collapsed": false
   },
   "outputs": [],
   "source": [
    "import pyspark\n",
    "import os\n",
    "import math\n",
    "import random\n",
    "import sys\n",
    "import pandas as pd\n",
    "import numpy as np\n",
    "from IPython.display import display\n",
    "import re\n",
    "\n",
    "# make sure pyspark tells workers to use python2 not 3 if both are installed\\\\n\\\",\\n\",\n",
    "os.environ[\"PYSPARK_PYTHON\"] = \"python2\"\n",
    "os.environ['PYSPARK_SUBMIT_ARGS'] = ('--packages '\n",
    "    'graphframes:graphframes:0.3.0-spark2.0-s_2.11'\n",
    "    ' pyspark-shell')\n",
    "os.environ['PYTHONPATH'] = ':'.join(sys.path)\n",
    "\n",
    "import pyspark\n",
    "from pyspark.sql import SQLContext\n",
    "\n",
    "sc = pyspark.SparkContext('local[*]')\n",
    "sqlContext = SQLContext(sc)"
   ]
  },
  {
   "cell_type": "code",
   "execution_count": 64,
   "metadata": {
    "collapsed": false
   },
   "outputs": [],
   "source": [
    "from pyspark.mllib.linalg.distributed import RowMatrix\n",
    "from pyspark.mllib.linalg.distributed import MatrixEntry\n",
    "from pyspark.mllib.linalg.distributed import CoordinateMatrix\n",
    "from pyspark.mllib.linalg import Vectors\n",
    "from pyspark.mllib.linalg import DenseVector\n",
    "from pyspark.mllib.feature import HashingTF\n",
    "from pyspark.sql import Row\n",
    "from pyspark.sql.types import *\n",
    "from pyspark.sql.functions import col\n",
    "from difflib import SequenceMatcher\n",
    "from graphframes import *\n",
    "import toyplot"
   ]
  },
  {
   "cell_type": "code",
   "execution_count": 3,
   "metadata": {
    "collapsed": false
   },
   "outputs": [
    {
     "name": "stdout",
     "output_type": "stream",
     "text": [
      "Requirement already satisfied: toyplot in /opt/conda/envs/python2/lib/python2.7/site-packages\r\n",
      "Requirement already satisfied: arrow in /opt/conda/envs/python2/lib/python2.7/site-packages (from toyplot)\r\n",
      "Requirement already satisfied: colormath in /opt/conda/envs/python2/lib/python2.7/site-packages (from toyplot)\r\n",
      "Requirement already satisfied: reportlab in /opt/conda/envs/python2/lib/python2.7/site-packages (from toyplot)\r\n",
      "Requirement already satisfied: numpy>=1.8.0 in /opt/conda/envs/python2/lib/python2.7/site-packages (from toyplot)\r\n",
      "Requirement already satisfied: multipledispatch in /opt/conda/envs/python2/lib/python2.7/site-packages (from toyplot)\r\n",
      "Requirement already satisfied: pypng in /opt/conda/envs/python2/lib/python2.7/site-packages (from toyplot)\r\n",
      "Requirement already satisfied: python-dateutil in /opt/conda/envs/python2/lib/python2.7/site-packages (from arrow->toyplot)\r\n",
      "Requirement already satisfied: networkx in /opt/conda/envs/python2/lib/python2.7/site-packages (from colormath->toyplot)\r\n",
      "Requirement already satisfied: pillow>=2.4.0 in /opt/conda/envs/python2/lib/python2.7/site-packages (from reportlab->toyplot)\r\n",
      "Requirement already satisfied: pip>=1.4.1 in /opt/conda/envs/python2/lib/python2.7/site-packages (from reportlab->toyplot)\r\n",
      "Requirement already satisfied: setuptools>=2.2 in /opt/conda/envs/python2/lib/python2.7/site-packages (from reportlab->toyplot)\r\n",
      "Requirement already satisfied: six>=1.5 in /opt/conda/envs/python2/lib/python2.7/site-packages (from python-dateutil->arrow->toyplot)\r\n",
      "Requirement already satisfied: decorator>=3.4.0 in /opt/conda/envs/python2/lib/python2.7/site-packages (from networkx->colormath->toyplot)\r\n"
     ]
    }
   ],
   "source": [
    "!pip install toyplot"
   ]
  },
  {
   "cell_type": "markdown",
   "metadata": {},
   "source": [
    "# Obtaining the data\n",
    "\n",
    "The full AGRIS repository is available from the [AGRIS AllegroGraph WebView](http://202.45.139.84:10035/catalogs/fao/repositories/agris) which allows us to query the repository from a sparql endpoint. However, instead of using it we have downloaded the full repository in RDF format and uploaded it to our own [Virtuoso Sparql Endpoint](http://virtuoso.udl.cat:8890/sparql). By this way, we have been able to query the repository without problems of timeout or other problems we were having using the AGRIS sparql endpoint.\n",
    "\n",
    "Once we had our sparql endpoint working, we could start obtaining the data. It neither was an easy task because the AGRIS repository contains a huge volume of data that we could not obtain with a single query. To solve this problem we limited the queries to return one million rows per query, so we had to execute the query multiples times to obtain the full dataset.\n",
    "\n",
    "Furthermore, another trouble to obtain the data was that some fields were lists of elements and it is a little bit difficult to obtain those fields in list format. In order to solve this problem we have divided our query into some different queries. In the first query we have obtained all the fields which contains a single value for each article.\n",
    "\n",
    "\"AGRIS QUERY GENERAL\"\n",
    "\n",
    "The other queries are one query for each field in list format we want to obtain.\n",
    "\n",
    "\"OTHER QUERIES\""
   ]
  },
  {
   "cell_type": "code",
   "execution_count": 4,
   "metadata": {
    "collapsed": false
   },
   "outputs": [
    {
     "name": "stdout",
     "output_type": "stream",
     "text": [
      "5589673\n",
      "5553754\n",
      "5461861\n",
      "4056963\n"
     ]
    }
   ],
   "source": [
    "articles_spark_DF = sqlContext.read.format(\"csv\").load(\"data/Article-*.csv\",header = True)\n",
    "articles_lang_spark_DF = sqlContext.read.format(\"csv\").load(\"data/Lang-*.csv\",header = True)\n",
    "authors_spark_DF = sqlContext.read.format(\"csv\").load(\"data/Authors-*.csv\",header = True)\n",
    "subjects_spark_DF = sqlContext.read.format(\"csv\").load(\"data/Sub-*.csv\",header = True)\n",
    "print articles_spark_DF.count()\n",
    "print articles_lang_spark_DF.count()\n",
    "print authors_spark_DF.count()\n",
    "print subjects_spark_DF.count()"
   ]
  },
  {
   "cell_type": "markdown",
   "metadata": {},
   "source": [
    "As we have said before, the AGRIS repository has a huge volume of data and we will not be able to process the whole of it. So what we will do is load the whole dataset into pandas only to obtain a sample of 10000 rows. This will be the dataset we will use to do the cleaning process."
   ]
  },
  {
   "cell_type": "code",
   "execution_count": 5,
   "metadata": {
    "collapsed": false
   },
   "outputs": [],
   "source": [
    "df1 = pd.read_csv(\"data/Article-0M-1M.csv\", sep=\",\",header=0,low_memory=False)\n",
    "df2 = pd.read_csv(\"data/Article-1M-2M.csv\", sep=\",\",header=0,low_memory=False)\n",
    "df3 = pd.read_csv(\"data/Article-2M-3M.csv\", sep=\",\",header=0,low_memory=False)\n",
    "df4 = pd.read_csv(\"data/Article-3M-4M.csv\", sep=\",\",header=0,low_memory=False)\n",
    "df5 = pd.read_csv(\"data/Article-4M-5M.csv\", sep=\",\",header=0,low_memory=False)\n",
    "df6 = pd.read_csv(\"data/Article-5M-6M.csv\", sep=\",\",header=0,low_memory=False)\n",
    "\n",
    "df_ = pd.concat([df1,df2,df3,df4,df5,df6],ignore_index = True)\n",
    "\n",
    "articles = df_.sample(n=10000)\n",
    "articles.to_csv('data/current_sample.csv')\n",
    "articles.sort_index(inplace=True)\n",
    "\n",
    "df1 = pd.read_csv(\"data/Lang-0M-1M.csv\", sep=\",\",header=0,low_memory=False)\n",
    "df2 = pd.read_csv(\"data/Lang-1M-2M.csv\", sep=\",\",header=0,low_memory=False)\n",
    "df3 = pd.read_csv(\"data/Lang-2M-3M.csv\", sep=\",\",header=0,low_memory=False)\n",
    "df4 = pd.read_csv(\"data/Lang-3M-4M.csv\", sep=\",\",header=0,low_memory=False)\n",
    "df5 = pd.read_csv(\"data/Lang-4M-5M.csv\", sep=\",\",header=0,low_memory=False)\n",
    "df6 = pd.read_csv(\"data/Lang-5M-6M.csv\", sep=\",\",header=0,low_memory=False)\n",
    "\n",
    "df_ = pd.concat([df1,df2,df3,df4,df5,df6],ignore_index = True)"
   ]
  },
  {
   "cell_type": "code",
   "execution_count": 6,
   "metadata": {
    "collapsed": false
   },
   "outputs": [],
   "source": [
    "df1 = pd.read_csv(\"data/Authors-0M-1M.csv\", sep=\",\",header=0,low_memory=False)\n",
    "df2 = pd.read_csv(\"data/Authors-1M-2M.csv\", sep=\",\",header=0,low_memory=False)\n",
    "df3 = pd.read_csv(\"data/Authors-2M-3M.csv\", sep=\",\",header=0,low_memory=False)\n",
    "df4 = pd.read_csv(\"data/Authors-3M-4M.csv\", sep=\",\",header=0,low_memory=False)\n",
    "df5 = pd.read_csv(\"data/Authors-4M-5M.csv\", sep=\",\",header=0,low_memory=False)\n",
    "df6 = pd.read_csv(\"data/Authors-5M-6M.csv\", sep=\",\",header=0,low_memory=False)\n",
    "\n",
    "df_Authors_ = pd.concat([df1,df2,df3,df4,df5,df6],ignore_index = True)\n",
    "df_Authors_.to_csv('data/authors.csv')\n",
    "\n",
    "df1 = pd.read_csv(\"data/Sub-0M-1M.csv\", sep=\",\",header=0,low_memory=False)\n",
    "df2 = pd.read_csv(\"data/Sub-1M-2M.csv\", sep=\",\",header=0,low_memory=False)\n",
    "df3 = pd.read_csv(\"data/Sub-2M-3M.csv\", sep=\",\",header=0,low_memory=False)\n",
    "df4 = pd.read_csv(\"data/Sub-3M-4M.csv\", sep=\",\",header=0,low_memory=False)\n",
    "df5 = pd.read_csv(\"data/Sub-4M-5M.csv\", sep=\",\",header=0,low_memory=False)\n",
    "\n",
    "df_Subjects = pd.concat([df1,df2,df3,df4,df5],ignore_index = True)"
   ]
  },
  {
   "cell_type": "code",
   "execution_count": null,
   "metadata": {
    "collapsed": false
   },
   "outputs": [],
   "source": []
  },
  {
   "cell_type": "markdown",
   "metadata": {},
   "source": [
    "# Cleaning process"
   ]
  },
  {
   "cell_type": "markdown",
   "metadata": {},
   "source": [
    "## Duplicated articles"
   ]
  },
  {
   "cell_type": "code",
   "execution_count": 7,
   "metadata": {
    "collapsed": false
   },
   "outputs": [
    {
     "name": "stdout",
     "output_type": "stream",
     "text": [
      "+----------------+\n",
      "|count(articleId)|\n",
      "+----------------+\n",
      "|         5589673|\n",
      "+----------------+\n",
      "\n",
      "None\n",
      "+-------------------------+\n",
      "|count(DISTINCT articleId)|\n",
      "+-------------------------+\n",
      "|                  5553754|\n",
      "+-------------------------+\n",
      "\n",
      "None\n",
      "+------------+----------------+\n",
      "|   articleId|count(articleId)|\n",
      "+------------+----------------+\n",
      "|CO2015000039|               4|\n",
      "|DJ2012041730|               2|\n",
      "|DJ2012041780|               2|\n",
      "|DJ2012044257|               2|\n",
      "|DJ2012044287|               2|\n",
      "|DJ2012045098|               2|\n",
      "|DJ2012046804|               2|\n",
      "|DJ2012046887|               2|\n",
      "|DJ2012046920|               2|\n",
      "|DJ2012046952|               2|\n",
      "|DJ2012049552|               2|\n",
      "|DJ2012049843|               2|\n",
      "|DJ2012054487|               2|\n",
      "|DJ2012057300|               2|\n",
      "|DJ2012063234|               2|\n",
      "|DJ2012064631|               2|\n",
      "|DJ2012067455|              12|\n",
      "|DJ2012072330|               2|\n",
      "|DJ2012072398|               2|\n",
      "|DJ2012074987|               2|\n",
      "+------------+----------------+\n",
      "only showing top 20 rows\n",
      "\n",
      "None\n"
     ]
    }
   ],
   "source": [
    "articles_spark_DF.createOrReplaceTempView(\"data\")\n",
    "# Check if there are duplicated articlesIds\n",
    "print sqlContext.sql(\"SELECT COUNT(articleId) FROM data\").show()\n",
    "print sqlContext.sql(\"SELECT COUNT(DISTINCT(articleId)) FROM data\").show()\n",
    "print sqlContext.sql(\"SELECT articleId, Count(articleId) FROM data GROUP BY articleId HAVING COUNT(*) > 1\").show()"
   ]
  },
  {
   "cell_type": "code",
   "execution_count": 8,
   "metadata": {
    "collapsed": false
   },
   "outputs": [
    {
     "name": "stdout",
     "output_type": "stream",
     "text": [
      "+----------------+\n",
      "|count(articleId)|\n",
      "+----------------+\n",
      "|         5574251|\n",
      "+----------------+\n",
      "\n",
      "None\n",
      "+-------------------------+\n",
      "|count(DISTINCT articleId)|\n",
      "+-------------------------+\n",
      "|                  5553754|\n",
      "+-------------------------+\n",
      "\n",
      "None\n",
      "+--------------+----------------+\n",
      "|     articleId|count(articleId)|\n",
      "+--------------+----------------+\n",
      "|  FR2001000690|               8|\n",
      "|  RU2015H08472|               2|\n",
      "|  KR2015000782|               4|\n",
      "|  DJ2012084336|               2|\n",
      "|  FR2001000569|               8|\n",
      "|  FI2007188479|               4|\n",
      "|  DJ2012075801|               2|\n",
      "|  DJ2012076174|               2|\n",
      "|     US8206741|               8|\n",
      "|  DJ2012064631|               2|\n",
      "|  BG2015100016|               4|\n",
      "|     US8210952|               4|\n",
      "|US201300869572|               4|\n",
      "|  DJ2012046804|               2|\n",
      "|  FI2007029186|               4|\n",
      "|  DJ2012054487|               2|\n",
      "|  DJ2012078767|               2|\n",
      "|  DJ2012049552|               2|\n",
      "|  DJ2012044257|               2|\n",
      "|  DJ2012075210|               2|\n",
      "+--------------+----------------+\n",
      "only showing top 20 rows\n",
      "\n",
      "None\n"
     ]
    }
   ],
   "source": [
    "# Join the same rows\n",
    "articles_spark_DF = articles_spark_DF.dropDuplicates()\n",
    "articles_spark_DF.createOrReplaceTempView(\"data\")\n",
    "print sqlContext.sql(\"SELECT COUNT(articleId) FROM data\").show()\n",
    "print sqlContext.sql(\"SELECT COUNT(DISTINCT(articleId)) FROM data\").show()\n",
    "print sqlContext.sql(\"SELECT articleId, Count(articleId) FROM data GROUP BY articleId HAVING COUNT(*) > 1\").show()"
   ]
  },
  {
   "cell_type": "code",
   "execution_count": 9,
   "metadata": {
    "collapsed": false
   },
   "outputs": [],
   "source": [
    "def equalArticles(x,y):\n",
    "    if not isinstance(x.issued,list):\n",
    "        x = Row(articleId=x.articleId,issued=[x.issued],submitted=[x.submitted],conferenceTitle=[x.conferenceTitle],journalTitle=[x.journalTitle],journalIssn=[x.journalIssn])\n",
    "    if not isinstance(y.issued,list):\n",
    "        y = Row(articleId=y.articleId,issued=[y.issued],submitted=[y.submitted],conferenceTitle=[y.conferenceTitle],journalTitle=[y.journalTitle],journalIssn=[y.journalIssn])\n",
    "    return Row(articleId=x.articleId, issued=list(set(x.issued) | set(y.issued)), submitted=list(set(x.submitted) | set(y.submitted)), conferenceTitle=list(set(x.conferenceTitle) | set(y.conferenceTitle)), journalTitle=list(set(x.journalTitle) | set(y.journalTitle)), journalIssn=list(set(x.journalIssn) | set(y.journalIssn)))\n",
    "\n",
    "def mapPhase(a):\n",
    "    y = a[1]\n",
    "    #if isinstance(y.issued,list):\n",
    "        #return Row(articleId=y.articleId,issued='|'.join([unicode(x, \"utf-8\") for x in y.issued]),submitted='|'.join([unicode(str(x), \"utf-8\") for x in y.submitted]),conferenceTitle='|'.join([unicode(str(x), \"utf-8\") for x in y.conferenceTitle]),journalTitle='|'.join([unicode(str(x), \"utf-8\") for x in y.journalTitle]),journalIssn='|'.join([unicode(str(x), \"utf-8\") for x in y.journalIssn]))\n",
    "\n",
    "    return y\n",
    "\n",
    "schema = StructType([StructField(\"articleId\", StringType(), True),StructField(\"issued\", StringType(), True),StructField(\"submitted\", StringType(), True),StructField(\"conferenceTitle\", StringType(), True),StructField(\"journalTitle\", StringType(), True),StructField(\"journalIssn\", StringType(), True)])"
   ]
  },
  {
   "cell_type": "code",
   "execution_count": 10,
   "metadata": {
    "collapsed": false
   },
   "outputs": [],
   "source": [
    "articles_spark_RDD = articles_spark_DF.rdd.map(lambda x: (x.articleId,x)).reduceByKey(equalArticles).map(mapPhase)\n",
    "articles_spark_DF = sqlContext.createDataFrame(articles_spark_RDD,schema)\n",
    "articles_spark_DF.createOrReplaceTempView(\"data\")"
   ]
  },
  {
   "cell_type": "code",
   "execution_count": 11,
   "metadata": {
    "collapsed": false
   },
   "outputs": [
    {
     "name": "stdout",
     "output_type": "stream",
     "text": [
      "+----------------+\n",
      "|count(articleId)|\n",
      "+----------------+\n",
      "|         5553754|\n",
      "+----------------+\n",
      "\n",
      "None\n",
      "+-------------------------+\n",
      "|count(DISTINCT articleId)|\n",
      "+-------------------------+\n",
      "|                  5553754|\n",
      "+-------------------------+\n",
      "\n",
      "None\n",
      "+---------+----------------+\n",
      "|articleId|count(articleId)|\n",
      "+---------+----------------+\n",
      "+---------+----------------+\n",
      "\n",
      "None\n"
     ]
    }
   ],
   "source": [
    "print sqlContext.sql(\"SELECT COUNT(articleId) FROM data\").show()\n",
    "print sqlContext.sql(\"SELECT COUNT(DISTINCT(articleId)) FROM data\").show()\n",
    "print sqlContext.sql(\"SELECT articleId, Count(articleId) FROM data GROUP BY articleId HAVING COUNT(*) > 1\").show()"
   ]
  },
  {
   "cell_type": "markdown",
   "metadata": {},
   "source": [
    "## Join articles data and language data"
   ]
  },
  {
   "cell_type": "code",
   "execution_count": 12,
   "metadata": {
    "collapsed": false
   },
   "outputs": [
    {
     "name": "stdout",
     "output_type": "stream",
     "text": [
      "+------------+---------------+------------+---------------+--------------------+--------------------+--------+\n",
      "|   articleId|         issued|   submitted|conferenceTitle|        journalTitle|         journalIssn|language|\n",
      "+------------+---------------+------------+---------------+--------------------+--------------------+--------+\n",
      "|FR2001000690|[mar2001, 1999]|[2002, 2001]|         [null]|[Game and Wildlif...|[1622-7662, 0750-...| eng|fre|\n",
      "+------------+---------------+------------+---------------+--------------------+--------------------+--------+\n",
      "\n",
      "None\n"
     ]
    }
   ],
   "source": [
    "articles_spark_DF = \\\n",
    "articles_spark_DF.join(articles_lang_spark_DF, articles_spark_DF.articleId == articles_lang_spark_DF.articleId)\\\n",
    ".drop(articles_lang_spark_DF.articleId)\n",
    "\n",
    "articles_spark_DF.createOrReplaceTempView(\"data\")\n",
    "print sqlContext.sql(\"SELECT * FROM data WHERE articleId = 'FR2001000690'\").show()\n",
    "#.rdd.filter(lambda x: isinstance(x.issued,list)).toDF()\\"
   ]
  },
  {
   "cell_type": "markdown",
   "metadata": {},
   "source": [
    "## Get sampled data for the cleaning process"
   ]
  },
  {
   "cell_type": "code",
   "execution_count": 13,
   "metadata": {
    "collapsed": false
   },
   "outputs": [],
   "source": [
    "articles = articles_spark_DF.where(\"issued NOT LIKE '[%' AND language NOT LIKE '%|%'\").sample(False,0.002,42).toPandas()"
   ]
  },
  {
   "cell_type": "code",
   "execution_count": 14,
   "metadata": {
    "collapsed": true
   },
   "outputs": [],
   "source": [
    "articles.rename(columns={'conferenceTitle':'conferenceData', 'journalTitle':'journalData'}, inplace=True)"
   ]
  },
  {
   "cell_type": "markdown",
   "metadata": {},
   "source": [
    "## Extract conference information:\n",
    "\n",
    "We want to classify all the conferences, setting the same ID in the same conferences.\n",
    "\n",
    "Also from conferences, we are interested in the year, in order to compare it with the other years in the data."
   ]
  },
  {
   "cell_type": "code",
   "execution_count": 15,
   "metadata": {
    "collapsed": false
   },
   "outputs": [
    {
     "data": {
      "text/plain": [
       "290"
      ]
     },
     "execution_count": 15,
     "metadata": {},
     "output_type": "execute_result"
    }
   ],
   "source": [
    "# Tenen conferencia\n",
    "len(articles[articles.conferenceData.notnull()])"
   ]
  },
  {
   "cell_type": "code",
   "execution_count": 16,
   "metadata": {
    "collapsed": false
   },
   "outputs": [],
   "source": [
    "conferenceDF =  pd.DataFrame(articles.conferenceData)"
   ]
  },
  {
   "cell_type": "markdown",
   "metadata": {},
   "source": [
    "### Get the year from the data\n",
    "First, we validate if all the dates have a year"
   ]
  },
  {
   "cell_type": "code",
   "execution_count": 17,
   "metadata": {
    "collapsed": false
   },
   "outputs": [
    {
     "data": {
      "text/plain": [
       "8"
      ]
     },
     "execution_count": 17,
     "metadata": {},
     "output_type": "execute_result"
    }
   ],
   "source": [
    "# Que els quatre digits seguits siguin any\n",
    "# Primer miro si hi han mes de un grup de 4 digits seguits ens les dades\n",
    "pattern = r'^.*\\d{4}.*\\d{4}.*$'\n",
    "np.sum(conferenceDF.conferenceData[conferenceDF.conferenceData.notnull()].str.contains(pattern,na=False))"
   ]
  },
  {
   "cell_type": "code",
   "execution_count": 18,
   "metadata": {
    "collapsed": false
   },
   "outputs": [],
   "source": [
    "# Si n'hi ha, mirem que siguin el mateix any. Mostrem els que son diferents valors. Aquetst els despreciarem\n",
    "pattern = r'^.*(\\d{4}).*(\\d{4}).*$'\n",
    "moreThanOne = conferenceDF.conferenceData[conferenceDF.conferenceData.notnull()].str.extract(pattern,expand=False)\n",
    "moreThanOneDifferents = moreThanOne[moreThanOne[0].notnull() & (moreThanOne[0] != moreThanOne[1])]"
   ]
  },
  {
   "cell_type": "code",
   "execution_count": 19,
   "metadata": {
    "collapsed": false
   },
   "outputs": [
    {
     "data": {
      "text/plain": [
       "Int64Index([1944, 4942, 7014], dtype='int64')"
      ]
     },
     "execution_count": 19,
     "metadata": {},
     "output_type": "execute_result"
    }
   ],
   "source": [
    "moreThanOneDifferents.index"
   ]
  },
  {
   "cell_type": "code",
   "execution_count": 20,
   "metadata": {
    "collapsed": false
   },
   "outputs": [
    {
     "data": {
      "text/plain": [
       "5"
      ]
     },
     "execution_count": 20,
     "metadata": {},
     "output_type": "execute_result"
    }
   ],
   "source": [
    "# Si el resultat és 0 també s'ha de comprovar que totes tinguin 4 digits seguits\n",
    "pattern = r'^.*\\d{4}.*$'\n",
    "len(conferenceDF.conferenceData[conferenceDF.conferenceData.notnull()]) - np.sum(conferenceDF.conferenceData[conferenceDF.conferenceData.notnull()].str.contains(pattern,na=False))"
   ]
  },
  {
   "cell_type": "code",
   "execution_count": 21,
   "metadata": {
    "collapsed": false
   },
   "outputs": [
    {
     "data": {
      "text/plain": [
       "907     2. Congresso della Frisona. Vietri (Italy). [nd].\n",
       "2500    \"25. Arbeitstagung der DVG. Arbeitsgebiet \"\"Le...\n",
       "5852    \"1. Statusseminar der Projektgruppe Bayern zur...\n",
       "6851    Moderne tecnologie nell' allevamento dei suini...\n",
       "9678    \"Vortragsveranstaltung \"\"Fleischforschung aktu...\n",
       "Name: conferenceData, dtype: object"
      ]
     },
     "execution_count": 21,
     "metadata": {},
     "output_type": "execute_result"
    }
   ],
   "source": [
    "# Busquem les que no tenen els anys amb format correcte\n",
    "badYearFormat = conferenceDF.conferenceData[conferenceDF.conferenceData.notnull()].str.contains(pattern,na=False)\n",
    "badYearFormat = badYearFormat[badYearFormat == False]\n",
    "conferenceDF.conferenceData[conferenceDF.conferenceData.index.isin(badYearFormat.index)]"
   ]
  },
  {
   "cell_type": "code",
   "execution_count": 22,
   "metadata": {
    "collapsed": false
   },
   "outputs": [
    {
     "data": {
      "text/plain": [
       "282"
      ]
     },
     "execution_count": 22,
     "metadata": {},
     "output_type": "execute_result"
    }
   ],
   "source": [
    "# Obtenim l'any i eliminem els que hi han a moreThanOneDifferents\n",
    "pattern = r'^.*(\\d{4}).*$'\n",
    "conferenceDF['conferenceDateYear'] = conferenceDF.conferenceData.str.extract(pattern, expand=False)\n",
    "conferenceDF.conferenceDateYear[conferenceDF.conferenceDateYear.index.isin(moreThanOneDifferents.index)] = np.nan\n",
    "conferenceDF.conferenceDateYear = pd.to_numeric(conferenceDF.conferenceDateYear, errors='coerce')\n",
    "len(conferenceDF.conferenceDateYear[conferenceDF.conferenceDateYear.notnull()])"
   ]
  },
  {
   "cell_type": "code",
   "execution_count": 23,
   "metadata": {
    "collapsed": false
   },
   "outputs": [],
   "source": [
    "articles[\"conferenceYear\"] = conferenceDF.conferenceDateYear"
   ]
  },
  {
   "cell_type": "markdown",
   "metadata": {},
   "source": [
    "## Extract year and month from issued date"
   ]
  },
  {
   "cell_type": "markdown",
   "metadata": {},
   "source": [
    "The field 'issued' shows when the article was published and it comes with some different formats incliding the year and sometimes the month. "
   ]
  },
  {
   "cell_type": "code",
   "execution_count": 24,
   "metadata": {
    "collapsed": false
   },
   "outputs": [],
   "source": [
    "issuedYear = articles.issued.str.extract(\"(\\d{4}|[0,3-9]\\d)\", expand=False)\n",
    "issuedYear = pd.to_numeric(issuedYear, errors='coerce')"
   ]
  },
  {
   "cell_type": "code",
   "execution_count": 25,
   "metadata": {
    "collapsed": false
   },
   "outputs": [],
   "source": [
    "def completeYears(year):\n",
    "    century = 1900 if year > 40 else 2000\n",
    "    return century + year\n",
    "issuedYear[issuedYear < 99] = issuedYear[issuedYear < 99].apply(completeYears)"
   ]
  },
  {
   "cell_type": "code",
   "execution_count": 26,
   "metadata": {
    "collapsed": false
   },
   "outputs": [],
   "source": [
    "articles['issuedYear'] = issuedYear"
   ]
  },
  {
   "cell_type": "markdown",
   "metadata": {},
   "source": [
    "In some cases, the month comes in a numeric way and other times it comes within its abbreviation. We will unify it converting the abbreviations to numerical months."
   ]
  },
  {
   "cell_type": "code",
   "execution_count": 27,
   "metadata": {
    "collapsed": false
   },
   "outputs": [],
   "source": [
    "issuedMonthText = articles.issued.str.extract(\"(ene|jan|feb|mar|apr|abr|mai|may|jun|jul|aug|ago|sept|sep|oct|nov|dic|dec)\", expand=False)\n",
    "issuedMonthNumeric = articles.issued.str.extract(\"\\D(\\d|1[1-2])\\D?$\", expand=False)\n",
    "issuedMonth = issuedMonthText.fillna(issuedMonthNumeric)"
   ]
  },
  {
   "cell_type": "code",
   "execution_count": 28,
   "metadata": {
    "collapsed": false
   },
   "outputs": [],
   "source": [
    "issuedMonth = issuedMonth.replace('ene|jan', '1', regex=True)\n",
    "issuedMonth = issuedMonth.replace('feb', '2')\n",
    "issuedMonth = issuedMonth.replace('mar', '3')\n",
    "issuedMonth = issuedMonth.replace('apr|abr', '4', regex=True)\n",
    "issuedMonth = issuedMonth.replace('mai|may', '5', regex=True)\n",
    "issuedMonth = issuedMonth.replace('jun', '6')\n",
    "issuedMonth = issuedMonth.replace('jul', '7')\n",
    "issuedMonth = issuedMonth.replace('ago|aug', '8', regex=True)\n",
    "issuedMonth = issuedMonth.replace('sept|sep', '9', regex=True)\n",
    "issuedMonth = issuedMonth.replace('oct', '10')\n",
    "issuedMonth = issuedMonth.replace('nov', '11')\n",
    "issuedMonth = issuedMonth.replace('dic|dec', '12', regex=True)\n",
    "issuedMonth = issuedMonth.fillna('6')"
   ]
  },
  {
   "cell_type": "code",
   "execution_count": 29,
   "metadata": {
    "collapsed": true
   },
   "outputs": [],
   "source": [
    "articles['issuedMonth'] = issuedMonth"
   ]
  },
  {
   "cell_type": "markdown",
   "metadata": {},
   "source": [
    "Finally, we will check that we have specified an issuedYear and issuedMonth for each row of the sample dataset."
   ]
  },
  {
   "cell_type": "code",
   "execution_count": 30,
   "metadata": {
    "collapsed": false
   },
   "outputs": [
    {
     "data": {
      "text/plain": [
       "0"
      ]
     },
     "execution_count": 30,
     "metadata": {},
     "output_type": "execute_result"
    }
   ],
   "source": [
    "articles.issuedYear[articles.issuedYear.isnull() == True].count()"
   ]
  },
  {
   "cell_type": "code",
   "execution_count": 31,
   "metadata": {
    "collapsed": false
   },
   "outputs": [
    {
     "data": {
      "text/plain": [
       "0"
      ]
     },
     "execution_count": 31,
     "metadata": {},
     "output_type": "execute_result"
    }
   ],
   "source": [
    "articles.issuedMonth[articles.issuedMonth.isnull() == True].count()"
   ]
  },
  {
   "cell_type": "markdown",
   "metadata": {},
   "source": [
    "## Check correctness of issued, submitted year and conference year"
   ]
  },
  {
   "cell_type": "markdown",
   "metadata": {},
   "source": [
    "Once we have obtained the issued year, we can check that the article had been issued before it had been submitted to the AGRIS repository ('submitted' field)."
   ]
  },
  {
   "cell_type": "code",
   "execution_count": 32,
   "metadata": {
    "collapsed": false
   },
   "outputs": [
    {
     "ename": "TypeError",
     "evalue": "ufunc 'subtract' did not contain a loop with signature matching types dtype('<U32') dtype('<U32') dtype('<U32')",
     "output_type": "error",
     "traceback": [
      "\u001b[1;31m\u001b[0m",
      "\u001b[1;31mTypeError\u001b[0mTraceback (most recent call last)",
      "\u001b[1;32m<ipython-input-32-5dc270fc3a52>\u001b[0m in \u001b[0;36m<module>\u001b[1;34m()\u001b[0m\n\u001b[1;32m----> 1\u001b[1;33m \u001b[0marticles\u001b[0m\u001b[1;33m.\u001b[0m\u001b[0mix\u001b[0m\u001b[1;33m[\u001b[0m\u001b[0marticles\u001b[0m\u001b[1;33m.\u001b[0m\u001b[0msubmitted\u001b[0m \u001b[1;33m-\u001b[0m \u001b[0marticles\u001b[0m\u001b[1;33m.\u001b[0m\u001b[0missuedYear\u001b[0m \u001b[1;33m<\u001b[0m \u001b[1;36m0\u001b[0m\u001b[1;33m,\u001b[0m \u001b[1;34m'issuedYear'\u001b[0m\u001b[1;33m]\u001b[0m \u001b[1;33m=\u001b[0m \u001b[0marticles\u001b[0m\u001b[1;33m[\u001b[0m\u001b[0marticles\u001b[0m\u001b[1;33m.\u001b[0m\u001b[0msubmitted\u001b[0m \u001b[1;33m-\u001b[0m \u001b[0marticles\u001b[0m\u001b[1;33m.\u001b[0m\u001b[0missuedYear\u001b[0m \u001b[1;33m<\u001b[0m \u001b[1;36m0\u001b[0m\u001b[1;33m]\u001b[0m\u001b[1;33m.\u001b[0m\u001b[0msubmitted\u001b[0m\u001b[1;33m\u001b[0m\u001b[0m\n\u001b[0m",
      "\u001b[1;32m/opt/conda/envs/python2/lib/python2.7/site-packages/pandas/core/ops.pyc\u001b[0m in \u001b[0;36mwrapper\u001b[1;34m(left, right, name, na_op)\u001b[0m\n\u001b[0;32m    713\u001b[0m                 \u001b[0mlvalues\u001b[0m \u001b[1;33m=\u001b[0m \u001b[0mlvalues\u001b[0m\u001b[1;33m.\u001b[0m\u001b[0mvalues\u001b[0m\u001b[1;33m\u001b[0m\u001b[0m\n\u001b[0;32m    714\u001b[0m \u001b[1;33m\u001b[0m\u001b[0m\n\u001b[1;32m--> 715\u001b[1;33m         \u001b[0mresult\u001b[0m \u001b[1;33m=\u001b[0m \u001b[0mwrap_results\u001b[0m\u001b[1;33m(\u001b[0m\u001b[0msafe_na_op\u001b[0m\u001b[1;33m(\u001b[0m\u001b[0mlvalues\u001b[0m\u001b[1;33m,\u001b[0m \u001b[0mrvalues\u001b[0m\u001b[1;33m)\u001b[0m\u001b[1;33m)\u001b[0m\u001b[1;33m\u001b[0m\u001b[0m\n\u001b[0m\u001b[0;32m    716\u001b[0m         return construct_result(\n\u001b[0;32m    717\u001b[0m             \u001b[0mleft\u001b[0m\u001b[1;33m,\u001b[0m\u001b[1;33m\u001b[0m\u001b[0m\n",
      "\u001b[1;32m/opt/conda/envs/python2/lib/python2.7/site-packages/pandas/core/ops.pyc\u001b[0m in \u001b[0;36msafe_na_op\u001b[1;34m(lvalues, rvalues)\u001b[0m\n\u001b[0;32m    684\u001b[0m                 \u001b[1;32mif\u001b[0m \u001b[0mis_object_dtype\u001b[0m\u001b[1;33m(\u001b[0m\u001b[0mlvalues\u001b[0m\u001b[1;33m)\u001b[0m\u001b[1;33m:\u001b[0m\u001b[1;33m\u001b[0m\u001b[0m\n\u001b[0;32m    685\u001b[0m                     return _algos.arrmap_object(lvalues,\n\u001b[1;32m--> 686\u001b[1;33m                                                 lambda x: op(x, rvalues))\n\u001b[0m\u001b[0;32m    687\u001b[0m             \u001b[1;32mraise\u001b[0m\u001b[1;33m\u001b[0m\u001b[0m\n\u001b[0;32m    688\u001b[0m \u001b[1;33m\u001b[0m\u001b[0m\n",
      "\u001b[1;32mpandas/src/algos_common_helper.pxi\u001b[0m in \u001b[0;36mpandas.algos.arrmap_object (pandas/algos.c:46681)\u001b[1;34m()\u001b[0m\n",
      "\u001b[1;32m/opt/conda/envs/python2/lib/python2.7/site-packages/pandas/core/ops.pyc\u001b[0m in \u001b[0;36m<lambda>\u001b[1;34m(x)\u001b[0m\n\u001b[0;32m    684\u001b[0m                 \u001b[1;32mif\u001b[0m \u001b[0mis_object_dtype\u001b[0m\u001b[1;33m(\u001b[0m\u001b[0mlvalues\u001b[0m\u001b[1;33m)\u001b[0m\u001b[1;33m:\u001b[0m\u001b[1;33m\u001b[0m\u001b[0m\n\u001b[0;32m    685\u001b[0m                     return _algos.arrmap_object(lvalues,\n\u001b[1;32m--> 686\u001b[1;33m                                                 lambda x: op(x, rvalues))\n\u001b[0m\u001b[0;32m    687\u001b[0m             \u001b[1;32mraise\u001b[0m\u001b[1;33m\u001b[0m\u001b[0m\n\u001b[0;32m    688\u001b[0m \u001b[1;33m\u001b[0m\u001b[0m\n",
      "\u001b[1;31mTypeError\u001b[0m: ufunc 'subtract' did not contain a loop with signature matching types dtype('<U32') dtype('<U32') dtype('<U32')"
     ]
    }
   ],
   "source": [
    "articles.ix[articles.submitted - articles.issuedYear < 0, 'issuedYear'] = articles[articles.submitted - articles.issuedYear < 0].submitted"
   ]
  },
  {
   "cell_type": "code",
   "execution_count": null,
   "metadata": {
    "collapsed": false
   },
   "outputs": [],
   "source": [
    "articles[articles.submitted - articles.issuedYear < 0].count()"
   ]
  },
  {
   "cell_type": "markdown",
   "metadata": {},
   "source": []
  },
  {
   "cell_type": "code",
   "execution_count": null,
   "metadata": {
    "collapsed": false
   },
   "outputs": [],
   "source": [
    "# Check correctness of conference year\n",
    "articles.conferenceYear[(articles.conferenceYear < 1970) | (articles.conferenceYear > 2020)]"
   ]
  },
  {
   "cell_type": "code",
   "execution_count": null,
   "metadata": {
    "collapsed": false
   },
   "outputs": [],
   "source": [
    "articles.articleId[articles.conferenceYear.notnull() & (articles.conferenceYear > articles.submitted)].count()"
   ]
  },
  {
   "cell_type": "markdown",
   "metadata": {},
   "source": [
    "## Removing misstyped journal names"
   ]
  },
  {
   "cell_type": "markdown",
   "metadata": {},
   "source": [
    "Our dataset contains the journal where some articles have been published. Specifically, there is a field specifying the name of the journal and another field specifying the ISSN of the journal. The problem is that sometimes the journal name does not match for a particular ISSN, which is obviously an error. To solve this problem we associate the most frequent journal name for each ISSN to all the articles of this ISSN."
   ]
  },
  {
   "cell_type": "code",
   "execution_count": 33,
   "metadata": {
    "collapsed": false
   },
   "outputs": [],
   "source": [
    "articles.journalData = articles.journalIssn.map(articles.groupby('journalIssn').journalData.agg(lambda x:x.value_counts().index[0]).to_dict())"
   ]
  },
  {
   "cell_type": "code",
   "execution_count": 34,
   "metadata": {
    "collapsed": false
   },
   "outputs": [],
   "source": [
    "articles.journalIssn = articles.journalData.map(articles.groupby('journalData').journalIssn.agg(lambda x:x.value_counts().index[0]).to_dict())"
   ]
  },
  {
   "cell_type": "code",
   "execution_count": 35,
   "metadata": {
    "collapsed": false
   },
   "outputs": [
    {
     "data": {
      "text/plain": [
       "journalIssn                                                         journalData                                                                                                                                                                                                           \n",
       " F.R.). 18-21 Sep 1984.\"                                             der Schweizerischen Tieraerztlichen Vereinigung fuer Fleischhygiene und der Deutschen Gesellschaft fuer Hygiene und Mikrobiologie. Kommission Lebensmittelmikrobiologie und -hygiene. Garmisch-Partenkirchen (Germany     1\n",
       " otdelenie biologicheskikh nauk\"                                    \"Akhboroti Akademiiai fankhoi RSS Tochikiston, shu\"\"bai fankhoi biologi = Izvestiia Akademii nauk Tadzhikskoi SSR                                                                                                          1\n",
       "0000-8954                                                           Series entomologica                                                                                                                                                                                                        2\n",
       "0001-1541                                                           AIChE journal                                                                                                                                                                                                              1\n",
       "0001-2351                                                           Transactions of the ASAE [American Society of Agricultural Engineers]                                                                                                                                                     16\n",
       "0001-3765                                                           Anais                                                                                                                                                                                                                      1\n",
       "0001-4036                                                           Comptes rendus hebdomadaires des Seances de l'Academie des Sciences. Serie D                                                                                                                                               1\n",
       "0001-4087                                                           Bulletin de l'Academie polonaise des sciences. Serie des sciences biologiques                                                                                                                                              1\n",
       "0001-4192                                                           Bulletin de l'Academie Veterinaire de France                                                                                                                                                                               2\n",
       "0001-5180                                                           Acta anatomica                                                                                                                                                                                                             1\n",
       "0001-527X                                                           Acta biochimica polonica                                                                                                                                                                                                   1\n",
       "0001-5350                                                           Acta botanica                                                                                                                                                                                                              1\n",
       "0001-5393                                                           Acta chemica scandinavica                                                                                                                                                                                                  1\n",
       "0001-5601                                                           Acta entomologica Bohemoslovaca                                                                                                                                                                                            2\n",
       "0001-561X                                                           Acta entomologica fennica                                                                                                                                                                                                  1\n",
       "0001-6209                                                           Wei sheng wu hsueh pao = Acta microbiologica sinica                                                                                                                                                                        1\n",
       "0001-6454                                                           Acta ornithologica                                                                                                                                                                                                         1\n",
       "0001-6756                                                           Acta Physiologica Academiae Scientiarum Hungaricae                                                                                                                                                                         1\n",
       "0001-6764                                                           Acta Physiologica Latinoamericana                                                                                                                                                                                          1\n",
       "0001-6772                                                           Acta physiologica scandinavica                                                                                                                                                                                             1\n",
       "0001-6799                                                           Shokubutsu bunrui chiri = Acta phytotaxonomica et geobotanica                                                                                                                                                              2\n",
       "0001-7051                                                           Acta theriologica                                                                                                                                                                                                          1\n",
       "0001-706X                                                           Acta tropica                                                                                                                                                                                                               2\n",
       "0001-7205                                                           Acta veterinaria : Academiae Scientiarum Hungaricae                                                                                                                                                                        1\n",
       "0001-723X                                                           Acta virologica                                                                                                                                                                                                            2\n",
       "0001-7264                                                           Acta zoologica Academiae Scientiarum Hungaricae                                                                                                                                                                            1\n",
       "0001-804X                                                           Adansonia                                                                                                                                                                                                                  1\n",
       "0001-8449                                                           Adolescence                                                                                                                                                                                                                2\n",
       "0002-1121                                                           Agrarwirtschaft (Germany)                                                                                                                                                                                                  2\n",
       "0002-1237                                                           Agricoltura                                                                                                                                                                                                                2\n",
       "                                                                                                                                                                                                                                                                                              ..\n",
       "2072-084X                                                           Конкурентоспособность в глобальном мире: экономика, наука, технологии                                                                                                                                                      1\n",
       "2072-6724                                                           Bulletin of Novosibirsk State Agrarian University                                                                                                                                                                          1\n",
       "2072-9081                                                           An Agrarian Science of Euro-North-East                                                                                                                                                                                     1\n",
       "2073-4018                                                           Cheesemaking and Buttermaking                                                                                                                                                                                              1\n",
       "2079-0961                                                           Arid ecosystems                                                                                                                                                                                                            1\n",
       "2095-2201                                                           Frontiers of environmental science & engineering                                                                                                                                                                           1\n",
       "2150-3435                                                           Hydrological sciences journal =                                                                                                                                                                                            1\n",
       "2152-4998                                                           Cellular reprogramming                                                                                                                                                                                                     2\n",
       "2155-9600                                                           Nutrition & Food Sciences                                                                                                                                                                                                  1\n",
       "2156-6941                                                           Journal of Freshwater Ecology                                                                                                                                                                                              1\n",
       "2159-6719                                                           International journal of odonatology                                                                                                                                                                                       1\n",
       "2169-4060                                                           Webbia                                                                                                                                                                                                                     1\n",
       "2193-7192                                                           Journal of ornithology                                                                                                                                                                                                     1\n",
       "2212-2672                                                           Journal of the Academy of Nutrition and Dietetics                                                                                                                                                                          1\n",
       "2226-1184                                                           Russian Journal of Agricultural and Socio-Economic Sciences                                                                                                                                                                1\n",
       "2256-2273                                                           Revista de Ciencias Agricolas                                                                                                                                                                                              1\n",
       "2308-4766                                                           Journal of Renewable Agriculture                                                                                                                                                                                           1\n",
       "2322-1690                                                           Scientific Journal of Crop Science                                                                                                                                                                                         1\n",
       "2412-6608                                                           Modern Science Success                                                                                                                                                                                                     1\n",
       "2412-9631                                                           Success of Modern Science and Education                                                                                                                                                                                    2\n",
       "7814-2378                                                           Occasional publication                                                                                                                                                                                                     1\n",
       "8750-5797                                                           Pecan South (USA)                                                                                                                                                                                                          2\n",
       "8750-7587                                                           Journal of applied physiology                                                                                                                                                                                              1\n",
       "8750-7943                                                           Veterinary medicine                                                                                                                                                                                                        2\n",
       "8756-3282                                                           Bone                                                                                                                                                                                                                       1\n",
       "8756-7938                                                           Biotechnology progress (USA)                                                                                                                                                                                               4\n",
       "8756-9418                                                           Herbertia (USA)                                                                                                                                                                                                            1\n",
       "8756-971X                                                           Journal of the American Mosquito Control Association (USA)                                                                                                                                                                 2\n",
       "GSF-Bericht (Germany                                                 F.R.). 27 Feb - 1 Mar 1989.\"                                                                                                                                                                                              1\n",
       "Mitteilungsblatt der Bundesanstalt fuer Fleischforschung, Kulmbach   F.R.). 16-17 Sep 1985.\"                                                                                                                                                                                                   1\n",
       "Name: journalData, dtype: int64"
      ]
     },
     "execution_count": 35,
     "metadata": {},
     "output_type": "execute_result"
    }
   ],
   "source": [
    "articles.groupby('journalIssn').journalData.value_counts()"
   ]
  },
  {
   "cell_type": "code",
   "execution_count": 36,
   "metadata": {
    "collapsed": false
   },
   "outputs": [
    {
     "data": {
      "text/plain": [
       "journalData                                                                                                                                                                                                             journalIssn                                                       \n",
       " F.R.). 16-17 Sep 1985.\"                                                                                                                                                                                                Mitteilungsblatt der Bundesanstalt fuer Fleischforschung, Kulmbach    1\n",
       " F.R.). 27 Feb - 1 Mar 1989.\"                                                                                                                                                                                           GSF-Bericht (Germany                                                  1\n",
       " der Schweizerischen Tieraerztlichen Vereinigung fuer Fleischhygiene und der Deutschen Gesellschaft fuer Hygiene und Mikrobiologie. Kommission Lebensmittelmikrobiologie und -hygiene. Garmisch-Partenkirchen (Germany   F.R.). 18-21 Sep 1984.\"                                              1\n",
       "\"Akhboroti Akademiiai fankhoi RSS Tochikiston, shu\"\"bai fankhoi biologi = Izvestiia Akademii nauk Tadzhikskoi SSR                                                                                                        otdelenie biologicheskikh nauk\"                                      1\n",
       "\"Anais da Escola Superior de Agricultura \"\"Luiz de Queiroz\"\"\"                                                                                                                                                           0071-1276                                                             1\n",
       "\"Annali del Museo civico di storia naturale \"\"Giacomo Doria\"\"\"                                                                                                                                                          0365-4389                                                             1\n",
       "\"Bollettino del Laboratorio di entomologia agraria \"\"Filippo Silvestri\"\" Portici\"                                                                                                                                       0304-0658                                                             1\n",
       "4. Commdities and primary industries                                                                                                                                                                                    0044-9172                                                             1\n",
       "ACS Symposium series American Chemical Society                                                                                                                                                                          0097-6156                                                             1\n",
       "AFZ. Der Wald                                                                                                                                                                                                           1430-2713                                                             1\n",
       "AIChE journal                                                                                                                                                                                                           0001-1541                                                             1\n",
       "AID Verbraucherdienst                                                                                                                                                                                                   0720-7522                                                             2\n",
       "AMA, agricultural mechanization in Asia, Africa and Latin America                                                                                                                                                       0084-5841                                                             1\n",
       "APK: dostizheniya nauki i tekhniki (USSR)                                                                                                                                                                               0235-2451                                                             1\n",
       "APSTRACT: Applied Studies in Agribusiness and Commerce                                                                                                                                                                  1789-221X                                                             1\n",
       "Abeille de France et l'apiculteur                                                                                                                                                                                       0373-4625                                                             1\n",
       "Abstracts of papers of the American Chemical Society                                                                                                                                                                    0065-7727                                                             1\n",
       "Acarologia                                                                                                                                                                                                              0044-586X                                                             3\n",
       "Acqua Aria                                                                                                                                                                                                              0391-5557                                                             1\n",
       "Acta  Facultatis Forestalis Zvolen                                                                                                                                                                                      0231-5785                                                             1\n",
       "Acta Agriculturae Scandinavica. Supplementum (Sweden). no. 21.                                                                                                                                                          0065-0943                                                             1\n",
       "Acta Agronomica Sinica                                                                                                                                                                                                  0496-3490                                                             2\n",
       "Acta Alimentaria Polonica                                                                                                                                                                                               0080-374X                                                             1\n",
       "Acta Amazonica                                                                                                                                                                                                          0044-5967                                                             1\n",
       "Acta Biomaterialia                                                                                                                                                                                                      1742-7061                                                             7\n",
       "Acta Botanica Sinica                                                                                                                                                                                                    0577-7496                                                             1\n",
       "Acta Facultatis Ecologiae                                                                                                                                                                                               1336-300X                                                             1\n",
       "Acta Horticulturae                                                                                                                                                                                                      0018-0580                                                             1\n",
       "Acta Ophthalmologica                                                                                                                                                                                                    1755-375X                                                             1\n",
       "Acta Physiologica Academiae Scientiarum Hungaricae                                                                                                                                                                      0001-6756                                                             1\n",
       "                                                                                                                                                                                                                                                                                             ..\n",
       "Zhurnal obshchei biologii                                                                                                                                                                                               0044-4596                                                             2\n",
       "Zhurnal prikladnoi khimii                                                                                                                                                                                               0044-4618                                                             1\n",
       "Zierpflanzenbau                                                                                                                                                                                                         0342-6556                                                             1\n",
       "Ziva                                                                                                                                                                                                                    0044-4812                                                             1\n",
       "Zivocisna vyroba - Ceskoslovenska akademie zemedelska, Ustav vedeckotechnickych informaci pro zemedelstvi                                                                                                               0044-4847                                                             3\n",
       "Zoldsegtermesztesi Kutato Intezet bulletinje = Bulletin of the Vegetable Crops Research Institute                                                                                                                       0133-3682                                                             1\n",
       "Zoo biology                                                                                                                                                                                                             0733-3188                                                             5\n",
       "Zoologica scripta                                                                                                                                                                                                       0300-3256                                                             1\n",
       "Zoological journal of the Linnean Society                                                                                                                                                                               0024-4082                                                             1\n",
       "Zoologicheskii zhurnal                                                                                                                                                                                                  0044-5134                                                             1\n",
       "Zoologische Beitrage                                                                                                                                                                                                    0044-5150                                                             2\n",
       "Zoologische Garten                                                                                                                                                                                                      0044-5169                                                             1\n",
       "Zoologische Jahrbucher. Abteilung fur allgemeine Zoologie und Physiologie der Tiere                                                                                                                                     0044-5185                                                             2\n",
       "Zoologische mededelingen - Rijksmuseum van Natuurlijke Historie de Leiden                                                                                                                                               0044-5207                                                             1\n",
       "Zoologischer Anzeiger                                                                                                                                                                                                   0044-5231                                                             1\n",
       "Zootecnica e Nutrizione Animale                                                                                                                                                                                         0390-0487                                                             3\n",
       "Zucker- und Suesswarenwirtschaft (Germany)                                                                                                                                                                              0373-0204                                                             2\n",
       "Zuckerindustrie                                                                                                                                                                                                         0344-8657                                                             3\n",
       "agrarpraxis (Germany, F.R.)                                                                                                                                                                                             0176-0955                                                             1\n",
       "arabidopsis book                                                                                                                                                                                                        1543-8120                                                             1\n",
       "international journal of biochemistry & cell biology                                                                                                                                                                    1357-2725                                                             1\n",
       "journal of eukaryotic microbiology                                                                                                                                                                                      1066-5234                                                             3\n",
       "journal of immunology                                                                                                                                                                                                   0022-1767                                                             3\n",
       "journal of nutrition, health & aging                                                                                                                                                                                    1279-7707                                                             3\n",
       "journal of pediatrics                                                                                                                                                                                                   0022-3476                                                             2\n",
       "lancet                                                                                                                                                                                                                  0140-6736                                                             2\n",
       "research journal of Mahatma Phule Agricultural University                                                                                                                                                               0378-6404                                                             1\n",
       "Žurnāls katram zemniekam un lauku uzņēmējam                                                                                                                                                                             1407-5164                                                             2\n",
       "Конкурентоспособность в глобальном мире: экономика, наука, технологии                                                                                                                                                   2072-084X                                                             1\n",
       "Энергообеспечение и энергосбережение в сельском хозяйстве (Российская Федерация)                                                                                                                                        0131-5277                                                             1\n",
       "Name: journalIssn, dtype: int64"
      ]
     },
     "execution_count": 36,
     "metadata": {},
     "output_type": "execute_result"
    }
   ],
   "source": [
    "articles.groupby('journalData').journalIssn.value_counts()"
   ]
  },
  {
   "cell_type": "markdown",
   "metadata": {},
   "source": [
    "## Languages correctness"
   ]
  },
  {
   "cell_type": "markdown",
   "metadata": {},
   "source": [
    "We have detected that sometimes language codes are capitalized, so we will transform all codes to lower case. Additionally, we want to be sure that the codes are correct so we have found a dataset with all the language codes and the language which is representing the code in English. Therefor, we will verify the language codes with the language codes dataset and we will fill another column with the language in English for a more visual understanding."
   ]
  },
  {
   "cell_type": "code",
   "execution_count": 37,
   "metadata": {
    "collapsed": false
   },
   "outputs": [],
   "source": [
    "articles.language = articles.language.str.lower()"
   ]
  },
  {
   "cell_type": "code",
   "execution_count": 38,
   "metadata": {
    "collapsed": false
   },
   "outputs": [
    {
     "data": {
      "text/plain": [
       "language  language\n",
       "ara       ara            2\n",
       "arm       arm            1\n",
       "bel       bel            1\n",
       "bem       bem            1\n",
       "bul       bul           66\n",
       "chi       chi          101\n",
       "cze       cze           59\n",
       "dan       dan           59\n",
       "dut       dut           64\n",
       "eng       eng         7121\n",
       "esp       esp          368\n",
       "est       est            1\n",
       "fin       fin            1\n",
       "fra       fra           26\n",
       "fre       fre          455\n",
       "ger       ger          671\n",
       "glg       glg            1\n",
       "gre       gre            1\n",
       "heb       heb            7\n",
       "hun       hun           37\n",
       "ind       ind           35\n",
       "ita       ita          223\n",
       "jpn       jpn          198\n",
       "kor       kor           10\n",
       "lat       lat            1\n",
       "lav       lav            7\n",
       "mac       mac            1\n",
       "may       may            1\n",
       "nor       nor            9\n",
       "per       per            2\n",
       "pol       pol           73\n",
       "por       por          160\n",
       "rum       rum           33\n",
       "rus       rus          498\n",
       "scc       scc            7\n",
       "scr       scr            8\n",
       "slo       slo           33\n",
       "slv       slv            4\n",
       "spa       spa           41\n",
       "srp       srp            5\n",
       "srr       srr            4\n",
       "swe       swe           29\n",
       "tha       tha            7\n",
       "tur       tur            1\n",
       "ukr       ukr           23\n",
       "Name: language, dtype: int64"
      ]
     },
     "execution_count": 38,
     "metadata": {},
     "output_type": "execute_result"
    }
   ],
   "source": [
    "articles.groupby('language').language.value_counts()"
   ]
  },
  {
   "cell_type": "code",
   "execution_count": 39,
   "metadata": {
    "collapsed": false
   },
   "outputs": [
    {
     "ename": "IOError",
     "evalue": "File data/language-codes-3b2.csv does not exist",
     "output_type": "error",
     "traceback": [
      "\u001b[1;31m\u001b[0m",
      "\u001b[1;31mIOError\u001b[0mTraceback (most recent call last)",
      "\u001b[1;32m<ipython-input-39-8e89cdee89e7>\u001b[0m in \u001b[0;36m<module>\u001b[1;34m()\u001b[0m\n\u001b[1;32m----> 1\u001b[1;33m \u001b[0mlangs\u001b[0m \u001b[1;33m=\u001b[0m \u001b[0mpd\u001b[0m\u001b[1;33m.\u001b[0m\u001b[0mread_csv\u001b[0m\u001b[1;33m(\u001b[0m\u001b[1;34m\"data/language-codes-3b2.csv\"\u001b[0m\u001b[1;33m,\u001b[0m \u001b[0msep\u001b[0m\u001b[1;33m=\u001b[0m\u001b[1;34m\",\"\u001b[0m\u001b[1;33m,\u001b[0m\u001b[0mheader\u001b[0m\u001b[1;33m=\u001b[0m\u001b[1;36m0\u001b[0m\u001b[1;33m,\u001b[0m\u001b[0mlow_memory\u001b[0m\u001b[1;33m=\u001b[0m\u001b[0mFalse\u001b[0m\u001b[1;33m)\u001b[0m\u001b[1;33m\u001b[0m\u001b[0m\n\u001b[0m",
      "\u001b[1;32m/opt/conda/envs/python2/lib/python2.7/site-packages/pandas/io/parsers.pyc\u001b[0m in \u001b[0;36mparser_f\u001b[1;34m(filepath_or_buffer, sep, delimiter, header, names, index_col, usecols, squeeze, prefix, mangle_dupe_cols, dtype, engine, converters, true_values, false_values, skipinitialspace, skiprows, nrows, na_values, keep_default_na, na_filter, verbose, skip_blank_lines, parse_dates, infer_datetime_format, keep_date_col, date_parser, dayfirst, iterator, chunksize, compression, thousands, decimal, lineterminator, quotechar, quoting, escapechar, comment, encoding, dialect, tupleize_cols, error_bad_lines, warn_bad_lines, skipfooter, skip_footer, doublequote, delim_whitespace, as_recarray, compact_ints, use_unsigned, low_memory, buffer_lines, memory_map, float_precision)\u001b[0m\n\u001b[0;32m    644\u001b[0m                     skip_blank_lines=skip_blank_lines)\n\u001b[0;32m    645\u001b[0m \u001b[1;33m\u001b[0m\u001b[0m\n\u001b[1;32m--> 646\u001b[1;33m         \u001b[1;32mreturn\u001b[0m \u001b[0m_read\u001b[0m\u001b[1;33m(\u001b[0m\u001b[0mfilepath_or_buffer\u001b[0m\u001b[1;33m,\u001b[0m \u001b[0mkwds\u001b[0m\u001b[1;33m)\u001b[0m\u001b[1;33m\u001b[0m\u001b[0m\n\u001b[0m\u001b[0;32m    647\u001b[0m \u001b[1;33m\u001b[0m\u001b[0m\n\u001b[0;32m    648\u001b[0m     \u001b[0mparser_f\u001b[0m\u001b[1;33m.\u001b[0m\u001b[0m__name__\u001b[0m \u001b[1;33m=\u001b[0m \u001b[0mname\u001b[0m\u001b[1;33m\u001b[0m\u001b[0m\n",
      "\u001b[1;32m/opt/conda/envs/python2/lib/python2.7/site-packages/pandas/io/parsers.pyc\u001b[0m in \u001b[0;36m_read\u001b[1;34m(filepath_or_buffer, kwds)\u001b[0m\n\u001b[0;32m    387\u001b[0m \u001b[1;33m\u001b[0m\u001b[0m\n\u001b[0;32m    388\u001b[0m     \u001b[1;31m# Create the parser.\u001b[0m\u001b[1;33m\u001b[0m\u001b[1;33m\u001b[0m\u001b[0m\n\u001b[1;32m--> 389\u001b[1;33m     \u001b[0mparser\u001b[0m \u001b[1;33m=\u001b[0m \u001b[0mTextFileReader\u001b[0m\u001b[1;33m(\u001b[0m\u001b[0mfilepath_or_buffer\u001b[0m\u001b[1;33m,\u001b[0m \u001b[1;33m**\u001b[0m\u001b[0mkwds\u001b[0m\u001b[1;33m)\u001b[0m\u001b[1;33m\u001b[0m\u001b[0m\n\u001b[0m\u001b[0;32m    390\u001b[0m \u001b[1;33m\u001b[0m\u001b[0m\n\u001b[0;32m    391\u001b[0m     \u001b[1;32mif\u001b[0m \u001b[1;33m(\u001b[0m\u001b[0mnrows\u001b[0m \u001b[1;32mis\u001b[0m \u001b[1;32mnot\u001b[0m \u001b[0mNone\u001b[0m\u001b[1;33m)\u001b[0m \u001b[1;32mand\u001b[0m \u001b[1;33m(\u001b[0m\u001b[0mchunksize\u001b[0m \u001b[1;32mis\u001b[0m \u001b[1;32mnot\u001b[0m \u001b[0mNone\u001b[0m\u001b[1;33m)\u001b[0m\u001b[1;33m:\u001b[0m\u001b[1;33m\u001b[0m\u001b[0m\n",
      "\u001b[1;32m/opt/conda/envs/python2/lib/python2.7/site-packages/pandas/io/parsers.pyc\u001b[0m in \u001b[0;36m__init__\u001b[1;34m(self, f, engine, **kwds)\u001b[0m\n\u001b[0;32m    728\u001b[0m             \u001b[0mself\u001b[0m\u001b[1;33m.\u001b[0m\u001b[0moptions\u001b[0m\u001b[1;33m[\u001b[0m\u001b[1;34m'has_index_names'\u001b[0m\u001b[1;33m]\u001b[0m \u001b[1;33m=\u001b[0m \u001b[0mkwds\u001b[0m\u001b[1;33m[\u001b[0m\u001b[1;34m'has_index_names'\u001b[0m\u001b[1;33m]\u001b[0m\u001b[1;33m\u001b[0m\u001b[0m\n\u001b[0;32m    729\u001b[0m \u001b[1;33m\u001b[0m\u001b[0m\n\u001b[1;32m--> 730\u001b[1;33m         \u001b[0mself\u001b[0m\u001b[1;33m.\u001b[0m\u001b[0m_make_engine\u001b[0m\u001b[1;33m(\u001b[0m\u001b[0mself\u001b[0m\u001b[1;33m.\u001b[0m\u001b[0mengine\u001b[0m\u001b[1;33m)\u001b[0m\u001b[1;33m\u001b[0m\u001b[0m\n\u001b[0m\u001b[0;32m    731\u001b[0m \u001b[1;33m\u001b[0m\u001b[0m\n\u001b[0;32m    732\u001b[0m     \u001b[1;32mdef\u001b[0m \u001b[0mclose\u001b[0m\u001b[1;33m(\u001b[0m\u001b[0mself\u001b[0m\u001b[1;33m)\u001b[0m\u001b[1;33m:\u001b[0m\u001b[1;33m\u001b[0m\u001b[0m\n",
      "\u001b[1;32m/opt/conda/envs/python2/lib/python2.7/site-packages/pandas/io/parsers.pyc\u001b[0m in \u001b[0;36m_make_engine\u001b[1;34m(self, engine)\u001b[0m\n\u001b[0;32m    921\u001b[0m     \u001b[1;32mdef\u001b[0m \u001b[0m_make_engine\u001b[0m\u001b[1;33m(\u001b[0m\u001b[0mself\u001b[0m\u001b[1;33m,\u001b[0m \u001b[0mengine\u001b[0m\u001b[1;33m=\u001b[0m\u001b[1;34m'c'\u001b[0m\u001b[1;33m)\u001b[0m\u001b[1;33m:\u001b[0m\u001b[1;33m\u001b[0m\u001b[0m\n\u001b[0;32m    922\u001b[0m         \u001b[1;32mif\u001b[0m \u001b[0mengine\u001b[0m \u001b[1;33m==\u001b[0m \u001b[1;34m'c'\u001b[0m\u001b[1;33m:\u001b[0m\u001b[1;33m\u001b[0m\u001b[0m\n\u001b[1;32m--> 923\u001b[1;33m             \u001b[0mself\u001b[0m\u001b[1;33m.\u001b[0m\u001b[0m_engine\u001b[0m \u001b[1;33m=\u001b[0m \u001b[0mCParserWrapper\u001b[0m\u001b[1;33m(\u001b[0m\u001b[0mself\u001b[0m\u001b[1;33m.\u001b[0m\u001b[0mf\u001b[0m\u001b[1;33m,\u001b[0m \u001b[1;33m**\u001b[0m\u001b[0mself\u001b[0m\u001b[1;33m.\u001b[0m\u001b[0moptions\u001b[0m\u001b[1;33m)\u001b[0m\u001b[1;33m\u001b[0m\u001b[0m\n\u001b[0m\u001b[0;32m    924\u001b[0m         \u001b[1;32melse\u001b[0m\u001b[1;33m:\u001b[0m\u001b[1;33m\u001b[0m\u001b[0m\n\u001b[0;32m    925\u001b[0m             \u001b[1;32mif\u001b[0m \u001b[0mengine\u001b[0m \u001b[1;33m==\u001b[0m \u001b[1;34m'python'\u001b[0m\u001b[1;33m:\u001b[0m\u001b[1;33m\u001b[0m\u001b[0m\n",
      "\u001b[1;32m/opt/conda/envs/python2/lib/python2.7/site-packages/pandas/io/parsers.pyc\u001b[0m in \u001b[0;36m__init__\u001b[1;34m(self, src, **kwds)\u001b[0m\n\u001b[0;32m   1388\u001b[0m         \u001b[0mkwds\u001b[0m\u001b[1;33m[\u001b[0m\u001b[1;34m'allow_leading_cols'\u001b[0m\u001b[1;33m]\u001b[0m \u001b[1;33m=\u001b[0m \u001b[0mself\u001b[0m\u001b[1;33m.\u001b[0m\u001b[0mindex_col\u001b[0m \u001b[1;32mis\u001b[0m \u001b[1;32mnot\u001b[0m \u001b[0mFalse\u001b[0m\u001b[1;33m\u001b[0m\u001b[0m\n\u001b[0;32m   1389\u001b[0m \u001b[1;33m\u001b[0m\u001b[0m\n\u001b[1;32m-> 1390\u001b[1;33m         \u001b[0mself\u001b[0m\u001b[1;33m.\u001b[0m\u001b[0m_reader\u001b[0m \u001b[1;33m=\u001b[0m \u001b[0m_parser\u001b[0m\u001b[1;33m.\u001b[0m\u001b[0mTextReader\u001b[0m\u001b[1;33m(\u001b[0m\u001b[0msrc\u001b[0m\u001b[1;33m,\u001b[0m \u001b[1;33m**\u001b[0m\u001b[0mkwds\u001b[0m\u001b[1;33m)\u001b[0m\u001b[1;33m\u001b[0m\u001b[0m\n\u001b[0m\u001b[0;32m   1391\u001b[0m \u001b[1;33m\u001b[0m\u001b[0m\n\u001b[0;32m   1392\u001b[0m         \u001b[1;31m# XXX\u001b[0m\u001b[1;33m\u001b[0m\u001b[1;33m\u001b[0m\u001b[0m\n",
      "\u001b[1;32mpandas/parser.pyx\u001b[0m in \u001b[0;36mpandas.parser.TextReader.__cinit__ (pandas/parser.c:4184)\u001b[1;34m()\u001b[0m\n",
      "\u001b[1;32mpandas/parser.pyx\u001b[0m in \u001b[0;36mpandas.parser.TextReader._setup_parser_source (pandas/parser.c:8449)\u001b[1;34m()\u001b[0m\n",
      "\u001b[1;31mIOError\u001b[0m: File data/language-codes-3b2.csv does not exist"
     ]
    }
   ],
   "source": [
    "langs = pd.read_csv(\"data/language-codes-3b2.csv\", sep=\",\",header=0,low_memory=False)"
   ]
  },
  {
   "cell_type": "code",
   "execution_count": 40,
   "metadata": {
    "collapsed": true
   },
   "outputs": [],
   "source": [
    "def extractLanguageName(lang):\n",
    "    langName = langs.ix[langs['alpha3-b'] == lang, 'English']\n",
    "    if(langName.count() > 0):\n",
    "        return langName.iloc[0]\n",
    "    else:\n",
    "        return np.nan"
   ]
  },
  {
   "cell_type": "code",
   "execution_count": 41,
   "metadata": {
    "collapsed": false
   },
   "outputs": [
    {
     "ename": "NameError",
     "evalue": "global name 'langs' is not defined",
     "output_type": "error",
     "traceback": [
      "\u001b[1;31m\u001b[0m",
      "\u001b[1;31mNameError\u001b[0mTraceback (most recent call last)",
      "\u001b[1;32m<ipython-input-41-60ebff7d3439>\u001b[0m in \u001b[0;36m<module>\u001b[1;34m()\u001b[0m\n\u001b[1;32m----> 1\u001b[1;33m \u001b[0marticles\u001b[0m\u001b[1;33m[\u001b[0m\u001b[1;34m'languageName'\u001b[0m\u001b[1;33m]\u001b[0m \u001b[1;33m=\u001b[0m \u001b[0marticles\u001b[0m\u001b[1;33m.\u001b[0m\u001b[0mlanguage\u001b[0m\u001b[1;33m.\u001b[0m\u001b[0mmap\u001b[0m\u001b[1;33m(\u001b[0m\u001b[0mextractLanguageName\u001b[0m\u001b[1;33m)\u001b[0m\u001b[1;33m\u001b[0m\u001b[0m\n\u001b[0m",
      "\u001b[1;32m/opt/conda/envs/python2/lib/python2.7/site-packages/pandas/core/series.pyc\u001b[0m in \u001b[0;36mmap\u001b[1;34m(self, arg, na_action)\u001b[0m\n\u001b[0;32m   2175\u001b[0m             \u001b[0mnew_values\u001b[0m \u001b[1;33m=\u001b[0m \u001b[0malgos\u001b[0m\u001b[1;33m.\u001b[0m\u001b[0mtake_1d\u001b[0m\u001b[1;33m(\u001b[0m\u001b[0marg\u001b[0m\u001b[1;33m.\u001b[0m\u001b[0m_values\u001b[0m\u001b[1;33m,\u001b[0m \u001b[0mindexer\u001b[0m\u001b[1;33m)\u001b[0m\u001b[1;33m\u001b[0m\u001b[0m\n\u001b[0;32m   2176\u001b[0m         \u001b[1;32melse\u001b[0m\u001b[1;33m:\u001b[0m\u001b[1;33m\u001b[0m\u001b[0m\n\u001b[1;32m-> 2177\u001b[1;33m             \u001b[0mnew_values\u001b[0m \u001b[1;33m=\u001b[0m \u001b[0mmap_f\u001b[0m\u001b[1;33m(\u001b[0m\u001b[0mvalues\u001b[0m\u001b[1;33m,\u001b[0m \u001b[0marg\u001b[0m\u001b[1;33m)\u001b[0m\u001b[1;33m\u001b[0m\u001b[0m\n\u001b[0m\u001b[0;32m   2178\u001b[0m \u001b[1;33m\u001b[0m\u001b[0m\n\u001b[0;32m   2179\u001b[0m         return self._constructor(new_values,\n",
      "\u001b[1;32mpandas/src/inference.pyx\u001b[0m in \u001b[0;36mpandas.lib.map_infer (pandas/lib.c:66124)\u001b[1;34m()\u001b[0m\n",
      "\u001b[1;32m<ipython-input-40-d549afca0344>\u001b[0m in \u001b[0;36mextractLanguageName\u001b[1;34m(lang)\u001b[0m\n\u001b[0;32m      1\u001b[0m \u001b[1;32mdef\u001b[0m \u001b[0mextractLanguageName\u001b[0m\u001b[1;33m(\u001b[0m\u001b[0mlang\u001b[0m\u001b[1;33m)\u001b[0m\u001b[1;33m:\u001b[0m\u001b[1;33m\u001b[0m\u001b[0m\n\u001b[1;32m----> 2\u001b[1;33m     \u001b[0mlangName\u001b[0m \u001b[1;33m=\u001b[0m \u001b[0mlangs\u001b[0m\u001b[1;33m.\u001b[0m\u001b[0mix\u001b[0m\u001b[1;33m[\u001b[0m\u001b[0mlangs\u001b[0m\u001b[1;33m[\u001b[0m\u001b[1;34m'alpha3-b'\u001b[0m\u001b[1;33m]\u001b[0m \u001b[1;33m==\u001b[0m \u001b[0mlang\u001b[0m\u001b[1;33m,\u001b[0m \u001b[1;34m'English'\u001b[0m\u001b[1;33m]\u001b[0m\u001b[1;33m\u001b[0m\u001b[0m\n\u001b[0m\u001b[0;32m      3\u001b[0m     \u001b[1;32mif\u001b[0m\u001b[1;33m(\u001b[0m\u001b[0mlangName\u001b[0m\u001b[1;33m.\u001b[0m\u001b[0mcount\u001b[0m\u001b[1;33m(\u001b[0m\u001b[1;33m)\u001b[0m \u001b[1;33m>\u001b[0m \u001b[1;36m0\u001b[0m\u001b[1;33m)\u001b[0m\u001b[1;33m:\u001b[0m\u001b[1;33m\u001b[0m\u001b[0m\n\u001b[0;32m      4\u001b[0m         \u001b[1;32mreturn\u001b[0m \u001b[0mlangName\u001b[0m\u001b[1;33m.\u001b[0m\u001b[0miloc\u001b[0m\u001b[1;33m[\u001b[0m\u001b[1;36m0\u001b[0m\u001b[1;33m]\u001b[0m\u001b[1;33m\u001b[0m\u001b[0m\n\u001b[0;32m      5\u001b[0m     \u001b[1;32melse\u001b[0m\u001b[1;33m:\u001b[0m\u001b[1;33m\u001b[0m\u001b[0m\n",
      "\u001b[1;31mNameError\u001b[0m: global name 'langs' is not defined"
     ]
    }
   ],
   "source": [
    "articles['languageName'] = articles.language.map(extractLanguageName)"
   ]
  },
  {
   "cell_type": "code",
   "execution_count": 42,
   "metadata": {
    "collapsed": false
   },
   "outputs": [
    {
     "ename": "NameError",
     "evalue": "name 'langs' is not defined",
     "output_type": "error",
     "traceback": [
      "\u001b[1;31m\u001b[0m",
      "\u001b[1;31mNameError\u001b[0mTraceback (most recent call last)",
      "\u001b[1;32m<ipython-input-42-424a320c0c03>\u001b[0m in \u001b[0;36m<module>\u001b[1;34m()\u001b[0m\n\u001b[1;32m----> 1\u001b[1;33m \u001b[0mlangs\u001b[0m\u001b[1;33m.\u001b[0m\u001b[0mix\u001b[0m\u001b[1;33m[\u001b[0m\u001b[0mlangs\u001b[0m\u001b[1;33m[\u001b[0m\u001b[1;34m'alpha3-b'\u001b[0m\u001b[1;33m]\u001b[0m \u001b[1;33m==\u001b[0m \u001b[1;34m'fre'\u001b[0m\u001b[1;33m,\u001b[0m \u001b[1;34m'English'\u001b[0m\u001b[1;33m]\u001b[0m\u001b[1;33m.\u001b[0m\u001b[0miloc\u001b[0m\u001b[1;33m[\u001b[0m\u001b[1;36m0\u001b[0m\u001b[1;33m]\u001b[0m\u001b[1;33m\u001b[0m\u001b[0m\n\u001b[0m",
      "\u001b[1;31mNameError\u001b[0m: name 'langs' is not defined"
     ]
    }
   ],
   "source": [
    "langs.ix[langs['alpha3-b'] == 'fre', 'English'].iloc[0]"
   ]
  },
  {
   "cell_type": "code",
   "execution_count": 43,
   "metadata": {
    "collapsed": false
   },
   "outputs": [
    {
     "ename": "AttributeError",
     "evalue": "'DataFrame' object has no attribute 'languageName'",
     "output_type": "error",
     "traceback": [
      "\u001b[1;31m\u001b[0m",
      "\u001b[1;31mAttributeError\u001b[0mTraceback (most recent call last)",
      "\u001b[1;32m<ipython-input-43-d9655336f67d>\u001b[0m in \u001b[0;36m<module>\u001b[1;34m()\u001b[0m\n\u001b[1;32m----> 1\u001b[1;33m \u001b[0marticles\u001b[0m\u001b[1;33m[\u001b[0m\u001b[0marticles\u001b[0m\u001b[1;33m.\u001b[0m\u001b[0mlanguageName\u001b[0m\u001b[1;33m.\u001b[0m\u001b[0misnull\u001b[0m\u001b[1;33m(\u001b[0m\u001b[1;33m)\u001b[0m \u001b[1;33m==\u001b[0m \u001b[0mTrue\u001b[0m\u001b[1;33m]\u001b[0m\u001b[1;33m.\u001b[0m\u001b[0mlanguage\u001b[0m\u001b[1;33m.\u001b[0m\u001b[0mvalue_counts\u001b[0m\u001b[1;33m(\u001b[0m\u001b[1;33m)\u001b[0m\u001b[1;33m\u001b[0m\u001b[0m\n\u001b[0m",
      "\u001b[1;32m/opt/conda/envs/python2/lib/python2.7/site-packages/pandas/core/generic.pyc\u001b[0m in \u001b[0;36m__getattr__\u001b[1;34m(self, name)\u001b[0m\n\u001b[0;32m   2742\u001b[0m             \u001b[1;32mif\u001b[0m \u001b[0mname\u001b[0m \u001b[1;32min\u001b[0m \u001b[0mself\u001b[0m\u001b[1;33m.\u001b[0m\u001b[0m_info_axis\u001b[0m\u001b[1;33m:\u001b[0m\u001b[1;33m\u001b[0m\u001b[0m\n\u001b[0;32m   2743\u001b[0m                 \u001b[1;32mreturn\u001b[0m \u001b[0mself\u001b[0m\u001b[1;33m[\u001b[0m\u001b[0mname\u001b[0m\u001b[1;33m]\u001b[0m\u001b[1;33m\u001b[0m\u001b[0m\n\u001b[1;32m-> 2744\u001b[1;33m             \u001b[1;32mreturn\u001b[0m \u001b[0mobject\u001b[0m\u001b[1;33m.\u001b[0m\u001b[0m__getattribute__\u001b[0m\u001b[1;33m(\u001b[0m\u001b[0mself\u001b[0m\u001b[1;33m,\u001b[0m \u001b[0mname\u001b[0m\u001b[1;33m)\u001b[0m\u001b[1;33m\u001b[0m\u001b[0m\n\u001b[0m\u001b[0;32m   2745\u001b[0m \u001b[1;33m\u001b[0m\u001b[0m\n\u001b[0;32m   2746\u001b[0m     \u001b[1;32mdef\u001b[0m \u001b[0m__setattr__\u001b[0m\u001b[1;33m(\u001b[0m\u001b[0mself\u001b[0m\u001b[1;33m,\u001b[0m \u001b[0mname\u001b[0m\u001b[1;33m,\u001b[0m \u001b[0mvalue\u001b[0m\u001b[1;33m)\u001b[0m\u001b[1;33m:\u001b[0m\u001b[1;33m\u001b[0m\u001b[0m\n",
      "\u001b[1;31mAttributeError\u001b[0m: 'DataFrame' object has no attribute 'languageName'"
     ]
    }
   ],
   "source": [
    "articles[articles.languageName.isnull() == True].language.value_counts()"
   ]
  },
  {
   "cell_type": "code",
   "execution_count": null,
   "metadata": {
    "collapsed": false
   },
   "outputs": [],
   "source": [
    "articles.ix[articles.language == 'esp','languageName'] = 'Spanish; Castilian'\n",
    "articles.ix[articles.language == 'esp','language'] = 'spa'\n",
    "articles.ix[articles.language == 'fra','languageName'] = 'French'\n",
    "articles.ix[articles.language == 'fra','language'] = 'fre'"
   ]
  },
  {
   "cell_type": "markdown",
   "metadata": {},
   "source": [
    "### Set conference Ids"
   ]
  },
  {
   "cell_type": "code",
   "execution_count": 44,
   "metadata": {
    "collapsed": false,
    "scrolled": true
   },
   "outputs": [],
   "source": [
    "conferenceDF[\"conferenceId\"] = np.nan"
   ]
  },
  {
   "cell_type": "code",
   "execution_count": 45,
   "metadata": {
    "collapsed": true
   },
   "outputs": [],
   "source": [
    "# https://docs.python.org/2.4/lib/sequence-matcher.html\n",
    "\n",
    "# Return a measure of the sequences' similarity as a float in the range [0, 1].\n",
    "# Where T is the total number of elements in both sequences, and M is the number of matches, this is 2.0*M / T. \n",
    "# Note that this is 1.0 if the sequences are identical, and 0.0 if they have nothing in common.\n",
    "# This is expensive to compute if get_matching_blocks() or get_opcodes() hasn't already been called, \n",
    "# in which case you may want to try quick_ratio() or real_quick_ratio() first to get an upper bound.\n",
    "\n",
    "def similar(a, b):\n",
    "    return SequenceMatcher(None, a, b).ratio()"
   ]
  },
  {
   "cell_type": "code",
   "execution_count": 46,
   "metadata": {
    "collapsed": true
   },
   "outputs": [],
   "source": [
    "# https://en.wikibooks.org/wiki/Algorithm_Implementation/Strings/Levenshtein_distance#Python\n",
    "# https://pypi.python.org/pypi/editdistance\n",
    "\n",
    "# Levenshtein distance algorithm. This tells us the number of edits needed to turn one string into another. \n",
    "\n",
    "def levenshtein(source, target):\n",
    "    if len(source) < len(target):\n",
    "        return levenshtein(target, source)\n",
    "\n",
    "    # So now we have len(source) >= len(target).\n",
    "    if len(target) == 0:\n",
    "        return len(source)\n",
    "\n",
    "    # We call tuple() to force strings to be used as sequences\n",
    "    # ('c', 'a', 't', 's') - numpy uses them as values by default.\n",
    "    source = np.array(tuple(source))\n",
    "    target = np.array(tuple(target))\n",
    "\n",
    "    # We use a dynamic programming algorithm, but with the\n",
    "    # added optimization that we only need the last two rows\n",
    "    # of the matrix.\n",
    "    previous_row = np.arange(target.size + 1)\n",
    "    for s in source:\n",
    "        # Insertion (target grows longer than source):\n",
    "        current_row = previous_row + 1\n",
    "\n",
    "        # Substitution or matching:\n",
    "        # Target and source items are aligned, and either\n",
    "        # are different (cost of 1), or are the same (cost of 0).\n",
    "        current_row[1:] = np.minimum(\n",
    "                current_row[1:],\n",
    "                np.add(previous_row[:-1], target != s))\n",
    "\n",
    "        # Deletion (target grows shorter than source):\n",
    "        current_row[1:] = np.minimum(\n",
    "                current_row[1:],\n",
    "                current_row[0:-1] + 1)\n",
    "\n",
    "        previous_row = current_row\n",
    "\n",
    "    return previous_row[-1]"
   ]
  },
  {
   "cell_type": "code",
   "execution_count": 47,
   "metadata": {
    "collapsed": false
   },
   "outputs": [
    {
     "ename": "IndentationError",
     "evalue": "unexpected indent (<ipython-input-47-0dedf5036d3d>, line 26)",
     "output_type": "error",
     "traceback": [
      "\u001b[1;36m  File \u001b[1;32m\"<ipython-input-47-0dedf5036d3d>\"\u001b[1;36m, line \u001b[1;32m26\u001b[0m\n\u001b[1;33m    mat = RowMatrix(rows)\u001b[0m\n\u001b[1;37m    ^\u001b[0m\n\u001b[1;31mIndentationError\u001b[0m\u001b[1;31m:\u001b[0m unexpected indent\n"
     ]
    }
   ],
   "source": [
    "# DIMSUM\n",
    "\n",
    "# http://spark.apache.org/docs/2.0.2/api/python/pyspark.mllib.html#module-pyspark.mllib.linalg.distributed\n",
    "# https://es.wikipedia.org/wiki/Similitud_coseno\n",
    "# https://databricks.com/blog/2014/10/20/efficient-similarity-algorithm-now-in-spark-twitter.html\n",
    "# https://forums.databricks.com/questions/248/when-should-i-use-rowmatrixcolumnsimilarities.html\n",
    "# https://github.com/mrsqueeze/spark-hash\n",
    "\n",
    "def lexicoOrder(s):\n",
    "    s.sort(key=lambda item: (len(item), item))\n",
    "    return s\n",
    "\n",
    "htf = HashingTF()\n",
    "\n",
    "def parseHash(e):\n",
    "    return htf.indexOf(e)\n",
    "\n",
    "def parseStringToHashItemsList(s):\n",
    "    res = []\n",
    "    for e in lexicoOrder(s.split(\" \")):\n",
    "        res.append(parseHash(e))\n",
    "    return res\n",
    "    \n",
    "rows = sc.parallelize(strings).map(parseStringToHashItemsList)\n",
    "\n",
    "    mat = RowMatrix(rows)\n",
    "\n",
    "def parseVec(v,idx):\n",
    "    vec = []\n",
    "    for idy, el in enumerate(v.toArray()):\n",
    "        vec.append(MatrixEntry(idy,idx,el))\n",
    "    return vec\n",
    "  \n",
    "\n",
    "def transpose(m):\n",
    "    rows = m.rows\n",
    "    rdd = rows.zipWithIndex().flatMap(lambda (vec, idx): [x for x in parseVec(vec,idx)])\n",
    "    return rdd\n",
    "\n",
    "coordMat = CoordinateMatrix(transpose(mat))\n",
    "rowMatrix = coordMat.toRowMatrix()\n",
    "mat = rowMatrix\n",
    "\n",
    "sims = mat.columnSimilarities() # sims es del tipus CoordinateMatrix\n",
    "# sims.entries és un RDD de MatrixEntry del format (long,long,float)\n",
    "\n",
    "transformedRDD = sims.entries.map(lambda e: np.array([e.i,e.j,e.value]))\n",
    "print transformedRDD.collect()"
   ]
  },
  {
   "cell_type": "code",
   "execution_count": 48,
   "metadata": {
    "collapsed": true
   },
   "outputs": [],
   "source": [
    "# https://en.wikipedia.org/wiki/MinHash\n",
    "# Implemented in the last scala or java API \n",
    "# http://spark.apache.org/docs/latest/api/scala/index.html#org.apache.spark.ml.feature.MinHashLSH\n",
    "# http://spark.apache.org/docs/2.1.0/api/java/org/apache/spark/ml/feature/MinHashLSH.html\n",
    "\n",
    "# LSH is a form of bucketing/binning which groups similar rows into k number of buckets. \n",
    "# The contents of these buckets are then compared in parallel to reduce overall wall-clock time.\n"
   ]
  },
  {
   "cell_type": "code",
   "execution_count": 49,
   "metadata": {
    "collapsed": true
   },
   "outputs": [],
   "source": [
    "strings = []\n",
    "strings.append(\"Hola buenos dias como estamos todos\") # 0\n",
    "strings.append(\"Hola buenos dias como estamos todos y todas\") # 1\n",
    "strings.append(\"Hola buenos dias como estamos todas\") # 2\n",
    "strings.append(\"Hola buenos dias como estamos todos\") # 3\n",
    "strings.append(\"Hola buenos dias TEST como estamos todos\") # 4\n",
    "strings.append(\"Sin relación alguna\") # 5\n",
    "strings.append(\"dias buenos estamos todos como Hola\") # 6\n",
    "strings.append(\"Sin relación algunas\") # 7\n",
    "strings.append(\"Sin relación algunadd\") # 8"
   ]
  },
  {
   "cell_type": "code",
   "execution_count": 50,
   "metadata": {
    "collapsed": false
   },
   "outputs": [],
   "source": [
    "# https://en.wikipedia.org/wiki/Jaccard_index\n",
    "\n",
    "# The Jaccard Similarity between two sets A, B is\n",
    "# |Intersection(A, B)| / |Union(A, B)|\n",
    "\n",
    "def jaccardSimilarity (totalCommon, totalA, totalB):\n",
    "    union = totalA + totalB - totalCommon\n",
    "    return totalCommon * 1.0 / union\n",
    "\n",
    "def intersect(a,b):\n",
    "    res = []\n",
    "    for x in a:\n",
    "        if x in b:\n",
    "            res.append(x)\n",
    "    return res\n",
    "\n",
    "def parseData(a,b):\n",
    "    if jaccardSimilarity(len(intersect(a[0],b[0])),len(a[0]),len(b[0])) > 0.5:\n",
    "        return [a[1],[b[1]]]\n",
    "    return [-1]"
   ]
  },
  {
   "cell_type": "code",
   "execution_count": 51,
   "metadata": {
    "collapsed": false
   },
   "outputs": [],
   "source": [
    "rdd = sc.parallelize(strings).map(lambda a: [x for x in a.split(\" \")]).zipWithIndex()\n",
    "cart = rdd.cartesian(rdd)"
   ]
  },
  {
   "cell_type": "code",
   "execution_count": 52,
   "metadata": {
    "collapsed": false
   },
   "outputs": [
    {
     "data": {
      "text/plain": [
       "[(1, [2, 3, 4, 6]), (2, [3, 4, 6]), (3, [4, 6]), (4, [6])]"
      ]
     },
     "execution_count": 52,
     "metadata": {},
     "output_type": "execute_result"
    }
   ],
   "source": [
    "res = cart.filter(lambda (a,b): a[1] < b[1])\\\n",
    ".map(lambda (a,b):parseData(a,b))\\\n",
    ".filter(lambda x: x[0] > 0)\\\n",
    ".reduceByKey(lambda x,y: x + y)\n",
    "res.collect()"
   ]
  },
  {
   "cell_type": "code",
   "execution_count": 53,
   "metadata": {
    "collapsed": false
   },
   "outputs": [
    {
     "data": {
      "text/plain": [
       "15"
      ]
     },
     "execution_count": 53,
     "metadata": {},
     "output_type": "execute_result"
    }
   ],
   "source": [
    "def similarConference(a,b):\n",
    "    if a[\"conferenceDateYear\"] != b[\"conferenceDateYear\"]:\n",
    "        return False\n",
    "    return similar(a[\"conferenceData\"],b[\"conferenceData\"]) > 0.6\n",
    "\n",
    "def conferenceComput(cdf):\n",
    "    ID = 1\n",
    "    diff = 0\n",
    "    addNew = True\n",
    "    for idx, x in cdf[cdf.conferenceData.notnull()].iterrows():\n",
    "        if ID == 1:\n",
    "            cdf.loc[idx,\"conferenceId\"] = ID\n",
    "            ID += 1\n",
    "            continue\n",
    "        for idy, y in cdf[cdf.conferenceId.notnull()].iterrows():\n",
    "            if similarConference(x,y):\n",
    "                #cdf.loc[idx,\"conferenceId\"] = cdf.loc[idy,\"conferenceId\"]\n",
    "                cdf.set_value(idx,\"conferenceId\",cdf.loc[idy,\"conferenceId\"])\n",
    "                addNew = False\n",
    "                diff += 1\n",
    "                break\n",
    "        if addNew:\n",
    "            cdf.loc[idx,\"conferenceId\"] = ID\n",
    "            ID += 1\n",
    "        addNew = True\n",
    "    return diff\n",
    "conferenceComput(conferenceDF)"
   ]
  },
  {
   "cell_type": "code",
   "execution_count": null,
   "metadata": {
    "collapsed": true
   },
   "outputs": [],
   "source": []
  },
  {
   "cell_type": "code",
   "execution_count": 54,
   "metadata": {
    "collapsed": true
   },
   "outputs": [],
   "source": [
    "articles[\"ConferenceId\"] = conferenceDF.conferenceId"
   ]
  },
  {
   "cell_type": "markdown",
   "metadata": {},
   "source": [
    "# Coauthors networks"
   ]
  },
  {
   "cell_type": "code",
   "execution_count": 55,
   "metadata": {
    "collapsed": false
   },
   "outputs": [],
   "source": [
    "authorsLines = sc.textFile(\"data/authors.csv\")\n",
    "header = authorsLines.first()\n",
    "rows = authorsLines.filter(lambda line: line != header)\n",
    "authors = rows.flatMap(lambda line: re.findall('\"([^\"]*)\"', line)).map(lambda a: a.split('|')) "
   ]
  },
  {
   "cell_type": "code",
   "execution_count": 57,
   "metadata": {
    "collapsed": false
   },
   "outputs": [
    {
     "data": {
      "text/plain": [
       "5576414"
      ]
     },
     "execution_count": 57,
     "metadata": {},
     "output_type": "execute_result"
    }
   ],
   "source": [
    "authorsLines.count()"
   ]
  },
  {
   "cell_type": "markdown",
   "metadata": {},
   "source": [
    "## Coauthorship networks"
   ]
  },
  {
   "cell_type": "markdown",
   "metadata": {},
   "source": [
    "As the final objective of this project is to disambiguate author names which corresponds to different persons, we will do it by obtaining the coauthorship networks of a given author and toughen the different networks with other parameters. \n",
    "\n",
    "The first step of this process is to extract the coauthorship networks of a given author. To do it, we filter the rows searching for the given author and we obtain the network representing the relations of this author."
   ]
  },
  {
   "cell_type": "code",
   "execution_count": 58,
   "metadata": {
    "collapsed": false
   },
   "outputs": [
    {
     "data": {
      "text/plain": [
       "20"
      ]
     },
     "execution_count": 58,
     "metadata": {},
     "output_type": "execute_result"
    }
   ],
   "source": [
    "import itertools   \n",
    "keyToSearch = 'Zidorn, C.'#'Yamaoka, Y.'#'Zidorn, C.'#'Ellmerer, E.P.'#'Congress.'\n",
    "filteredAuthors = authors.map(set).filter(lambda a: keyToSearch in a).map(lambda a: a.difference({keyToSearch}))\n",
    "filteredAuthors.count()"
   ]
  },
  {
   "cell_type": "code",
   "execution_count": 59,
   "metadata": {
    "collapsed": true
   },
   "outputs": [],
   "source": [
    "coauthors = filteredAuthors.flatMap(lambda a: [[tuple(sorted(coauth)), 1] for coauth in itertools.combinations(a, 2)])\n",
    "coauthorsMap = coauthors.reduceByKey(lambda x, y: x + y)\n",
    "coauthorsList = coauthorsMap.map(lambda (key,val): (key[0],key[1],val))"
   ]
  },
  {
   "cell_type": "code",
   "execution_count": 60,
   "metadata": {
    "collapsed": true
   },
   "outputs": [],
   "source": [
    "def yieldFunc(list):\n",
    "    for item in list:\n",
    "        yield item\n",
    "coauthorsunique = filteredAuthors.flatMap(yieldFunc).map(lambda x: (x,1)).reduceByKey(lambda x,y: x+y)"
   ]
  },
  {
   "cell_type": "code",
   "execution_count": null,
   "metadata": {
    "collapsed": false
   },
   "outputs": [],
   "source": [
    "def toCSVLine(data):\n",
    "    return ';'.join(str(d) for d in data)\n",
    "\n",
    "lines = coauthorsunique.map(toCSVLine)\n",
    "lines.saveAsTextFile(\"data/coauthorsunique/\" + keyToSearch.split(\",\")[0]);\n",
    "\n",
    "lines = coauthorsList.map(toCSVLine)\n",
    "lines.saveAsTextFile(\"data/coauthorslist/\" + keyToSearch.split(\",\")[0]);"
   ]
  },
  {
   "cell_type": "code",
   "execution_count": 63,
   "metadata": {
    "collapsed": false
   },
   "outputs": [],
   "source": [
    "v = sqlContext.createDataFrame(coauthorsunique,['id','times'])\n",
    "e = sqlContext.createDataFrame(coauthorsList,['src','dst','times'])\n",
    "g = GraphFrame(v, e)"
   ]
  },
  {
   "cell_type": "code",
   "execution_count": 65,
   "metadata": {
    "collapsed": true
   },
   "outputs": [],
   "source": [
    "edges_array = np.array(\n",
    "    g.edges\n",
    "    .select(\"src\", \"dst\").rdd\n",
    "    .map(lambda r: [r.src, r.dst])\n",
    "    .collect()\n",
    ")"
   ]
  },
  {
   "cell_type": "code",
   "execution_count": 66,
   "metadata": {
    "collapsed": false
   },
   "outputs": [
    {
     "data": {
      "text/html": [
       "<div align=\"center\" class=\"toyplot\" id=\"t5b7a42cc6428440bac824db5d38feb00\"><svg class=\"toyplot-canvas-Canvas\" height=\"1000.0px\" id=\"t245d1087ecc64b0d927483c9b7bd4793\" preserveAspectRatio=\"xMidYMid meet\" style=\"background-color:transparent;fill:rgb(16.1%,15.3%,14.1%);fill-opacity:1.0;font-family:Helvetica;font-size:12px;opacity:1.0;stroke:rgb(16.1%,15.3%,14.1%);stroke-opacity:1.0;stroke-width:1.0\" viewBox=\"0 0 1000.0 1000.0\" width=\"1000.0px\" xmlns=\"http://www.w3.org/2000/svg\" xmlns:toyplot=\"http://www.sandia.gov/toyplot\" xmlns:xlink=\"http://www.w3.org/1999/xlink\"><g class=\"toyplot-coordinates-Cartesian\" id=\"tb5e34ef9ab5b488f8b741bad3db0f952\"><clipPath id=\"tb56ca375ce8346ffa6b70d69d11424e8\"><rect height=\"940.0\" width=\"940.0\" x=\"30.0\" y=\"30.0\"></rect></clipPath><g clip-path=\"url(#tb56ca375ce8346ffa6b70d69d11424e8)\"><g class=\"toyplot-mark-Graph\" id=\"te6fe9c3ea2654635a9815ada0e5644e5\"><g class=\"toyplot-Edges\"><path d=\"M 343.145218307 211.31132055 L 219.697777082 227.808277191\" style=\"fill:none;stroke:rgb(40%,76.1%,64.7%);stroke-opacity:1.0;stroke-width:1.0\"></path><path d=\"M 775.0748926 152.960227505 L 480.764555218 499.315881334\" style=\"fill:none;stroke:rgb(40%,76.1%,64.7%);stroke-opacity:1.0;stroke-width:1.0\"></path><path d=\"M 329.782124545 511.236146354 L 664.315585196 664.080618329\" style=\"fill:none;stroke:rgb(40%,76.1%,64.7%);stroke-opacity:1.0;stroke-width:1.0\"></path><path d=\"M 717.219165095 848.295847919 L 480.764555218 499.315881334\" style=\"fill:none;stroke:rgb(40%,76.1%,64.7%);stroke-opacity:1.0;stroke-width:1.0\"></path><path d=\"M 871.880439221 730.241721316 L 717.219165095 848.295847919\" style=\"fill:none;stroke:rgb(40%,76.1%,64.7%);stroke-opacity:1.0;stroke-width:1.0\"></path><path d=\"M 179.562568375 596.663907099 L 480.764555218 499.315881334\" style=\"fill:none;stroke:rgb(40%,76.1%,64.7%);stroke-opacity:1.0;stroke-width:1.0\"></path><path d=\"M 329.782124545 511.236146354 L 97.33861865 542.741449723\" style=\"fill:none;stroke:rgb(40%,76.1%,64.7%);stroke-opacity:1.0;stroke-width:1.0\"></path><path d=\"M 123.876719793 700.313417759 L 76.8815605449 625.079214011\" style=\"fill:none;stroke:rgb(40%,76.1%,64.7%);stroke-opacity:1.0;stroke-width:1.0\"></path><path d=\"M 179.562568375 596.663907099 L 76.8815605449 625.079214011\" style=\"fill:none;stroke:rgb(40%,76.1%,64.7%);stroke-opacity:1.0;stroke-width:1.0\"></path><path d=\"M 664.315585196 664.080618329 L 521.636226227 634.957793918\" style=\"fill:none;stroke:rgb(40%,76.1%,64.7%);stroke-opacity:1.0;stroke-width:1.0\"></path><path d=\"M 179.562568375 596.663907099 L 97.33861865 542.741449723\" style=\"fill:none;stroke:rgb(40%,76.1%,64.7%);stroke-opacity:1.0;stroke-width:1.0\"></path><path d=\"M 282.529231407 813.440227709 L 208.771472635 700.491151114\" style=\"fill:none;stroke:rgb(40%,76.1%,64.7%);stroke-opacity:1.0;stroke-width:1.0\"></path><path d=\"M 147.771737881 292.920339912 L 233.857609165 309.657955609\" style=\"fill:none;stroke:rgb(40%,76.1%,64.7%);stroke-opacity:1.0;stroke-width:1.0\"></path><path d=\"M 343.145218307 211.31132055 L 480.764555218 499.315881334\" style=\"fill:none;stroke:rgb(40%,76.1%,64.7%);stroke-opacity:1.0;stroke-width:1.0\"></path><path d=\"M 794.374291642 734.663682025 L 480.764555218 499.315881334\" style=\"fill:none;stroke:rgb(40%,76.1%,64.7%);stroke-opacity:1.0;stroke-width:1.0\"></path><path d=\"M 329.782124545 511.236146354 L 123.876719793 700.313417759\" style=\"fill:none;stroke:rgb(40%,76.1%,64.7%);stroke-opacity:1.0;stroke-width:1.0\"></path><path d=\"M 208.771472635 700.491151114 L 480.764555218 499.315881334\" style=\"fill:none;stroke:rgb(40%,76.1%,64.7%);stroke-opacity:1.0;stroke-width:1.0\"></path><path d=\"M 664.315585196 664.080618329 L 794.374291642 734.663682025\" style=\"fill:none;stroke:rgb(40%,76.1%,64.7%);stroke-opacity:1.0;stroke-width:1.0\"></path><path d=\"M 97.33861865 542.741449723 L 208.771472635 700.491151114\" style=\"fill:none;stroke:rgb(40%,76.1%,64.7%);stroke-opacity:1.0;stroke-width:1.0\"></path><path d=\"M 147.771737881 292.920339912 L 480.764555218 499.315881334\" style=\"fill:none;stroke:rgb(40%,76.1%,64.7%);stroke-opacity:1.0;stroke-width:1.0\"></path><path d=\"M 97.33861865 542.741449723 L 123.876719793 700.313417759\" style=\"fill:none;stroke:rgb(40%,76.1%,64.7%);stroke-opacity:1.0;stroke-width:1.0\"></path><path d=\"M 343.145218307 211.31132055 L 233.857609165 309.657955609\" style=\"fill:none;stroke:rgb(40%,76.1%,64.7%);stroke-opacity:1.0;stroke-width:1.0\"></path><path d=\"M 308.705152374 317.859539003 L 480.764555218 499.315881334\" style=\"fill:none;stroke:rgb(40%,76.1%,64.7%);stroke-opacity:1.0;stroke-width:1.0\"></path><path d=\"M 179.562568375 596.663907099 L 329.782124545 511.236146354\" style=\"fill:none;stroke:rgb(40%,76.1%,64.7%);stroke-opacity:1.0;stroke-width:1.0\"></path><path d=\"M 147.771737881 292.920339912 L 219.697777082 227.808277191\" style=\"fill:none;stroke:rgb(40%,76.1%,64.7%);stroke-opacity:1.0;stroke-width:1.0\"></path><path d=\"M 329.782124545 511.236146354 L 480.764555218 499.315881334\" style=\"fill:none;stroke:rgb(40%,76.1%,64.7%);stroke-opacity:1.0;stroke-width:1.0\"></path><path d=\"M 717.219165095 848.295847919 L 713.899977729 773.9068548\" style=\"fill:none;stroke:rgb(40%,76.1%,64.7%);stroke-opacity:1.0;stroke-width:1.0\"></path><path d=\"M 566.309616936 105.860460787 L 480.764555218 499.315881334\" style=\"fill:none;stroke:rgb(40%,76.1%,64.7%);stroke-opacity:1.0;stroke-width:1.0\"></path><path d=\"M 480.764555218 499.315881334 L 551.022438564 308.934099173\" style=\"fill:none;stroke:rgb(40%,76.1%,64.7%);stroke-opacity:1.0;stroke-width:1.0\"></path><path d=\"M 809.643048319 825.833776874 L 825.873609824 653.434315256\" style=\"fill:none;stroke:rgb(40%,76.1%,64.7%);stroke-opacity:1.0;stroke-width:1.0\"></path><path d=\"M 521.636226227 634.957793918 L 606.392976418 450.138955178\" style=\"fill:none;stroke:rgb(40%,76.1%,64.7%);stroke-opacity:1.0;stroke-width:1.0\"></path><path d=\"M 809.643048319 825.833776874 L 871.880439221 730.241721316\" style=\"fill:none;stroke:rgb(40%,76.1%,64.7%);stroke-opacity:1.0;stroke-width:1.0\"></path><path d=\"M 480.764555218 499.315881334 L 825.873609824 653.434315256\" style=\"fill:none;stroke:rgb(40%,76.1%,64.7%);stroke-opacity:1.0;stroke-width:1.0\"></path><path d=\"M 329.782124545 511.236146354 L 395.100153119 779.507483073\" style=\"fill:none;stroke:rgb(40%,76.1%,64.7%);stroke-opacity:1.0;stroke-width:1.0\"></path><path d=\"M 713.899977729 773.9068548 L 825.873609824 653.434315256\" style=\"fill:none;stroke:rgb(40%,76.1%,64.7%);stroke-opacity:1.0;stroke-width:1.0\"></path><path d=\"M 343.145218307 211.31132055 L 458.359519925 57.1047402318\" style=\"fill:none;stroke:rgb(40%,76.1%,64.7%);stroke-opacity:1.0;stroke-width:1.0\"></path><path d=\"M 219.697777082 227.808277191 L 480.764555218 499.315881334\" style=\"fill:none;stroke:rgb(40%,76.1%,64.7%);stroke-opacity:1.0;stroke-width:1.0\"></path><path d=\"M 809.643048319 825.833776874 L 794.374291642 734.663682025\" style=\"fill:none;stroke:rgb(40%,76.1%,64.7%);stroke-opacity:1.0;stroke-width:1.0\"></path><path d=\"M 329.782124545 511.236146354 L 178.172692987 374.614141293\" style=\"fill:none;stroke:rgb(40%,76.1%,64.7%);stroke-opacity:1.0;stroke-width:1.0\"></path><path d=\"M 871.880439221 730.241721316 L 480.764555218 499.315881334\" style=\"fill:none;stroke:rgb(40%,76.1%,64.7%);stroke-opacity:1.0;stroke-width:1.0\"></path><path d=\"M 775.0748926 152.960227505 L 850.997700275 243.871036975\" style=\"fill:none;stroke:rgb(40%,76.1%,64.7%);stroke-opacity:1.0;stroke-width:1.0\"></path><path d=\"M 618.742251973 541.284151549 L 664.315585196 664.080618329\" style=\"fill:none;stroke:rgb(40%,76.1%,64.7%);stroke-opacity:1.0;stroke-width:1.0\"></path><path d=\"M 871.880439221 730.241721316 L 825.873609824 653.434315256\" style=\"fill:none;stroke:rgb(40%,76.1%,64.7%);stroke-opacity:1.0;stroke-width:1.0\"></path><path d=\"M 97.33861865 542.741449723 L 76.8815605449 625.079214011\" style=\"fill:none;stroke:rgb(40%,76.1%,64.7%);stroke-opacity:1.0;stroke-width:1.0\"></path><path d=\"M 308.705152374 317.859539003 L 233.857609165 309.657955609\" style=\"fill:none;stroke:rgb(40%,76.1%,64.7%);stroke-opacity:1.0;stroke-width:1.0\"></path><path d=\"M 233.857609165 309.657955609 L 480.764555218 499.315881334\" style=\"fill:none;stroke:rgb(40%,76.1%,64.7%);stroke-opacity:1.0;stroke-width:1.0\"></path><path d=\"M 664.315585196 664.080618329 L 713.899977729 773.9068548\" style=\"fill:none;stroke:rgb(40%,76.1%,64.7%);stroke-opacity:1.0;stroke-width:1.0\"></path><path d=\"M 664.315585196 664.080618329 L 717.219165095 848.295847919\" style=\"fill:none;stroke:rgb(40%,76.1%,64.7%);stroke-opacity:1.0;stroke-width:1.0\"></path><path d=\"M 329.782124545 511.236146354 L 219.697777082 227.808277191\" style=\"fill:none;stroke:rgb(40%,76.1%,64.7%);stroke-opacity:1.0;stroke-width:1.0\"></path><path d=\"M 480.764555218 499.315881334 L 395.100153119 779.507483073\" style=\"fill:none;stroke:rgb(40%,76.1%,64.7%);stroke-opacity:1.0;stroke-width:1.0\"></path><path d=\"M 618.742251973 541.284151549 L 329.782124545 511.236146354\" style=\"fill:none;stroke:rgb(40%,76.1%,64.7%);stroke-opacity:1.0;stroke-width:1.0\"></path><path d=\"M 178.172692987 374.614141293 L 480.764555218 499.315881334\" style=\"fill:none;stroke:rgb(40%,76.1%,64.7%);stroke-opacity:1.0;stroke-width:1.0\"></path><path d=\"M 794.374291642 734.663682025 L 717.219165095 848.295847919\" style=\"fill:none;stroke:rgb(40%,76.1%,64.7%);stroke-opacity:1.0;stroke-width:1.0\"></path><path d=\"M 871.880439221 730.241721316 L 794.374291642 734.663682025\" style=\"fill:none;stroke:rgb(40%,76.1%,64.7%);stroke-opacity:1.0;stroke-width:1.0\"></path><path d=\"M 458.359519925 57.1047402318 L 347.420948007 50.0\" style=\"fill:none;stroke:rgb(40%,76.1%,64.7%);stroke-opacity:1.0;stroke-width:1.0\"></path><path d=\"M 282.529231407 813.440227709 L 480.764555218 499.315881334\" style=\"fill:none;stroke:rgb(40%,76.1%,64.7%);stroke-opacity:1.0;stroke-width:1.0\"></path><path d=\"M 343.145218307 211.31132055 L 566.309616936 105.860460787\" style=\"fill:none;stroke:rgb(40%,76.1%,64.7%);stroke-opacity:1.0;stroke-width:1.0\"></path><path d=\"M 664.315585196 664.080618329 L 606.392976418 450.138955178\" style=\"fill:none;stroke:rgb(40%,76.1%,64.7%);stroke-opacity:1.0;stroke-width:1.0\"></path><path d=\"M 521.636226227 634.957793918 L 480.764555218 499.315881334\" style=\"fill:none;stroke:rgb(40%,76.1%,64.7%);stroke-opacity:1.0;stroke-width:1.0\"></path><path d=\"M 794.374291642 734.663682025 L 825.873609824 653.434315256\" style=\"fill:none;stroke:rgb(40%,76.1%,64.7%);stroke-opacity:1.0;stroke-width:1.0\"></path><path d=\"M 618.742251973 541.284151549 L 480.764555218 499.315881334\" style=\"fill:none;stroke:rgb(40%,76.1%,64.7%);stroke-opacity:1.0;stroke-width:1.0\"></path><path d=\"M 664.315585196 664.080618329 L 480.764555218 499.315881334\" style=\"fill:none;stroke:rgb(40%,76.1%,64.7%);stroke-opacity:1.0;stroke-width:1.0\"></path><path d=\"M 178.172692987 374.614141293 L 233.857609165 309.657955609\" style=\"fill:none;stroke:rgb(40%,76.1%,64.7%);stroke-opacity:1.0;stroke-width:1.0\"></path><path d=\"M 343.145218307 211.31132055 L 308.705152374 317.859539003\" style=\"fill:none;stroke:rgb(40%,76.1%,64.7%);stroke-opacity:1.0;stroke-width:1.0\"></path><path d=\"M 179.562568375 596.663907099 L 123.876719793 700.313417759\" style=\"fill:none;stroke:rgb(40%,76.1%,64.7%);stroke-opacity:1.0;stroke-width:1.0\"></path><path d=\"M 329.782124545 511.236146354 L 343.145218307 211.31132055\" style=\"fill:none;stroke:rgb(40%,76.1%,64.7%);stroke-opacity:1.0;stroke-width:1.0\"></path><path d=\"M 809.643048319 825.833776874 L 713.899977729 773.9068548\" style=\"fill:none;stroke:rgb(40%,76.1%,64.7%);stroke-opacity:1.0;stroke-width:1.0\"></path><path d=\"M 713.899977729 773.9068548 L 480.764555218 499.315881334\" style=\"fill:none;stroke:rgb(40%,76.1%,64.7%);stroke-opacity:1.0;stroke-width:1.0\"></path><path d=\"M 618.742251973 541.284151549 L 606.392976418 450.138955178\" style=\"fill:none;stroke:rgb(40%,76.1%,64.7%);stroke-opacity:1.0;stroke-width:1.0\"></path><path d=\"M 809.643048319 825.833776874 L 480.764555218 499.315881334\" style=\"fill:none;stroke:rgb(40%,76.1%,64.7%);stroke-opacity:1.0;stroke-width:1.0\"></path><path d=\"M 329.782124545 511.236146354 L 308.705152374 317.859539003\" style=\"fill:none;stroke:rgb(40%,76.1%,64.7%);stroke-opacity:1.0;stroke-width:1.0\"></path><path d=\"M 329.782124545 511.236146354 L 606.392976418 450.138955178\" style=\"fill:none;stroke:rgb(40%,76.1%,64.7%);stroke-opacity:1.0;stroke-width:1.0\"></path><path d=\"M 329.782124545 511.236146354 L 147.771737881 292.920339912\" style=\"fill:none;stroke:rgb(40%,76.1%,64.7%);stroke-opacity:1.0;stroke-width:1.0\"></path><path d=\"M 308.705152374 317.859539003 L 178.172692987 374.614141293\" style=\"fill:none;stroke:rgb(40%,76.1%,64.7%);stroke-opacity:1.0;stroke-width:1.0\"></path><path d=\"M 329.782124545 511.236146354 L 282.529231407 813.440227709\" style=\"fill:none;stroke:rgb(40%,76.1%,64.7%);stroke-opacity:1.0;stroke-width:1.0\"></path><path d=\"M 664.315585196 664.080618329 L 825.873609824 653.434315256\" style=\"fill:none;stroke:rgb(40%,76.1%,64.7%);stroke-opacity:1.0;stroke-width:1.0\"></path><path d=\"M 809.643048319 825.833776874 L 717.219165095 848.295847919\" style=\"fill:none;stroke:rgb(40%,76.1%,64.7%);stroke-opacity:1.0;stroke-width:1.0\"></path><path d=\"M 794.374291642 734.663682025 L 713.899977729 773.9068548\" style=\"fill:none;stroke:rgb(40%,76.1%,64.7%);stroke-opacity:1.0;stroke-width:1.0\"></path><path d=\"M 329.782124545 511.236146354 L 76.8815605449 625.079214011\" style=\"fill:none;stroke:rgb(40%,76.1%,64.7%);stroke-opacity:1.0;stroke-width:1.0\"></path><path d=\"M 329.782124545 511.236146354 L 208.771472635 700.491151114\" style=\"fill:none;stroke:rgb(40%,76.1%,64.7%);stroke-opacity:1.0;stroke-width:1.0\"></path><path d=\"M 376.836777096 950.0 L 480.764555218 499.315881334\" style=\"fill:none;stroke:rgb(40%,76.1%,64.7%);stroke-opacity:1.0;stroke-width:1.0\"></path><path d=\"M 343.145218307 211.31132055 L 347.420948007 50.0\" style=\"fill:none;stroke:rgb(40%,76.1%,64.7%);stroke-opacity:1.0;stroke-width:1.0\"></path><path d=\"M 208.771472635 700.491151114 L 123.876719793 700.313417759\" style=\"fill:none;stroke:rgb(40%,76.1%,64.7%);stroke-opacity:1.0;stroke-width:1.0\"></path><path d=\"M 179.562568375 596.663907099 L 208.771472635 700.491151114\" style=\"fill:none;stroke:rgb(40%,76.1%,64.7%);stroke-opacity:1.0;stroke-width:1.0\"></path><path d=\"M 618.742251973 541.284151549 L 521.636226227 634.957793918\" style=\"fill:none;stroke:rgb(40%,76.1%,64.7%);stroke-opacity:1.0;stroke-width:1.0\"></path><path d=\"M 717.219165095 848.295847919 L 825.873609824 653.434315256\" style=\"fill:none;stroke:rgb(40%,76.1%,64.7%);stroke-opacity:1.0;stroke-width:1.0\"></path><path d=\"M 329.782124545 511.236146354 L 233.857609165 309.657955609\" style=\"fill:none;stroke:rgb(40%,76.1%,64.7%);stroke-opacity:1.0;stroke-width:1.0\"></path><path d=\"M 308.705152374 317.859539003 L 219.697777082 227.808277191\" style=\"fill:none;stroke:rgb(40%,76.1%,64.7%);stroke-opacity:1.0;stroke-width:1.0\"></path><path d=\"M 923.118439455 393.596068309 L 480.764555218 499.315881334\" style=\"fill:none;stroke:rgb(40%,76.1%,64.7%);stroke-opacity:1.0;stroke-width:1.0\"></path><path d=\"M 871.880439221 730.241721316 L 664.315585196 664.080618329\" style=\"fill:none;stroke:rgb(40%,76.1%,64.7%);stroke-opacity:1.0;stroke-width:1.0\"></path><path d=\"M 329.782124545 511.236146354 L 551.022438564 308.934099173\" style=\"fill:none;stroke:rgb(40%,76.1%,64.7%);stroke-opacity:1.0;stroke-width:1.0\"></path><path d=\"M 343.145218307 211.31132055 L 178.172692987 374.614141293\" style=\"fill:none;stroke:rgb(40%,76.1%,64.7%);stroke-opacity:1.0;stroke-width:1.0\"></path><path d=\"M 376.836777096 950.0 L 282.529231407 813.440227709\" style=\"fill:none;stroke:rgb(40%,76.1%,64.7%);stroke-opacity:1.0;stroke-width:1.0\"></path><path d=\"M 208.771472635 700.491151114 L 76.8815605449 625.079214011\" style=\"fill:none;stroke:rgb(40%,76.1%,64.7%);stroke-opacity:1.0;stroke-width:1.0\"></path><path d=\"M 606.392976418 450.138955178 L 480.764555218 499.315881334\" style=\"fill:none;stroke:rgb(40%,76.1%,64.7%);stroke-opacity:1.0;stroke-width:1.0\"></path><path d=\"M 606.392976418 450.138955178 L 551.022438564 308.934099173\" style=\"fill:none;stroke:rgb(40%,76.1%,64.7%);stroke-opacity:1.0;stroke-width:1.0\"></path><path d=\"M 219.697777082 227.808277191 L 178.172692987 374.614141293\" style=\"fill:none;stroke:rgb(40%,76.1%,64.7%);stroke-opacity:1.0;stroke-width:1.0\"></path><path d=\"M 97.33861865 542.741449723 L 480.764555218 499.315881334\" style=\"fill:none;stroke:rgb(40%,76.1%,64.7%);stroke-opacity:1.0;stroke-width:1.0\"></path><path d=\"M 343.145218307 211.31132055 L 147.771737881 292.920339912\" style=\"fill:none;stroke:rgb(40%,76.1%,64.7%);stroke-opacity:1.0;stroke-width:1.0\"></path><path d=\"M 76.8815605449 625.079214011 L 480.764555218 499.315881334\" style=\"fill:none;stroke:rgb(40%,76.1%,64.7%);stroke-opacity:1.0;stroke-width:1.0\"></path><path d=\"M 458.359519925 57.1047402318 L 480.764555218 499.315881334\" style=\"fill:none;stroke:rgb(40%,76.1%,64.7%);stroke-opacity:1.0;stroke-width:1.0\"></path><path d=\"M 809.643048319 825.833776874 L 664.315585196 664.080618329\" style=\"fill:none;stroke:rgb(40%,76.1%,64.7%);stroke-opacity:1.0;stroke-width:1.0\"></path><path d=\"M 308.705152374 317.859539003 L 147.771737881 292.920339912\" style=\"fill:none;stroke:rgb(40%,76.1%,64.7%);stroke-opacity:1.0;stroke-width:1.0\"></path><path d=\"M 480.764555218 499.315881334 L 850.997700275 243.871036975\" style=\"fill:none;stroke:rgb(40%,76.1%,64.7%);stroke-opacity:1.0;stroke-width:1.0\"></path><path d=\"M 347.420948007 50.0 L 480.764555218 499.315881334\" style=\"fill:none;stroke:rgb(40%,76.1%,64.7%);stroke-opacity:1.0;stroke-width:1.0\"></path><path d=\"M 123.876719793 700.313417759 L 480.764555218 499.315881334\" style=\"fill:none;stroke:rgb(40%,76.1%,64.7%);stroke-opacity:1.0;stroke-width:1.0\"></path><path d=\"M 329.782124545 511.236146354 L 521.636226227 634.957793918\" style=\"fill:none;stroke:rgb(40%,76.1%,64.7%);stroke-opacity:1.0;stroke-width:1.0\"></path><path d=\"M 219.697777082 227.808277191 L 233.857609165 309.657955609\" style=\"fill:none;stroke:rgb(40%,76.1%,64.7%);stroke-opacity:1.0;stroke-width:1.0\"></path><path d=\"M 871.880439221 730.241721316 L 713.899977729 773.9068548\" style=\"fill:none;stroke:rgb(40%,76.1%,64.7%);stroke-opacity:1.0;stroke-width:1.0\"></path><path d=\"M 147.771737881 292.920339912 L 178.172692987 374.614141293\" style=\"fill:none;stroke:rgb(40%,76.1%,64.7%);stroke-opacity:1.0;stroke-width:1.0\"></path></g><g class=\"toyplot-Vertices\"><g class=\"toyplot-Datum\" style=\"fill:rgb(40%,76.1%,64.7%);fill-opacity:1.0;opacity:1.0;stroke:rgb(40%,76.1%,64.7%);stroke-opacity:1.0\"><circle cx=\"376.83677709564699\" cy=\"950.0\" r=\"2.0\"></circle></g><g class=\"toyplot-Datum\" style=\"fill:rgb(40%,76.1%,64.7%);fill-opacity:1.0;opacity:1.0;stroke:rgb(40%,76.1%,64.7%);stroke-opacity:1.0\"><circle cx=\"179.56256837545504\" cy=\"596.66390709946688\" r=\"2.0\"></circle></g><g class=\"toyplot-Datum\" style=\"fill:rgb(40%,76.1%,64.7%);fill-opacity:1.0;opacity:1.0;stroke:rgb(40%,76.1%,64.7%);stroke-opacity:1.0\"><circle cx=\"618.74225197287433\" cy=\"541.28415154927563\" r=\"2.0\"></circle></g><g class=\"toyplot-Datum\" style=\"fill:rgb(40%,76.1%,64.7%);fill-opacity:1.0;opacity:1.0;stroke:rgb(40%,76.1%,64.7%);stroke-opacity:1.0\"><circle cx=\"809.64304831903587\" cy=\"825.83377687421682\" r=\"2.0\"></circle></g><g class=\"toyplot-Datum\" style=\"fill:rgb(40%,76.1%,64.7%);fill-opacity:1.0;opacity:1.0;stroke:rgb(40%,76.1%,64.7%);stroke-opacity:1.0\"><circle cx=\"871.88043922129532\" cy=\"730.24172131571345\" r=\"2.0\"></circle></g><g class=\"toyplot-Datum\" style=\"fill:rgb(40%,76.1%,64.7%);fill-opacity:1.0;opacity:1.0;stroke:rgb(40%,76.1%,64.7%);stroke-opacity:1.0\"><circle cx=\"329.78212454507928\" cy=\"511.2361463538677\" r=\"2.0\"></circle></g><g class=\"toyplot-Datum\" style=\"fill:rgb(40%,76.1%,64.7%);fill-opacity:1.0;opacity:1.0;stroke:rgb(40%,76.1%,64.7%);stroke-opacity:1.0\"><circle cx=\"923.11843945514192\" cy=\"393.59606830935314\" r=\"2.0\"></circle></g><g class=\"toyplot-Datum\" style=\"fill:rgb(40%,76.1%,64.7%);fill-opacity:1.0;opacity:1.0;stroke:rgb(40%,76.1%,64.7%);stroke-opacity:1.0\"><circle cx=\"343.14521830696361\" cy=\"211.31132054972028\" r=\"2.0\"></circle></g><g class=\"toyplot-Datum\" style=\"fill:rgb(40%,76.1%,64.7%);fill-opacity:1.0;opacity:1.0;stroke:rgb(40%,76.1%,64.7%);stroke-opacity:1.0\"><circle cx=\"282.52923140721566\" cy=\"813.44022770859374\" r=\"2.0\"></circle></g><g class=\"toyplot-Datum\" style=\"fill:rgb(40%,76.1%,64.7%);fill-opacity:1.0;opacity:1.0;stroke:rgb(40%,76.1%,64.7%);stroke-opacity:1.0\"><circle cx=\"308.70515237439429\" cy=\"317.85953900302235\" r=\"2.0\"></circle></g><g class=\"toyplot-Datum\" style=\"fill:rgb(40%,76.1%,64.7%);fill-opacity:1.0;opacity:1.0;stroke:rgb(40%,76.1%,64.7%);stroke-opacity:1.0\"><circle cx=\"566.3096169356171\" cy=\"105.86046078695273\" r=\"2.0\"></circle></g><g class=\"toyplot-Datum\" style=\"fill:rgb(40%,76.1%,64.7%);fill-opacity:1.0;opacity:1.0;stroke:rgb(40%,76.1%,64.7%);stroke-opacity:1.0\"><circle cx=\"147.77173788108834\" cy=\"292.9203399120002\" r=\"2.0\"></circle></g><g class=\"toyplot-Datum\" style=\"fill:rgb(40%,76.1%,64.7%);fill-opacity:1.0;opacity:1.0;stroke:rgb(40%,76.1%,64.7%);stroke-opacity:1.0\"><circle cx=\"458.35951992524514\" cy=\"57.104740231786643\" r=\"2.0\"></circle></g><g class=\"toyplot-Datum\" style=\"fill:rgb(40%,76.1%,64.7%);fill-opacity:1.0;opacity:1.0;stroke:rgb(40%,76.1%,64.7%);stroke-opacity:1.0\"><circle cx=\"775.07489259988768\" cy=\"152.96022750483382\" r=\"2.0\"></circle></g><g class=\"toyplot-Datum\" style=\"fill:rgb(40%,76.1%,64.7%);fill-opacity:1.0;opacity:1.0;stroke:rgb(40%,76.1%,64.7%);stroke-opacity:1.0\"><circle cx=\"97.338618650032856\" cy=\"542.74144972252748\" r=\"2.0\"></circle></g><g class=\"toyplot-Datum\" style=\"fill:rgb(40%,76.1%,64.7%);fill-opacity:1.0;opacity:1.0;stroke:rgb(40%,76.1%,64.7%);stroke-opacity:1.0\"><circle cx=\"219.69777708220744\" cy=\"227.80827719071505\" r=\"2.0\"></circle></g><g class=\"toyplot-Datum\" style=\"fill:rgb(40%,76.1%,64.7%);fill-opacity:1.0;opacity:1.0;stroke:rgb(40%,76.1%,64.7%);stroke-opacity:1.0\"><circle cx=\"664.31558519571763\" cy=\"664.08061832934823\" r=\"2.0\"></circle></g><g class=\"toyplot-Datum\" style=\"fill:rgb(40%,76.1%,64.7%);fill-opacity:1.0;opacity:1.0;stroke:rgb(40%,76.1%,64.7%);stroke-opacity:1.0\"><circle cx=\"208.77147263510233\" cy=\"700.49115111399431\" r=\"2.0\"></circle></g><g class=\"toyplot-Datum\" style=\"fill:rgb(40%,76.1%,64.7%);fill-opacity:1.0;opacity:1.0;stroke:rgb(40%,76.1%,64.7%);stroke-opacity:1.0\"><circle cx=\"347.42094800653274\" cy=\"50.0\" r=\"2.0\"></circle></g><g class=\"toyplot-Datum\" style=\"fill:rgb(40%,76.1%,64.7%);fill-opacity:1.0;opacity:1.0;stroke:rgb(40%,76.1%,64.7%);stroke-opacity:1.0\"><circle cx=\"794.37429164155606\" cy=\"734.6636820253791\" r=\"2.0\"></circle></g><g class=\"toyplot-Datum\" style=\"fill:rgb(40%,76.1%,64.7%);fill-opacity:1.0;opacity:1.0;stroke:rgb(40%,76.1%,64.7%);stroke-opacity:1.0\"><circle cx=\"123.87671979344535\" cy=\"700.31341775853332\" r=\"2.0\"></circle></g><g class=\"toyplot-Datum\" style=\"fill:rgb(40%,76.1%,64.7%);fill-opacity:1.0;opacity:1.0;stroke:rgb(40%,76.1%,64.7%);stroke-opacity:1.0\"><circle cx=\"717.21916509473624\" cy=\"848.29584791853995\" r=\"2.0\"></circle></g><g class=\"toyplot-Datum\" style=\"fill:rgb(40%,76.1%,64.7%);fill-opacity:1.0;opacity:1.0;stroke:rgb(40%,76.1%,64.7%);stroke-opacity:1.0\"><circle cx=\"76.881560544858047\" cy=\"625.07921401091312\" r=\"2.0\"></circle></g><g class=\"toyplot-Datum\" style=\"fill:rgb(40%,76.1%,64.7%);fill-opacity:1.0;opacity:1.0;stroke:rgb(40%,76.1%,64.7%);stroke-opacity:1.0\"><circle cx=\"521.63622622699586\" cy=\"634.95779391770327\" r=\"2.0\"></circle></g><g class=\"toyplot-Datum\" style=\"fill:rgb(40%,76.1%,64.7%);fill-opacity:1.0;opacity:1.0;stroke:rgb(40%,76.1%,64.7%);stroke-opacity:1.0\"><circle cx=\"178.17269298671783\" cy=\"374.61414129264926\" r=\"2.0\"></circle></g><g class=\"toyplot-Datum\" style=\"fill:rgb(40%,76.1%,64.7%);fill-opacity:1.0;opacity:1.0;stroke:rgb(40%,76.1%,64.7%);stroke-opacity:1.0\"><circle cx=\"233.8576091645549\" cy=\"309.65795560932793\" r=\"2.0\"></circle></g><g class=\"toyplot-Datum\" style=\"fill:rgb(40%,76.1%,64.7%);fill-opacity:1.0;opacity:1.0;stroke:rgb(40%,76.1%,64.7%);stroke-opacity:1.0\"><circle cx=\"713.89997772891206\" cy=\"773.90685479978697\" r=\"2.0\"></circle></g><g class=\"toyplot-Datum\" style=\"fill:rgb(40%,76.1%,64.7%);fill-opacity:1.0;opacity:1.0;stroke:rgb(40%,76.1%,64.7%);stroke-opacity:1.0\"><circle cx=\"606.39297641773942\" cy=\"450.13895517779065\" r=\"2.0\"></circle></g><g class=\"toyplot-Datum\" style=\"fill:rgb(40%,76.1%,64.7%);fill-opacity:1.0;opacity:1.0;stroke:rgb(40%,76.1%,64.7%);stroke-opacity:1.0\"><circle cx=\"480.76455521781645\" cy=\"499.31588133407064\" r=\"2.0\"></circle></g><g class=\"toyplot-Datum\" style=\"fill:rgb(40%,76.1%,64.7%);fill-opacity:1.0;opacity:1.0;stroke:rgb(40%,76.1%,64.7%);stroke-opacity:1.0\"><circle cx=\"850.99770027459329\" cy=\"243.87103697522508\" r=\"2.0\"></circle></g><g class=\"toyplot-Datum\" style=\"fill:rgb(40%,76.1%,64.7%);fill-opacity:1.0;opacity:1.0;stroke:rgb(40%,76.1%,64.7%);stroke-opacity:1.0\"><circle cx=\"551.02243856430653\" cy=\"308.9340991733776\" r=\"2.0\"></circle></g><g class=\"toyplot-Datum\" style=\"fill:rgb(40%,76.1%,64.7%);fill-opacity:1.0;opacity:1.0;stroke:rgb(40%,76.1%,64.7%);stroke-opacity:1.0\"><circle cx=\"825.87360982366511\" cy=\"653.43431525628216\" r=\"2.0\"></circle></g><g class=\"toyplot-Datum\" style=\"fill:rgb(40%,76.1%,64.7%);fill-opacity:1.0;opacity:1.0;stroke:rgb(40%,76.1%,64.7%);stroke-opacity:1.0\"><circle cx=\"395.10015311881108\" cy=\"779.50748307318838\" r=\"2.0\"></circle></g></g><g class=\"toyplot-Labels\"><text class=\"toyplot-Datum\" style=\"dominant-baseline:middle;font-size:12px;font-weight:normal;stroke:none;text-anchor:middle\" transform=\"translate(376.83677709564699,950.0)\"><tspan style=\"dominant-baseline:inherit\">Blattner, F.R.</tspan></text><text class=\"toyplot-Datum\" style=\"dominant-baseline:middle;font-size:12px;font-weight:normal;stroke:none;text-anchor:middle\" transform=\"translate(179.56256837545504,596.66390709946688)\"><tspan style=\"dominant-baseline:inherit\">Borner, A.</tspan></text><text class=\"toyplot-Datum\" style=\"dominant-baseline:middle;font-size:12px;font-weight:normal;stroke:none;text-anchor:middle\" transform=\"translate(618.74225197287433,541.28415154927563)\"><tspan style=\"dominant-baseline:inherit\">Bortenschlager, S.</tspan></text><text class=\"toyplot-Datum\" style=\"dominant-baseline:middle;font-size:12px;font-weight:normal;stroke:none;text-anchor:middle\" transform=\"translate(809.64304831903587,825.83377687421682)\"><tspan style=\"dominant-baseline:inherit\">Della Loggia, R.</tspan></text><text class=\"toyplot-Datum\" style=\"dominant-baseline:middle;font-size:12px;font-weight:normal;stroke:none;text-anchor:middle\" transform=\"translate(871.88043922129532,730.24172131571345)\"><tspan style=\"dominant-baseline:inherit\">Dirsch, V.M.</tspan></text><text class=\"toyplot-Datum\" style=\"dominant-baseline:middle;font-size:12px;font-weight:normal;stroke:none;text-anchor:middle\" transform=\"translate(329.78212454507928,511.2361463538677)\"><tspan style=\"dominant-baseline:inherit\">Ellmerer, E.P.</tspan></text><text class=\"toyplot-Datum\" style=\"dominant-baseline:middle;font-size:12px;font-weight:normal;stroke:none;text-anchor:middle\" transform=\"translate(923.11843945514192,393.59606830935314)\"><tspan style=\"dominant-baseline:inherit\">Ellmerer-Muller, E.P.</tspan></text><text class=\"toyplot-Datum\" style=\"dominant-baseline:middle;font-size:12px;font-weight:normal;stroke:none;text-anchor:middle\" transform=\"translate(343.14521830696361,211.31132054972028)\"><tspan style=\"dominant-baseline:inherit\">Ganzera, M.</tspan></text><text class=\"toyplot-Datum\" style=\"dominant-baseline:middle;font-size:12px;font-weight:normal;stroke:none;text-anchor:middle\" transform=\"translate(282.52923140721566,813.44022770859374)\"><tspan style=\"dominant-baseline:inherit\">Grass, S.</tspan></text><text class=\"toyplot-Datum\" style=\"dominant-baseline:middle;font-size:12px;font-weight:normal;stroke:none;text-anchor:middle\" transform=\"translate(308.70515237439429,317.85953900302235)\"><tspan style=\"dominant-baseline:inherit\">Greil, R.</tspan></text><text class=\"toyplot-Datum\" style=\"dominant-baseline:middle;font-size:12px;font-weight:normal;stroke:none;text-anchor:middle\" transform=\"translate(566.3096169356171,105.86046078695273)\"><tspan style=\"dominant-baseline:inherit\">Guggenberger, M.</tspan></text><text class=\"toyplot-Datum\" style=\"dominant-baseline:middle;font-size:12px;font-weight:normal;stroke:none;text-anchor:middle\" transform=\"translate(147.77173788108834,292.9203399120002)\"><tspan style=\"dominant-baseline:inherit\">Johrer, K.</tspan></text><text class=\"toyplot-Datum\" style=\"dominant-baseline:middle;font-size:12px;font-weight:normal;stroke:none;text-anchor:middle\" transform=\"translate(458.35951992524514,57.104740231786643)\"><tspan style=\"dominant-baseline:inherit\">Khan, I.A.</tspan></text><text class=\"toyplot-Datum\" style=\"dominant-baseline:middle;font-size:12px;font-weight:normal;stroke:none;text-anchor:middle\" transform=\"translate(775.07489259988768,152.96022750483382)\"><tspan style=\"dominant-baseline:inherit\">Konwalinka, G.</tspan></text><text class=\"toyplot-Datum\" style=\"dominant-baseline:middle;font-size:12px;font-weight:normal;stroke:none;text-anchor:middle\" transform=\"translate(97.338618650032856,542.74144972252748)\"><tspan style=\"dominant-baseline:inherit\">Lohwasser, U.</tspan></text><text class=\"toyplot-Datum\" style=\"dominant-baseline:middle;font-size:12px;font-weight:normal;stroke:none;text-anchor:middle\" transform=\"translate(219.69777708220744,227.80827719071505)\"><tspan style=\"dominant-baseline:inherit\">Mader, J.</tspan></text><text class=\"toyplot-Datum\" style=\"dominant-baseline:middle;font-size:12px;font-weight:normal;stroke:none;text-anchor:middle\" transform=\"translate(664.31558519571763,664.08061832934823)\"><tspan style=\"dominant-baseline:inherit\">Merfort, I.</tspan></text><text class=\"toyplot-Datum\" style=\"dominant-baseline:middle;font-size:12px;font-weight:normal;stroke:none;text-anchor:middle\" transform=\"translate(208.77147263510233,700.49115111399431)\"><tspan style=\"dominant-baseline:inherit\">Ongania, K.H.</tspan></text><text class=\"toyplot-Datum\" style=\"dominant-baseline:middle;font-size:12px;font-weight:normal;stroke:none;text-anchor:middle\" transform=\"translate(347.42094800653274,50.0)\"><tspan style=\"dominant-baseline:inherit\">Orsi, H.</tspan></text><text class=\"toyplot-Datum\" style=\"dominant-baseline:middle;font-size:12px;font-weight:normal;stroke:none;text-anchor:middle\" transform=\"translate(794.37429164155606,734.6636820253791)\"><tspan style=\"dominant-baseline:inherit\">Pahl, H.L.</tspan></text><text class=\"toyplot-Datum\" style=\"dominant-baseline:middle;font-size:12px;font-weight:normal;stroke:none;text-anchor:middle\" transform=\"translate(123.87671979344535,700.31341775853332)\"><tspan style=\"dominant-baseline:inherit\">Pschorr, S.</tspan></text><text class=\"toyplot-Datum\" style=\"dominant-baseline:middle;font-size:12px;font-weight:normal;stroke:none;text-anchor:middle\" transform=\"translate(717.21916509473624,848.29584791853995)\"><tspan style=\"dominant-baseline:inherit\">Rungeler, P.</tspan></text><text class=\"toyplot-Datum\" style=\"dominant-baseline:middle;font-size:12px;font-weight:normal;stroke:none;text-anchor:middle\" transform=\"translate(76.881560544858047,625.07921401091312)\"><tspan style=\"dominant-baseline:inherit\">Salvenmoser, D.</tspan></text><text class=\"toyplot-Datum\" style=\"dominant-baseline:middle;font-size:12px;font-weight:normal;stroke:none;text-anchor:middle\" transform=\"translate(521.63622622699586,634.95779391770327)\"><tspan style=\"dominant-baseline:inherit\">Schlorhaufer, P.D.</tspan></text><text class=\"toyplot-Datum\" style=\"dominant-baseline:middle;font-size:12px;font-weight:normal;stroke:none;text-anchor:middle\" transform=\"translate(178.17269298671783,374.61414129264926)\"><tspan style=\"dominant-baseline:inherit\">Schubert, B.</tspan></text><text class=\"toyplot-Datum\" style=\"dominant-baseline:middle;font-size:12px;font-weight:normal;stroke:none;text-anchor:middle\" transform=\"translate(233.8576091645549,309.65795560932793)\"><tspan style=\"dominant-baseline:inherit\">Sigmund, E.M.</tspan></text><text class=\"toyplot-Datum\" style=\"dominant-baseline:middle;font-size:12px;font-weight:normal;stroke:none;text-anchor:middle\" transform=\"translate(713.89997772891206,773.90685479978697)\"><tspan style=\"dominant-baseline:inherit\">Sosa, S.</tspan></text><text class=\"toyplot-Datum\" style=\"dominant-baseline:middle;font-size:12px;font-weight:normal;stroke:none;text-anchor:middle\" transform=\"translate(606.39297641773942,450.13895517779065)\"><tspan style=\"dominant-baseline:inherit\">Spitaler, R.</tspan></text><text class=\"toyplot-Datum\" style=\"dominant-baseline:middle;font-size:12px;font-weight:normal;stroke:none;text-anchor:middle\" transform=\"translate(480.76455521781645,499.31588133407064)\"><tspan style=\"dominant-baseline:inherit\">Stuppner, H.</tspan></text><text class=\"toyplot-Datum\" style=\"dominant-baseline:middle;font-size:12px;font-weight:normal;stroke:none;text-anchor:middle\" transform=\"translate(850.99770027459329,243.87103697522508)\"><tspan style=\"dominant-baseline:inherit\">Tiefenthaler, M.</tspan></text><text class=\"toyplot-Datum\" style=\"dominant-baseline:middle;font-size:12px;font-weight:normal;stroke:none;text-anchor:middle\" transform=\"translate(551.02243856430653,308.9340991733776)\"><tspan style=\"dominant-baseline:inherit\">Udovicic, V.</tspan></text><text class=\"toyplot-Datum\" style=\"dominant-baseline:middle;font-size:12px;font-weight:normal;stroke:none;text-anchor:middle\" transform=\"translate(825.87360982366511,653.43431525628216)\"><tspan style=\"dominant-baseline:inherit\">Vollmar, A.M.</tspan></text><text class=\"toyplot-Datum\" style=\"dominant-baseline:middle;font-size:12px;font-weight:normal;stroke:none;text-anchor:middle\" transform=\"translate(395.10015311881108,779.50748307318838)\"><tspan style=\"dominant-baseline:inherit\">Ziller, A.</tspan></text></g></g></g></g></svg><div class=\"toyplot-interactive\"></div></div>"
      ]
     },
     "metadata": {},
     "output_type": "display_data"
    }
   ],
   "source": [
    "toyplot.graph(edges_array, width=1000);"
   ]
  },
  {
   "cell_type": "markdown",
   "metadata": {},
   "source": [
    "## Most frequent coauthors"
   ]
  },
  {
   "cell_type": "markdown",
   "metadata": {},
   "source": [
    "We have used the algorithm FP-Growth to obtain the most frequent coauthor networks oof two or more authors. Later on, we will use this results to toughen the relation between these author on the particular author's coauthorship networks graph. By this way, when we will see a strong line between two authors on a coauthorship network we will rely on this relation and it will be another factor to determine that the author is only one person for this coauthorship network."
   ]
  },
  {
   "cell_type": "code",
   "execution_count": null,
   "metadata": {
    "collapsed": true
   },
   "outputs": [],
   "source": [
    "coauthors = authors.map(lambda a: list(set(a)))"
   ]
  },
  {
   "cell_type": "code",
   "execution_count": null,
   "metadata": {
    "collapsed": true
   },
   "outputs": [],
   "source": [
    "from pyspark.mllib.fpm import FPGrowth\n",
    "\n",
    "model = FPGrowth.train(coauthors, minSupport=0.00001, numPartitions=4)\n",
    "rddfreqitemsets = model.freqItemsets()"
   ]
  },
  {
   "cell_type": "markdown",
   "metadata": {},
   "source": [
    "We have to take into account that this algorithm considers single strings as a subset of items, so we must expect that the most common subsets to be single item subsets."
   ]
  },
  {
   "cell_type": "code",
   "execution_count": null,
   "metadata": {
    "collapsed": false
   },
   "outputs": [],
   "source": [
    "rddfreqitemsets.take(50)"
   ]
  },
  {
   "cell_type": "markdown",
   "metadata": {},
   "source": [
    "For this reason we have had to decrease to a very small value the 'minSupport' parameter of the algorithm. This value indicates the minimum frequency of a subset to be considered as a result. Otherwise, we had only obtained single item subsets in the results."
   ]
  },
  {
   "cell_type": "code",
   "execution_count": null,
   "metadata": {
    "collapsed": true
   },
   "outputs": [],
   "source": [
    "result = rddfreqitemsets.filter(lambda x  : len(x.items) >= 2).collect()"
   ]
  },
  {
   "cell_type": "markdown",
   "metadata": {},
   "source": [
    "Unfortunately, once we could obtain a result with non single item subsets, we viewed that most of the authors obtained from this algorithm are Universities and other strange or generic names that does not correspond to an author name. So from the results we will only be able to extract a few useful subsets for the disambiguating process."
   ]
  },
  {
   "cell_type": "code",
   "execution_count": null,
   "metadata": {
    "collapsed": false
   },
   "outputs": [],
   "source": [
    "result"
   ]
  },
  {
   "cell_type": "code",
   "execution_count": null,
   "metadata": {
    "collapsed": false
   },
   "outputs": [],
   "source": []
  },
  {
   "cell_type": "code",
   "execution_count": null,
   "metadata": {
    "collapsed": true
   },
   "outputs": [],
   "source": []
  }
 ],
 "metadata": {
  "kernelspec": {
   "display_name": "Python 2",
   "language": "python",
   "name": "python2"
  },
  "language_info": {
   "codemirror_mode": {
    "name": "ipython",
    "version": 2
   },
   "file_extension": ".py",
   "mimetype": "text/x-python",
   "name": "python",
   "nbconvert_exporter": "python",
   "pygments_lexer": "ipython2",
   "version": "2.7.12"
  }
 },
 "nbformat": 4,
 "nbformat_minor": 0
}
