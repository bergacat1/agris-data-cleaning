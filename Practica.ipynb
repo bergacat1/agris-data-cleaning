{
 "cells": [
  {
   "cell_type": "code",
   "execution_count": 4,
   "metadata": {
    "collapsed": false
   },
   "outputs": [],
   "source": [
    "import pandas as pd\n",
    "import numpy as np\n",
    "from IPython.display import display\n",
    "\n",
    "q1 = pd.read_csv(\"data/2000s.csv\", sep=\",\")\n",
    "\n",
    "q1.rename(columns={'conferenceTitle':'conferenceData', 'journalTitle':'journalData'}, inplace=True)"
   ]
  },
  {
   "cell_type": "markdown",
   "metadata": {},
   "source": [
    "## Extract year from issued date:"
   ]
  },
  {
   "cell_type": "code",
   "execution_count": 2,
   "metadata": {
    "collapsed": false
   },
   "outputs": [],
   "source": [
    "issuedYear = q1.issued.str.extract(\"(\\d{4}|[0,3-9]\\d)\", expand=False)\n",
    "issuedYear = pd.to_numeric(issuedYear, errors='coerce')"
   ]
  },
  {
   "cell_type": "code",
   "execution_count": 3,
   "metadata": {
    "collapsed": false
   },
   "outputs": [],
   "source": [
    "def completeYears(year):\n",
    "    century = 1900 if year > 40 else 2000\n",
    "    return century + year\n",
    "issuedYear[issuedYear < 99] = issuedYear[issuedYear < 99].apply(completeYears)"
   ]
  },
  {
   "cell_type": "code",
   "execution_count": 4,
   "metadata": {
    "collapsed": false
   },
   "outputs": [],
   "source": [
    "q1['issuedYear'] = issuedYear"
   ]
  },
  {
   "cell_type": "code",
   "execution_count": 5,
   "metadata": {
    "collapsed": false
   },
   "outputs": [],
   "source": [
    "issuedMonthText = q1.issued.str.extract(\"(ene|jan|feb|mar|apr|abr|mai|may|jun|jul|aug|ago|sept|sep|oct|nov|dic|dec)\", expand=False)\n",
    "issuedMonthNumeric = q1.issued.str.extract(\"\\D(\\d|1[1-2])\\D?$\", expand=False)\n",
    "issuedMonth = issuedMonthText.fillna(issuedMonthNumeric)"
   ]
  },
  {
   "cell_type": "code",
   "execution_count": 6,
   "metadata": {
    "collapsed": false
   },
   "outputs": [],
   "source": [
    "issuedMonth = issuedMonth.replace('ene|jan', '1', regex=True)\n",
    "issuedMonth = issuedMonth.replace('feb', '2')\n",
    "issuedMonth = issuedMonth.replace('mar', '3')\n",
    "issuedMonth = issuedMonth.replace('apr|abr', '4', regex=True)\n",
    "issuedMonth = issuedMonth.replace('mai|may', '5', regex=True)\n",
    "issuedMonth = issuedMonth.replace('jun', '6')\n",
    "issuedMonth = issuedMonth.replace('jul', '7')\n",
    "issuedMonth = issuedMonth.replace('ago|aug', '8', regex=True)\n",
    "issuedMonth = issuedMonth.replace('sept|sep', '9', regex=True)\n",
    "issuedMonth = issuedMonth.replace('oct', '10')\n",
    "issuedMonth = issuedMonth.replace('nov', '11')\n",
    "issuedMonth = issuedMonth.replace('dic|dec', '12', regex=True)\n",
    "issuedMonth = issuedMonth.fillna('6')"
   ]
  },
  {
   "cell_type": "code",
   "execution_count": 7,
   "metadata": {
    "collapsed": true
   },
   "outputs": [],
   "source": [
    "q1['issuedMonth'] = issuedMonth"
   ]
  },
  {
   "cell_type": "code",
   "execution_count": 20,
   "metadata": {
    "collapsed": false
   },
   "outputs": [
    {
     "data": {
      "text/plain": [
       "array(['6', '1', '7', '4', '5', '3', '8', '9', '10', '2', '12', '11'], dtype=object)"
      ]
     },
     "execution_count": 20,
     "metadata": {},
     "output_type": "execute_result"
    }
   ],
   "source": [
    "issuedMonth.unique()"
   ]
  },
  {
   "cell_type": "markdown",
   "metadata": {},
   "source": [
    "## Removing misstyped journal names"
   ]
  },
  {
   "cell_type": "code",
   "execution_count": 2,
   "metadata": {
    "collapsed": true
   },
   "outputs": [],
   "source": [
    "from difflib import SequenceMatcher\n",
    "\n",
    "def similar(a, b):\n",
    "    return SequenceMatcher(None, a, b).ratio()"
   ]
  },
  {
   "cell_type": "code",
   "execution_count": 34,
   "metadata": {
    "collapsed": false
   },
   "outputs": [],
   "source": [
    "q1.journalData = q1.journalIssn.map(q1.groupby('journalIssn').journalData.agg(lambda x:x.value_counts().index[0]).to_dict())"
   ]
  },
  {
   "cell_type": "code",
   "execution_count": 36,
   "metadata": {
    "collapsed": false
   },
   "outputs": [],
   "source": [
    "q1.journalIssn = q1.journalData.map(q1.groupby('journalData').journalIssn.agg(lambda x:x.value_counts().index[0]).to_dict())"
   ]
  },
  {
   "cell_type": "code",
   "execution_count": 35,
   "metadata": {
    "collapsed": false
   },
   "outputs": [
    {
     "data": {
      "text/plain": [
       "journalIssn  journalData                                                                                                                    \n",
       "0002-1407    Journal of the Agricultural Chemical Society of Japan (Japan)                                                                       42\n",
       "0003-6862    Applied Entomology and Zoology (Japan)                                                                                              48\n",
       "0011-1848    Japanese Journal of Crop Science (Japan)                                                                                            75\n",
       "0013-7626    Journal of the Japanese Society for Horticultural Science (Japan)                                                                   73\n",
       "0015-6426    Journal of the Food Hygienic Society of Japan (Japan)                                                                               44\n",
       "0016-531X    Gayana (Chile)                                                                                                                       9\n",
       "0021-3551    JARQ (Japan)                                                                                                                        17\n",
       "0021-4795    Journal of the Japan Wood Research Society (Japan)                                                                                  38\n",
       "0021-4914    Japanese Journal of Applied Entomology and Zoology (Japan)                                                                          36\n",
       "0021-5007    Japanese Journal of Ecology (Japan)                                                                                                 11\n",
       "0021-5090    Japanese Journal of Ichthyology (Japan)                                                                                             18\n",
       "0021-5104    Japanese Journal of Limnology (Japan)                                                                                               17\n",
       "0021-5260    Japanese Journal of Tropical Agriculture (Japan)                                                                                    61\n",
       "0021-5392    Bulletin of the Japanese Society of Scientific Fisheries (Japan)                                                                   100\n",
       "0021-8588    Journal of Agricultural Meteorology (Japan)                                                                                         15\n",
       "0026-8917    Wood Industry (Japan)                                                                                                               52\n",
       "0029-0254    Journal of Poultry Science (Japan)                                                                                                  12\n",
       "0029-0289    Nippon Kingakukai Kaiho (Japan)                                                                                                      6\n",
       "0029-0610    Japanese Journal of Soil Science and Plant Nutrition (Japan)                                                                        64\n",
       "0031-4064    Pedologist (Japan)                                                                                                                   7\n",
       "0031-9473    Japanese Journal of Phytopathology (Japan)                                                                                          12\n",
       "0032-0781    Plant and Cell Physiology (Japan)                                                                                                  183\n",
       "0036-7281    Archives Suisses de Medecine VeterinaireArchivio Svizzero di Medicina VeterinariaSwiss Archive for Veterinary Medicine              37\n",
       "0037-2455    Journal of Sericultural Science of Japan (Japan)                                                                                     7\n",
       "0038-0768    Soil Science and Plant Nutrition (Japan)                                                                                            41\n",
       "0039-4858    Water Science (Japan)                                                                                                               23\n",
       "0040-9014    Journal of the Tokyo University of Fisheries (Japan)                                                                                 8\n",
       "0042-3580    Japanese Journal of Malacology (Japan)                                                                                               7\n",
       "0049-7916    Wood Research (Japan)                                                                                                                4\n",
       "0051-1053    Unasylva (FAO)                                                                                                                       1\n",
       "                                                                                                                                               ... \n",
       "1347-6238    Kinki Chugoku Shikoku Agricultural Research (Japan)                                                                                 37\n",
       "1347-7730    Bulletin of the Hyogo Prefectural Technology Center for Agriculture, Forestry and Fisheries. Anima Husbandry Section (Japan)         6\n",
       "1347-7749    Bulletin of the Hyogo Prefectural Technology Center for Agriculture, Forestry and Fisheries. Forestry Section (Japan)                8\n",
       "1347-8117    Research Bulletin of the National Agricultural Research Center for Hokkaido Region (Japan)                                           4\n",
       "1348-0510    Bulletin of the Forestry Research Division, Mie Prefectural Science and Technology Promotion Center (Japan)                          5\n",
       "1348-2955    Venus (Japan)                                                                                                                       13\n",
       "1348-3633    Bulletin of Tokushima Prefectural Agriculture, Forestry and Fisheries Technology Center Agricultural Research Institute (Japan)      5\n",
       "1348-589X    Journal of Pesticide Science (Japan)                                                                                                33\n",
       "1348-639X    Bulletin of Minamikyushu University. Natural Science (Japan)                                                                         7\n",
       "1348-7175    Coastal Bioenvironment - Saga University (Japan)                                                                                     9\n",
       "1348-7620    Journal of the School of Marine Science and Technology - Tokai University (Japan)                                                    2\n",
       "1348-9054    Bulletin of Gunma Agricultural Technology Center (Japan)                                                                            22\n",
       "1349-0400    Report of Aomori Prefectural Local Food Research Center (Japan)                                                                      4\n",
       "1349-0702    Proceedings of Vegetable and Tea Science (Japan)                                                                                    22\n",
       "1349-8509    Journal of the Japanese Forest Society (Japan)                                                                                      28\n",
       "1389-1723    Journal of Bioscience and Bioengineering (Japan)                                                                                    56\n",
       "1435-0211    Journal of Wood Science (Japan)                                                                                                     34\n",
       "1444-6162    Weed Biology and Management (Japan)                                                                                                 34\n",
       "1563-2504    ICAR Technical Series (Italy)                                                                                                        1\n",
       "1598-6365    Korean Journal of Plant Biotechnology                                                                                              236\n",
       "1598-6369    Korean Journal of Plant Biotechnology                                                                                               16\n",
       "1598-642X    Korean Journal of Microbiology Biotechnology                                                                                         3\n",
       "1598-9429    Journal of Animal Science and Technology                                                                                           127\n",
       "1598-9925    Korean Journal of Food Marketing Economics                                                                                          92\n",
       "1880-0912    Journal fo the Tokyo University of Marine Science and Technology (Japan)                                                             1\n",
       "1880-2028    Journal of Society of High Technology in Agriculture (Japan)                                                                        16\n",
       "1880-2133    Animal Behaviour and Management (Japan)                                                                                              7\n",
       "1880-7437    Report of Gifu Prefectural Research Institute for Freshwater Fish and Aquatic Environments (Japan)                                   2\n",
       "1880-8824    HortResearch - Chiba University (Japan)                                                                                             13\n",
       "1881-0551    Sanshi-Konchu Biotec (Japan)                                                                                                         3\n",
       "Name: journalData, dtype: int64"
      ]
     },
     "execution_count": 35,
     "metadata": {},
     "output_type": "execute_result"
    }
   ],
   "source": [
    "q1.groupby('journalIssn').journalData.value_counts()"
   ]
  },
  {
   "cell_type": "code",
   "execution_count": 37,
   "metadata": {
    "collapsed": false
   },
   "outputs": [
    {
     "data": {
      "text/plain": [
       "journalData                                                                                                                                                                                  journalIssn\n",
       "\"Bulletin of Tokushima Prefectural Agriculture, Forestry and Fisheries Technology Center Fisheries Research Institute (Japan).\"                                                              1347-2763        5\n",
       "\"Bulletin of the Agricultural Experiment Station, Okayama Prefectural General Agriculture Center (Japan).\"                                                                                   1346-6658       12\n",
       "\"Bulletin of the Horticultural Institute, Ibaraki Agricultural Center (Japan).\"                                                                                                              0919-4975        4\n",
       "\"Memoirs of the Graduate School of Fisheries Sciences, Hokkaido University (Japan).\"                                                                                                         1346-3306        1\n",
       "Acta Entomologica Chilena (Chile)                                                                                                                                                            0716-5072        6\n",
       "Advances in Animal Cardiology (Japan)                                                                                                                                                        0910-6537        8\n",
       "Agrarforschung (Switzerland)                                                                                                                                                                 1022-663X       22\n",
       "Agricultura Tecnica (Chile)                                                                                                                                                                  0365-2807       55\n",
       "Agricultural Economic Papers of Kobe University (Japan)                                                                                                                                      0286-0473        5\n",
       "Agricultural Information Research (Japan)                                                                                                                                                    0916-9482       25\n",
       "Agricultural Science                                                                                                                                                                         1026-3764       12\n",
       "Agro-Ciencia (Chile)                                                                                                                                                                         0716-1689       10\n",
       "Akademik Food Journal (Turkey)                                                                                                                                                               1304-7582        2\n",
       "Animal Behaviour and Management (Japan)                                                                                                                                                      1880-2133        7\n",
       "Animal Genetic Resources Information (FAO/UNEP)Bulletin d'Information sur les Ressources Genetiques Animales (FAO/PNUE)Boletin de Informacion sobre Recursos Geneticos Animales (FAO/PNUMA)  1014-2339        1\n",
       "Animal Science Journal (Japan)                                                                                                                                                               1346-907X       65\n",
       "Applied Entomology and Zoology (Japan)                                                                                                                                                       0003-6862       48\n",
       "Archives Suisses de Medecine VeterinaireArchivio Svizzero di Medicina VeterinariaSwiss Archive for Veterinary Medicine                                                                       0036-7281       37\n",
       "Avances en Ciencias Veterinarias (Chile)                                                                                                                                                     0716-260X        8\n",
       "Bioscience, Biotechnology, and Biochemistry (Japan)                                                                                                                                          0916-8451      163\n",
       "Boletin Chileno de Parasitologia (Chile)                                                                                                                                                     0365-9402        1\n",
       "Boletin Micologico (Chile)                                                                                                                                                                   0716-114X        7\n",
       "Breeding Research (Japan)                                                                                                                                                                    1344-7629       22\n",
       "Breeding Science (Japan)                                                                                                                                                                     1344-7610       43\n",
       "Bulletin of Agricultural Research in Yamagata Prefecture (Japan)                                                                                                                             1347-3719       13\n",
       "Bulletin of Animal Hygiene (Japan)                                                                                                                                                           0287-6752        5\n",
       "Bulletin of Ehime Prefectural Fisheries Experimental Station (Japan)                                                                                                                         0388-2098        1\n",
       "Bulletin of Experimental Farm Kyoto University (Japan)                                                                                                                                       0915-0838        6\n",
       "Bulletin of Fisheries Research Agency (Japan)                                                                                                                                                1346-9894       54\n",
       "Bulletin of Fisheries Research Division Mie Prefectural Science and Technology Promotion Center (Japan)                                                                                      1346-9320        3\n",
       "                                                                                                                                                                                                           ... \n",
       "Scientific Reports of Hokkaido Fisheries Experimental Station (Japan)                                                                                                                        0914-6830       26\n",
       "Scientific Reports of the Hokkaido Fish Hatchery (Japan)                                                                                                                                     0286-6536       11\n",
       "Soil Microorganisms (Japan)                                                                                                                                                                  0912-2184       13\n",
       "Soil Science and Plant Nutrition (Japan)                                                                                                                                                     0038-0768       41\n",
       "Special Bulletin of the Chiba Prefectural Agriculture Research Center (Japan)                                                                                                                1347-2593        2\n",
       "Special Bulletin of the Fukuoka Agricultural Research Center (Japan)                                                                                                                         0913-509X        1\n",
       "Suisanzoshoku (Japan)                                                                                                                                                                        0371-4217       38\n",
       "Technical Bulletin Shizuoka Agricultural Experiment Station (Japan)                                                                                                                          1340-6817        2\n",
       "Technical Bulletin of Faculty of Horticulture - Chiba University (Japan)                                                                                                                     0069-3227       26\n",
       "Technical Report of Institute of Agricultural Machinery (Japan)                                                                                                                              1341-0148        1\n",
       "Technical Report of the National  Institute for Rural Engineering (Japan)                                                                                                                    0915-3314       24\n",
       "The Journal of Agricultural Faculty of Ege University (Turkey)                                                                                                                               1018-8851       14\n",
       "The Korean Journal of Laboratory Animal Science                                                                                                                                              1225-815X        1\n",
       "Tigerpaper (FAO)                                                                                                                                                                             1014-2789        2\n",
       "Tohoku Agricultural Research (Japan)                                                                                                                                                         0388-6727       12\n",
       "Tohoku Agricultural Research. Extra Issue (Japan)                                                                                                                                            0916-2585       16\n",
       "Transactions of the Japanese Society of Irrigation, Drainage and Reclamation Engineering (Japan)                                                                                             0387-2335      101\n",
       "Turkish Journal of Veterinary and Animal Sciences (Turkey)                                                                                                                                   1300-0128       15\n",
       "Uludag University Journal of the Faculty of Veterinary Medicine (Turkey)                                                                                                                     1301-3173        6\n",
       "Unasylva (FAO)                                                                                                                                                                               0251-1584        4\n",
       "Venus (Japan)                                                                                                                                                                                1348-2955       13\n",
       "Vestsi Akadehmii agrarnykh navuk Rehspubliki Belarus' (Belarus)                                                                                                                              0321-1657        2\n",
       "Water Science (Japan)                                                                                                                                                                        0039-4858       23\n",
       "Weed Biology and Management (Japan)                                                                                                                                                          1444-6162       34\n",
       "Wood Industry (Japan)                                                                                                                                                                        0026-8917       52\n",
       "Wood Preservation (Japan)                                                                                                                                                                    0287-9255       11\n",
       "Wood Research (Japan)                                                                                                                                                                        0049-7916        4\n",
       "Yamagata Ken Suisan Kenkyu Houkoku (Japan)                                                                                                                                                   1345-7489        5\n",
       "Yamaguchi Journal of Veterinary Medicine (Japan)                                                                                                                                             0388-9335        5\n",
       "Zashchita Rastenij (Belarus)                                                                                                                                                                 0135-3705       32\n",
       "Name: journalIssn, dtype: int64"
      ]
     },
     "execution_count": 37,
     "metadata": {},
     "output_type": "execute_result"
    }
   ],
   "source": [
    "q1.groupby('journalData').journalIssn.value_counts()"
   ]
  },
  {
   "cell_type": "markdown",
   "metadata": {},
   "source": [
    "## Merging with authors"
   ]
  },
  {
   "cell_type": "code",
   "execution_count": 2,
   "metadata": {
    "collapsed": false
   },
   "outputs": [],
   "source": [
    "authors = pd.read_csv(\"data/2000s_authors.csv\", sep=\",\")"
   ]
  },
  {
   "cell_type": "code",
   "execution_count": 3,
   "metadata": {
    "collapsed": false
   },
   "outputs": [],
   "source": [
    "authors.authorNames = authors.authorNames.str.split('|')"
   ]
  },
  {
   "cell_type": "code",
   "execution_count": 10,
   "metadata": {
    "collapsed": false
   },
   "outputs": [],
   "source": [
    "q1 = pd.merge(q1, authors, on='articleId', how='left')"
   ]
  },
  {
   "cell_type": "markdown",
   "metadata": {},
   "source": [
    "## Merging with subjects"
   ]
  },
  {
   "cell_type": "code",
   "execution_count": 11,
   "metadata": {
    "collapsed": false
   },
   "outputs": [],
   "source": [
    "subjects = pd.read_csv(\"data/2000s_subjects.csv\", sep=\",\")"
   ]
  },
  {
   "cell_type": "code",
   "execution_count": 12,
   "metadata": {
    "collapsed": false
   },
   "outputs": [],
   "source": [
    "import re\n",
    "        \n",
    "subjects.subjects = subjects.subjects.apply(lambda s: re.findall(\"(c_\\d+)\", s))"
   ]
  },
  {
   "cell_type": "code",
   "execution_count": 13,
   "metadata": {
    "collapsed": true
   },
   "outputs": [],
   "source": [
    "q1 = pd.merge(q1, subjects, on='articleId', how='left')"
   ]
  },
  {
   "cell_type": "code",
   "execution_count": 4,
   "metadata": {
    "collapsed": false
   },
   "outputs": [],
   "source": [
    "authors.to_csv('data/2000s_authors_clean.csv')"
   ]
  },
  {
   "cell_type": "code",
   "execution_count": null,
   "metadata": {
    "collapsed": true
   },
   "outputs": [],
   "source": []
  }
 ],
 "metadata": {
  "kernelspec": {
   "display_name": "Python 2",
   "language": "python",
   "name": "python2"
  },
  "language_info": {
   "codemirror_mode": {
    "name": "ipython",
    "version": 2
   },
   "file_extension": ".py",
   "mimetype": "text/x-python",
   "name": "python",
   "nbconvert_exporter": "python",
   "pygments_lexer": "ipython2",
   "version": "2.7.12"
  }
 },
 "nbformat": 4,
 "nbformat_minor": 0
}
