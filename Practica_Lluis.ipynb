{
 "cells": [
  {
   "cell_type": "code",
   "execution_count": 1,
   "metadata": {
    "collapsed": false
   },
   "outputs": [],
   "source": [
    "import pyspark\n",
    "import os\n",
    "import math\n",
    "import random\n",
    "import sys\n",
    "import pandas as pd\n",
    "import numpy as np\n",
    "from IPython.display import display\n",
    "import re\n",
    "\n",
    "# make sure pyspark tells workers to use python2 not 3 if both are installed\\\\n\\\",\\n\",\n",
    "os.environ[\"PYSPARK_PYTHON\"] = \"python2\"\n",
    "os.environ['PYTHONPATH'] = ':'.join(sys.path)\n",
    "\n",
    "import pyspark\n",
    "from pyspark.sql import SQLContext\n",
    "\n",
    "sc = pyspark.SparkContext('local[*]')\n",
    "sqlContext = SQLContext(sc)"
   ]
  },
  {
   "cell_type": "code",
   "execution_count": 2,
   "metadata": {
    "collapsed": false
   },
   "outputs": [],
   "source": [
    "from pyspark.mllib.linalg.distributed import RowMatrix\n",
    "from pyspark.mllib.linalg.distributed import MatrixEntry\n",
    "from pyspark.mllib.linalg.distributed import CoordinateMatrix\n",
    "from pyspark.mllib.linalg import Vectors\n",
    "from pyspark.mllib.linalg import DenseVector\n",
    "from pyspark.mllib.feature import HashingTF\n",
    "from pyspark.sql import Row\n",
    "from pyspark.sql.types import *\n",
    "from pyspark.sql.functions import col\n",
    "from difflib import SequenceMatcher"
   ]
  },
  {
   "cell_type": "code",
   "execution_count": null,
   "metadata": {
    "collapsed": false
   },
   "outputs": [],
   "source": []
  },
  {
   "cell_type": "markdown",
   "metadata": {},
   "source": [
    "# Obtaining the data\n",
    "\n",
    "The full AGRIS repository is available from the [AGRIS AllegroGraph WebView](http://202.45.139.84:10035/catalogs/fao/repositories/agris) which allows us to query the repository from a sparql endpoint. However, instead of using it we have downloaded the full repository in RDF format and uploaded it to our own [Virtuoso Sparql Endpoint](http://virtuoso.udl.cat:8890/sparql). By this way, we have been able to query the repository without problems of timeout or other problems we were having using the AGRIS sparql endpoint.\n",
    "\n",
    "Once we had our sparql endpoint working, we could start obtaining the data. It neither was an easy task because the AGRIS repository contains a huge volume of data that we could not obtain with a single query. To solve this problem we limited the queries to return one million rows per query, so we had to execute the query multiples times to obtain the full dataset.\n",
    "\n",
    "Furthermore, another trouble to obtain the data was that some fields were lists of elements and it is a little bit difficult to obtain those fields in list format. In order to solve this problem we have divided our query into some different queries. In the first query we have obtained all the fields which contains a single value for each article.\n",
    "\n",
    "\"AGRIS QUERY GENERAL\"\n",
    "\n",
    "The other queries are one query for each field in list format we want to obtain.\n",
    "\n",
    "\"OTHER QUERIES\""
   ]
  },
  {
   "cell_type": "code",
   "execution_count": 3,
   "metadata": {
    "collapsed": false
   },
   "outputs": [
    {
     "name": "stdout",
     "output_type": "stream",
     "text": [
      "5589673\n",
      "5553754\n",
      "5461861\n",
      "4056963\n"
     ]
    }
   ],
   "source": [
    "articles_spark_DF = sqlContext.read.format(\"csv\").load(\"data/Article-*.csv\",header = True)\n",
    "articles_lang_spark_DF = sqlContext.read.format(\"csv\").load(\"data/Lang-*.csv\",header = True)\n",
    "authors_spark_DF = sqlContext.read.format(\"csv\").load(\"data/Authors-*.csv\",header = True)\n",
    "subjects_spark_DF = sqlContext.read.format(\"csv\").load(\"data/Sub-*.csv\",header = True)\n",
    "print articles_spark_DF.count()\n",
    "print articles_lang_spark_DF.count()\n",
    "print authors_spark_DF.count()\n",
    "print subjects_spark_DF.count()"
   ]
  },
  {
   "cell_type": "markdown",
   "metadata": {},
   "source": [
    "As we have said before, the AGRIS repository has a huge volume of data and we will not be able to process the whole of it. So what we will do is load the whole dataset into pandas only to obtain a sample of 10000 rows. This will be the dataset we will use to do the cleaning process."
   ]
  },
  {
   "cell_type": "code",
   "execution_count": 4,
   "metadata": {
    "collapsed": false
   },
   "outputs": [],
   "source": [
    "df1 = pd.read_csv(\"data/Article-0M-1M.csv\", sep=\",\",header=0,low_memory=False)\n",
    "df2 = pd.read_csv(\"data/Article-1M-2M.csv\", sep=\",\",header=0,low_memory=False)\n",
    "df3 = pd.read_csv(\"data/Article-2M-3M.csv\", sep=\",\",header=0,low_memory=False)\n",
    "df4 = pd.read_csv(\"data/Article-3M-4M.csv\", sep=\",\",header=0,low_memory=False)\n",
    "df5 = pd.read_csv(\"data/Article-4M-5M.csv\", sep=\",\",header=0,low_memory=False)\n",
    "df6 = pd.read_csv(\"data/Article-5M-6M.csv\", sep=\",\",header=0,low_memory=False)\n",
    "\n",
    "df_ = pd.concat([df1,df2,df3,df4,df5,df6],ignore_index = True)\n",
    "\n",
    "articles = df_.sample(n=10000)\n",
    "articles.to_csv('data/current_sample.csv')\n",
    "articles.sort_index(inplace=True)\n",
    "\n",
    "df1 = pd.read_csv(\"data/Lang-0M-1M.csv\", sep=\",\",header=0,low_memory=False)\n",
    "df2 = pd.read_csv(\"data/Lang-1M-2M.csv\", sep=\",\",header=0,low_memory=False)\n",
    "df3 = pd.read_csv(\"data/Lang-2M-3M.csv\", sep=\",\",header=0,low_memory=False)\n",
    "df4 = pd.read_csv(\"data/Lang-3M-4M.csv\", sep=\",\",header=0,low_memory=False)\n",
    "df5 = pd.read_csv(\"data/Lang-4M-5M.csv\", sep=\",\",header=0,low_memory=False)\n",
    "df6 = pd.read_csv(\"data/Lang-5M-6M.csv\", sep=\",\",header=0,low_memory=False)\n",
    "\n",
    "df_ = pd.concat([df1,df2,df3,df4,df5,df6],ignore_index = True)"
   ]
  },
  {
   "cell_type": "code",
   "execution_count": 43,
   "metadata": {
    "collapsed": false
   },
   "outputs": [],
   "source": [
    "df1 = pd.read_csv(\"data/Authors-0M-1M.csv\", sep=\",\",header=0,low_memory=False)\n",
    "df2 = pd.read_csv(\"data/Authors-1M-2M.csv\", sep=\",\",header=0,low_memory=False)\n",
    "df3 = pd.read_csv(\"data/Authors-2M-3M.csv\", sep=\",\",header=0,low_memory=False)\n",
    "df4 = pd.read_csv(\"data/Authors-3M-4M.csv\", sep=\",\",header=0,low_memory=False)\n",
    "df5 = pd.read_csv(\"data/Authors-4M-5M.csv\", sep=\",\",header=0,low_memory=False)\n",
    "df6 = pd.read_csv(\"data/Authors-5M-6M.csv\", sep=\",\",header=0,low_memory=False)\n",
    "\n",
    "df_Authors_ = pd.concat([df1,df2,df3,df4,df5,df6],ignore_index = True)\n",
    "df_Authors_.to_csv('data/authors.csv')\n",
    "\n",
    "df1 = pd.read_csv(\"data/Sub-0M-1M.csv\", sep=\",\",header=0,low_memory=False)\n",
    "df2 = pd.read_csv(\"data/Sub-1M-2M.csv\", sep=\",\",header=0,low_memory=False)\n",
    "df3 = pd.read_csv(\"data/Sub-2M-3M.csv\", sep=\",\",header=0,low_memory=False)\n",
    "df4 = pd.read_csv(\"data/Sub-3M-4M.csv\", sep=\",\",header=0,low_memory=False)\n",
    "df5 = pd.read_csv(\"data/Sub-4M-5M.csv\", sep=\",\",header=0,low_memory=False)\n",
    "\n",
    "df_Subjects = pd.concat([df1,df2,df3,df4,df5],ignore_index = True)"
   ]
  },
  {
   "cell_type": "code",
   "execution_count": null,
   "metadata": {
    "collapsed": false
   },
   "outputs": [],
   "source": []
  },
  {
   "cell_type": "markdown",
   "metadata": {},
   "source": [
    "# Cleaning process"
   ]
  },
  {
   "cell_type": "markdown",
   "metadata": {},
   "source": [
    "## Duplicated articles"
   ]
  },
  {
   "cell_type": "code",
   "execution_count": 6,
   "metadata": {
    "collapsed": false
   },
   "outputs": [
    {
     "name": "stdout",
     "output_type": "stream",
     "text": [
      "+----------------+\n",
      "|count(articleId)|\n",
      "+----------------+\n",
      "|         5589673|\n",
      "+----------------+\n",
      "\n",
      "None\n",
      "+-------------------------+\n",
      "|count(DISTINCT articleId)|\n",
      "+-------------------------+\n",
      "|                  5553754|\n",
      "+-------------------------+\n",
      "\n",
      "None\n",
      "+------------+----------------+\n",
      "|   articleId|count(articleId)|\n",
      "+------------+----------------+\n",
      "|CO2015000039|               4|\n",
      "|DJ2012041730|               2|\n",
      "|DJ2012041780|               2|\n",
      "|DJ2012044257|               2|\n",
      "|DJ2012044287|               2|\n",
      "|DJ2012045098|               2|\n",
      "|DJ2012046804|               2|\n",
      "|DJ2012046887|               2|\n",
      "|DJ2012046920|               2|\n",
      "|DJ2012046952|               2|\n",
      "|DJ2012049552|               2|\n",
      "|DJ2012049843|               2|\n",
      "|DJ2012054487|               2|\n",
      "|DJ2012057300|               2|\n",
      "|DJ2012063234|               2|\n",
      "|DJ2012064631|               2|\n",
      "|DJ2012067455|              12|\n",
      "|DJ2012072330|               2|\n",
      "|DJ2012072398|               2|\n",
      "|DJ2012074987|               2|\n",
      "+------------+----------------+\n",
      "only showing top 20 rows\n",
      "\n",
      "None\n"
     ]
    }
   ],
   "source": [
    "articles_spark_DF.createOrReplaceTempView(\"data\")\n",
    "# Check if there are duplicated articlesIds\n",
    "print sqlContext.sql(\"SELECT COUNT(articleId) FROM data\").show()\n",
    "print sqlContext.sql(\"SELECT COUNT(DISTINCT(articleId)) FROM data\").show()\n",
    "print sqlContext.sql(\"SELECT articleId, Count(articleId) FROM data GROUP BY articleId HAVING COUNT(*) > 1\").show()"
   ]
  },
  {
   "cell_type": "code",
   "execution_count": 7,
   "metadata": {
    "collapsed": false
   },
   "outputs": [
    {
     "name": "stdout",
     "output_type": "stream",
     "text": [
      "+----------------+\n",
      "|count(articleId)|\n",
      "+----------------+\n",
      "|         5574251|\n",
      "+----------------+\n",
      "\n",
      "None\n",
      "+-------------------------+\n",
      "|count(DISTINCT articleId)|\n",
      "+-------------------------+\n",
      "|                  5553754|\n",
      "+-------------------------+\n",
      "\n",
      "None\n",
      "+--------------+----------------+\n",
      "|     articleId|count(articleId)|\n",
      "+--------------+----------------+\n",
      "|  FR2001000690|               8|\n",
      "|  RU2015H08472|               2|\n",
      "|  KR2015000782|               4|\n",
      "|  DJ2012084336|               2|\n",
      "|  FR2001000569|               8|\n",
      "|  FI2007188479|               4|\n",
      "|  DJ2012075801|               2|\n",
      "|  DJ2012076174|               2|\n",
      "|     US8206741|               8|\n",
      "|  DJ2012064631|               2|\n",
      "|  BG2015100016|               4|\n",
      "|     US8210952|               4|\n",
      "|US201300869572|               4|\n",
      "|  DJ2012046804|               2|\n",
      "|  FI2007029186|               4|\n",
      "|  DJ2012054487|               2|\n",
      "|  DJ2012078767|               2|\n",
      "|  DJ2012049552|               2|\n",
      "|  DJ2012044257|               2|\n",
      "|  DJ2012075210|               2|\n",
      "+--------------+----------------+\n",
      "only showing top 20 rows\n",
      "\n",
      "None\n"
     ]
    }
   ],
   "source": [
    "# Join the same rows\n",
    "articles_spark_DF = articles_spark_DF.dropDuplicates()\n",
    "articles_spark_DF.createOrReplaceTempView(\"data\")\n",
    "print sqlContext.sql(\"SELECT COUNT(articleId) FROM data\").show()\n",
    "print sqlContext.sql(\"SELECT COUNT(DISTINCT(articleId)) FROM data\").show()\n",
    "print sqlContext.sql(\"SELECT articleId, Count(articleId) FROM data GROUP BY articleId HAVING COUNT(*) > 1\").show()"
   ]
  },
  {
   "cell_type": "code",
   "execution_count": 8,
   "metadata": {
    "collapsed": false
   },
   "outputs": [],
   "source": [
    "def equalArticles(x,y):\n",
    "    if not isinstance(x.issued,list):\n",
    "        x = Row(articleId=x.articleId,issued=[x.issued],submitted=[x.submitted],conferenceTitle=[x.conferenceTitle],journalTitle=[x.journalTitle],journalIssn=[x.journalIssn])\n",
    "    if not isinstance(y.issued,list):\n",
    "        y = Row(articleId=y.articleId,issued=[y.issued],submitted=[y.submitted],conferenceTitle=[y.conferenceTitle],journalTitle=[y.journalTitle],journalIssn=[y.journalIssn])\n",
    "    return Row(articleId=x.articleId, issued=list(set(x.issued) | set(y.issued)), submitted=list(set(x.submitted) | set(y.submitted)), conferenceTitle=list(set(x.conferenceTitle) | set(y.conferenceTitle)), journalTitle=list(set(x.journalTitle) | set(y.journalTitle)), journalIssn=list(set(x.journalIssn) | set(y.journalIssn)))\n",
    "\n",
    "def mapPhase(a):\n",
    "    y = a[1]\n",
    "    #if isinstance(y.issued,list):\n",
    "        #return Row(articleId=y.articleId,issued='|'.join([unicode(x, \"utf-8\") for x in y.issued]),submitted='|'.join([unicode(str(x), \"utf-8\") for x in y.submitted]),conferenceTitle='|'.join([unicode(str(x), \"utf-8\") for x in y.conferenceTitle]),journalTitle='|'.join([unicode(str(x), \"utf-8\") for x in y.journalTitle]),journalIssn='|'.join([unicode(str(x), \"utf-8\") for x in y.journalIssn]))\n",
    "\n",
    "    return y\n",
    "\n",
    "schema = StructType([StructField(\"articleId\", StringType(), True),StructField(\"issued\", StringType(), True),StructField(\"submitted\", StringType(), True),StructField(\"conferenceTitle\", StringType(), True),StructField(\"journalTitle\", StringType(), True),StructField(\"journalIssn\", StringType(), True)])"
   ]
  },
  {
   "cell_type": "code",
   "execution_count": 9,
   "metadata": {
    "collapsed": false
   },
   "outputs": [],
   "source": [
    "articles_spark_RDD = articles_spark_DF.rdd.map(lambda x: (x.articleId,x)).reduceByKey(equalArticles).map(mapPhase)\n",
    "articles_spark_DF = sqlContext.createDataFrame(articles_spark_RDD,schema)\n",
    "articles_spark_DF.createOrReplaceTempView(\"data\")"
   ]
  },
  {
   "cell_type": "code",
   "execution_count": 10,
   "metadata": {
    "collapsed": false
   },
   "outputs": [
    {
     "name": "stdout",
     "output_type": "stream",
     "text": [
      "+----------------+\n",
      "|count(articleId)|\n",
      "+----------------+\n",
      "|         5553754|\n",
      "+----------------+\n",
      "\n",
      "None\n",
      "+-------------------------+\n",
      "|count(DISTINCT articleId)|\n",
      "+-------------------------+\n",
      "|                  5553754|\n",
      "+-------------------------+\n",
      "\n",
      "None\n",
      "+---------+----------------+\n",
      "|articleId|count(articleId)|\n",
      "+---------+----------------+\n",
      "+---------+----------------+\n",
      "\n",
      "None\n"
     ]
    }
   ],
   "source": [
    "print sqlContext.sql(\"SELECT COUNT(articleId) FROM data\").show()\n",
    "print sqlContext.sql(\"SELECT COUNT(DISTINCT(articleId)) FROM data\").show()\n",
    "print sqlContext.sql(\"SELECT articleId, Count(articleId) FROM data GROUP BY articleId HAVING COUNT(*) > 1\").show()"
   ]
  },
  {
   "cell_type": "markdown",
   "metadata": {},
   "source": [
    "## Join articles data and language data"
   ]
  },
  {
   "cell_type": "code",
   "execution_count": 11,
   "metadata": {
    "collapsed": false
   },
   "outputs": [
    {
     "name": "stdout",
     "output_type": "stream",
     "text": [
      "+------------+---------------+------------+---------------+--------------------+--------------------+--------+\n",
      "|   articleId|         issued|   submitted|conferenceTitle|        journalTitle|         journalIssn|language|\n",
      "+------------+---------------+------------+---------------+--------------------+--------------------+--------+\n",
      "|FR2001000690|[mar2001, 1999]|[2002, 2001]|         [null]|[Game and Wildlif...|[1622-7662, 0750-...| eng|fre|\n",
      "+------------+---------------+------------+---------------+--------------------+--------------------+--------+\n",
      "\n",
      "None\n"
     ]
    }
   ],
   "source": [
    "articles_spark_DF = \\\n",
    "articles_spark_DF.join(articles_lang_spark_DF, articles_spark_DF.articleId == articles_lang_spark_DF.articleId)\\\n",
    ".drop(articles_lang_spark_DF.articleId)\n",
    "\n",
    "articles_spark_DF.createOrReplaceTempView(\"data\")\n",
    "print sqlContext.sql(\"SELECT * FROM data WHERE articleId = 'FR2001000690'\").show()\n",
    "#.rdd.filter(lambda x: isinstance(x.issued,list)).toDF()\\"
   ]
  },
  {
   "cell_type": "markdown",
   "metadata": {},
   "source": [
    "## Get sampled data for the cleaning process"
   ]
  },
  {
   "cell_type": "code",
   "execution_count": 40,
   "metadata": {
    "collapsed": false
   },
   "outputs": [],
   "source": [
    "articles = articles_spark_DF.where(\"issued NOT LIKE '[%' AND language NOT LIKE '%|%'\").sample(False,0.002,42).toPandas()"
   ]
  },
  {
   "cell_type": "code",
   "execution_count": 13,
   "metadata": {
    "collapsed": true
   },
   "outputs": [],
   "source": [
    "articles.rename(columns={'conferenceTitle':'conferenceData', 'journalTitle':'journalData'}, inplace=True)"
   ]
  },
  {
   "cell_type": "markdown",
   "metadata": {},
   "source": [
    "## Extract conference information:\n",
    "\n",
    "We want to classify all the conferences, setting the same ID in the same conferences.\n",
    "\n",
    "Also from conferences, we are interested in the year, in order to compare it with the other years in the data."
   ]
  },
  {
   "cell_type": "code",
   "execution_count": 14,
   "metadata": {
    "collapsed": false
   },
   "outputs": [
    {
     "data": {
      "text/plain": [
       "261"
      ]
     },
     "execution_count": 14,
     "metadata": {},
     "output_type": "execute_result"
    }
   ],
   "source": [
    "# Tenen conferencia\n",
    "len(articles[articles.conferenceData.notnull()])"
   ]
  },
  {
   "cell_type": "code",
   "execution_count": 15,
   "metadata": {
    "collapsed": false
   },
   "outputs": [],
   "source": [
    "conferenceDF =  pd.DataFrame(articles.conferenceData)"
   ]
  },
  {
   "cell_type": "markdown",
   "metadata": {},
   "source": [
    "### Get the year from the data\n",
    "First, we validate if all the dates have a year"
   ]
  },
  {
   "cell_type": "code",
   "execution_count": 16,
   "metadata": {
    "collapsed": false
   },
   "outputs": [
    {
     "data": {
      "text/plain": [
       "11"
      ]
     },
     "execution_count": 16,
     "metadata": {},
     "output_type": "execute_result"
    }
   ],
   "source": [
    "# Que els quatre digits seguits siguin any\n",
    "# Primer miro si hi han mes de un grup de 4 digits seguits ens les dades\n",
    "pattern = r'^.*\\d{4}.*\\d{4}.*$'\n",
    "np.sum(conferenceDF.conferenceData[conferenceDF.conferenceData.notnull()].str.contains(pattern,na=False))"
   ]
  },
  {
   "cell_type": "code",
   "execution_count": 17,
   "metadata": {
    "collapsed": false
   },
   "outputs": [],
   "source": [
    "# Si n'hi ha, mirem que siguin el mateix any. Mostrem els que son diferents valors. Aquetst els despreciarem\n",
    "pattern = r'^.*(\\d{4}).*(\\d{4}).*$'\n",
    "moreThanOne = conferenceDF.conferenceData[conferenceDF.conferenceData.notnull()].str.extract(pattern,expand=False)\n",
    "moreThanOneDifferents = moreThanOne[moreThanOne[0].notnull() & (moreThanOne[0] != moreThanOne[1])]"
   ]
  },
  {
   "cell_type": "code",
   "execution_count": 18,
   "metadata": {
    "collapsed": false
   },
   "outputs": [
    {
     "data": {
      "text/plain": [
       "Int64Index([2277, 7272], dtype='int64')"
      ]
     },
     "execution_count": 18,
     "metadata": {},
     "output_type": "execute_result"
    }
   ],
   "source": [
    "moreThanOneDifferents.index"
   ]
  },
  {
   "cell_type": "code",
   "execution_count": 19,
   "metadata": {
    "collapsed": false
   },
   "outputs": [
    {
     "data": {
      "text/plain": [
       "5"
      ]
     },
     "execution_count": 19,
     "metadata": {},
     "output_type": "execute_result"
    }
   ],
   "source": [
    "# Si el resultat és 0 també s'ha de comprovar que totes tinguin 4 digits seguits\n",
    "pattern = r'^.*\\d{4}.*$'\n",
    "len(conferenceDF.conferenceData[conferenceDF.conferenceData.notnull()]) - np.sum(conferenceDF.conferenceData[conferenceDF.conferenceData.notnull()].str.contains(pattern,na=False))"
   ]
  },
  {
   "cell_type": "code",
   "execution_count": 20,
   "metadata": {
    "collapsed": false
   },
   "outputs": [
    {
     "data": {
      "text/plain": [
       "526                           \"Seminario \"\"Medio Ambiente\n",
       "1448    \"Tagung der DVG. Fachgruppe \"\"Rinderkrankheite...\n",
       "4159     Aggiornamenti di nutrizione avicola. [np]. [nd].\n",
       "6426    \"Tagung der DVG. Fachgruppe \"\"Kleintierkrankhe...\n",
       "9336    Seminario Avances en propagación vegetativa pa...\n",
       "Name: conferenceData, dtype: object"
      ]
     },
     "execution_count": 20,
     "metadata": {},
     "output_type": "execute_result"
    }
   ],
   "source": [
    "# Busquem les que no tenen els anys amb format correcte\n",
    "badYearFormat = conferenceDF.conferenceData[conferenceDF.conferenceData.notnull()].str.contains(pattern,na=False)\n",
    "badYearFormat = badYearFormat[badYearFormat == False]\n",
    "conferenceDF.conferenceData[conferenceDF.conferenceData.index.isin(badYearFormat.index)]"
   ]
  },
  {
   "cell_type": "code",
   "execution_count": 21,
   "metadata": {
    "collapsed": false
   },
   "outputs": [
    {
     "data": {
      "text/plain": [
       "254"
      ]
     },
     "execution_count": 21,
     "metadata": {},
     "output_type": "execute_result"
    }
   ],
   "source": [
    "# Obtenim l'any i eliminem els que hi han a moreThanOneDifferents\n",
    "pattern = r'^.*(\\d{4}).*$'\n",
    "conferenceDF['conferenceDateYear'] = conferenceDF.conferenceData.str.extract(pattern, expand=False)\n",
    "conferenceDF.conferenceDateYear[conferenceDF.conferenceDateYear.index.isin(moreThanOneDifferents.index)] = np.nan\n",
    "conferenceDF.conferenceDateYear = pd.to_numeric(conferenceDF.conferenceDateYear, errors='coerce')\n",
    "len(conferenceDF.conferenceDateYear[conferenceDF.conferenceDateYear.notnull()])"
   ]
  },
  {
   "cell_type": "code",
   "execution_count": 22,
   "metadata": {
    "collapsed": false
   },
   "outputs": [],
   "source": [
    "articles[\"conferenceYear\"] = conferenceDF.conferenceDateYear"
   ]
  },
  {
   "cell_type": "markdown",
   "metadata": {},
   "source": [
    "## Extract year and month from issued date"
   ]
  },
  {
   "cell_type": "markdown",
   "metadata": {},
   "source": [
    "The field 'issued' shows when the article was published and it comes with some different formats incliding the year and sometimes the month. "
   ]
  },
  {
   "cell_type": "code",
   "execution_count": 23,
   "metadata": {
    "collapsed": false
   },
   "outputs": [],
   "source": [
    "issuedYear = articles.issued.str.extract(\"(\\d{4}|[0,3-9]\\d)\", expand=False)\n",
    "issuedYear = pd.to_numeric(issuedYear, errors='coerce')"
   ]
  },
  {
   "cell_type": "code",
   "execution_count": 24,
   "metadata": {
    "collapsed": false
   },
   "outputs": [],
   "source": [
    "def completeYears(year):\n",
    "    century = 1900 if year > 40 else 2000\n",
    "    return century + year\n",
    "issuedYear[issuedYear < 99] = issuedYear[issuedYear < 99].apply(completeYears)"
   ]
  },
  {
   "cell_type": "code",
   "execution_count": 25,
   "metadata": {
    "collapsed": false
   },
   "outputs": [],
   "source": [
    "articles['issuedYear'] = issuedYear"
   ]
  },
  {
   "cell_type": "markdown",
   "metadata": {},
   "source": [
    "In some cases, the month comes in a numeric way and other times it comes within its abbreviation. We will unify it converting the abbreviations to numerical months."
   ]
  },
  {
   "cell_type": "code",
   "execution_count": 26,
   "metadata": {
    "collapsed": false
   },
   "outputs": [],
   "source": [
    "issuedMonthText = articles.issued.str.extract(\"(ene|jan|feb|mar|apr|abr|mai|may|jun|jul|aug|ago|sept|sep|oct|nov|dic|dec)\", expand=False)\n",
    "issuedMonthNumeric = articles.issued.str.extract(\"\\D(\\d|1[1-2])\\D?$\", expand=False)\n",
    "issuedMonth = issuedMonthText.fillna(issuedMonthNumeric)"
   ]
  },
  {
   "cell_type": "code",
   "execution_count": 27,
   "metadata": {
    "collapsed": false
   },
   "outputs": [],
   "source": [
    "issuedMonth = issuedMonth.replace('ene|jan', '1', regex=True)\n",
    "issuedMonth = issuedMonth.replace('feb', '2')\n",
    "issuedMonth = issuedMonth.replace('mar', '3')\n",
    "issuedMonth = issuedMonth.replace('apr|abr', '4', regex=True)\n",
    "issuedMonth = issuedMonth.replace('mai|may', '5', regex=True)\n",
    "issuedMonth = issuedMonth.replace('jun', '6')\n",
    "issuedMonth = issuedMonth.replace('jul', '7')\n",
    "issuedMonth = issuedMonth.replace('ago|aug', '8', regex=True)\n",
    "issuedMonth = issuedMonth.replace('sept|sep', '9', regex=True)\n",
    "issuedMonth = issuedMonth.replace('oct', '10')\n",
    "issuedMonth = issuedMonth.replace('nov', '11')\n",
    "issuedMonth = issuedMonth.replace('dic|dec', '12', regex=True)\n",
    "issuedMonth = issuedMonth.fillna('6')"
   ]
  },
  {
   "cell_type": "code",
   "execution_count": 28,
   "metadata": {
    "collapsed": true
   },
   "outputs": [],
   "source": [
    "articles['issuedMonth'] = issuedMonth"
   ]
  },
  {
   "cell_type": "markdown",
   "metadata": {},
   "source": [
    "Finally, we will check that we have specified an issuedYear and issuedMonth for each row of the sample dataset."
   ]
  },
  {
   "cell_type": "code",
   "execution_count": 29,
   "metadata": {
    "collapsed": false
   },
   "outputs": [
    {
     "data": {
      "text/plain": [
       "0"
      ]
     },
     "execution_count": 29,
     "metadata": {},
     "output_type": "execute_result"
    }
   ],
   "source": [
    "articles.issuedYear[articles.issuedYear.isnull() == True].count()"
   ]
  },
  {
   "cell_type": "code",
   "execution_count": 30,
   "metadata": {
    "collapsed": false
   },
   "outputs": [
    {
     "data": {
      "text/plain": [
       "0"
      ]
     },
     "execution_count": 30,
     "metadata": {},
     "output_type": "execute_result"
    }
   ],
   "source": [
    "articles.issuedMonth[articles.issuedMonth.isnull() == True].count()"
   ]
  },
  {
   "cell_type": "markdown",
   "metadata": {},
   "source": [
    "## Check correctness of issued, submitted year and conference year"
   ]
  },
  {
   "cell_type": "markdown",
   "metadata": {},
   "source": [
    "Once we have obtained the issued year, we can check that the article had been issued before it had been submitted to the AGRIS repository ('submitted' field)."
   ]
  },
  {
   "cell_type": "code",
   "execution_count": 32,
   "metadata": {
    "collapsed": false
   },
   "outputs": [
    {
     "ename": "TypeError",
     "evalue": "ufunc 'subtract' did not contain a loop with signature matching types dtype('<U21') dtype('<U21') dtype('<U21')",
     "output_type": "error",
     "traceback": [
      "\u001b[1;31m\u001b[0m",
      "\u001b[1;31mTypeError\u001b[0mTraceback (most recent call last)",
      "\u001b[1;32m<ipython-input-32-5dc270fc3a52>\u001b[0m in \u001b[0;36m<module>\u001b[1;34m()\u001b[0m\n\u001b[1;32m----> 1\u001b[1;33m \u001b[0marticles\u001b[0m\u001b[1;33m.\u001b[0m\u001b[0mix\u001b[0m\u001b[1;33m[\u001b[0m\u001b[0marticles\u001b[0m\u001b[1;33m.\u001b[0m\u001b[0msubmitted\u001b[0m \u001b[1;33m-\u001b[0m \u001b[0marticles\u001b[0m\u001b[1;33m.\u001b[0m\u001b[0missuedYear\u001b[0m \u001b[1;33m<\u001b[0m \u001b[1;36m0\u001b[0m\u001b[1;33m,\u001b[0m \u001b[1;34m'issuedYear'\u001b[0m\u001b[1;33m]\u001b[0m \u001b[1;33m=\u001b[0m \u001b[0marticles\u001b[0m\u001b[1;33m[\u001b[0m\u001b[0marticles\u001b[0m\u001b[1;33m.\u001b[0m\u001b[0msubmitted\u001b[0m \u001b[1;33m-\u001b[0m \u001b[0marticles\u001b[0m\u001b[1;33m.\u001b[0m\u001b[0missuedYear\u001b[0m \u001b[1;33m<\u001b[0m \u001b[1;36m0\u001b[0m\u001b[1;33m]\u001b[0m\u001b[1;33m.\u001b[0m\u001b[0msubmitted\u001b[0m\u001b[1;33m\u001b[0m\u001b[0m\n\u001b[0m",
      "\u001b[1;32m/opt/conda/envs/python2/lib/python2.7/site-packages/pandas/core/ops.pyc\u001b[0m in \u001b[0;36mwrapper\u001b[1;34m(left, right, name, na_op)\u001b[0m\n\u001b[0;32m    713\u001b[0m                 \u001b[0mlvalues\u001b[0m \u001b[1;33m=\u001b[0m \u001b[0mlvalues\u001b[0m\u001b[1;33m.\u001b[0m\u001b[0mvalues\u001b[0m\u001b[1;33m\u001b[0m\u001b[0m\n\u001b[0;32m    714\u001b[0m \u001b[1;33m\u001b[0m\u001b[0m\n\u001b[1;32m--> 715\u001b[1;33m         \u001b[0mresult\u001b[0m \u001b[1;33m=\u001b[0m \u001b[0mwrap_results\u001b[0m\u001b[1;33m(\u001b[0m\u001b[0msafe_na_op\u001b[0m\u001b[1;33m(\u001b[0m\u001b[0mlvalues\u001b[0m\u001b[1;33m,\u001b[0m \u001b[0mrvalues\u001b[0m\u001b[1;33m)\u001b[0m\u001b[1;33m)\u001b[0m\u001b[1;33m\u001b[0m\u001b[0m\n\u001b[0m\u001b[0;32m    716\u001b[0m         return construct_result(\n\u001b[0;32m    717\u001b[0m             \u001b[0mleft\u001b[0m\u001b[1;33m,\u001b[0m\u001b[1;33m\u001b[0m\u001b[0m\n",
      "\u001b[1;32m/opt/conda/envs/python2/lib/python2.7/site-packages/pandas/core/ops.pyc\u001b[0m in \u001b[0;36msafe_na_op\u001b[1;34m(lvalues, rvalues)\u001b[0m\n\u001b[0;32m    684\u001b[0m                 \u001b[1;32mif\u001b[0m \u001b[0mis_object_dtype\u001b[0m\u001b[1;33m(\u001b[0m\u001b[0mlvalues\u001b[0m\u001b[1;33m)\u001b[0m\u001b[1;33m:\u001b[0m\u001b[1;33m\u001b[0m\u001b[0m\n\u001b[0;32m    685\u001b[0m                     return _algos.arrmap_object(lvalues,\n\u001b[1;32m--> 686\u001b[1;33m                                                 lambda x: op(x, rvalues))\n\u001b[0m\u001b[0;32m    687\u001b[0m             \u001b[1;32mraise\u001b[0m\u001b[1;33m\u001b[0m\u001b[0m\n\u001b[0;32m    688\u001b[0m \u001b[1;33m\u001b[0m\u001b[0m\n",
      "\u001b[1;32mpandas/src/algos_common_helper.pxi\u001b[0m in \u001b[0;36mpandas.algos.arrmap_object (pandas/algos.c:46681)\u001b[1;34m()\u001b[0m\n",
      "\u001b[1;32m/opt/conda/envs/python2/lib/python2.7/site-packages/pandas/core/ops.pyc\u001b[0m in \u001b[0;36m<lambda>\u001b[1;34m(x)\u001b[0m\n\u001b[0;32m    684\u001b[0m                 \u001b[1;32mif\u001b[0m \u001b[0mis_object_dtype\u001b[0m\u001b[1;33m(\u001b[0m\u001b[0mlvalues\u001b[0m\u001b[1;33m)\u001b[0m\u001b[1;33m:\u001b[0m\u001b[1;33m\u001b[0m\u001b[0m\n\u001b[0;32m    685\u001b[0m                     return _algos.arrmap_object(lvalues,\n\u001b[1;32m--> 686\u001b[1;33m                                                 lambda x: op(x, rvalues))\n\u001b[0m\u001b[0;32m    687\u001b[0m             \u001b[1;32mraise\u001b[0m\u001b[1;33m\u001b[0m\u001b[0m\n\u001b[0;32m    688\u001b[0m \u001b[1;33m\u001b[0m\u001b[0m\n",
      "\u001b[1;31mTypeError\u001b[0m: ufunc 'subtract' did not contain a loop with signature matching types dtype('<U21') dtype('<U21') dtype('<U21')"
     ]
    }
   ],
   "source": [
    "articles.ix[articles.submitted - articles.issuedYear < 0, 'issuedYear'] = articles[articles.submitted - articles.issuedYear < 0].submitted"
   ]
  },
  {
   "cell_type": "code",
   "execution_count": null,
   "metadata": {
    "collapsed": false
   },
   "outputs": [],
   "source": [
    "articles[articles.submitted - articles.issuedYear < 0].count()"
   ]
  },
  {
   "cell_type": "markdown",
   "metadata": {},
   "source": []
  },
  {
   "cell_type": "code",
   "execution_count": null,
   "metadata": {
    "collapsed": false
   },
   "outputs": [],
   "source": [
    "# Check correctness of conference year\n",
    "articles.conferenceYear[(articles.conferenceYear < 1970) | (articles.conferenceYear > 2020)]"
   ]
  },
  {
   "cell_type": "code",
   "execution_count": null,
   "metadata": {
    "collapsed": false
   },
   "outputs": [],
   "source": [
    "articles.articleId[articles.conferenceYear.notnull() & (articles.conferenceYear > articles.submitted)].count()"
   ]
  },
  {
   "cell_type": "markdown",
   "metadata": {},
   "source": [
    "## Removing misstyped journal names"
   ]
  },
  {
   "cell_type": "markdown",
   "metadata": {},
   "source": [
    "Our dataset contains the journal where some articles have been published. Specifically, there is a field specifying the name of the journal and another field specifying the ISSN of the journal. The problem is that sometimes the journal name does not match for a particular ISSN, which is obviously an error. To solve this problem we associate the most frequent journal name for each ISSN to all the articles of this ISSN."
   ]
  },
  {
   "cell_type": "code",
   "execution_count": 33,
   "metadata": {
    "collapsed": false
   },
   "outputs": [],
   "source": [
    "articles.journalData = articles.journalIssn.map(articles.groupby('journalIssn').journalData.agg(lambda x:x.value_counts().index[0]).to_dict())"
   ]
  },
  {
   "cell_type": "code",
   "execution_count": 34,
   "metadata": {
    "collapsed": false
   },
   "outputs": [],
   "source": [
    "articles.journalIssn = articles.journalData.map(articles.groupby('journalData').journalIssn.agg(lambda x:x.value_counts().index[0]).to_dict())"
   ]
  },
  {
   "cell_type": "code",
   "execution_count": 35,
   "metadata": {
    "collapsed": false
   },
   "outputs": [
    {
     "data": {
      "text/plain": [
       "journalIssn                                                              journalData                                                                                                      \n",
       " otdelenie biologicheskikh nauk\"                                         \"Akhboroti Akademiiai fankhoi RSS Tochikiston, shu\"\"bai fankhoi biologi = Izvestiia Akademii nauk Tadzhikskoi SSR     1\n",
       "0001-1541                                                                AIChE journal                                                                                                         2\n",
       "0001-2351                                                                Transactions of the ASAE (USA)                                                                                       10\n",
       "0001-4079                                                                Bulletin de l'Academie Nationale de Medecine (France)                                                                 1\n",
       "0001-4087                                                                Bulletin de l'Academie polonaise des sciences. Serie des sciences biologiques                                         4\n",
       "0001-4141                                                                Bulletin de la classe des sciences                                                                                    1\n",
       "0001-4176                                                                Bulletin des Seances Academie Royale des Sciences d'Outre Mer                                                         1\n",
       "0001-4192                                                                Bulletin de l'Academie Veterinaire de France                                                                          1\n",
       "0001-5121                                                                Acta agriculturae scandinavica                                                                                        1\n",
       "0001-513X                                                                Acta Agronomica Academiae Scientiarum Hungaricae                                                                      1\n",
       "0001-5318                                                                Acta biologica et medica Germanica                                                                                    2\n",
       "0001-5504                                                                Acta cientifica venezolana                                                                                            1\n",
       "0001-5601                                                                Acta Entomologica Bohemoslovaca                                                                                       1\n",
       "0001-6136                                                                Acta medica veterinaria                                                                                               1\n",
       "0001-6454                                                                Acta ornithologica                                                                                                    1\n",
       "0001-6772                                                                Acta Physiologica Scandinavica                                                                                        3\n",
       "0001-6780                                                                Acta phytopathologica                                                                                                 1\n",
       "0001-6977                                                                Acta Societatis Botanicarum Poloniae - Polskie Towarzystwo Botaniczne                                                 1\n",
       "0001-706X                                                                Acta tropica                                                                                                          2\n",
       "0001-7205                                                                Acta veterinaria : Academiae Scientiarum Hungaricae                                                                   1\n",
       "0001-723X                                                                Acta virologica                                                                                                       2\n",
       "0001-7264                                                                Acta zoologica - Academiae scientiarum Hungaricae                                                                     1\n",
       "0001-7280                                                                Acta zoologica et pathologica Antverpiensia                                                                           1\n",
       "0001-7299                                                                Acta zoologica Fennica                                                                                                1\n",
       "0001-7302                                                                Acta zoologica sinica                                                                                                 1\n",
       "0001-7523                                                                Action veterinaire                                                                                                    1\n",
       "0001-804X                                                                Adansonia                                                                                                             1\n",
       "0001-8449                                                                Adolescence                                                                                                           3\n",
       "0002-1105                                                                Agrartorteneti szemle                                                                                                 2\n",
       "0002-1121                                                                Agrarwirtschaft                                                                                                       2\n",
       "                                                                                                                                                                                              ..\n",
       "2178-5031                                                                Revista do Instituto Florestal                                                                                        1\n",
       "2179-4448                                                                Alimentos e Nutrição                                                                                                  3\n",
       "2190-4987                                                                Earth System Dynamics                                                                                                 1\n",
       "2190-4995                                                                Earth System Dynamics Discussions                                                                                     1\n",
       "2193-7192                                                                Journal of ornithology                                                                                                6\n",
       "2211-5501                                                                Current biotechnology                                                                                                 1\n",
       "2218-2020                                                                Albanian Journal of Agricultural Sciences                                                                             2\n",
       "2220-8860                                                                Proceedings of the International Academy of Ecology and Environmental Sciences                                        1\n",
       "2224-9435                                                                Journal of the South African Veterinary Association                                                                   2\n",
       "2228-6829                                                                Journal of Agricultural Machinery                                                                                     1\n",
       "2228-7604                                                                Environmental Stresses in Crop Sciences                                                                               1\n",
       "2239-6268                                                                Journal of agricultural engineering                                                                                   1\n",
       "2251-9300                                                                Journal of Watershed Engineering and Management                                                                       1\n",
       "2253-7325                                                                Actas Iberoamericanas de Conservación Animal - AICA                                                                   2\n",
       "2300-9675                                                                International Letters of Natural Sciences                                                                            47\n",
       "2303-9868                                                                Международный научно-исследовательский журнал                                                                         2\n",
       "2307-3497                                                                Proceedings of VNIRO                                                                                                  1\n",
       "2308-4766                                                                Stock raising of Ukraine                                                                                              2\n",
       "2314-8861                                                                Journal of Immunology Research                                                                                        1\n",
       "2326-2680                                                                Zoology in the Middle East                                                                                            1\n",
       "2344-2344                                                                Bulletin of University of Agricultural Sciences and Veterinary Medicine Cluj-Napoca. Food Science and Technology      1\n",
       "2389-9182                                                                Temas Agrarios                                                                                                        1\n",
       "2410-2652                                                                Russian Journal of Horticulture                                                                                       1\n",
       "2412-883X                                                                Конкурентоспособность в глобальном мире: экономика, наука, технологии                                                 1\n",
       "2412-9631                                                                Success of Modern Science and Education                                                                               1\n",
       "8750-5797                                                                Pecan South (USA)                                                                                                     2\n",
       "8750-7943                                                                Veterinary medicine                                                                                                   2\n",
       "8756-7938                                                                Biotechnology progress (USA)                                                                                          4\n",
       "8756-971X                                                                Journal of the American Mosquito Control Association (USA)                                                            6\n",
       "Deutsche Veterinaermedizinische Gesellschaft e.V. DVG , Tagungsberichte   F.R.). 14-15 Feb 1989.\"                                                                                              2\n",
       "Name: journalData, dtype: int64"
      ]
     },
     "execution_count": 35,
     "metadata": {},
     "output_type": "execute_result"
    }
   ],
   "source": [
    "articles.groupby('journalIssn').journalData.value_counts()"
   ]
  },
  {
   "cell_type": "code",
   "execution_count": 36,
   "metadata": {
    "collapsed": false
   },
   "outputs": [
    {
     "data": {
      "text/plain": [
       "journalData                                                                                                        journalIssn                                                            \n",
       " F.R.). 14-15 Feb 1989.\"                                                                                           Deutsche Veterinaermedizinische Gesellschaft e.V. DVG , Tagungsberichte    2\n",
       "\"Akhboroti Akademiiai fankhoi RSS Tochikiston, shu\"\"bai fankhoi biologi = Izvestiia Akademii nauk Tadzhikskoi SSR   otdelenie biologicheskikh nauk\"                                           1\n",
       "\"Moscosoa : Contribuciones cientificas del Jardin Botanico Nacional \"\"Dr. Rafael M. Moscoso\"\"\"                     0254-6442                                                                  1\n",
       "(Allattenyesztes es Takarmanyozas)(Hungary)                                                                        0230-1814                                                                  1\n",
       "A la Pointe de l'Elevage (France)                                                                                  0338-4195                                                                  1\n",
       "ACPA (Cuba)                                                                                                        0138-6247                                                                  1\n",
       "ACS Symposium series - American Chemical Society (USA)                                                             0097-6156                                                                  5\n",
       "AFR-Report (Sweden). no. 108.                                                                                      1102-6944                                                                  1\n",
       "AIChE journal                                                                                                      0001-1541                                                                  2\n",
       "ARS - U.S. Department of Agriculture, Agricultural Research Service (USA)                                          1052-5386                                                                  1\n",
       "ASA special publication (USA)                                                                                      0066-0566                                                                  1\n",
       "ASST Newsletter                                                                                                    0125-0396                                                                  2\n",
       "AWI quarterly (USA)                                                                                                1071-1384                                                                  1\n",
       "Aarsskrift. Kongelige Veterinaer og Landbohoejskole                                                                0368-7171                                                                  1\n",
       "Acarologia                                                                                                         0044-586X                                                                  1\n",
       "Acta Agraria et Silvestria. Series Zootechnica                                                                     0065-0935                                                                  2\n",
       "Acta Agrestia Sinica                                                                                               1007-0435                                                                  1\n",
       "Acta Agriculturae Shanghai                                                                                         1000-3924                                                                  1\n",
       "Acta Agriculturae Universitatis Jiangxiensis                                                                       1000-2286                                                                  2\n",
       "Acta Agriculturae Universitatis Zhejiangensis                                                                      1000-2111                                                                  1\n",
       "Acta Agronomica Academiae Scientiarum Hungaricae                                                                   0001-513X                                                                  1\n",
       "Acta Amazonica                                                                                                     0044-5967                                                                  1\n",
       "Acta Biomaterialia                                                                                                 1742-7061                                                                  3\n",
       "Acta Botanica Boreali-Occidentalia Sinica (China)                                                                  1000-4025                                                                  1\n",
       "Acta Botanica Brasilica                                                                                            0102-3306                                                                  3\n",
       "Acta Entomologica Bohemoslovaca                                                                                    0001-5601                                                                  1\n",
       "Acta Oecologica Oecologia Applicata                                                                                0243-7678                                                                  1\n",
       "Acta Physiologica Scandinavica                                                                                     0001-6772                                                                  3\n",
       "Acta Physiologica Scandinavica. Supplementum (Sweden). no. 503.                                                    0302-2994                                                                  1\n",
       "Acta Phytophylacica Sinica                                                                                         0577-7518                                                                  2\n",
       "                                                                                                                                                                                             ..\n",
       "Zimbabwe Veterinary Journal                                                                                        1016-1511                                                                  1\n",
       "Zivocisna Vyroba UVTIZ                                                                                             0044-4847                                                                  2\n",
       "Znanost i praksa u poljoprivredi i prehrambenoj tehnologiji                                                        0352-1346                                                                  1\n",
       "Zoo Anvers                                                                                                         0044-5029                                                                  1\n",
       "Zoologia (Curitiba, Impresso)                                                                                      1984-4670                                                                  1\n",
       "Zoologica Poloniae                                                                                                 0044-510X                                                                  2\n",
       "Zoologicheskii zhurnal                                                                                             0044-5134                                                                  2\n",
       "Zoologicke Listy                                                                                                   0044-5142                                                                  1\n",
       "Zoologische Jahrbucher. Abteilung fur Systematik, Okologie und Geographie der Tiere                                0044-5193                                                                  1\n",
       "Zoologische Jahrbucher. Abteilung fur allgemeine Zoologie und Physiologie der Tiere                                0044-5185                                                                  1\n",
       "Zoologischer Anzeiger                                                                                              0044-5231                                                                  2\n",
       "Zoology in the Middle East                                                                                         2326-2680                                                                  1\n",
       "Zootaxa                                                                                                            1175-5334                                                                  1\n",
       "Zootecnica e Nutrizione Animale                                                                                    0390-0487                                                                  1\n",
       "Zucker                                                                                                             0044-3174                                                                  1\n",
       "Zucker- und Suesswaren Wirtschaft (Germany)                                                                        0373-0204                                                                  1\n",
       "Zuckerindustrie                                                                                                    0344-8657                                                                  5\n",
       "Zuckerruebe (Germany)                                                                                              0044-5398                                                                  1\n",
       "arabidopsis book                                                                                                   1543-8120                                                                  1\n",
       "dlz, die landtechnische zeitschrift (Germany, F.R.)                                                                0011-5010                                                                  5\n",
       "international forestry review                                                                                      1465-5489                                                                  1\n",
       "international journal of biochemistry & cell biology                                                               1357-2725                                                                  3\n",
       "journal of nutrition, health & aging                                                                               1279-7707                                                                  1\n",
       "journal of pediatrics                                                                                              0022-3476                                                                  4\n",
       "lancet                                                                                                             0140-6736                                                                  3\n",
       "proceedings of the Louisiana Academy of Sciences                                                                   0096-9192                                                                  1\n",
       "Амурский зоологический журнал                                                                                      1999-4079                                                                  1\n",
       "Екологично инженерство и опазване на околната среда (България) )                                                   1311-8668                                                                  1\n",
       "Конкурентоспособность в глобальном мире: экономика, наука, технологии                                              2412-883X                                                                  1\n",
       "Международный научно-исследовательский журнал                                                                      2303-9868                                                                  2\n",
       "Name: journalIssn, dtype: int64"
      ]
     },
     "execution_count": 36,
     "metadata": {},
     "output_type": "execute_result"
    }
   ],
   "source": [
    "articles.groupby('journalData').journalIssn.value_counts()"
   ]
  },
  {
   "cell_type": "markdown",
   "metadata": {},
   "source": [
    "## Languages correctness"
   ]
  },
  {
   "cell_type": "markdown",
   "metadata": {},
   "source": [
    "We have detected that sometimes language codes are capitalized, so we will transform all codes to lower case. Additionally, we want to be sure that the codes are correct so we have found a dataset with all the language codes and the language which is representing the code in English. Therefor, we will verify the language codes with the language codes dataset and we will fill another column with the language in English for a more visual understanding."
   ]
  },
  {
   "cell_type": "code",
   "execution_count": 37,
   "metadata": {
    "collapsed": false
   },
   "outputs": [],
   "source": [
    "articles.language = articles.language.str.lower()"
   ]
  },
  {
   "cell_type": "code",
   "execution_count": 38,
   "metadata": {
    "collapsed": false
   },
   "outputs": [
    {
     "data": {
      "text/plain": [
       "language         language       \n",
       "afr              afr                   3\n",
       "ara              ara                   5\n",
       "bel              bel                   2\n",
       "bem              bem                   6\n",
       "bul              bul                  43\n",
       "cat              cat                   1\n",
       "chi              chi                 106\n",
       "cze              cze                  55\n",
       "dan              dan                  53\n",
       "dut              dut                  84\n",
       "eng              eng                7254\n",
       "eng|ara          eng|ara               1\n",
       "eng|dan          eng|dan               2\n",
       "eng|esp          eng|esp               2\n",
       "eng|fre          eng|fre               7\n",
       "eng|fre|esp      eng|fre|esp           9\n",
       "eng|fre|spa      eng|fre|spa           1\n",
       "eng|ger          eng|ger               4\n",
       "eng|ger|fre      eng|ger|fre           1\n",
       "eng|ger|fre|ita  eng|ger|fre|ita       1\n",
       "eng|hun          eng|hun               1\n",
       "eng|may          eng|may               1\n",
       "eng|nor          eng|nor               1\n",
       "eng|por          eng|por               1\n",
       "eng|rus          eng|rus              34\n",
       "eng|spa          eng|spa               1\n",
       "eng|swe          eng|swe               1\n",
       "esp              esp                 318\n",
       "fin              fin                   3\n",
       "fra              fra                  29\n",
       "                                    ... \n",
       "geo              geo                   3\n",
       "ger              ger                 632\n",
       "gre              gre                   2\n",
       "gua              gua                   1\n",
       "heb              heb                   5\n",
       "hun              hun                  46\n",
       "ind              ind                  43\n",
       "ita              ita                 197\n",
       "jpn              jpn                 209\n",
       "kor              kor                  10\n",
       "lav              lav                   8\n",
       "mul              mul                   3\n",
       "nor              nor                  12\n",
       "per              per                   7\n",
       "phi              phi                   3\n",
       "pol              pol                  80\n",
       "por              por                 135\n",
       "rum              rum                  41\n",
       "rus              rus                 447\n",
       "scc              scc                   8\n",
       "scr              scr                  11\n",
       "slo              slo                  27\n",
       "slv              slv                   4\n",
       "spa              spa                  51\n",
       "srp              srp                   3\n",
       "swe              swe                  25\n",
       "tha              tha                   4\n",
       "tha|eng          tha|eng               1\n",
       "tur              tur                   1\n",
       "ukr              ukr                  14\n",
       "Name: language, dtype: int64"
      ]
     },
     "execution_count": 38,
     "metadata": {},
     "output_type": "execute_result"
    }
   ],
   "source": [
    "articles.groupby('language').language.value_counts()"
   ]
  },
  {
   "cell_type": "code",
   "execution_count": null,
   "metadata": {
    "collapsed": true
   },
   "outputs": [],
   "source": [
    "langs = pd.read_csv(\"data/language-codes-3b2.csv\", sep=\",\",header=0,low_memory=False)"
   ]
  },
  {
   "cell_type": "code",
   "execution_count": null,
   "metadata": {
    "collapsed": true
   },
   "outputs": [],
   "source": [
    "def extractLanguageName(lang):\n",
    "    langName = langs.ix[langs['alpha3-b'] == lang, 'English']\n",
    "    if(langName.count() > 0):\n",
    "        return langName.iloc[0]\n",
    "    else:\n",
    "        return np.nan"
   ]
  },
  {
   "cell_type": "code",
   "execution_count": null,
   "metadata": {
    "collapsed": false
   },
   "outputs": [],
   "source": [
    "articles['languageName'] = articles.language.map(extractLanguageName)"
   ]
  },
  {
   "cell_type": "code",
   "execution_count": null,
   "metadata": {
    "collapsed": false
   },
   "outputs": [],
   "source": [
    "langs.ix[langs['alpha3-b'] == 'fre', 'English'].iloc[0]"
   ]
  },
  {
   "cell_type": "code",
   "execution_count": null,
   "metadata": {
    "collapsed": false
   },
   "outputs": [],
   "source": [
    "articles[articles.languageName.isnull() == True].language.value_counts()"
   ]
  },
  {
   "cell_type": "code",
   "execution_count": null,
   "metadata": {
    "collapsed": false
   },
   "outputs": [],
   "source": [
    "articles.ix[articles.language == 'esp','languageName'] = 'Spanish; Castilian'\n",
    "articles.ix[articles.language == 'esp','language'] = 'spa'\n",
    "articles.ix[articles.language == 'fra','languageName'] = 'French'\n",
    "articles.ix[articles.language == 'fra','language'] = 'fre'"
   ]
  },
  {
   "cell_type": "markdown",
   "metadata": {},
   "source": [
    "### Set conference Ids"
   ]
  },
  {
   "cell_type": "code",
   "execution_count": null,
   "metadata": {
    "collapsed": false,
    "scrolled": true
   },
   "outputs": [],
   "source": [
    "conferenceDF[\"conferenceId\"] = np.nan"
   ]
  },
  {
   "cell_type": "code",
   "execution_count": null,
   "metadata": {
    "collapsed": true
   },
   "outputs": [],
   "source": [
    "# https://docs.python.org/2.4/lib/sequence-matcher.html\n",
    "\n",
    "# Return a measure of the sequences' similarity as a float in the range [0, 1].\n",
    "# Where T is the total number of elements in both sequences, and M is the number of matches, this is 2.0*M / T. \n",
    "# Note that this is 1.0 if the sequences are identical, and 0.0 if they have nothing in common.\n",
    "# This is expensive to compute if get_matching_blocks() or get_opcodes() hasn't already been called, \n",
    "# in which case you may want to try quick_ratio() or real_quick_ratio() first to get an upper bound.\n",
    "\n",
    "def similar(a, b):\n",
    "    return SequenceMatcher(None, a, b).ratio()"
   ]
  },
  {
   "cell_type": "code",
   "execution_count": null,
   "metadata": {
    "collapsed": true
   },
   "outputs": [],
   "source": [
    "# https://en.wikipedia.org/wiki/Jaccard_index\n",
    "\n",
    "# The Jaccard Similarity between two sets A, B is\n",
    "# |Intersection(A, B)| / |Union(A, B)|\n",
    "\n",
    "def jaccardSimilarity (totalCommon, totalA, totalB):\n",
    "    union = totalA + totalB - totalCommon\n",
    "    return totalCommon * 1.0 / union\n",
    "\n",
    "def intersect(a,b):\n",
    "    res = []\n",
    "    for x in a:\n",
    "        if x in b:\n",
    "            res.append(x)\n",
    "    return res\n",
    "\n",
    "def parseData(a,b):\n",
    "    val = jaccardSimilarity(len(intersect(a[0],b[0])),len(a[0]),len(b[0]))\n",
    "    return (a[1],b[1],val)"
   ]
  },
  {
   "cell_type": "code",
   "execution_count": null,
   "metadata": {
    "collapsed": true
   },
   "outputs": [],
   "source": [
    "# https://en.wikibooks.org/wiki/Algorithm_Implementation/Strings/Levenshtein_distance#Python\n",
    "# https://pypi.python.org/pypi/editdistance\n",
    "\n",
    "# Levenshtein distance algorithm. This tells us the number of edits needed to turn one string into another. \n",
    "\n",
    "def levenshtein(source, target):\n",
    "    if len(source) < len(target):\n",
    "        return levenshtein(target, source)\n",
    "\n",
    "    # So now we have len(source) >= len(target).\n",
    "    if len(target) == 0:\n",
    "        return len(source)\n",
    "\n",
    "    # We call tuple() to force strings to be used as sequences\n",
    "    # ('c', 'a', 't', 's') - numpy uses them as values by default.\n",
    "    source = np.array(tuple(source))\n",
    "    target = np.array(tuple(target))\n",
    "\n",
    "    # We use a dynamic programming algorithm, but with the\n",
    "    # added optimization that we only need the last two rows\n",
    "    # of the matrix.\n",
    "    previous_row = np.arange(target.size + 1)\n",
    "    for s in source:\n",
    "        # Insertion (target grows longer than source):\n",
    "        current_row = previous_row + 1\n",
    "\n",
    "        # Substitution or matching:\n",
    "        # Target and source items are aligned, and either\n",
    "        # are different (cost of 1), or are the same (cost of 0).\n",
    "        current_row[1:] = np.minimum(\n",
    "                current_row[1:],\n",
    "                np.add(previous_row[:-1], target != s))\n",
    "\n",
    "        # Deletion (target grows shorter than source):\n",
    "        current_row[1:] = np.minimum(\n",
    "                current_row[1:],\n",
    "                current_row[0:-1] + 1)\n",
    "\n",
    "        previous_row = current_row\n",
    "\n",
    "    return previous_row[-1]"
   ]
  },
  {
   "cell_type": "code",
   "execution_count": null,
   "metadata": {
    "collapsed": true
   },
   "outputs": [],
   "source": [
    "# DIMSUM\n",
    "\n",
    "# http://spark.apache.org/docs/2.0.2/api/python/pyspark.mllib.html#module-pyspark.mllib.linalg.distributed\n",
    "# https://es.wikipedia.org/wiki/Similitud_coseno\n",
    "# https://databricks.com/blog/2014/10/20/efficient-similarity-algorithm-now-in-spark-twitter.html\n",
    "\n",
    "def lexicoOrder(s):\n",
    "    s.sort(key=lambda item: (len(item), item))\n",
    "    return s\n",
    "\n",
    "htf = HashingTF()\n",
    "\n",
    "def parseHash(e):\n",
    "    return htf.indexOf(e)\n",
    "\n",
    "def parseStringToHashItemsList(s):\n",
    "    res = []\n",
    "    for e in lexicoOrder(s.split(\" \")):\n",
    "        res.append(parseHash(e))\n",
    "    return res\n",
    "    \n",
    "rows = sc.parallelize(strings).map(parseStringToHashItemsList)\n",
    "\n",
    "    mat = RowMatrix(rows)\n",
    "\n",
    "def parseVec(v,idx):\n",
    "    vec = []\n",
    "    for idy, el in enumerate(v.toArray()):\n",
    "        vec.append(MatrixEntry(idy,idx,el))\n",
    "    return vec\n",
    "  \n",
    "\n",
    "def transpose(m):\n",
    "    rows = m.rows\n",
    "    rdd = rows.zipWithIndex().flatMap(lambda (vec, idx): [x for x in parseVec(vec,idx)])\n",
    "    return rdd\n",
    "\n",
    "coordMat = CoordinateMatrix(transpose(mat))\n",
    "rowMatrix = coordMat.toRowMatrix()\n",
    "mat = rowMatrix\n",
    "\n",
    "sims = mat.columnSimilarities() # sims es del tipus CoordinateMatrix\n",
    "# sims.entries és un RDD de MatrixEntry del format (long,long,float)\n",
    "\n",
    "transformedRDD = sims.entries.map(lambda e: np.array([e.i,e.j,e.value]))\n",
    "print transformedRDD.collect()"
   ]
  },
  {
   "cell_type": "code",
   "execution_count": null,
   "metadata": {
    "collapsed": true
   },
   "outputs": [],
   "source": [
    "# https://en.wikipedia.org/wiki/MinHash\n",
    "# Implemented in the last scala or java API \n",
    "# http://spark.apache.org/docs/latest/api/scala/index.html#org.apache.spark.ml.feature.MinHashLSH\n",
    "# http://spark.apache.org/docs/2.1.0/api/java/org/apache/spark/ml/feature/MinHashLSH.html\n",
    "\n"
   ]
  },
  {
   "cell_type": "code",
   "execution_count": null,
   "metadata": {
    "collapsed": false
   },
   "outputs": [],
   "source": [
    "def similarConference(a,b):\n",
    "    if a[\"conferenceDateYear\"] != b[\"conferenceDateYear\"]:\n",
    "        return False\n",
    "    return similar(a[\"conferenceData\"],b[\"conferenceData\"]) > 0.6\n",
    "\n",
    "def conferenceComput(cdf):\n",
    "    ID = 1\n",
    "    diff = 0\n",
    "    addNew = True\n",
    "    for idx, x in cdf[cdf.conferenceData.notnull()].iterrows():\n",
    "        if ID == 1:\n",
    "            cdf.loc[idx,\"conferenceId\"] = ID\n",
    "            ID += 1\n",
    "            continue\n",
    "        for idy, y in cdf[cdf.conferenceId.notnull()].iterrows():\n",
    "            if similarConference(x,y):\n",
    "                #cdf.loc[idx,\"conferenceId\"] = cdf.loc[idy,\"conferenceId\"]\n",
    "                cdf.set_value(idx,\"conferenceId\",cdf.loc[idy,\"conferenceId\"])\n",
    "                addNew = False\n",
    "                diff += 1\n",
    "                break\n",
    "        if addNew:\n",
    "            cdf.loc[idx,\"conferenceId\"] = ID\n",
    "            ID += 1\n",
    "        addNew = True\n",
    "    return diff\n",
    "conferenceComput(conferenceDF)"
   ]
  },
  {
   "cell_type": "code",
   "execution_count": null,
   "metadata": {
    "collapsed": true
   },
   "outputs": [],
   "source": []
  },
  {
   "cell_type": "code",
   "execution_count": null,
   "metadata": {
    "collapsed": true
   },
   "outputs": [],
   "source": [
    "articles[\"ConferenceId\"] = conferenceDF.conferenceId"
   ]
  },
  {
   "cell_type": "markdown",
   "metadata": {},
   "source": [
    "# Coauthors networks"
   ]
  },
  {
   "cell_type": "code",
   "execution_count": 44,
   "metadata": {
    "collapsed": false
   },
   "outputs": [],
   "source": [
    "authorsLines = sc.textFile(\"data/authors.csv\")\n",
    "header = authorsLines.first()\n",
    "rows = authorsLines.filter(lambda line: line != header)\n",
    "authors = rows.flatMap(lambda line: re.findall('\"([^\"]*)\"', line)).map(lambda a: a.split('|')) "
   ]
  },
  {
   "cell_type": "code",
   "execution_count": 45,
   "metadata": {
    "collapsed": false
   },
   "outputs": [
    {
     "data": {
      "text/plain": [
       "5576414"
      ]
     },
     "execution_count": 45,
     "metadata": {},
     "output_type": "execute_result"
    }
   ],
   "source": [
    "authorsLines.count()"
   ]
  },
  {
   "cell_type": "markdown",
   "metadata": {},
   "source": [
    "## Coauthorship networks"
   ]
  },
  {
   "cell_type": "markdown",
   "metadata": {},
   "source": [
    "As the final objective of this project is to disambiguate author names which corresponds to different persons, we will do it by obtaining the coauthorship networks of a given author and toughen the different networks with other parameters. \n",
    "\n",
    "The first step of this process is to extract the coauthorship networks of a given author. To do it, we filter the rows searching for the given author and we obtain the network representing the relations of this author."
   ]
  },
  {
   "cell_type": "code",
   "execution_count": 54,
   "metadata": {
    "collapsed": false
   },
   "outputs": [
    {
     "data": {
      "text/plain": [
       "20"
      ]
     },
     "execution_count": 54,
     "metadata": {},
     "output_type": "execute_result"
    }
   ],
   "source": [
    "import itertools   \n",
    "keyToSearch = 'Zidorn, C.'#'Yamaoka, Y.'#'Zidorn, C.'#'Ellmerer, E.P.'#'Congress.'\n",
    "filteredAuthors = authors.map(set).filter(lambda a: keyToSearch in a).map(lambda a: a.difference({keyToSearch}))\n",
    "filteredAuthors.count()"
   ]
  },
  {
   "cell_type": "code",
   "execution_count": 55,
   "metadata": {
    "collapsed": true
   },
   "outputs": [],
   "source": [
    "coauthors = filteredAuthors.flatMap(lambda a: [[tuple(sorted(coauth)), 1] for coauth in itertools.combinations(a, 2)])\n",
    "coauthorsMap = coauthors.reduceByKey(lambda x, y: x + y)\n",
    "coauthorsList = coauthorsMap.map(lambda (key,val): (key[0],key[1],val))"
   ]
  },
  {
   "cell_type": "code",
   "execution_count": 56,
   "metadata": {
    "collapsed": true
   },
   "outputs": [],
   "source": [
    "def yieldFunc(list):\n",
    "    for item in list:\n",
    "        yield item\n",
    "coauthorsunique = filteredAuthors.flatMap(yieldFunc).map(lambda x: (x,1)).reduceByKey(lambda x,y: x+y)"
   ]
  },
  {
   "cell_type": "code",
   "execution_count": 57,
   "metadata": {
    "collapsed": false
   },
   "outputs": [],
   "source": [
    "def toCSVLine(data):\n",
    "    return ';'.join(str(d) for d in data)\n",
    "\n",
    "lines = coauthorsunique.map(toCSVLine)\n",
    "lines.saveAsTextFile(\"data/coauthorsunique/\" + keyToSearch.split(\",\")[0]);\n",
    "\n",
    "lines = coauthorsList.map(toCSVLine)\n",
    "lines.saveAsTextFile(\"data/coauthorslist/\" + keyToSearch.split(\",\")[0]);"
   ]
  },
  {
   "cell_type": "markdown",
   "metadata": {},
   "source": [
    "## Most frequent coauthors"
   ]
  },
  {
   "cell_type": "markdown",
   "metadata": {},
   "source": [
    "We have used the algorithm FP-Growth to obtain the most frequent coauthor networks oof two or more authors. Later on, we will use this results to toughen the relation between these author on the particular author's coauthorship networks graph. By this way, when we will see a strong line between two authors on a coauthorship network we will rely on this relation and it will be another factor to determine that the author is only one person for this coauthorship network."
   ]
  },
  {
   "cell_type": "code",
   "execution_count": 58,
   "metadata": {
    "collapsed": true
   },
   "outputs": [],
   "source": [
    "coauthors = authors.map(lambda a: list(set(a)))"
   ]
  },
  {
   "cell_type": "code",
   "execution_count": 59,
   "metadata": {
    "collapsed": true
   },
   "outputs": [],
   "source": [
    "from pyspark.mllib.fpm import FPGrowth\n",
    "\n",
    "model = FPGrowth.train(coauthors, minSupport=0.00001, numPartitions=4)\n",
    "rddfreqitemsets = model.freqItemsets()"
   ]
  },
  {
   "cell_type": "code",
   "execution_count": 60,
   "metadata": {
    "collapsed": true
   },
   "outputs": [],
   "source": [
    "result = rddfreqitemsets.filter(lambda x  : len(x.items) >= 2).collect()"
   ]
  },
  {
   "cell_type": "markdown",
   "metadata": {},
   "source": [
    "Unfortunately, most of the authors obtained from this algorithm are Universities or other strange names that does not correspond to an author name."
   ]
  },
  {
   "cell_type": "code",
   "execution_count": 61,
   "metadata": {
    "collapsed": false
   },
   "outputs": [
    {
     "data": {
      "text/plain": [
       "[FreqItemset(items=[u'O., College of Education', u'O.T., Afe Babalola University'], freq=54),\n",
       " FreqItemset(items=[u'O., College of Education', u'O.T., Afe Babalola University', u'A.A., Afe Babalola University'], freq=54),\n",
       " FreqItemset(items=[u'O., College of Education', u'A.A., Afe Babalola University'], freq=54),\n",
       " FreqItemset(items=[u'Iinuma, M.', u'Tanaka, T.'], freq=91),\n",
       " FreqItemset(items=[u'T.A., Lagos State Polytechnic', u'A.S., Lagos State Polytechnic'], freq=54),\n",
       " FreqItemset(items=[u'O.A., Lagos State Polytechnic', u'Y.O., Lagos State Polytechnic'], freq=54),\n",
       " FreqItemset(items=[u'O.A., Lagos State Polytechnic', u'Y.O., Lagos State Polytechnic', u'D.O., Lagos State Polytechnic'], freq=54),\n",
       " FreqItemset(items=[u'O.A., Lagos State Polytechnic', u'D.O., Lagos State Polytechnic'], freq=54),\n",
       " FreqItemset(items=[u'Degraer, S.', u'Vincx, M.'], freq=96),\n",
       " FreqItemset(items=[u'Nguyen, Vietnam Academy of Science and Technology', u'Tran Dang, Hiroshima University'], freq=54),\n",
       " FreqItemset(items=[u'Nguyen, Vietnam Academy of Science and Technology', u'Trinh Thi, Vietnam Academy of Science and Technology'], freq=54),\n",
       " FreqItemset(items=[u'Nguyen, Vietnam Academy of Science and Technology', u'Trinh Thi, Vietnam Academy of Science and Technology', u'Tran Dang, Hiroshima University'], freq=54),\n",
       " FreqItemset(items=[u'Nguyen, Vietnam Academy of Science and Technology', u'Trinh Thi, Vietnam Academy of Science and Technology', u'Tran Van, Vietnam Academy of Science and Technology'], freq=54),\n",
       " FreqItemset(items=[u'Nguyen, Vietnam Academy of Science and Technology', u'Trinh Thi, Vietnam Academy of Science and Technology', u'Tran Van, Vietnam Academy of Science and Technology', u'Tran Dang, Hiroshima University'], freq=54),\n",
       " FreqItemset(items=[u'Nguyen, Vietnam Academy of Science and Technology', u'Tran Van, Vietnam Academy of Science and Technology'], freq=54),\n",
       " FreqItemset(items=[u'Nguyen, Vietnam Academy of Science and Technology', u'Tran Van, Vietnam Academy of Science and Technology', u'Tran Dang, Hiroshima University'], freq=54),\n",
       " FreqItemset(items=[u'Tolle, A.', u'Heeschen, W.'], freq=65),\n",
       " FreqItemset(items=[u'Goutam, Rabindra Bharati University', u'Chandrayee, Rabindra Bharati University'], freq=54),\n",
       " FreqItemset(items=[u'Taslim T., KSKV Kachchh University', u'Vijay R., KSKV Kachchh University'], freq=54),\n",
       " FreqItemset(items=[u'Taslim T., KSKV Kachchh University', u'Vijay R., KSKV Kachchh University', u'Suhas J., KSKV Kachchh University'], freq=54),\n",
       " FreqItemset(items=[u'Taslim T., KSKV Kachchh University', u'Vijay R., KSKV Kachchh University', u'Pragnesh N., KSKV Kachchh University'], freq=54),\n",
       " FreqItemset(items=[u'Taslim T., KSKV Kachchh University', u'Vijay R., KSKV Kachchh University', u'Pragnesh N., KSKV Kachchh University', u'Suhas J., KSKV Kachchh University'], freq=54),\n",
       " FreqItemset(items=[u'Taslim T., KSKV Kachchh University', u'Hitendra S., Saurashtra University'], freq=54),\n",
       " FreqItemset(items=[u'Taslim T., KSKV Kachchh University', u'Hitendra S., Saurashtra University', u'Vijay R., KSKV Kachchh University'], freq=54),\n",
       " FreqItemset(items=[u'Taslim T., KSKV Kachchh University', u'Hitendra S., Saurashtra University', u'Vijay R., KSKV Kachchh University', u'Suhas J., KSKV Kachchh University'], freq=54),\n",
       " FreqItemset(items=[u'Taslim T., KSKV Kachchh University', u'Hitendra S., Saurashtra University', u'Vijay R., KSKV Kachchh University', u'Pragnesh N., KSKV Kachchh University'], freq=54),\n",
       " FreqItemset(items=[u'Taslim T., KSKV Kachchh University', u'Hitendra S., Saurashtra University', u'Vijay R., KSKV Kachchh University', u'Pragnesh N., KSKV Kachchh University', u'Suhas J., KSKV Kachchh University'], freq=54),\n",
       " FreqItemset(items=[u'Taslim T., KSKV Kachchh University', u'Hitendra S., Saurashtra University', u'Suhas J., KSKV Kachchh University'], freq=54),\n",
       " FreqItemset(items=[u'Taslim T., KSKV Kachchh University', u'Hitendra S., Saurashtra University', u'Pragnesh N., KSKV Kachchh University'], freq=54),\n",
       " FreqItemset(items=[u'Taslim T., KSKV Kachchh University', u'Hitendra S., Saurashtra University', u'Pragnesh N., KSKV Kachchh University', u'Suhas J., KSKV Kachchh University'], freq=54),\n",
       " FreqItemset(items=[u'Taslim T., KSKV Kachchh University', u'Suhas J., KSKV Kachchh University'], freq=54),\n",
       " FreqItemset(items=[u'Taslim T., KSKV Kachchh University', u'Pragnesh N., KSKV Kachchh University'], freq=54),\n",
       " FreqItemset(items=[u'Taslim T., KSKV Kachchh University', u'Pragnesh N., KSKV Kachchh University', u'Suhas J., KSKV Kachchh University'], freq=54),\n",
       " FreqItemset(items=[u'Szendrei, K.', u'Reisch, J.'], freq=54),\n",
       " FreqItemset(items=[u'Vaswati, University of Calcutta', u'Somdeep, University of Calcutta'], freq=54),\n",
       " FreqItemset(items=[u'Vaswati, University of Calcutta', u'Somdeep, University of Calcutta', u'Punarbasu, University of Calcutta'], freq=54),\n",
       " FreqItemset(items=[u'Vaswati, University of Calcutta', u'Somdeep, University of Calcutta', u'Madhurima, University of Calcutta'], freq=54),\n",
       " FreqItemset(items=[u'Vaswati, University of Calcutta', u'Somdeep, University of Calcutta', u'Madhurima, University of Calcutta', u'Punarbasu, University of Calcutta'], freq=54),\n",
       " FreqItemset(items=[u'Vaswati, University of Calcutta', u'Harish, University of Calcutta'], freq=54),\n",
       " FreqItemset(items=[u'Vaswati, University of Calcutta', u'Harish, University of Calcutta', u'Somdeep, University of Calcutta'], freq=54),\n",
       " FreqItemset(items=[u'Vaswati, University of Calcutta', u'Harish, University of Calcutta', u'Somdeep, University of Calcutta', u'Punarbasu, University of Calcutta'], freq=54),\n",
       " FreqItemset(items=[u'Vaswati, University of Calcutta', u'Harish, University of Calcutta', u'Somdeep, University of Calcutta', u'Madhurima, University of Calcutta'], freq=54),\n",
       " FreqItemset(items=[u'Vaswati, University of Calcutta', u'Harish, University of Calcutta', u'Somdeep, University of Calcutta', u'Madhurima, University of Calcutta', u'Punarbasu, University of Calcutta'], freq=54),\n",
       " FreqItemset(items=[u'Vaswati, University of Calcutta', u'Harish, University of Calcutta', u'Barnali Ray, '], freq=54),\n",
       " FreqItemset(items=[u'Vaswati, University of Calcutta', u'Harish, University of Calcutta', u'Barnali Ray, ', u'Somdeep, University of Calcutta'], freq=54),\n",
       " FreqItemset(items=[u'Vaswati, University of Calcutta', u'Harish, University of Calcutta', u'Barnali Ray, ', u'Somdeep, University of Calcutta', u'Punarbasu, University of Calcutta'], freq=54),\n",
       " FreqItemset(items=[u'Vaswati, University of Calcutta', u'Harish, University of Calcutta', u'Barnali Ray, ', u'Somdeep, University of Calcutta', u'Madhurima, University of Calcutta'], freq=54),\n",
       " FreqItemset(items=[u'Vaswati, University of Calcutta', u'Harish, University of Calcutta', u'Barnali Ray, ', u'Somdeep, University of Calcutta', u'Madhurima, University of Calcutta', u'Punarbasu, University of Calcutta'], freq=54),\n",
       " FreqItemset(items=[u'Vaswati, University of Calcutta', u'Harish, University of Calcutta', u'Barnali Ray, ', u'Punarbasu, University of Calcutta'], freq=54),\n",
       " FreqItemset(items=[u'Vaswati, University of Calcutta', u'Harish, University of Calcutta', u'Barnali Ray, ', u'Madhurima, University of Calcutta'], freq=54),\n",
       " FreqItemset(items=[u'Vaswati, University of Calcutta', u'Harish, University of Calcutta', u'Barnali Ray, ', u'Madhurima, University of Calcutta', u'Punarbasu, University of Calcutta'], freq=54),\n",
       " FreqItemset(items=[u'Vaswati, University of Calcutta', u'Harish, University of Calcutta', u'Punarbasu, University of Calcutta'], freq=54),\n",
       " FreqItemset(items=[u'Vaswati, University of Calcutta', u'Harish, University of Calcutta', u'Madhurima, University of Calcutta'], freq=54),\n",
       " FreqItemset(items=[u'Vaswati, University of Calcutta', u'Harish, University of Calcutta', u'Madhurima, University of Calcutta', u'Punarbasu, University of Calcutta'], freq=54),\n",
       " FreqItemset(items=[u'Vaswati, University of Calcutta', u'Barnali Ray, '], freq=54),\n",
       " FreqItemset(items=[u'Vaswati, University of Calcutta', u'Barnali Ray, ', u'Somdeep, University of Calcutta'], freq=54),\n",
       " FreqItemset(items=[u'Vaswati, University of Calcutta', u'Barnali Ray, ', u'Somdeep, University of Calcutta', u'Punarbasu, University of Calcutta'], freq=54),\n",
       " FreqItemset(items=[u'Vaswati, University of Calcutta', u'Barnali Ray, ', u'Somdeep, University of Calcutta', u'Madhurima, University of Calcutta'], freq=54),\n",
       " FreqItemset(items=[u'Vaswati, University of Calcutta', u'Barnali Ray, ', u'Somdeep, University of Calcutta', u'Madhurima, University of Calcutta', u'Punarbasu, University of Calcutta'], freq=54),\n",
       " FreqItemset(items=[u'Vaswati, University of Calcutta', u'Barnali Ray, ', u'Punarbasu, University of Calcutta'], freq=54),\n",
       " FreqItemset(items=[u'Vaswati, University of Calcutta', u'Barnali Ray, ', u'Madhurima, University of Calcutta'], freq=54),\n",
       " FreqItemset(items=[u'Vaswati, University of Calcutta', u'Barnali Ray, ', u'Madhurima, University of Calcutta', u'Punarbasu, University of Calcutta'], freq=54),\n",
       " FreqItemset(items=[u'Vaswati, University of Calcutta', u'Punarbasu, University of Calcutta'], freq=54),\n",
       " FreqItemset(items=[u'Vaswati, University of Calcutta', u'Madhurima, University of Calcutta'], freq=54),\n",
       " FreqItemset(items=[u'Vaswati, University of Calcutta', u'Madhurima, University of Calcutta', u'Punarbasu, University of Calcutta'], freq=54),\n",
       " FreqItemset(items=[u'D., Annamalai University', u'K., Annamalai University'], freq=54),\n",
       " FreqItemset(items=[u'D., Annamalai University', u'K., Annamalai University', u'R., Annamalai University'], freq=54),\n",
       " FreqItemset(items=[u'D., Annamalai University', u'T., Annamalai University'], freq=108),\n",
       " FreqItemset(items=[u'D., Annamalai University', u'T., Annamalai University', u'S., Annamalai University'], freq=108),\n",
       " FreqItemset(items=[u'D., Annamalai University', u'M., Annamalai University'], freq=108),\n",
       " FreqItemset(items=[u'D., Annamalai University', u'M., Annamalai University', u'T., Annamalai University'], freq=108),\n",
       " FreqItemset(items=[u'D., Annamalai University', u'M., Annamalai University', u'T., Annamalai University', u'S., Annamalai University'], freq=108),\n",
       " FreqItemset(items=[u'D., Annamalai University', u'M., Annamalai University', u'S., Annamalai University'], freq=108),\n",
       " FreqItemset(items=[u'D., Annamalai University', u'R., Annamalai University'], freq=54),\n",
       " FreqItemset(items=[u'D., Annamalai University', u'S., Annamalai University'], freq=270),\n",
       " FreqItemset(items=[u'Shilpa, GITAM University', u'B., GITAM University'], freq=54),\n",
       " FreqItemset(items=[u'T., GITAM University', u'P.Y., Analytical Research and Development'], freq=54),\n",
       " FreqItemset(items=[u'T., GITAM University', u'P.Y., Analytical Research and Development', u'Chandra Mouli, GITAM University'], freq=54),\n",
       " FreqItemset(items=[u'T., GITAM University', u'Chandra Mouli, GITAM University'], freq=54),\n",
       " FreqItemset(items=[u'Anil, DAV University', u'Amit, PGIMER'], freq=54),\n",
       " FreqItemset(items=[u'S., A.V.C. College (Autonomous)', u'T.M. Sathees, A.V.C. College (Autonomous)'], freq=54),\n",
       " FreqItemset(items=[u'S., A.V.C. College (Autonomous)', u'S., Government Arts College'], freq=54),\n",
       " FreqItemset(items=[u'S., A.V.C. College (Autonomous)', u'S., Government Arts College', u'T.M. Sathees, A.V.C. College (Autonomous)'], freq=54),\n",
       " FreqItemset(items=[u'S., Wollo University', u'O.P., Wollo University'], freq=54),\n",
       " FreqItemset(items=[u'Alireza Sadeghi, University of Gorgan', u'Yaya, University of Gorgan'], freq=54),\n",
       " FreqItemset(items=[u'Alireza Sadeghi, University of Gorgan', u'Yaya, University of Gorgan', u'Mahdi Ghajari, University of Gorgan'], freq=54),\n",
       " FreqItemset(items=[u'Alireza Sadeghi, University of Gorgan', u'Mahdi Ghajari, University of Gorgan'], freq=54),\n",
       " FreqItemset(items=[u'B.H., University of Maiduguri', u'A.S., Lake Chad Research Institute'], freq=54),\n",
       " FreqItemset(items=[u'M., Government Arts College', u'K., Annamalai University'], freq=54),\n",
       " FreqItemset(items=[u'M., Government Arts College', u'P.S., Annamalai University'], freq=54),\n",
       " FreqItemset(items=[u'M., Government Arts College', u'P.S., Annamalai University', u'K., Annamalai University'], freq=54),\n",
       " FreqItemset(items=[u'U., Annamalai University', u'A., Annamalai University'], freq=54),\n",
       " FreqItemset(items=[u'Dhrubajyoti, University of Calcutta', u'Soumendra Nath, Rabindra Bharati University'], freq=54),\n",
       " FreqItemset(items=[u'Dhrubajyoti, University of Calcutta', u'Aniruddha, Rabindra Bharati University'], freq=108),\n",
       " FreqItemset(items=[u'Dhrubajyoti, University of Calcutta', u'Aniruddha, Rabindra Bharati University', u'Soumendra Nath, Rabindra Bharati University'], freq=54),\n",
       " FreqItemset(items=[u'Dhrubajyoti, University of Calcutta', u'Sayan, Rabindra Bharati University'], freq=108),\n",
       " FreqItemset(items=[u'Dhrubajyoti, University of Calcutta', u'Sayan, Rabindra Bharati University', u'Soumendra Nath, Rabindra Bharati University'], freq=54),\n",
       " FreqItemset(items=[u'Dhrubajyoti, University of Calcutta', u'Sayan, Rabindra Bharati University', u'Aniruddha, Rabindra Bharati University'], freq=108),\n",
       " FreqItemset(items=[u'Dhrubajyoti, University of Calcutta', u'Sayan, Rabindra Bharati University', u'Aniruddha, Rabindra Bharati University', u'Soumendra Nath, Rabindra Bharati University'], freq=54),\n",
       " FreqItemset(items=[u'D.J., Edo State Institute of Technology and Management', u'F.O., College of Agriculture Iguoriakhi'], freq=54),\n",
       " FreqItemset(items=[u'D.J., Edo State Institute of Technology and Management', u'F.O., College of Agriculture Iguoriakhi', u'I., Auchi Polytechnic'], freq=54),\n",
       " FreqItemset(items=[u'D.J., Edo State Institute of Technology and Management', u'M.A., Edo State Institute of Technology and Management'], freq=54),\n",
       " FreqItemset(items=[u'D.J., Edo State Institute of Technology and Management', u'M.A., Edo State Institute of Technology and Management', u'F.O., College of Agriculture Iguoriakhi'], freq=54),\n",
       " FreqItemset(items=[u'D.J., Edo State Institute of Technology and Management', u'M.A., Edo State Institute of Technology and Management', u'F.O., College of Agriculture Iguoriakhi', u'I., Auchi Polytechnic'], freq=54),\n",
       " FreqItemset(items=[u'D.J., Edo State Institute of Technology and Management', u'M.A., Edo State Institute of Technology and Management', u'I., Auchi Polytechnic'], freq=54),\n",
       " FreqItemset(items=[u'D.J., Edo State Institute of Technology and Management', u'I., Auchi Polytechnic'], freq=54),\n",
       " FreqItemset(items=[u'Tolliver, S.C.', u'Lyons, E.T.'], freq=60),\n",
       " FreqItemset(items=[u'Tolliver, S.C.', u'Drudge, J.H.'], freq=67),\n",
       " FreqItemset(items=[u'Tolliver, S.C.', u'Drudge, J.H.', u'Lyons, E.T.'], freq=53),\n",
       " FreqItemset(items=[u'Agsar, Gulbarga University', u'Allure, Gulbarga University'], freq=54),\n",
       " FreqItemset(items=[u'K., Kerala Agriculture University', u'P.B., Kerala Agriculture University'], freq=54),\n",
       " FreqItemset(items=[u'K., Kerala Agriculture University', u'K.B., Kerala Agriculture University'], freq=54),\n",
       " FreqItemset(items=[u'K., Kerala Agriculture University', u'K.B., Kerala Agriculture University', u'P.B., Kerala Agriculture University'], freq=54),\n",
       " FreqItemset(items=[u'Gill, D.R.', u'Owens, F.N.'], freq=76),\n",
       " FreqItemset(items=[u'Spicher G.', u'Bundesforschungsanstalt fuer Getreide- und Kartoffelverarbeitung, Detmold (Germany, F.R.)'], freq=60),\n",
       " FreqItemset(items=[u'Barnali, Rabindra Bharati University', u'Punarbasu, University of Calcutta'], freq=54),\n",
       " FreqItemset(items=[u'S., Wetland Research and Development', u'R., Kamaraj College'], freq=54),\n",
       " FreqItemset(items=[u'S., Wetland Research and Development', u'J.S. Yogesh, National Coral Reef Research Institute'], freq=54),\n",
       " FreqItemset(items=[u'S., Wetland Research and Development', u'J.S. Yogesh, National Coral Reef Research Institute', u'R., Kamaraj College'], freq=54),\n",
       " FreqItemset(items=[u'Benson, G.J.', u'Tranquilli, W.J.'], freq=51),\n",
       " FreqItemset(items=[u'Benson, G.J.', u'Thurmon, J.C.'], freq=61),\n",
       " FreqItemset(items=[u'No\\xebl, Agn\\xe8s', u'Foidart, Jean-Michel'], freq=65),\n",
       " FreqItemset(items=[u'Naga, GITAM University', u'H. Rahaman, GITAM University'], freq=54),\n",
       " FreqItemset(items=[u'Naga, GITAM University', u'P., GITAM University'], freq=54),\n",
       " FreqItemset(items=[u'Naga, GITAM University', u'P., GITAM University', u'H. Rahaman, GITAM University'], freq=54),\n",
       " FreqItemset(items=[u'Naga, GITAM University', u'Sreelekha, GITAM University'], freq=54),\n",
       " FreqItemset(items=[u'Naga, GITAM University', u'Sreelekha, GITAM University', u'H. Rahaman, GITAM University'], freq=54),\n",
       " FreqItemset(items=[u'Naga, GITAM University', u'Sreelekha, GITAM University', u'P., GITAM University'], freq=54),\n",
       " FreqItemset(items=[u'Naga, GITAM University', u'Sreelekha, GITAM University', u'P., GITAM University', u'H. Rahaman, GITAM University'], freq=54),\n",
       " FreqItemset(items=[u'Kushal, University of Calcutta', u'Soumendra Nath, Rabindra Bharati University'], freq=108),\n",
       " FreqItemset(items=[u'Kushal, University of Calcutta', u'Abantika, University of Calcutta'], freq=216),\n",
       " FreqItemset(items=[u'Kushal, University of Calcutta', u'Abantika, University of Calcutta', u'Soumendra Nath, Rabindra Bharati University'], freq=108),\n",
       " FreqItemset(items=[u'Kushal, University of Calcutta', u'Subhodeep, Asutosh College'], freq=108),\n",
       " FreqItemset(items=[u'Kushal, University of Calcutta', u'Subhodeep, Asutosh College', u'Soumendra Nath, Rabindra Bharati University'], freq=108),\n",
       " FreqItemset(items=[u'Kushal, University of Calcutta', u'Subhodeep, Asutosh College', u'Abantika, University of Calcutta'], freq=108),\n",
       " FreqItemset(items=[u'Kushal, University of Calcutta', u'Subhodeep, Asutosh College', u'Abantika, University of Calcutta', u'Soumendra Nath, Rabindra Bharati University'], freq=108),\n",
       " FreqItemset(items=[u'H.S., University of Maiduguri', u'M.M., University of Maiduguri'], freq=54),\n",
       " FreqItemset(items=[u'Etim Johnson, University of Calabar', u'Edward Ntui, Akwa Ibom State University'], freq=54),\n",
       " FreqItemset(items=[u'Etim Johnson, University of Calabar', u'Edward Ntui, Akwa Ibom State University', u'Glory Akpan, University of Calabar'], freq=54),\n",
       " FreqItemset(items=[u'Etim Johnson, University of Calabar', u'Edward Ntui, Akwa Ibom State University', u'Patrick Ishoro, University of Calabar'], freq=54),\n",
       " FreqItemset(items=[u'Etim Johnson, University of Calabar', u'Edward Ntui, Akwa Ibom State University', u'Patrick Ishoro, University of Calabar', u'Glory Akpan, University of Calabar'], freq=54),\n",
       " FreqItemset(items=[u'Etim Johnson, University of Calabar', u'Glory Akpan, University of Calabar'], freq=54),\n",
       " FreqItemset(items=[u'Etim Johnson, University of Calabar', u'Juliet Bassey, University of Calabar'], freq=54),\n",
       " FreqItemset(items=[u'Etim Johnson, University of Calabar', u'Juliet Bassey, University of Calabar', u'Edward Ntui, Akwa Ibom State University'], freq=54),\n",
       " FreqItemset(items=[u'Etim Johnson, University of Calabar', u'Juliet Bassey, University of Calabar', u'Edward Ntui, Akwa Ibom State University', u'Glory Akpan, University of Calabar'], freq=54),\n",
       " FreqItemset(items=[u'Etim Johnson, University of Calabar', u'Juliet Bassey, University of Calabar', u'Edward Ntui, Akwa Ibom State University', u'Patrick Ishoro, University of Calabar'], freq=54),\n",
       " FreqItemset(items=[u'Etim Johnson, University of Calabar', u'Juliet Bassey, University of Calabar', u'Edward Ntui, Akwa Ibom State University', u'Patrick Ishoro, University of Calabar', u'Glory Akpan, University of Calabar'], freq=54),\n",
       " FreqItemset(items=[u'Etim Johnson, University of Calabar', u'Juliet Bassey, University of Calabar', u'Glory Akpan, University of Calabar'], freq=54),\n",
       " FreqItemset(items=[u'Etim Johnson, University of Calabar', u'Juliet Bassey, University of Calabar', u'Patrick Ishoro, University of Calabar'], freq=54),\n",
       " FreqItemset(items=[u'Etim Johnson, University of Calabar', u'Juliet Bassey, University of Calabar', u'Patrick Ishoro, University of Calabar', u'Glory Akpan, University of Calabar'], freq=54),\n",
       " FreqItemset(items=[u'Etim Johnson, University of Calabar', u'Patrick Ishoro, University of Calabar'], freq=54),\n",
       " FreqItemset(items=[u'Etim Johnson, University of Calabar', u'Patrick Ishoro, University of Calabar', u'Glory Akpan, University of Calabar'], freq=54),\n",
       " FreqItemset(items=[u'Abhishek, Vijaygarh Jyotish Ray College', u'Sudeshna, Vijaygarh Jyotish Ray College'], freq=54),\n",
       " FreqItemset(items=[u'Abhishek, Vijaygarh Jyotish Ray College', u'Pinakiranjan, Vijaygarh Jyotish Ray College'], freq=54),\n",
       " FreqItemset(items=[u'Abhishek, Vijaygarh Jyotish Ray College', u'Pinakiranjan, Vijaygarh Jyotish Ray College', u'Sudeshna, Vijaygarh Jyotish Ray College'], freq=54),\n",
       " FreqItemset(items=[u'Thiyagarajan, Annamalai University', u'Boobalan, Annamalai University'], freq=108),\n",
       " FreqItemset(items=[u'Edward, Michael Okpara University of Agriculture', u'M.N., Michael Okpara University of Agriculture'], freq=54),\n",
       " FreqItemset(items=[u'Y.F., Federal Polytechnic', u'C., Federal Polytechnic'], freq=54),\n",
       " FreqItemset(items=[u'Y.F., Federal Polytechnic', u'A.N., Federal Polytechnic'], freq=54),\n",
       " FreqItemset(items=[u'Y.F., Federal Polytechnic', u'A.N., Federal Polytechnic', u'C., Federal Polytechnic'], freq=54),\n",
       " FreqItemset(items=[u'Harvey, R.B.', u'Kubena, L.F.'], freq=51),\n",
       " FreqItemset(items=[u'S.V., ICAR Research Complex for NEH Region', u'Doni, ICAR Research Complex for NEH Region'], freq=54),\n",
       " FreqItemset(items=[u'S.V., ICAR Research Complex for NEH Region', u'Doni, ICAR Research Complex for NEH Region', u'Rupankar, ICAR Research Complex for NEH Region'], freq=54),\n",
       " FreqItemset(items=[u'S.V., ICAR Research Complex for NEH Region', u'Doni, ICAR Research Complex for NEH Region', u'Kaushik, ICAR Research Complex for NEH Region'], freq=54),\n",
       " FreqItemset(items=[u'S.V., ICAR Research Complex for NEH Region', u'Doni, ICAR Research Complex for NEH Region', u'Kaushik, ICAR Research Complex for NEH Region', u'Rupankar, ICAR Research Complex for NEH Region'], freq=54),\n",
       " FreqItemset(items=[u'S.V., ICAR Research Complex for NEH Region', u'Rupankar, ICAR Research Complex for NEH Region'], freq=108),\n",
       " FreqItemset(items=[u'S.V., ICAR Research Complex for NEH Region', u'Kaushik, ICAR Research Complex for NEH Region'], freq=108),\n",
       " FreqItemset(items=[u'S.V., ICAR Research Complex for NEH Region', u'Kaushik, ICAR Research Complex for NEH Region', u'Rupankar, ICAR Research Complex for NEH Region'], freq=108),\n",
       " FreqItemset(items=[u'Olga, Yuriy Fedkovych Chernivtsi National University', u'Lidiia, Yuriy Fedkovych Chernivtsi National University'], freq=54),\n",
       " FreqItemset(items=[u'Olga, Yuriy Fedkovych Chernivtsi National University', u'Lidiia, Yuriy Fedkovych Chernivtsi National University', u'Larysa, Yuriy Fedkovych Chernivtsi National University'], freq=54),\n",
       " FreqItemset(items=[u'Olga, Yuriy Fedkovych Chernivtsi National University', u'Larysa, Yuriy Fedkovych Chernivtsi National University'], freq=54),\n",
       " FreqItemset(items=[u'Wadhams, L.J.', u'Pickett, J.A.'], freq=59),\n",
       " FreqItemset(items=[u'Dattu, Gulbarga University', u'Shivaraj, Gulbarga University'], freq=108),\n",
       " FreqItemset(items=[u'Dattu, Gulbarga University', u'Shivaraj, Gulbarga University', u'K., Gulbarga University'], freq=54),\n",
       " FreqItemset(items=[u'Dattu, Gulbarga University', u'Shivaraj, Gulbarga University', u'Vandana, Gulbarga University'], freq=108),\n",
       " FreqItemset(items=[u'Dattu, Gulbarga University', u'Shivaraj, Gulbarga University', u'Vandana, Gulbarga University', u'K., Gulbarga University'], freq=54),\n",
       " FreqItemset(items=[u'Dattu, Gulbarga University', u'K., Gulbarga University'], freq=54),\n",
       " FreqItemset(items=[u'Dattu, Gulbarga University', u'Vandana, Gulbarga University'], freq=108),\n",
       " FreqItemset(items=[u'Dattu, Gulbarga University', u'Vandana, Gulbarga University', u'K., Gulbarga University'], freq=54),\n",
       " FreqItemset(items=[u'Kaushik, Presidency University', u'Dhrubajyoti, University of Calcutta'], freq=54),\n",
       " FreqItemset(items=[u'Kaushik, Presidency University', u'Dhrubajyoti, University of Calcutta', u'Aniruddha, Rabindra Bharati University'], freq=54),\n",
       " FreqItemset(items=[u'Kaushik, Presidency University', u'Dhrubajyoti, University of Calcutta', u'Sayan, Rabindra Bharati University'], freq=54),\n",
       " FreqItemset(items=[u'Kaushik, Presidency University', u'Dhrubajyoti, University of Calcutta', u'Sayan, Rabindra Bharati University', u'Aniruddha, Rabindra Bharati University'], freq=54),\n",
       " FreqItemset(items=[u'Kaushik, Presidency University', u'Aniruddha, Rabindra Bharati University'], freq=54),\n",
       " FreqItemset(items=[u'Kaushik, Presidency University', u'Gunjan, Sastra University'], freq=54),\n",
       " FreqItemset(items=[u'Kaushik, Presidency University', u'Gunjan, Sastra University', u'Dhrubajyoti, University of Calcutta'], freq=54),\n",
       " FreqItemset(items=[u'Kaushik, Presidency University', u'Gunjan, Sastra University', u'Dhrubajyoti, University of Calcutta', u'Aniruddha, Rabindra Bharati University'], freq=54),\n",
       " FreqItemset(items=[u'Kaushik, Presidency University', u'Gunjan, Sastra University', u'Dhrubajyoti, University of Calcutta', u'Sayan, Rabindra Bharati University'], freq=54),\n",
       " FreqItemset(items=[u'Kaushik, Presidency University', u'Gunjan, Sastra University', u'Dhrubajyoti, University of Calcutta', u'Sayan, Rabindra Bharati University', u'Aniruddha, Rabindra Bharati University'], freq=54),\n",
       " FreqItemset(items=[u'Kaushik, Presidency University', u'Gunjan, Sastra University', u'Aniruddha, Rabindra Bharati University'], freq=54),\n",
       " FreqItemset(items=[u'Kaushik, Presidency University', u'Gunjan, Sastra University', u'Uday Chand, Presidency University'], freq=54),\n",
       " FreqItemset(items=[u'Kaushik, Presidency University', u'Gunjan, Sastra University', u'Uday Chand, Presidency University', u'Dhrubajyoti, University of Calcutta'], freq=54),\n",
       " FreqItemset(items=[u'Kaushik, Presidency University', u'Gunjan, Sastra University', u'Uday Chand, Presidency University', u'Dhrubajyoti, University of Calcutta', u'Aniruddha, Rabindra Bharati University'], freq=54),\n",
       " FreqItemset(items=[u'Kaushik, Presidency University', u'Gunjan, Sastra University', u'Uday Chand, Presidency University', u'Dhrubajyoti, University of Calcutta', u'Sayan, Rabindra Bharati University'], freq=54),\n",
       " FreqItemset(items=[u'Kaushik, Presidency University', u'Gunjan, Sastra University', u'Uday Chand, Presidency University', u'Dhrubajyoti, University of Calcutta', u'Sayan, Rabindra Bharati University', u'Aniruddha, Rabindra Bharati University'], freq=54),\n",
       " FreqItemset(items=[u'Kaushik, Presidency University', u'Gunjan, Sastra University', u'Uday Chand, Presidency University', u'Aniruddha, Rabindra Bharati University'], freq=54),\n",
       " FreqItemset(items=[u'Kaushik, Presidency University', u'Gunjan, Sastra University', u'Uday Chand, Presidency University', u'Sayan, Rabindra Bharati University'], freq=54),\n",
       " FreqItemset(items=[u'Kaushik, Presidency University', u'Gunjan, Sastra University', u'Uday Chand, Presidency University', u'Sayan, Rabindra Bharati University', u'Aniruddha, Rabindra Bharati University'], freq=54),\n",
       " FreqItemset(items=[u'Kaushik, Presidency University', u'Gunjan, Sastra University', u'Sayan, Rabindra Bharati University'], freq=54),\n",
       " FreqItemset(items=[u'Kaushik, Presidency University', u'Gunjan, Sastra University', u'Sayan, Rabindra Bharati University', u'Aniruddha, Rabindra Bharati University'], freq=54),\n",
       " FreqItemset(items=[u'Kaushik, Presidency University', u'Uday Chand, Presidency University'], freq=54),\n",
       " FreqItemset(items=[u'Kaushik, Presidency University', u'Uday Chand, Presidency University', u'Dhrubajyoti, University of Calcutta'], freq=54),\n",
       " FreqItemset(items=[u'Kaushik, Presidency University', u'Uday Chand, Presidency University', u'Dhrubajyoti, University of Calcutta', u'Aniruddha, Rabindra Bharati University'], freq=54),\n",
       " FreqItemset(items=[u'Kaushik, Presidency University', u'Uday Chand, Presidency University', u'Dhrubajyoti, University of Calcutta', u'Sayan, Rabindra Bharati University'], freq=54),\n",
       " FreqItemset(items=[u'Kaushik, Presidency University', u'Uday Chand, Presidency University', u'Dhrubajyoti, University of Calcutta', u'Sayan, Rabindra Bharati University', u'Aniruddha, Rabindra Bharati University'], freq=54),\n",
       " FreqItemset(items=[u'Kaushik, Presidency University', u'Uday Chand, Presidency University', u'Aniruddha, Rabindra Bharati University'], freq=54),\n",
       " FreqItemset(items=[u'Kaushik, Presidency University', u'Uday Chand, Presidency University', u'Sayan, Rabindra Bharati University'], freq=54),\n",
       " FreqItemset(items=[u'Kaushik, Presidency University', u'Uday Chand, Presidency University', u'Sayan, Rabindra Bharati University', u'Aniruddha, Rabindra Bharati University'], freq=54),\n",
       " FreqItemset(items=[u'Kaushik, Presidency University', u'Sayan, Rabindra Bharati University'], freq=54),\n",
       " FreqItemset(items=[u'Kaushik, Presidency University', u'Sayan, Rabindra Bharati University', u'Aniruddha, Rabindra Bharati University'], freq=54),\n",
       " FreqItemset(items=[u', MDU', u'Sandeep, Panjab University'], freq=108),\n",
       " FreqItemset(items=[u'Wilson, F.E.', u'Peterson, F.J.'], freq=57),\n",
       " FreqItemset(items=[u'Zurcher, K.', u'Hadorn, H.'], freq=54),\n",
       " FreqItemset(items=[u'Tauber, C.A.', u'Tauber, M.J.'], freq=70),\n",
       " FreqItemset(items=[u'Rafa\\u0142, Jerzy Kukuczka Academy of Physical Education in Katowice', u'Aleksandra, Jerzy Kukuczka Academy of Physical Education in Katowice'], freq=54),\n",
       " FreqItemset(items=[u'Marin, S.', u'Ramos, A.J.'], freq=63),\n",
       " FreqItemset(items=[u'Marin, S.', u'Ramos, A.J.', u'Sanchis, V.'], freq=62),\n",
       " FreqItemset(items=[u'Marin, S.', u'Sanchis, V.'], freq=67),\n",
       " FreqItemset(items=[u'Velisek, J.', u'Davidek, J.'], freq=50),\n",
       " FreqItemset(items=[u'Power, J.B.', u'Davey, M.R.'], freq=67),\n",
       " FreqItemset(items=[u'Centre International de Hautes Etudes Agronomiques Mediterraneennes, Paris (France)', u'FAO, Rome (Italy). Animal Production and Health Div'], freq=53),\n",
       " FreqItemset(items=[u'M.A., University of Chittagong', u'M., University of Chittagong'], freq=54),\n",
       " FreqItemset(items=[u'M.A., University of Chittagong', u'M., University of Chittagong', u'M.A.H., University of Chittagong'], freq=54),\n",
       " FreqItemset(items=[u'M.A., University of Chittagong', u'M., University of Chittagong', u'M.A.H., University of Chittagong', u'M.H., University of Chittagong'], freq=54),\n",
       " FreqItemset(items=[u'M.A., University of Chittagong', u'M., University of Chittagong', u'M.H., University of Chittagong'], freq=54),\n",
       " FreqItemset(items=[u'M.A., University of Chittagong', u'M.A.H., University of Chittagong'], freq=54),\n",
       " FreqItemset(items=[u'M.A., University of Chittagong', u'M.A.H., University of Chittagong', u'M.H., University of Chittagong'], freq=54),\n",
       " FreqItemset(items=[u'M.A., University of Chittagong', u'M.H., University of Chittagong'], freq=54),\n",
       " FreqItemset(items=[u'Fideghelli C.', u'Istituto Sperimentale per la Frutticoltura, Rome (Italy)'], freq=60),\n",
       " FreqItemset(items=[u'Fideghelli C.', u'Monastra F.'], freq=50),\n",
       " FreqItemset(items=[u'Goutom, KVK', u'S.V., ICAR Research Complex for NEH Region'], freq=54),\n",
       " FreqItemset(items=[u'Goutom, KVK', u'S.V., ICAR Research Complex for NEH Region', u'Rupankar, ICAR Research Complex for NEH Region'], freq=54),\n",
       " FreqItemset(items=[u'Goutom, KVK', u'S.V., ICAR Research Complex for NEH Region', u'Kaushik, ICAR Research Complex for NEH Region'], freq=54),\n",
       " FreqItemset(items=[u'Goutom, KVK', u'S.V., ICAR Research Complex for NEH Region', u'Kaushik, ICAR Research Complex for NEH Region', u'Rupankar, ICAR Research Complex for NEH Region'], freq=54),\n",
       " FreqItemset(items=[u'Goutom, KVK', u'Ranjan, Assam Agricultural University'], freq=54),\n",
       " FreqItemset(items=[u'Goutom, KVK', u'Ranjan, Assam Agricultural University', u'S.V., ICAR Research Complex for NEH Region'], freq=54),\n",
       " FreqItemset(items=[u'Goutom, KVK', u'Ranjan, Assam Agricultural University', u'S.V., ICAR Research Complex for NEH Region', u'Rupankar, ICAR Research Complex for NEH Region'], freq=54),\n",
       " FreqItemset(items=[u'Goutom, KVK', u'Ranjan, Assam Agricultural University', u'S.V., ICAR Research Complex for NEH Region', u'Kaushik, ICAR Research Complex for NEH Region'], freq=54),\n",
       " FreqItemset(items=[u'Goutom, KVK', u'Ranjan, Assam Agricultural University', u'S.V., ICAR Research Complex for NEH Region', u'Kaushik, ICAR Research Complex for NEH Region', u'Rupankar, ICAR Research Complex for NEH Region'], freq=54),\n",
       " FreqItemset(items=[u'Goutom, KVK', u'Ranjan, Assam Agricultural University', u'Rupankar, ICAR Research Complex for NEH Region'], freq=54),\n",
       " FreqItemset(items=[u'Goutom, KVK', u'Ranjan, Assam Agricultural University', u'Kaushik, ICAR Research Complex for NEH Region'], freq=54),\n",
       " FreqItemset(items=[u'Goutom, KVK', u'Ranjan, Assam Agricultural University', u'Kaushik, ICAR Research Complex for NEH Region', u'Rupankar, ICAR Research Complex for NEH Region'], freq=54),\n",
       " FreqItemset(items=[u'Goutom, KVK', u'Rupankar, ICAR Research Complex for NEH Region'], freq=54),\n",
       " FreqItemset(items=[u'Goutom, KVK', u'Kaushik, ICAR Research Complex for NEH Region'], freq=54),\n",
       " FreqItemset(items=[u'Goutom, KVK', u'Kaushik, ICAR Research Complex for NEH Region', u'Rupankar, ICAR Research Complex for NEH Region'], freq=54),\n",
       " FreqItemset(items=[u'O.M., Federal University of Technology', u'F.O., Federal University of Technology'], freq=54),\n",
       " FreqItemset(items=[u'Ramesh, Gulbarga University', u'C.B., Gulbarga University'], freq=54),\n",
       " FreqItemset(items=[u'Tanmoy Kumar, University of Calcutta', u'Somdeep, University of Calcutta'], freq=54),\n",
       " FreqItemset(items=[u'Tanmoy Kumar, University of Calcutta', u'Somdeep, University of Calcutta', u'Priya, Rabindra Bharati University'], freq=54),\n",
       " FreqItemset(items=[u'Tanmoy Kumar, University of Calcutta', u'Somdeep, University of Calcutta', u'Madhurima, University of Calcutta'], freq=54),\n",
       " FreqItemset(items=[u'Tanmoy Kumar, University of Calcutta', u'Somdeep, University of Calcutta', u'Madhurima, University of Calcutta', u'Priya, Rabindra Bharati University'], freq=54),\n",
       " FreqItemset(items=[u'Tanmoy Kumar, University of Calcutta', u'Priya, Rabindra Bharati University'], freq=54),\n",
       " FreqItemset(items=[u'Tanmoy Kumar, University of Calcutta', u'Madhurima, University of Calcutta'], freq=54),\n",
       " FreqItemset(items=[u'Tanmoy Kumar, University of Calcutta', u'Madhurima, University of Calcutta', u'Priya, Rabindra Bharati University'], freq=54),\n",
       " FreqItemset(items=[u'Samuel Adelani, Ladoke Akintola University of Technology', u'Adeola Foluke, Ladoke Akintola University of Technology'], freq=54),\n",
       " FreqItemset(items=[u'Soil Conservation Service.', u'United States'], freq=155),\n",
       " FreqItemset(items=[u'Kabough Jonathan, Federal Capital Territory Administration', u'Mohammed K., Lake Chad Research Institute'], freq=54),\n",
       " FreqItemset(items=[u'Kabough Jonathan, Federal Capital Territory Administration', u'Addy Jose, Federal University of Agriculture'], freq=54),\n",
       " FreqItemset(items=[u'Kabough Jonathan, Federal Capital Territory Administration', u'Addy Jose, Federal University of Agriculture', u'Mohammed K., Lake Chad Research Institute'], freq=54),\n",
       " FreqItemset(items=[u'Kabough Jonathan, Federal Capital Territory Administration', u'Addy Jose, Federal University of Agriculture', u'Aliyu, Nassarawa State Polytechnic'], freq=54),\n",
       " FreqItemset(items=[u'Kabough Jonathan, Federal Capital Territory Administration', u'Addy Jose, Federal University of Agriculture', u'Aliyu, Nassarawa State Polytechnic', u'Mohammed K., Lake Chad Research Institute'], freq=54),\n",
       " FreqItemset(items=[u'Kabough Jonathan, Federal Capital Territory Administration', u'Aliyu, Nassarawa State Polytechnic'], freq=54),\n",
       " FreqItemset(items=[u'Kabough Jonathan, Federal Capital Territory Administration', u'Aliyu, Nassarawa State Polytechnic', u'Mohammed K., Lake Chad Research Institute'], freq=54),\n",
       " FreqItemset(items=[u'Huerta-Espino, J.', u'Singh, R.P.'], freq=76),\n",
       " FreqItemset(items=[u'Elena, Oles Honchar Dnipropetrovsk National University', u'Vladymir, Oles Honchar Dnipropetrovsk National University'], freq=54),\n",
       " FreqItemset(items=[u'Raghavendra, Gulbarga University', u'Vinayak, Gulbarga University'], freq=54),\n",
       " FreqItemset(items=[u'Gunjan, Sastra University', u'Dhrubajyoti, University of Calcutta'], freq=54),\n",
       " FreqItemset(items=[u'Gunjan, Sastra University', u'Dhrubajyoti, University of Calcutta', u'Aniruddha, Rabindra Bharati University'], freq=54),\n",
       " FreqItemset(items=[u'Gunjan, Sastra University', u'Dhrubajyoti, University of Calcutta', u'Sayan, Rabindra Bharati University'], freq=54),\n",
       " FreqItemset(items=[u'Gunjan, Sastra University', u'Dhrubajyoti, University of Calcutta', u'Sayan, Rabindra Bharati University', u'Aniruddha, Rabindra Bharati University'], freq=54),\n",
       " FreqItemset(items=[u'Gunjan, Sastra University', u'Aniruddha, Rabindra Bharati University'], freq=54),\n",
       " FreqItemset(items=[u'Gunjan, Sastra University', u'Uday Chand, Presidency University'], freq=54),\n",
       " FreqItemset(items=[u'Gunjan, Sastra University', u'Uday Chand, Presidency University', u'Dhrubajyoti, University of Calcutta'], freq=54),\n",
       " FreqItemset(items=[u'Gunjan, Sastra University', u'Uday Chand, Presidency University', u'Dhrubajyoti, University of Calcutta', u'Aniruddha, Rabindra Bharati University'], freq=54),\n",
       " FreqItemset(items=[u'Gunjan, Sastra University', u'Uday Chand, Presidency University', u'Dhrubajyoti, University of Calcutta', u'Sayan, Rabindra Bharati University'], freq=54),\n",
       " FreqItemset(items=[u'Gunjan, Sastra University', u'Uday Chand, Presidency University', u'Dhrubajyoti, University of Calcutta', u'Sayan, Rabindra Bharati University', u'Aniruddha, Rabindra Bharati University'], freq=54),\n",
       " FreqItemset(items=[u'Gunjan, Sastra University', u'Uday Chand, Presidency University', u'Aniruddha, Rabindra Bharati University'], freq=54),\n",
       " FreqItemset(items=[u'Gunjan, Sastra University', u'Uday Chand, Presidency University', u'Sayan, Rabindra Bharati University'], freq=54),\n",
       " FreqItemset(items=[u'Gunjan, Sastra University', u'Uday Chand, Presidency University', u'Sayan, Rabindra Bharati University', u'Aniruddha, Rabindra Bharati University'], freq=54),\n",
       " FreqItemset(items=[u'Gunjan, Sastra University', u'Sayan, Rabindra Bharati University'], freq=54),\n",
       " FreqItemset(items=[u'Gunjan, Sastra University', u'Sayan, Rabindra Bharati University', u'Aniruddha, Rabindra Bharati University'], freq=54),\n",
       " FreqItemset(items=[u'Iryna, Yuriy Fedkovych Chernivtsi National University', u'Olga, Yuriy Fedkovych Chernivtsi National University'], freq=54),\n",
       " FreqItemset(items=[u'Iryna, Yuriy Fedkovych Chernivtsi National University', u'Olga, Yuriy Fedkovych Chernivtsi National University', u'Lidiia, Yuriy Fedkovych Chernivtsi National University'], freq=54),\n",
       " FreqItemset(items=[u'Iryna, Yuriy Fedkovych Chernivtsi National University', u'Olga, Yuriy Fedkovych Chernivtsi National University', u'Lidiia, Yuriy Fedkovych Chernivtsi National University', u'Larysa, Yuriy Fedkovych Chernivtsi National University'], freq=54),\n",
       " FreqItemset(items=[u'Iryna, Yuriy Fedkovych Chernivtsi National University', u'Olga, Yuriy Fedkovych Chernivtsi National University', u'Larysa, Yuriy Fedkovych Chernivtsi National University'], freq=54),\n",
       " FreqItemset(items=[u'Iryna, Yuriy Fedkovych Chernivtsi National University', u'Lidiia, Yuriy Fedkovych Chernivtsi National University'], freq=54),\n",
       " FreqItemset(items=[u'Iryna, Yuriy Fedkovych Chernivtsi National University', u'Lidiia, Yuriy Fedkovych Chernivtsi National University', u'Larysa, Yuriy Fedkovych Chernivtsi National University'], freq=54),\n",
       " FreqItemset(items=[u'Iryna, Yuriy Fedkovych Chernivtsi National University', u'Larysa, Yuriy Fedkovych Chernivtsi National University'], freq=54),\n",
       " FreqItemset(items=[u'Lidiia, Yuriy Fedkovych Chernivtsi National University', u'Larysa, Yuriy Fedkovych Chernivtsi National University'], freq=54),\n",
       " FreqItemset(items=[u'Kinghorn, A.D.', u'Pezzuto, J.M.'], freq=55),\n",
       " FreqItemset(items=[u'D.M., University of Maiduguri', u'Y.T., University of Maiduguri'], freq=108),\n",
       " FreqItemset(items=[u'D.M., University of Maiduguri', u'Y.T., University of Maiduguri', u'M.M., University of Maiduguri'], freq=108),\n",
       " FreqItemset(items=[u'D.M., University of Maiduguri', u'M.M., University of Maiduguri'], freq=108),\n",
       " FreqItemset(items=[u'Neathery, M.W.', u'Miller, W.J.'], freq=50),\n",
       " FreqItemset(items=[u'Jude N., National Cereals Research Institute', u'Saliu Akinlabi, National Cereals Research Institute'], freq=54),\n",
       " FreqItemset(items=[u'Jude N., National Cereals Research Institute', u'Saliu Akinlabi, National Cereals Research Institute', u'Alhassan Tsako, National Cereals Research Institute'], freq=54),\n",
       " FreqItemset(items=[u'Jude N., National Cereals Research Institute', u'Saliu Akinlabi, National Cereals Research Institute', u'Samuel Oladele, National Cereals Research Institute'], freq=54),\n",
       " FreqItemset(items=[u'Jude N., National Cereals Research Institute', u'Saliu Akinlabi, National Cereals Research Institute', u'Samuel Oladele, National Cereals Research Institute', u'Alhassan Tsako, National Cereals Research Institute'], freq=54),\n",
       " FreqItemset(items=[u'Jude N., National Cereals Research Institute', u'Saliu Akinlabi, National Cereals Research Institute', u'Taibat Moji, Kwara State University'], freq=54),\n",
       " FreqItemset(items=[u'Jude N., National Cereals Research Institute', u'Saliu Akinlabi, National Cereals Research Institute', u'Taibat Moji, Kwara State University', u'Alhassan Tsako, National Cereals Research Institute'], freq=54),\n",
       " FreqItemset(items=[u'Jude N., National Cereals Research Institute', u'Saliu Akinlabi, National Cereals Research Institute', u'Taibat Moji, Kwara State University', u'Samuel Oladele, National Cereals Research Institute'], freq=54),\n",
       " FreqItemset(items=[u'Jude N., National Cereals Research Institute', u'Saliu Akinlabi, National Cereals Research Institute', u'Taibat Moji, Kwara State University', u'Samuel Oladele, National Cereals Research Institute', u'Alhassan Tsako, National Cereals Research Institute'], freq=54),\n",
       " FreqItemset(items=[u'Jude N., National Cereals Research Institute', u'Alhassan Tsako, National Cereals Research Institute'], freq=54),\n",
       " FreqItemset(items=[u'Jude N., National Cereals Research Institute', u'Samuel Oladele, National Cereals Research Institute'], freq=54),\n",
       " FreqItemset(items=[u'Jude N., National Cereals Research Institute', u'Samuel Oladele, National Cereals Research Institute', u'Alhassan Tsako, National Cereals Research Institute'], freq=54),\n",
       " FreqItemset(items=[u'Jude N., National Cereals Research Institute', u'Taibat Moji, Kwara State University'], freq=54),\n",
       " FreqItemset(items=[u'Jude N., National Cereals Research Institute', u'Taibat Moji, Kwara State University', u'Alhassan Tsako, National Cereals Research Institute'], freq=54),\n",
       " FreqItemset(items=[u'Jude N., National Cereals Research Institute', u'Taibat Moji, Kwara State University', u'Samuel Oladele, National Cereals Research Institute'], freq=54),\n",
       " FreqItemset(items=[u'Jude N., National Cereals Research Institute', u'Taibat Moji, Kwara State University', u'Samuel Oladele, National Cereals Research Institute', u'Alhassan Tsako, National Cereals Research Institute'], freq=54),\n",
       " FreqItemset(items=[u'S., Tumkur University', u'J., Gulbarga University'], freq=54),\n",
       " FreqItemset(items=[u'S., Tumkur University', u'J., Gulbarga University', u'Basawaraj A., Gulbarga University'], freq=54),\n",
       " FreqItemset(items=[u'S., Tumkur University', u'Basawaraj A., Gulbarga University'], freq=54),\n",
       " FreqItemset(items=[u'S.N., Federal College of Education', u'B.S., Federal College of Education'], freq=54),\n",
       " FreqItemset(items=[u'Stock, R.', u'Klopfenstein, T.'], freq=63),\n",
       " FreqItemset(items=[u'Felix Terna, Akperan Orshi College of Agriculture', u'Michael Ojore, University of Agriculture'], freq=108),\n",
       " FreqItemset(items=[u'Gries, R.', u'Gries, G.'], freq=54),\n",
       " FreqItemset(items=[u'Pierre Yves, National Research Council of Canada', u'Christian, Environment Canada'], freq=54),\n",
       " FreqItemset(items=[u'Pierre Yves, National Research Council of Canada', u'Michel, National Research Council of Canada'], freq=54),\n",
       " FreqItemset(items=[u'Pierre Yves, National Research Council of Canada', u'Michel, National Research Council of Canada', u'Christian, Environment Canada'], freq=54),\n",
       " FreqItemset(items=[u'Sadek, R.R.', u'Shafie, M.M.'], freq=83),\n",
       " FreqItemset(items=[u'Sadek, R.R.', u'Shafie, M.M.', u'Ibrahim, S.A.'], freq=83),\n",
       " FreqItemset(items=[u'Sadek, R.R.', u'Shafie, M.M.', u'Ibrahim, S.A.', u'European Association for Animal Production, Rome (Italy)'], freq=83),\n",
       " FreqItemset(items=[u'Sadek, R.R.', u'Shafie, M.M.', u'European Association for Animal Production, Rome (Italy)'], freq=83),\n",
       " FreqItemset(items=[u'Sadek, R.R.', u'Ibrahim, S.A.'], freq=83),\n",
       " FreqItemset(items=[u'Sadek, R.R.', u'Ibrahim, S.A.', u'European Association for Animal Production, Rome (Italy)'], freq=83),\n",
       " FreqItemset(items=[u'Sadek, R.R.', u'European Association for Animal Production, Rome (Italy)'], freq=83),\n",
       " FreqItemset(items=[u'Sadek, R.R.', u'Barkawi, A.H.'], freq=83),\n",
       " FreqItemset(items=[u'Sadek, R.R.', u'Barkawi, A.H.', u'Shafie, M.M.'], freq=83),\n",
       " FreqItemset(items=[u'Sadek, R.R.', u'Barkawi, A.H.', u'Shafie, M.M.', u'Ibrahim, S.A.'], freq=83),\n",
       " FreqItemset(items=[u'Sadek, R.R.', u'Barkawi, A.H.', u'Shafie, M.M.', u'Ibrahim, S.A.', u'European Association for Animal Production, Rome (Italy)'], freq=83),\n",
       " FreqItemset(items=[u'Sadek, R.R.', u'Barkawi, A.H.', u'Shafie, M.M.', u'European Association for Animal Production, Rome (Italy)'], freq=83),\n",
       " FreqItemset(items=[u'Sadek, R.R.', u'Barkawi, A.H.', u'Ibrahim, S.A.'], freq=83),\n",
       " FreqItemset(items=[u'Sadek, R.R.', u'Barkawi, A.H.', u'Ibrahim, S.A.', u'European Association for Animal Production, Rome (Italy)'], freq=83),\n",
       " FreqItemset(items=[u'Sadek, R.R.', u'Barkawi, A.H.', u'European Association for Animal Production, Rome (Italy)'], freq=83),\n",
       " FreqItemset(items=[u'A.K., Annamalai University', u'T., Annamalai University'], freq=108),\n",
       " FreqItemset(items=[u'A.K., Annamalai University', u'N., Annamalai University'], freq=54),\n",
       " FreqItemset(items=[u'A.K., Annamalai University', u'N., Annamalai University', u'T., Annamalai University'], freq=54),\n",
       " FreqItemset(items=[u'S. Syed Musthaq, ', u'S. John, Bioscience Research Foundation'], freq=54),\n",
       " FreqItemset(items=[u'S. Syed Musthaq, ', u'C., '], freq=54),\n",
       " FreqItemset(items=[u'S. Syed Musthaq, ', u'C., ', u'S. John, Bioscience Research Foundation'], freq=54),\n",
       " FreqItemset(items=[u'M. Ashok, GATES Institute of Technology', u'K. Hemachandra, Jawaharlal Nehru Technological University'], freq=54),\n",
       " FreqItemset(items=[u'M. Ashok, GATES Institute of Technology', u'K. Hemachandra, Jawaharlal Nehru Technological University', u'Y.V. Mohana, G. Pulla Reddy Engineering College'], freq=54),\n",
       " FreqItemset(items=[u'M. Ashok, GATES Institute of Technology', u'K. Hemachandra, Jawaharlal Nehru Technological University', u'A., GATES Institute of Technology'], freq=54),\n",
       " FreqItemset(items=[u'M. Ashok, GATES Institute of Technology', u'K. Hemachandra, Jawaharlal Nehru Technological University', u'A., GATES Institute of Technology', u'Y.V. Mohana, G. Pulla Reddy Engineering College'], freq=54),\n",
       " FreqItemset(items=[u'M. Ashok, GATES Institute of Technology', u'Y.V. Mohana, G. Pulla Reddy Engineering College'], freq=54),\n",
       " FreqItemset(items=[u'M. Ashok, GATES Institute of Technology', u'Palla Hari, G. Pulla Reddy Engineering College'], freq=54),\n",
       " FreqItemset(items=[u'M. Ashok, GATES Institute of Technology', u'Palla Hari, G. Pulla Reddy Engineering College', u'K. Hemachandra, Jawaharlal Nehru Technological University'], freq=54),\n",
       " FreqItemset(items=[u'M. Ashok, GATES Institute of Technology', u'Palla Hari, G. Pulla Reddy Engineering College', u'K. Hemachandra, Jawaharlal Nehru Technological University', u'Y.V. Mohana, G. Pulla Reddy Engineering College'], freq=54),\n",
       " FreqItemset(items=[u'M. Ashok, GATES Institute of Technology', u'Palla Hari, G. Pulla Reddy Engineering College', u'K. Hemachandra, Jawaharlal Nehru Technological University', u'A., GATES Institute of Technology'], freq=54),\n",
       " FreqItemset(items=[u'M. Ashok, GATES Institute of Technology', u'Palla Hari, G. Pulla Reddy Engineering College', u'K. Hemachandra, Jawaharlal Nehru Technological University', u'A., GATES Institute of Technology', u'Y.V. Mohana, G. Pulla Reddy Engineering College'], freq=54),\n",
       " FreqItemset(items=[u'M. Ashok, GATES Institute of Technology', u'Palla Hari, G. Pulla Reddy Engineering College', u'Y.V. Mohana, G. Pulla Reddy Engineering College'], freq=54),\n",
       " FreqItemset(items=[u'M. Ashok, GATES Institute of Technology', u'Palla Hari, G. Pulla Reddy Engineering College', u'A., GATES Institute of Technology'], freq=54),\n",
       " FreqItemset(items=[u'M. Ashok, GATES Institute of Technology', u'Palla Hari, G. Pulla Reddy Engineering College', u'A., GATES Institute of Technology', u'Y.V. Mohana, G. Pulla Reddy Engineering College'], freq=54),\n",
       " FreqItemset(items=[u'M. Ashok, GATES Institute of Technology', u'A., GATES Institute of Technology'], freq=54),\n",
       " FreqItemset(items=[u'M. Ashok, GATES Institute of Technology', u'A., GATES Institute of Technology', u'Y.V. Mohana, G. Pulla Reddy Engineering College'], freq=54),\n",
       " FreqItemset(items=[u'A., Bharathiyar University', u'P., Periyar Arts College'], freq=54),\n",
       " FreqItemset(items=[u'Shamayita, Rabindra Bharati University', u'Aniruddha, Rabindra Bharati University'], freq=54),\n",
       " FreqItemset(items=[u'Shamayita, Rabindra Bharati University', u'Priya, Rabindra Bharati University'], freq=54),\n",
       " FreqItemset(items=[u'Shamayita, Rabindra Bharati University', u'Priya, Rabindra Bharati University', u'Aniruddha, Rabindra Bharati University'], freq=54),\n",
       " FreqItemset(items=[u'Farrukh, Sarhad University of Science and Information Technology', u'Shahana, Government Girls Degree College S. Malton'], freq=54),\n",
       " FreqItemset(items=[u'Farrukh, Sarhad University of Science and Information Technology', u'Shahana, Government Girls Degree College S. Malton', u'Musharaf, Federal Government College Mardan'], freq=54),\n",
       " FreqItemset(items=[u'Farrukh, Sarhad University of Science and Information Technology', u'Musharaf, Federal Government College Mardan'], freq=54),\n",
       " FreqItemset(items=[u'Berger, L.L.', u'Fahey, G.C. Jr.'], freq=59),\n",
       " FreqItemset(items=[u'I., GITAM University', u'A., GITAM University'], freq=54),\n",
       " FreqItemset(items=[u'National Science Foundation', u'U.S. Dept. of Agriculture'], freq=52),\n",
       " FreqItemset(items=[u'Tokach, M.D.', u'Goodband, R.D.'], freq=193),\n",
       " FreqItemset(items=[u'Tokach, M.D.', u'Goodband, R.D.', u'Nelssen, J.L.'], freq=189),\n",
       " FreqItemset(items=[u'Tokach, M.D.', u'Nelssen, J.L.'], freq=191),\n",
       " FreqItemset(items=[u'Anisha, Presidency University', u'Sayak, Presidency University'], freq=54),\n",
       " FreqItemset(items=[u'Anisha, Presidency University', u'Abhijit, Presidency University'], freq=54),\n",
       " FreqItemset(items=[u'Anisha, Presidency University', u'Abhijit, Presidency University', u'Sayak, Presidency University'], freq=54),\n",
       " FreqItemset(items=[u'Kierkels, T.', u'Heuvelink, E.'], freq=62),\n",
       " FreqItemset(items=[u'AGA', u'FAO, Rome (Italy). Animal Production and Health Div.'], freq=61),\n",
       " FreqItemset(items=[u'N., A.V.C.College (Autonomous)', u'K., A.V.C.College (Autonomous)'], freq=54),\n",
       " FreqItemset(items=[u'N., A.V.C.College (Autonomous)', u'K., A.V.C.College (Autonomous)', u'M., A.V.C. College'], freq=54),\n",
       " FreqItemset(items=[u'N., A.V.C.College (Autonomous)', u'M., A.V.C. College'], freq=54),\n",
       " FreqItemset(items=[u'Gritti, Fabrice', u'Guiochon, Georges'], freq=93),\n",
       " FreqItemset(items=[u'M.V.S. Mahesh, GITAM University', u'M., GITAM University'], freq=54),\n",
       " FreqItemset(items=[u'M.V.S. Mahesh, GITAM University', u'V.S.S.L. Prasad, GITAM University'], freq=54),\n",
       " FreqItemset(items=[u'M.V.S. Mahesh, GITAM University', u'V.S.S.L. Prasad, GITAM University', u'M., GITAM University'], freq=54),\n",
       " FreqItemset(items=[u'K., A.V.C.College (Autonomous)', u'M., A.V.C. College'], freq=54),\n",
       " FreqItemset(items=[u'Ibrahim, Nassarawa State Polytechnic', u'Vershima Jose, Federal University of Agriculture'], freq=54),\n",
       " FreqItemset(items=[u'Gorovits, M.B.', u'Abubakirov, N.K.'], freq=71),\n",
       " FreqItemset(items=[u'G.T., Federal University Dutse', u'B.G., Federal University Dutse'], freq=54),\n",
       " FreqItemset(items=[u'M., ', u'G., Nehru Zoological Park'], freq=54),\n",
       " FreqItemset(items=[u'M., ', u'G., Nehru Zoological Park', u'V., Agricultural University'], freq=54),\n",
       " FreqItemset(items=[u'M., ', u'V., Agricultural University'], freq=54),\n",
       " FreqItemset(items=[u'M., ', u'A.V.L.N., Agricultural University'], freq=54),\n",
       " FreqItemset(items=[u'M., ', u'A.V.L.N., Agricultural University', u'G., Nehru Zoological Park'], freq=54),\n",
       " FreqItemset(items=[u'M., ', u'A.V.L.N., Agricultural University', u'G., Nehru Zoological Park', u'V., Agricultural University'], freq=54),\n",
       " FreqItemset(items=[u'M., ', u'A.V.L.N., Agricultural University', u'V., Agricultural University'], freq=54),\n",
       " FreqItemset(items=[u'Santanu, Acharya Prafulla Chandra Roy Government College', u'Sayak, Presidency University'], freq=54),\n",
       " FreqItemset(items=[u'Zeeman, G.', u'Lettinga, G.'], freq=54),\n",
       " FreqItemset(items=[u'I.B., University of Maiduguri', u'Y.T., University of Maiduguri'], freq=54),\n",
       " FreqItemset(items=[u'I.B., University of Maiduguri', u'Y.T., University of Maiduguri', u'M.M., University of Maiduguri'], freq=54),\n",
       " FreqItemset(items=[u'I.B., University of Maiduguri', u'D.M., University of Maiduguri'], freq=54),\n",
       " FreqItemset(items=[u'I.B., University of Maiduguri', u'D.M., University of Maiduguri', u'Y.T., University of Maiduguri'], freq=54),\n",
       " FreqItemset(items=[u'I.B., University of Maiduguri', u'D.M., University of Maiduguri', u'Y.T., University of Maiduguri', u'M.M., University of Maiduguri'], freq=54),\n",
       " FreqItemset(items=[u'I.B., University of Maiduguri', u'D.M., University of Maiduguri', u'M.M., University of Maiduguri'], freq=54),\n",
       " FreqItemset(items=[u'I.B., University of Maiduguri', u'M.M., University of Maiduguri'], freq=108),\n",
       " FreqItemset(items=[u'Priya, Rabindra Bharati University', u'Soumendra Nath, Rabindra Bharati University'], freq=54),\n",
       " FreqItemset(items=[u'Priya, Rabindra Bharati University', u'Aniruddha, Rabindra Bharati University'], freq=108),\n",
       " FreqItemset(items=[u'Priya, Rabindra Bharati University', u'Aniruddha, Rabindra Bharati University', u'Soumendra Nath, Rabindra Bharati University'], freq=54),\n",
       " FreqItemset(items=[u'S.H., Plateau State College of Agriculture', u'D.U., Plateau State College of Agriculture'], freq=54),\n",
       " FreqItemset(items=[u'S.H., Plateau State College of Agriculture', u'P.D., Plateau State College of Agriculture'], freq=54),\n",
       " FreqItemset(items=[u'S.H., Plateau State College of Agriculture', u'P.D., Plateau State College of Agriculture', u'D.U., Plateau State College of Agriculture'], freq=54),\n",
       " FreqItemset(items=[u'Thangaiyan, Annamalai University', u'Arjunan, Sri Vinayaga College of Arts and Science'], freq=54),\n",
       " FreqItemset(items=[u'A.K., Institute of Wood Science and Technology, ICFRE', u'Muthu A., Institute of Wood Science and Technology, ICFRE'], freq=54),\n",
       " FreqItemset(items=[u'A.K., Institute of Wood Science and Technology, ICFRE', u'Muthu A., Institute of Wood Science and Technology, ICFRE', u'Srinivasa, Institute of Wood Science and Technology, ICFRE'], freq=54),\n",
       " FreqItemset(items=[u'A.K., Institute of Wood Science and Technology, ICFRE', u'Muthu A., Institute of Wood Science and Technology, ICFRE', u'Gayatri, University of Canterbury'], freq=54),\n",
       " FreqItemset(items=[u'A.K., Institute of Wood Science and Technology, ICFRE', u'Muthu A., Institute of Wood Science and Technology, ICFRE', u'Gayatri, University of Canterbury', u'Srinivasa, Institute of Wood Science and Technology, ICFRE'], freq=54),\n",
       " FreqItemset(items=[u'A.K., Institute of Wood Science and Technology, ICFRE', u'Srinivasa, Institute of Wood Science and Technology, ICFRE'], freq=54),\n",
       " FreqItemset(items=[u'A.K., Institute of Wood Science and Technology, ICFRE', u'Gayatri, University of Canterbury'], freq=54),\n",
       " FreqItemset(items=[u'A.K., Institute of Wood Science and Technology, ICFRE', u'Gayatri, University of Canterbury', u'Srinivasa, Institute of Wood Science and Technology, ICFRE'], freq=54),\n",
       " FreqItemset(items=[u'Aamir, Shrushti Global Medicare and Research Center', u'Ramprasad, Eurofins Genomics India Pvt Ltd.'], freq=54),\n",
       " FreqItemset(items=[u'Sayan, Nalanda University', u'Rimpa, Rabindra Bharati University'], freq=54),\n",
       " FreqItemset(items=[u'Sayan, Nalanda University', u'Rimpa, Rabindra Bharati University', u'Goutam, Rabindra Bharati University'], freq=54),\n",
       " FreqItemset(items=[u'Sayan, Nalanda University', u'Rimpa, Rabindra Bharati University', u'Goutam, Rabindra Bharati University', u'Chandrayee, Rabindra Bharati University'], freq=54),\n",
       " FreqItemset(items=[u'Sayan, Nalanda University', u'Rimpa, Rabindra Bharati University', u'Chandrayee, Rabindra Bharati University'], freq=54),\n",
       " FreqItemset(items=[u'Sayan, Nalanda University', u'Goutam, Rabindra Bharati University'], freq=54),\n",
       " FreqItemset(items=[u'Sayan, Nalanda University', u'Goutam, Rabindra Bharati University', u'Chandrayee, Rabindra Bharati University'], freq=54),\n",
       " FreqItemset(items=[u'Sayan, Nalanda University', u'Chandrayee, Rabindra Bharati University'], freq=54),\n",
       " FreqItemset(items=[u'Sayan, Nalanda University', u'Debasri, Rabindra Bharati University'], freq=54),\n",
       " FreqItemset(items=[u'Sayan, Nalanda University', u'Debasri, Rabindra Bharati University', u'Rimpa, Rabindra Bharati University'], freq=54),\n",
       " FreqItemset(items=[u'Sayan, Nalanda University', u'Debasri, Rabindra Bharati University', u'Rimpa, Rabindra Bharati University', u'Goutam, Rabindra Bharati University'], freq=54),\n",
       " FreqItemset(items=[u'Sayan, Nalanda University', u'Debasri, Rabindra Bharati University', u'Rimpa, Rabindra Bharati University', u'Goutam, Rabindra Bharati University', u'Chandrayee, Rabindra Bharati University'], freq=54),\n",
       " FreqItemset(items=[u'Sayan, Nalanda University', u'Debasri, Rabindra Bharati University', u'Rimpa, Rabindra Bharati University', u'Chandrayee, Rabindra Bharati University'], freq=54),\n",
       " FreqItemset(items=[u'Sayan, Nalanda University', u'Debasri, Rabindra Bharati University', u'Goutam, Rabindra Bharati University'], freq=54),\n",
       " FreqItemset(items=[u'Sayan, Nalanda University', u'Debasri, Rabindra Bharati University', u'Goutam, Rabindra Bharati University', u'Chandrayee, Rabindra Bharati University'], freq=54),\n",
       " FreqItemset(items=[u'Sayan, Nalanda University', u'Debasri, Rabindra Bharati University', u'Chandrayee, Rabindra Bharati University'], freq=54),\n",
       " FreqItemset(items=[u'T.T., Ahmadu Bello University', u'I.J., Ahmadu Bello University'], freq=54),\n",
       " FreqItemset(items=[u'T.T., Ahmadu Bello University', u'I.J., Ahmadu Bello University', u'Y.A., Ahmadu Bello University'], freq=54),\n",
       " FreqItemset(items=[u'T.T., Ahmadu Bello University', u'Y.A., Ahmadu Bello University'], freq=54),\n",
       " FreqItemset(items=[u'Marchesi, C.', u'Lavecchia, A.'], freq=54),\n",
       " FreqItemset(items=[u'Whitcomb, C.E.', u'Oklahoma Agricultural Experiment Station'], freq=55),\n",
       " FreqItemset(items=[u'Jones, L.', u'Letizia, C.S.'], freq=52),\n",
       " FreqItemset(items=[u'Jones, L.', u'Letizia, C.S.', u'Api, A.M.'], freq=52),\n",
       " FreqItemset(items=[u'Jones, L.', u'Api, A.M.'], freq=52),\n",
       " FreqItemset(items=[u'Rajesh A., ICAR Research Complex for NEH Region', u'S.V., ICAR Research Complex for NEH Region'], freq=54),\n",
       " FreqItemset(items=[u'Rajesh A., ICAR Research Complex for NEH Region', u'S.V., ICAR Research Complex for NEH Region', u'Doni, ICAR Research Complex for NEH Region'], freq=54),\n",
       " FreqItemset(items=[u'Rajesh A., ICAR Research Complex for NEH Region', u'S.V., ICAR Research Complex for NEH Region', u'Doni, ICAR Research Complex for NEH Region', u'Rupankar, ICAR Research Complex for NEH Region'], freq=54),\n",
       " FreqItemset(items=[u'Rajesh A., ICAR Research Complex for NEH Region', u'S.V., ICAR Research Complex for NEH Region', u'Doni, ICAR Research Complex for NEH Region', u'Kaushik, ICAR Research Complex for NEH Region'], freq=54),\n",
       " FreqItemset(items=[u'Rajesh A., ICAR Research Complex for NEH Region', u'S.V., ICAR Research Complex for NEH Region', u'Doni, ICAR Research Complex for NEH Region', u'Kaushik, ICAR Research Complex for NEH Region', u'Rupankar, ICAR Research Complex for NEH Region'], freq=54),\n",
       " FreqItemset(items=[u'Rajesh A., ICAR Research Complex for NEH Region', u'S.V., ICAR Research Complex for NEH Region', u'Rupankar, ICAR Research Complex for NEH Region'], freq=54),\n",
       " FreqItemset(items=[u'Rajesh A., ICAR Research Complex for NEH Region', u'S.V., ICAR Research Complex for NEH Region', u'Kaushik, ICAR Research Complex for NEH Region'], freq=54),\n",
       " FreqItemset(items=[u'Rajesh A., ICAR Research Complex for NEH Region', u'S.V., ICAR Research Complex for NEH Region', u'Kaushik, ICAR Research Complex for NEH Region', u'Rupankar, ICAR Research Complex for NEH Region'], freq=54),\n",
       " FreqItemset(items=[u'Rajesh A., ICAR Research Complex for NEH Region', u'Doni, ICAR Research Complex for NEH Region'], freq=54),\n",
       " FreqItemset(items=[u'Rajesh A., ICAR Research Complex for NEH Region', u'Doni, ICAR Research Complex for NEH Region', u'Rupankar, ICAR Research Complex for NEH Region'], freq=54),\n",
       " FreqItemset(items=[u'Rajesh A., ICAR Research Complex for NEH Region', u'Doni, ICAR Research Complex for NEH Region', u'Kaushik, ICAR Research Complex for NEH Region'], freq=54),\n",
       " FreqItemset(items=[u'Rajesh A., ICAR Research Complex for NEH Region', u'Doni, ICAR Research Complex for NEH Region', u'Kaushik, ICAR Research Complex for NEH Region', u'Rupankar, ICAR Research Complex for NEH Region'], freq=54),\n",
       " FreqItemset(items=[u'Rajesh A., ICAR Research Complex for NEH Region', u'Rupankar, ICAR Research Complex for NEH Region'], freq=54),\n",
       " FreqItemset(items=[u'Rajesh A., ICAR Research Complex for NEH Region', u'Raghuver, ICAR Research Complex for NEH Region'], freq=54),\n",
       " FreqItemset(items=[u'Rajesh A., ICAR Research Complex for NEH Region', u'Raghuver, ICAR Research Complex for NEH Region', u'S.V., ICAR Research Complex for NEH Region'], freq=54),\n",
       " FreqItemset(items=[u'Rajesh A., ICAR Research Complex for NEH Region', u'Raghuver, ICAR Research Complex for NEH Region', u'S.V., ICAR Research Complex for NEH Region', u'Doni, ICAR Research Complex for NEH Region'], freq=54),\n",
       " FreqItemset(items=[u'Rajesh A., ICAR Research Complex for NEH Region', u'Raghuver, ICAR Research Complex for NEH Region', u'S.V., ICAR Research Complex for NEH Region', u'Doni, ICAR Research Complex for NEH Region', u'Rupankar, ICAR Research Complex for NEH Region'], freq=54),\n",
       " FreqItemset(items=[u'Rajesh A., ICAR Research Complex for NEH Region', u'Raghuver, ICAR Research Complex for NEH Region', u'S.V., ICAR Research Complex for NEH Region', u'Doni, ICAR Research Complex for NEH Region', u'Kaushik, ICAR Research Complex for NEH Region'], freq=54),\n",
       " FreqItemset(items=[u'Rajesh A., ICAR Research Complex for NEH Region', u'Raghuver, ICAR Research Complex for NEH Region', u'S.V., ICAR Research Complex for NEH Region', u'Doni, ICAR Research Complex for NEH Region', u'Kaushik, ICAR Research Complex for NEH Region', u'Rupankar, ICAR Research Complex for NEH Region'], freq=54),\n",
       " FreqItemset(items=[u'Rajesh A., ICAR Research Complex for NEH Region', u'Raghuver, ICAR Research Complex for NEH Region', u'S.V., ICAR Research Complex for NEH Region', u'Rupankar, ICAR Research Complex for NEH Region'], freq=54),\n",
       " FreqItemset(items=[u'Rajesh A., ICAR Research Complex for NEH Region', u'Raghuver, ICAR Research Complex for NEH Region', u'S.V., ICAR Research Complex for NEH Region', u'Kaushik, ICAR Research Complex for NEH Region'], freq=54),\n",
       " FreqItemset(items=[u'Rajesh A., ICAR Research Complex for NEH Region', u'Raghuver, ICAR Research Complex for NEH Region', u'S.V., ICAR Research Complex for NEH Region', u'Kaushik, ICAR Research Complex for NEH Region', u'Rupankar, ICAR Research Complex for NEH Region'], freq=54),\n",
       " FreqItemset(items=[u'Rajesh A., ICAR Research Complex for NEH Region', u'Raghuver, ICAR Research Complex for NEH Region', u'Doni, ICAR Research Complex for NEH Region'], freq=54),\n",
       " FreqItemset(items=[u'Rajesh A., ICAR Research Complex for NEH Region', u'Raghuver, ICAR Research Complex for NEH Region', u'Doni, ICAR Research Complex for NEH Region', u'Rupankar, ICAR Research Complex for NEH Region'], freq=54),\n",
       " FreqItemset(items=[u'Rajesh A., ICAR Research Complex for NEH Region', u'Raghuver, ICAR Research Complex for NEH Region', u'Doni, ICAR Research Complex for NEH Region', u'Kaushik, ICAR Research Complex for NEH Region'], freq=54),\n",
       " FreqItemset(items=[u'Rajesh A., ICAR Research Complex for NEH Region', u'Raghuver, ICAR Research Complex for NEH Region', u'Doni, ICAR Research Complex for NEH Region', u'Kaushik, ICAR Research Complex for NEH Region', u'Rupankar, ICAR Research Complex for NEH Region'], freq=54),\n",
       " FreqItemset(items=[u'Rajesh A., ICAR Research Complex for NEH Region', u'Raghuver, ICAR Research Complex for NEH Region', u'Rupankar, ICAR Research Complex for NEH Region'], freq=54),\n",
       " FreqItemset(items=[u'Rajesh A., ICAR Research Complex for NEH Region', u'Raghuver, ICAR Research Complex for NEH Region', u'Kaushik, ICAR Research Complex for NEH Region'], freq=54),\n",
       " FreqItemset(items=[u'Rajesh A., ICAR Research Complex for NEH Region', u'Raghuver, ICAR Research Complex for NEH Region', u'Kaushik, ICAR Research Complex for NEH Region', u'Rupankar, ICAR Research Complex for NEH Region'], freq=54),\n",
       " FreqItemset(items=[u'Rajesh A., ICAR Research Complex for NEH Region', u'Kaushik, ICAR Research Complex for NEH Region'], freq=54),\n",
       " FreqItemset(items=[u'Rajesh A., ICAR Research Complex for NEH Region', u'Kaushik, ICAR Research Complex for NEH Region', u'Rupankar, ICAR Research Complex for NEH Region'], freq=54),\n",
       " FreqItemset(items=[u'M., Himalaya Drug Company', u'Shanti Bhushan, United Institute of Pharmacy'], freq=54),\n",
       " FreqItemset(items=[u'Trinh Thi, Vietnam Academy of Science and Technology', u'Tran Dang, Hiroshima University'], freq=54),\n",
       " FreqItemset(items=[u'Trinh Thi, Vietnam Academy of Science and Technology', u'Tran Van, Vietnam Academy of Science and Technology'], freq=54),\n",
       " FreqItemset(items=[u'Trinh Thi, Vietnam Academy of Science and Technology', u'Tran Van, Vietnam Academy of Science and Technology', u'Tran Dang, Hiroshima University'], freq=54),\n",
       " FreqItemset(items=[u'Hoek, A. van', u'Visser, A.J.W.G.'], freq=76),\n",
       " FreqItemset(items=[u'Romeo, ', u' University'], freq=54),\n",
       " FreqItemset(items=[u'Anirban, Asutosh College', u'Kushal, University of Calcutta'], freq=54),\n",
       " FreqItemset(items=[u'Anirban, Asutosh College', u'Kushal, University of Calcutta', u'Soumendra Nath, Rabindra Bharati University'], freq=54),\n",
       " FreqItemset(items=[u'Anirban, Asutosh College', u'Kushal, University of Calcutta', u'Abantika, University of Calcutta'], freq=54),\n",
       " FreqItemset(items=[u'Anirban, Asutosh College', u'Kushal, University of Calcutta', u'Abantika, University of Calcutta', u'Soumendra Nath, Rabindra Bharati University'], freq=54),\n",
       " FreqItemset(items=[u'Anirban, Asutosh College', u'Kushal, University of Calcutta', u'Subhodeep, Asutosh College'], freq=54),\n",
       " FreqItemset(items=[u'Anirban, Asutosh College', u'Kushal, University of Calcutta', u'Subhodeep, Asutosh College', u'Soumendra Nath, Rabindra Bharati University'], freq=54),\n",
       " FreqItemset(items=[u'Anirban, Asutosh College', u'Kushal, University of Calcutta', u'Subhodeep, Asutosh College', u'Abantika, University of Calcutta'], freq=54),\n",
       " FreqItemset(items=[u'Anirban, Asutosh College', u'Kushal, University of Calcutta', u'Subhodeep, Asutosh College', u'Abantika, University of Calcutta', u'Soumendra Nath, Rabindra Bharati University'], freq=54),\n",
       " FreqItemset(items=[u'Anirban, Asutosh College', u'Soumendra Nath, Rabindra Bharati University'], freq=54),\n",
       " FreqItemset(items=[u'Anirban, Asutosh College', u'Abantika, University of Calcutta'], freq=54),\n",
       " FreqItemset(items=[u'Anirban, Asutosh College', u'Abantika, University of Calcutta', u'Soumendra Nath, Rabindra Bharati University'], freq=54),\n",
       " FreqItemset(items=[u'Anirban, Asutosh College', u'Snehasikta, CSIR - Indian Institute of Chemical Biology'], freq=54),\n",
       " FreqItemset(items=[u'Anirban, Asutosh College', u'Snehasikta, CSIR - Indian Institute of Chemical Biology', u'Kushal, University of Calcutta'], freq=54),\n",
       " FreqItemset(items=[u'Anirban, Asutosh College', u'Snehasikta, CSIR - Indian Institute of Chemical Biology', u'Kushal, University of Calcutta', u'Soumendra Nath, Rabindra Bharati University'], freq=54),\n",
       " FreqItemset(items=[u'Anirban, Asutosh College', u'Snehasikta, CSIR - Indian Institute of Chemical Biology', u'Kushal, University of Calcutta', u'Abantika, University of Calcutta'], freq=54),\n",
       " FreqItemset(items=[u'Anirban, Asutosh College', u'Snehasikta, CSIR - Indian Institute of Chemical Biology', u'Kushal, University of Calcutta', u'Abantika, University of Calcutta', u'Soumendra Nath, Rabindra Bharati University'], freq=54),\n",
       " FreqItemset(items=[u'Anirban, Asutosh College', u'Snehasikta, CSIR - Indian Institute of Chemical Biology', u'Kushal, University of Calcutta', u'Subhodeep, Asutosh College'], freq=54),\n",
       " FreqItemset(items=[u'Anirban, Asutosh College', u'Snehasikta, CSIR - Indian Institute of Chemical Biology', u'Kushal, University of Calcutta', u'Subhodeep, Asutosh College', u'Soumendra Nath, Rabindra Bharati University'], freq=54),\n",
       " FreqItemset(items=[u'Anirban, Asutosh College', u'Snehasikta, CSIR - Indian Institute of Chemical Biology', u'Kushal, University of Calcutta', u'Subhodeep, Asutosh College', u'Abantika, University of Calcutta'], freq=54),\n",
       " FreqItemset(items=[u'Anirban, Asutosh College', u'Snehasikta, CSIR - Indian Institute of Chemical Biology', u'Kushal, University of Calcutta', u'Subhodeep, Asutosh College', u'Abantika, University of Calcutta', u'Soumendra Nath, Rabindra Bharati University'], freq=54),\n",
       " FreqItemset(items=[u'Anirban, Asutosh College', u'Snehasikta, CSIR - Indian Institute of Chemical Biology', u'Soumendra Nath, Rabindra Bharati University'], freq=54),\n",
       " FreqItemset(items=[u'Anirban, Asutosh College', u'Snehasikta, CSIR - Indian Institute of Chemical Biology', u'Abantika, University of Calcutta'], freq=54),\n",
       " FreqItemset(items=[u'Anirban, Asutosh College', u'Snehasikta, CSIR - Indian Institute of Chemical Biology', u'Abantika, University of Calcutta', u'Soumendra Nath, Rabindra Bharati University'], freq=54),\n",
       " FreqItemset(items=[u'Anirban, Asutosh College', u'Snehasikta, CSIR - Indian Institute of Chemical Biology', u'Subhodeep, Asutosh College'], freq=54),\n",
       " FreqItemset(items=[u'Anirban, Asutosh College', u'Snehasikta, CSIR - Indian Institute of Chemical Biology', u'Subhodeep, Asutosh College', u'Soumendra Nath, Rabindra Bharati University'], freq=54),\n",
       " FreqItemset(items=[u'Anirban, Asutosh College', u'Snehasikta, CSIR - Indian Institute of Chemical Biology', u'Subhodeep, Asutosh College', u'Abantika, University of Calcutta'], freq=54),\n",
       " FreqItemset(items=[u'Anirban, Asutosh College', u'Snehasikta, CSIR - Indian Institute of Chemical Biology', u'Subhodeep, Asutosh College', u'Abantika, University of Calcutta', u'Soumendra Nath, Rabindra Bharati University'], freq=54),\n",
       " FreqItemset(items=[u'Anirban, Asutosh College', u'Subhodeep, Asutosh College'], freq=54),\n",
       " FreqItemset(items=[u'Anirban, Asutosh College', u'Subhodeep, Asutosh College', u'Soumendra Nath, Rabindra Bharati University'], freq=54),\n",
       " FreqItemset(items=[u'Anirban, Asutosh College', u'Subhodeep, Asutosh College', u'Abantika, University of Calcutta'], freq=54),\n",
       " FreqItemset(items=[u'Anirban, Asutosh College', u'Subhodeep, Asutosh College', u'Abantika, University of Calcutta', u'Soumendra Nath, Rabindra Bharati University'], freq=54),\n",
       " FreqItemset(items=[u'M.O., University of Agriculture', u'T., University of Agriculture'], freq=54),\n",
       " FreqItemset(items=[u'Y.O., Lagos State Polytechnic', u'D.O., Lagos State Polytechnic'], freq=54),\n",
       " FreqItemset(items=[u'International Office of Epizootics, Paris (France)', u'Shafie, M.M.'], freq=83),\n",
       " FreqItemset(items=[u'International Office of Epizootics, Paris (France)', u'Shafie, M.M.', u'Ibrahim, S.A.'], freq=83),\n",
       " FreqItemset(items=[u'International Office of Epizootics, Paris (France)', u'Shafie, M.M.', u'Ibrahim, S.A.', u'European Association for Animal Production, Rome (Italy)'], freq=83),\n",
       " FreqItemset(items=[u'International Office of Epizootics, Paris (France)', u'Shafie, M.M.', u'European Association for Animal Production, Rome (Italy)'], freq=83),\n",
       " FreqItemset(items=[u'International Office of Epizootics, Paris (France)', u'Egyptian Society of Animal Production, Cairo (Egypt)'], freq=83),\n",
       " FreqItemset(items=[u'International Office of Epizootics, Paris (France)', u'Egyptian Society of Animal Production, Cairo (Egypt)', u'Shafie, M.M.'], freq=83),\n",
       " FreqItemset(items=[u'International Office of Epizootics, Paris (France)', u'Egyptian Society of Animal Production, Cairo (Egypt)', u'Shafie, M.M.', u'Ibrahim, S.A.'], freq=83),\n",
       " FreqItemset(items=[u'International Office of Epizootics, Paris (France)', u'Egyptian Society of Animal Production, Cairo (Egypt)', u'Shafie, M.M.', u'Ibrahim, S.A.', u'European Association for Animal Production, Rome (Italy)'], freq=83),\n",
       " FreqItemset(items=[u'International Office of Epizootics, Paris (France)', u'Egyptian Society of Animal Production, Cairo (Egypt)', u'Shafie, M.M.', u'European Association for Animal Production, Rome (Italy)'], freq=83),\n",
       " FreqItemset(items=[u'International Office of Epizootics, Paris (France)', u'Egyptian Society of Animal Production, Cairo (Egypt)', u'Sadek, R.R.'], freq=83),\n",
       " FreqItemset(items=[u'International Office of Epizootics, Paris (France)', u'Egyptian Society of Animal Production, Cairo (Egypt)', u'Sadek, R.R.', u'Shafie, M.M.'], freq=83),\n",
       " FreqItemset(items=[u'International Office of Epizootics, Paris (France)', u'Egyptian Society of Animal Production, Cairo (Egypt)', u'Sadek, R.R.', u'Shafie, M.M.', u'Ibrahim, S.A.'], freq=83),\n",
       " FreqItemset(items=[u'International Office of Epizootics, Paris (France)', u'Egyptian Society of Animal Production, Cairo (Egypt)', u'Sadek, R.R.', u'Shafie, M.M.', u'Ibrahim, S.A.', u'European Association for Animal Production, Rome (Italy)'], freq=83),\n",
       " FreqItemset(items=[u'International Office of Epizootics, Paris (France)', u'Egyptian Society of Animal Production, Cairo (Egypt)', u'Sadek, R.R.', u'Shafie, M.M.', u'European Association for Animal Production, Rome (Italy)'], freq=83),\n",
       " FreqItemset(items=[u'International Office of Epizootics, Paris (France)', u'Egyptian Society of Animal Production, Cairo (Egypt)', u'Sadek, R.R.', u'Ibrahim, S.A.'], freq=83),\n",
       " FreqItemset(items=[u'International Office of Epizootics, Paris (France)', u'Egyptian Society of Animal Production, Cairo (Egypt)', u'Sadek, R.R.', u'Ibrahim, S.A.', u'European Association for Animal Production, Rome (Italy)'], freq=83),\n",
       " FreqItemset(items=[u'International Office of Epizootics, Paris (France)', u'Egyptian Society of Animal Production, Cairo (Egypt)', u'Sadek, R.R.', u'European Association for Animal Production, Rome (Italy)'], freq=83),\n",
       " FreqItemset(items=[u'International Office of Epizootics, Paris (France)', u'Egyptian Society of Animal Production, Cairo (Egypt)', u'Sadek, R.R.', u'Barkawi, A.H.'], freq=83),\n",
       " FreqItemset(items=[u'International Office of Epizootics, Paris (France)', u'Egyptian Society of Animal Production, Cairo (Egypt)', u'Sadek, R.R.', u'Barkawi, A.H.', u'Shafie, M.M.'], freq=83),\n",
       " FreqItemset(items=[u'International Office of Epizootics, Paris (France)', u'Egyptian Society of Animal Production, Cairo (Egypt)', u'Sadek, R.R.', u'Barkawi, A.H.', u'Shafie, M.M.', u'Ibrahim, S.A.'], freq=83),\n",
       " FreqItemset(items=[u'International Office of Epizootics, Paris (France)', u'Egyptian Society of Animal Production, Cairo (Egypt)', u'Sadek, R.R.', u'Barkawi, A.H.', u'Shafie, M.M.', u'Ibrahim, S.A.', u'European Association for Animal Production, Rome (Italy)'], freq=83),\n",
       " FreqItemset(items=[u'International Office of Epizootics, Paris (France)', u'Egyptian Society of Animal Production, Cairo (Egypt)', u'Sadek, R.R.', u'Barkawi, A.H.', u'Shafie, M.M.', u'European Association for Animal Production, Rome (Italy)'], freq=83),\n",
       " FreqItemset(items=[u'International Office of Epizootics, Paris (France)', u'Egyptian Society of Animal Production, Cairo (Egypt)', u'Sadek, R.R.', u'Barkawi, A.H.', u'Ibrahim, S.A.'], freq=83),\n",
       " FreqItemset(items=[u'International Office of Epizootics, Paris (France)', u'Egyptian Society of Animal Production, Cairo (Egypt)', u'Sadek, R.R.', u'Barkawi, A.H.', u'Ibrahim, S.A.', u'European Association for Animal Production, Rome (Italy)'], freq=83),\n",
       " FreqItemset(items=[u'International Office of Epizootics, Paris (France)', u'Egyptian Society of Animal Production, Cairo (Egypt)', u'Sadek, R.R.', u'Barkawi, A.H.', u'European Association for Animal Production, Rome (Italy)'], freq=83),\n",
       " FreqItemset(items=[u'International Office of Epizootics, Paris (France)', u'Egyptian Society of Animal Production, Cairo (Egypt)', u'Ibrahim, S.A.'], freq=83),\n",
       " FreqItemset(items=[u'International Office of Epizootics, Paris (France)', u'Egyptian Society of Animal Production, Cairo (Egypt)', u'Ibrahim, S.A.', u'European Association for Animal Production, Rome (Italy)'], freq=83),\n",
       " FreqItemset(items=[u'International Office of Epizootics, Paris (France)', u'Egyptian Society of Animal Production, Cairo (Egypt)', u'European Association for Animal Production, Rome (Italy)'], freq=83),\n",
       " FreqItemset(items=[u'International Office of Epizootics, Paris (France)', u'Egyptian Society of Animal Production, Cairo (Egypt)', u'Barkawi, A.H.'], freq=83),\n",
       " FreqItemset(items=[u'International Office of Epizootics, Paris (France)', u'Egyptian Society of Animal Production, Cairo (Egypt)', u'Barkawi, A.H.', u'Shafie, M.M.'], freq=83),\n",
       " FreqItemset(items=[u'International Office of Epizootics, Paris (France)', u'Egyptian Society of Animal Production, Cairo (Egypt)', u'Barkawi, A.H.', u'Shafie, M.M.', u'Ibrahim, S.A.'], freq=83),\n",
       " FreqItemset(items=[u'International Office of Epizootics, Paris (France)', u'Egyptian Society of Animal Production, Cairo (Egypt)', u'Barkawi, A.H.', u'Shafie, M.M.', u'Ibrahim, S.A.', u'European Association for Animal Production, Rome (Italy)'], freq=83),\n",
       " FreqItemset(items=[u'International Office of Epizootics, Paris (France)', u'Egyptian Society of Animal Production, Cairo (Egypt)', u'Barkawi, A.H.', u'Shafie, M.M.', u'European Association for Animal Production, Rome (Italy)'], freq=83),\n",
       " FreqItemset(items=[u'International Office of Epizootics, Paris (France)', u'Egyptian Society of Animal Production, Cairo (Egypt)', u'Barkawi, A.H.', u'Ibrahim, S.A.'], freq=83),\n",
       " FreqItemset(items=[u'International Office of Epizootics, Paris (France)', u'Egyptian Society of Animal Production, Cairo (Egypt)', u'Barkawi, A.H.', u'Ibrahim, S.A.', u'European Association for Animal Production, Rome (Italy)'], freq=83),\n",
       " FreqItemset(items=[u'International Office of Epizootics, Paris (France)', u'Egyptian Society of Animal Production, Cairo (Egypt)', u'Barkawi, A.H.', u'European Association for Animal Production, Rome (Italy)'], freq=83),\n",
       " FreqItemset(items=[u'International Office of Epizootics, Paris (France)', u'Sadek, R.R.'], freq=83),\n",
       " FreqItemset(items=[u'International Office of Epizootics, Paris (France)', u'Sadek, R.R.', u'Shafie, M.M.'], freq=83),\n",
       " FreqItemset(items=[u'International Office of Epizootics, Paris (France)', u'Sadek, R.R.', u'Shafie, M.M.', u'Ibrahim, S.A.'], freq=83),\n",
       " FreqItemset(items=[u'International Office of Epizootics, Paris (France)', u'Sadek, R.R.', u'Shafie, M.M.', u'Ibrahim, S.A.', u'European Association for Animal Production, Rome (Italy)'], freq=83),\n",
       " FreqItemset(items=[u'International Office of Epizootics, Paris (France)', u'Sadek, R.R.', u'Shafie, M.M.', u'European Association for Animal Production, Rome (Italy)'], freq=83),\n",
       " FreqItemset(items=[u'International Office of Epizootics, Paris (France)', u'Sadek, R.R.', u'Ibrahim, S.A.'], freq=83),\n",
       " FreqItemset(items=[u'International Office of Epizootics, Paris (France)', u'Sadek, R.R.', u'Ibrahim, S.A.', u'European Association for Animal Production, Rome (Italy)'], freq=83),\n",
       " FreqItemset(items=[u'International Office of Epizootics, Paris (France)', u'Sadek, R.R.', u'European Association for Animal Production, Rome (Italy)'], freq=83),\n",
       " FreqItemset(items=[u'International Office of Epizootics, Paris (France)', u'Sadek, R.R.', u'Barkawi, A.H.'], freq=83),\n",
       " FreqItemset(items=[u'International Office of Epizootics, Paris (France)', u'Sadek, R.R.', u'Barkawi, A.H.', u'Shafie, M.M.'], freq=83),\n",
       " FreqItemset(items=[u'International Office of Epizootics, Paris (France)', u'Sadek, R.R.', u'Barkawi, A.H.', u'Shafie, M.M.', u'Ibrahim, S.A.'], freq=83),\n",
       " FreqItemset(items=[u'International Office of Epizootics, Paris (France)', u'Sadek, R.R.', u'Barkawi, A.H.', u'Shafie, M.M.', u'Ibrahim, S.A.', u'European Association for Animal Production, Rome (Italy)'], freq=83),\n",
       " FreqItemset(items=[u'International Office of Epizootics, Paris (France)', u'Sadek, R.R.', u'Barkawi, A.H.', u'Shafie, M.M.', u'European Association for Animal Production, Rome (Italy)'], freq=83),\n",
       " FreqItemset(items=[u'International Office of Epizootics, Paris (France)', u'Sadek, R.R.', u'Barkawi, A.H.', u'Ibrahim, S.A.'], freq=83),\n",
       " FreqItemset(items=[u'International Office of Epizootics, Paris (France)', u'Sadek, R.R.', u'Barkawi, A.H.', u'Ibrahim, S.A.', u'European Association for Animal Production, Rome (Italy)'], freq=83),\n",
       " FreqItemset(items=[u'International Office of Epizootics, Paris (France)', u'Sadek, R.R.', u'Barkawi, A.H.', u'European Association for Animal Production, Rome (Italy)'], freq=83),\n",
       " FreqItemset(items=[u'International Office of Epizootics, Paris (France)', u'Ibrahim, S.A.'], freq=83),\n",
       " FreqItemset(items=[u'International Office of Epizootics, Paris (France)', u'Ibrahim, S.A.', u'European Association for Animal Production, Rome (Italy)'], freq=83),\n",
       " FreqItemset(items=[u'International Office of Epizootics, Paris (France)', u'European Association for Animal Production, Rome (Italy)'], freq=83),\n",
       " FreqItemset(items=[u'International Office of Epizootics, Paris (France)', u'Barkawi, A.H.'], freq=83),\n",
       " FreqItemset(items=[u'International Office of Epizootics, Paris (France)', u'Barkawi, A.H.', u'Shafie, M.M.'], freq=83),\n",
       " FreqItemset(items=[u'International Office of Epizootics, Paris (France)', u'Barkawi, A.H.', u'Shafie, M.M.', u'Ibrahim, S.A.'], freq=83),\n",
       " FreqItemset(items=[u'International Office of Epizootics, Paris (France)', u'Barkawi, A.H.', u'Shafie, M.M.', u'Ibrahim, S.A.', u'European Association for Animal Production, Rome (Italy)'], freq=83),\n",
       " FreqItemset(items=[u'International Office of Epizootics, Paris (France)', u'Barkawi, A.H.', u'Shafie, M.M.', u'European Association for Animal Production, Rome (Italy)'], freq=83),\n",
       " FreqItemset(items=[u'International Office of Epizootics, Paris (France)', u'Barkawi, A.H.', u'Ibrahim, S.A.'], freq=83),\n",
       " FreqItemset(items=[u'International Office of Epizootics, Paris (France)', u'Barkawi, A.H.', u'Ibrahim, S.A.', u'European Association for Animal Production, Rome (Italy)'], freq=83),\n",
       " FreqItemset(items=[u'International Office of Epizootics, Paris (France)', u'Barkawi, A.H.', u'European Association for Animal Production, Rome (Italy)'], freq=83),\n",
       " FreqItemset(items=[u'Roxana, ', u'Gr. T. Popa\\u201d University of Medicine and Pharmacy'], freq=54),\n",
       " FreqItemset(items=[u'N.N., Maharashtra College', u'Pravin U., Bhavan\\u2019s College'], freq=216),\n",
       " FreqItemset(items=[u'Despres, J.P.', u'Bouchard, C.'], freq=52),\n",
       " FreqItemset(items=[u'T.S., Karnataka University', u'Kirankumar, Gulbarga University'], freq=54),\n",
       " FreqItemset(items=[u'T.S., Karnataka University', u'Jayashree V., Gulbarga University'], freq=54),\n",
       " FreqItemset(items=[u'T.S., Karnataka University', u'Jayashree V., Gulbarga University', u'Kirankumar, Gulbarga University'], freq=54),\n",
       " FreqItemset(items=[u'Bolling H.', u'Bundesforschungsanstalt fuer Getreide- und Kartoffelverarbeitung, Detmold (Germany, F.R.)'], freq=68),\n",
       " FreqItemset(items=[u'McDowell, D.A.', u'Sheridan, J.J.'], freq=57),\n",
       " FreqItemset(items=[u'Vandana, Gulbarga University', u'K., Gulbarga University'], freq=54),\n",
       " FreqItemset(items=[u'Raghu, Bharathidasan University', u'Rangasamy, Bharathidasan University'], freq=54),\n",
       " FreqItemset(items=[u'Raghu, Bharathidasan University', u'Deva, Bharathidasan University'], freq=54),\n",
       " FreqItemset(items=[u'Raghu, Bharathidasan University', u'Deva, Bharathidasan University', u'Rangasamy, Bharathidasan University'], freq=54),\n",
       " FreqItemset(items=[u'Raghu, Bharathidasan University', u'Prabhakaran, Bharathidasan University'], freq=54),\n",
       " FreqItemset(items=[u'Raghu, Bharathidasan University', u'Prabhakaran, Bharathidasan University', u'Rangasamy, Bharathidasan University'], freq=54),\n",
       " FreqItemset(items=[u'Raghu, Bharathidasan University', u'Prabhakaran, Bharathidasan University', u'Deva, Bharathidasan University'], freq=54),\n",
       " FreqItemset(items=[u'Raghu, Bharathidasan University', u'Prabhakaran, Bharathidasan University', u'Deva, Bharathidasan University', u'Rangasamy, Bharathidasan University'], freq=54),\n",
       " FreqItemset(items=[u'Singh, SV Arts and Science, Degree and PG College', u'Singh P., Gulbarga University'], freq=54),\n",
       " FreqItemset(items=[u'N., Siva Rama Krishna Institute of Technology', u'C., Dhanekula Institute of Engineering and Technology'], freq=54),\n",
       " FreqItemset(items=[u'N., Siva Rama Krishna Institute of Technology', u'G., NRI Institute of Technology'], freq=54),\n",
       " FreqItemset(items=[u'N., Siva Rama Krishna Institute of Technology', u'G., NRI Institute of Technology', u'C., Dhanekula Institute of Engineering and Technology'], freq=54),\n",
       " FreqItemset(items=[u'A. Murali, Annamalai University', u'K., Annamalai University'], freq=54),\n",
       " FreqItemset(items=[u'A. Murali, Annamalai University', u'P., Annamalai University'], freq=54),\n",
       " FreqItemset(items=[u'A. Murali, Annamalai University', u'P., Annamalai University', u'K., Annamalai University'], freq=54),\n",
       " FreqItemset(items=[u'Shakirov, R.', u'Yunusov, S.Yu.'], freq=53),\n",
       " FreqItemset(items=[u', GPGC Bannu', u'Shahana, Government Girls Degree College S. Malton'], freq=54),\n",
       " FreqItemset(items=[u', GPGC Bannu', u'Shahana, Government Girls Degree College S. Malton', u'Musharaf, Federal Government College Mardan'], freq=54),\n",
       " FreqItemset(items=[u', GPGC Bannu', u'Musharaf, Federal Government College Mardan'], freq=54),\n",
       " FreqItemset(items=[u', GPGC Bannu', u'Farrukh, Bacha Khan University'], freq=54),\n",
       " FreqItemset(items=[u', GPGC Bannu', u'Farrukh, Bacha Khan University', u'Shahana, Government Girls Degree College S. Malton'], freq=54),\n",
       " FreqItemset(items=[u', GPGC Bannu', u'Farrukh, Bacha Khan University', u'Shahana, Government Girls Degree College S. Malton', u'Musharaf, Federal Government College Mardan'], freq=54),\n",
       " FreqItemset(items=[u', GPGC Bannu', u'Farrukh, Bacha Khan University', u'Musharaf, Federal Government College Mardan'], freq=54),\n",
       " FreqItemset(items=[u', GPGC Bannu', u'Zabta Khan, Quaid-i-Azam University'], freq=54),\n",
       " FreqItemset(items=[u', GPGC Bannu', u'Zabta Khan, Quaid-i-Azam University', u'Shahana, Government Girls Degree College S. Malton'], freq=54),\n",
       " FreqItemset(items=[u', GPGC Bannu', u'Zabta Khan, Quaid-i-Azam University', u'Shahana, Government Girls Degree College S. Malton', u'Musharaf, Federal Government College Mardan'], freq=54),\n",
       " FreqItemset(items=[u', GPGC Bannu', u'Zabta Khan, Quaid-i-Azam University', u'Musharaf, Federal Government College Mardan'], freq=54),\n",
       " FreqItemset(items=[u', GPGC Bannu', u'Zabta Khan, Quaid-i-Azam University', u'Farrukh, Bacha Khan University'], freq=54),\n",
       " FreqItemset(items=[u', GPGC Bannu', u'Zabta Khan, Quaid-i-Azam University', u'Farrukh, Bacha Khan University', u'Shahana, Government Girls Degree College S. Malton'], freq=54),\n",
       " FreqItemset(items=[u', GPGC Bannu', u'Zabta Khan, Quaid-i-Azam University', u'Farrukh, Bacha Khan University', u'Shahana, Government Girls Degree College S. Malton', u'Musharaf, Federal Government College Mardan'], freq=54),\n",
       " FreqItemset(items=[u', GPGC Bannu', u'Zabta Khan, Quaid-i-Azam University', u'Farrukh, Bacha Khan University', u'Musharaf, Federal Government College Mardan'], freq=54),\n",
       " FreqItemset(items=[u'S\\u0142awomir, University of Life Sciences, SGGW', u'Jerzy, University of Life Sciences, SGGW'], freq=54),\n",
       " FreqItemset(items=[u'V., Annamalai University', u'L., Annamalai University'], freq=54),\n",
       " FreqItemset(items=[u'V., Annamalai University', u'M., Annamalai University'], freq=54),\n",
       " FreqItemset(items=[u'V., Annamalai University', u'M., Annamalai University', u'S., Annamalai University'], freq=54),\n",
       " FreqItemset(items=[u'V., Annamalai University', u'M., Annamalai University', u'G., Annamalai University'], freq=54),\n",
       " FreqItemset(items=[u'V., Annamalai University', u'M., Annamalai University', u'G., Annamalai University', u'S., Annamalai University'], freq=54),\n",
       " FreqItemset(items=[u'V., Annamalai University', u'S., Annamalai University'], freq=54),\n",
       " FreqItemset(items=[u'V., Annamalai University', u'G., Annamalai University'], freq=54),\n",
       " FreqItemset(items=[u'V., Annamalai University', u'G., Annamalai University', u'S., Annamalai University'], freq=54),\n",
       " FreqItemset(items=[u'Belyaeva, E.S.', u'Zhimulev, I.F.'], freq=51),\n",
       " FreqItemset(items=[u'Sonnie A., Mindanao State University at Naawan', u'Brent Joy, Mindanao State University'], freq=54),\n",
       " FreqItemset(items=[u'Sonnie A., Mindanao State University at Naawan', u'Brent Joy, Mindanao State University', u'Rose Ann, Mindanao State University'], freq=54),\n",
       " FreqItemset(items=[u'Sonnie A., Mindanao State University at Naawan', u'Brent Joy, Mindanao State University', u'Juzavil, Mindanao State University'], freq=54),\n",
       " FreqItemset(items=[u'Sonnie A., Mindanao State University at Naawan', u'Brent Joy, Mindanao State University', u'Juzavil, Mindanao State University', u'Rose Ann, Mindanao State University'], freq=54),\n",
       " FreqItemset(items=[u'Sonnie A., Mindanao State University at Naawan', u'Princess Angelie, Mindanao State University'], freq=54),\n",
       " FreqItemset(items=[u'Sonnie A., Mindanao State University at Naawan', u'Princess Angelie, Mindanao State University', u'Brent Joy, Mindanao State University'], freq=54),\n",
       " FreqItemset(items=[u'Sonnie A., Mindanao State University at Naawan', u'Princess Angelie, Mindanao State University', u'Brent Joy, Mindanao State University', u'Rose Ann, Mindanao State University'], freq=54),\n",
       " FreqItemset(items=[u'Sonnie A., Mindanao State University at Naawan', u'Princess Angelie, Mindanao State University', u'Brent Joy, Mindanao State University', u'Juzavil, Mindanao State University'], freq=54),\n",
       " FreqItemset(items=[u'Sonnie A., Mindanao State University at Naawan', u'Princess Angelie, Mindanao State University', u'Brent Joy, Mindanao State University', u'Juzavil, Mindanao State University', u'Rose Ann, Mindanao State University'], freq=54),\n",
       " FreqItemset(items=[u'Sonnie A., Mindanao State University at Naawan', u'Princess Angelie, Mindanao State University', u'Rose Ann, Mindanao State University'], freq=54),\n",
       " FreqItemset(items=[u'Sonnie A., Mindanao State University at Naawan', u'Princess Angelie, Mindanao State University', u'Jazzie, Mindanao State University'], freq=54),\n",
       " FreqItemset(items=[u'Sonnie A., Mindanao State University at Naawan', u'Princess Angelie, Mindanao State University', u'Jazzie, Mindanao State University', u'Brent Joy, Mindanao State University'], freq=54),\n",
       " FreqItemset(items=[u'Sonnie A., Mindanao State University at Naawan', u'Princess Angelie, Mindanao State University', u'Jazzie, Mindanao State University', u'Brent Joy, Mindanao State University', u'Rose Ann, Mindanao State University'], freq=54),\n",
       " FreqItemset(items=[u'Sonnie A., Mindanao State University at Naawan', u'Princess Angelie, Mindanao State University', u'Jazzie, Mindanao State University', u'Brent Joy, Mindanao State University', u'Juzavil, Mindanao State University'], freq=54),\n",
       " FreqItemset(items=[u'Sonnie A., Mindanao State University at Naawan', u'Princess Angelie, Mindanao State University', u'Jazzie, Mindanao State University', u'Brent Joy, Mindanao State University', u'Juzavil, Mindanao State University', u'Rose Ann, Mindanao State University'], freq=54),\n",
       " FreqItemset(items=[u'Sonnie A., Mindanao State University at Naawan', u'Princess Angelie, Mindanao State University', u'Jazzie, Mindanao State University', u'Rose Ann, Mindanao State University'], freq=54),\n",
       " FreqItemset(items=[u'Sonnie A., Mindanao State University at Naawan', u'Princess Angelie, Mindanao State University', u'Jazzie, Mindanao State University', u'Juzavil, Mindanao State University'], freq=54),\n",
       " FreqItemset(items=[u'Sonnie A., Mindanao State University at Naawan', u'Princess Angelie, Mindanao State University', u'Jazzie, Mindanao State University', u'Juzavil, Mindanao State University', u'Rose Ann, Mindanao State University'], freq=54),\n",
       " FreqItemset(items=[u'Sonnie A., Mindanao State University at Naawan', u'Princess Angelie, Mindanao State University', u'Juzavil, Mindanao State University'], freq=54),\n",
       " FreqItemset(items=[u'Sonnie A., Mindanao State University at Naawan', u'Princess Angelie, Mindanao State University', u'Juzavil, Mindanao State University', u'Rose Ann, Mindanao State University'], freq=54),\n",
       " FreqItemset(items=[u'Sonnie A., Mindanao State University at Naawan', u'Rose Ann, Mindanao State University'], freq=54),\n",
       " FreqItemset(items=[u'Sonnie A., Mindanao State University at Naawan', u'Angelo, Mindanao State University'], freq=54),\n",
       " FreqItemset(items=[u'Sonnie A., Mindanao State University at Naawan', u'Angelo, Mindanao State University', u'Brent Joy, Mindanao State University'], freq=54),\n",
       " FreqItemset(items=[u'Sonnie A., Mindanao State University at Naawan', u'Angelo, Mindanao State University', u'Brent Joy, Mindanao State University', u'Rose Ann, Mindanao State University'], freq=54),\n",
       " FreqItemset(items=[u'Sonnie A., Mindanao State University at Naawan', u'Angelo, Mindanao State University', u'Brent Joy, Mindanao State University', u'Juzavil, Mindanao State University'], freq=54),\n",
       " FreqItemset(items=[u'Sonnie A., Mindanao State University at Naawan', u'Angelo, Mindanao State University', u'Brent Joy, Mindanao State University', u'Juzavil, Mindanao State University', u'Rose Ann, Mindanao State University'], freq=54),\n",
       " FreqItemset(items=[u'Sonnie A., Mindanao State University at Naawan', u'Angelo, Mindanao State University', u'Princess Angelie, Mindanao State University'], freq=54),\n",
       " FreqItemset(items=[u'Sonnie A., Mindanao State University at Naawan', u'Angelo, Mindanao State University', u'Princess Angelie, Mindanao State University', u'Brent Joy, Mindanao State University'], freq=54),\n",
       " FreqItemset(items=[u'Sonnie A., Mindanao State University at Naawan', u'Angelo, Mindanao State University', u'Princess Angelie, Mindanao State University', u'Brent Joy, Mindanao State University', u'Rose Ann, Mindanao State University'], freq=54),\n",
       " FreqItemset(items=[u'Sonnie A., Mindanao State University at Naawan', u'Angelo, Mindanao State University', u'Princess Angelie, Mindanao State University', u'Brent Joy, Mindanao State University', u'Juzavil, Mindanao State University'], freq=54),\n",
       " FreqItemset(items=[u'Sonnie A., Mindanao State University at Naawan', u'Angelo, Mindanao State University', u'Princess Angelie, Mindanao State University', u'Brent Joy, Mindanao State University', u'Juzavil, Mindanao State University', u'Rose Ann, Mindanao State University'], freq=54),\n",
       " FreqItemset(items=[u'Sonnie A., Mindanao State University at Naawan', u'Angelo, Mindanao State University', u'Princess Angelie, Mindanao State University', u'Rose Ann, Mindanao State University'], freq=54),\n",
       " FreqItemset(items=[u'Sonnie A., Mindanao State University at Naawan', u'Angelo, Mindanao State University', u'Princess Angelie, Mindanao State University', u'Jazzie, Mindanao State University'], freq=54),\n",
       " FreqItemset(items=[u'Sonnie A., Mindanao State University at Naawan', u'Angelo, Mindanao State University', u'Princess Angelie, Mindanao State University', u'Jazzie, Mindanao State University', u'Brent Joy, Mindanao State University'], freq=54),\n",
       " FreqItemset(items=[u'Sonnie A., Mindanao State University at Naawan', u'Angelo, Mindanao State University', u'Princess Angelie, Mindanao State University', u'Jazzie, Mindanao State University', u'Brent Joy, Mindanao State University', u'Rose Ann, Mindanao State University'], freq=54),\n",
       " FreqItemset(items=[u'Sonnie A., Mindanao State University at Naawan', u'Angelo, Mindanao State University', u'Princess Angelie, Mindanao State University', u'Jazzie, Mindanao State University', u'Brent Joy, Mindanao State University', u'Juzavil, Mindanao State University'], freq=54),\n",
       " FreqItemset(items=[u'Sonnie A., Mindanao State University at Naawan', u'Angelo, Mindanao State University', u'Princess Angelie, Mindanao State University', u'Jazzie, Mindanao State University', u'Brent Joy, Mindanao State University', u'Juzavil, Mindanao State University', u'Rose Ann, Mindanao State University'], freq=54),\n",
       " FreqItemset(items=[u'Sonnie A., Mindanao State University at Naawan', u'Angelo, Mindanao State University', u'Princess Angelie, Mindanao State University', u'Jazzie, Mindanao State University', u'Rose Ann, Mindanao State University'], freq=54),\n",
       " FreqItemset(items=[u'Sonnie A., Mindanao State University at Naawan', u'Angelo, Mindanao State University', u'Princess Angelie, Mindanao State University', u'Jazzie, Mindanao State University', u'Juzavil, Mindanao State University'], freq=54),\n",
       " FreqItemset(items=[u'Sonnie A., Mindanao State University at Naawan', u'Angelo, Mindanao State University', u'Princess Angelie, Mindanao State University', u'Jazzie, Mindanao State University', u'Juzavil, Mindanao State University', u'Rose Ann, Mindanao State University'], freq=54),\n",
       " FreqItemset(items=[u'Sonnie A., Mindanao State University at Naawan', u'Angelo, Mindanao State University', u'Princess Angelie, Mindanao State University', u'Juzavil, Mindanao State University'], freq=54),\n",
       " FreqItemset(items=[u'Sonnie A., Mindanao State University at Naawan', u'Angelo, Mindanao State University', u'Princess Angelie, Mindanao State University', u'Juzavil, Mindanao State University', u'Rose Ann, Mindanao State University'], freq=54),\n",
       " FreqItemset(items=[u'Sonnie A., Mindanao State University at Naawan', u'Angelo, Mindanao State University', u'Rose Ann, Mindanao State University'], freq=54),\n",
       " FreqItemset(items=[u'Sonnie A., Mindanao State University at Naawan', u'Angelo, Mindanao State University', u'Jazzie, Mindanao State University'], freq=54),\n",
       " FreqItemset(items=[u'Sonnie A., Mindanao State University at Naawan', u'Angelo, Mindanao State University', u'Jazzie, Mindanao State University', u'Brent Joy, Mindanao State University'], freq=54),\n",
       " FreqItemset(items=[u'Sonnie A., Mindanao State University at Naawan', u'Angelo, Mindanao State University', u'Jazzie, Mindanao State University', u'Brent Joy, Mindanao State University', u'Rose Ann, Mindanao State University'], freq=54),\n",
       " FreqItemset(items=[u'Sonnie A., Mindanao State University at Naawan', u'Angelo, Mindanao State University', u'Jazzie, Mindanao State University', u'Brent Joy, Mindanao State University', u'Juzavil, Mindanao State University'], freq=54),\n",
       " FreqItemset(items=[u'Sonnie A., Mindanao State University at Naawan', u'Angelo, Mindanao State University', u'Jazzie, Mindanao State University', u'Brent Joy, Mindanao State University', u'Juzavil, Mindanao State University', u'Rose Ann, Mindanao State University'], freq=54),\n",
       " FreqItemset(items=[u'Sonnie A., Mindanao State University at Naawan', u'Angelo, Mindanao State University', u'Jazzie, Mindanao State University', u'Rose Ann, Mindanao State University'], freq=54),\n",
       " FreqItemset(items=[u'Sonnie A., Mindanao State University at Naawan', u'Angelo, Mindanao State University', u'Jazzie, Mindanao State University', u'Juzavil, Mindanao State University'], freq=54),\n",
       " FreqItemset(items=[u'Sonnie A., Mindanao State University at Naawan', u'Angelo, Mindanao State University', u'Jazzie, Mindanao State University', u'Juzavil, Mindanao State University', u'Rose Ann, Mindanao State University'], freq=54),\n",
       " FreqItemset(items=[u'Sonnie A., Mindanao State University at Naawan', u'Angelo, Mindanao State University', u'Juzavil, Mindanao State University'], freq=54),\n",
       " FreqItemset(items=[u'Sonnie A., Mindanao State University at Naawan', u'Angelo, Mindanao State University', u'Juzavil, Mindanao State University', u'Rose Ann, Mindanao State University'], freq=54),\n",
       " FreqItemset(items=[u'Sonnie A., Mindanao State University at Naawan', u'Jazzie, Mindanao State University'], freq=54),\n",
       " FreqItemset(items=[u'Sonnie A., Mindanao State University at Naawan', u'Jazzie, Mindanao State University', u'Brent Joy, Mindanao State University'], freq=54),\n",
       " FreqItemset(items=[u'Sonnie A., Mindanao State University at Naawan', u'Jazzie, Mindanao State University', u'Brent Joy, Mindanao State University', u'Rose Ann, Mindanao State University'], freq=54),\n",
       " FreqItemset(items=[u'Sonnie A., Mindanao State University at Naawan', u'Jazzie, Mindanao State University', u'Brent Joy, Mindanao State University', u'Juzavil, Mindanao State University'], freq=54),\n",
       " FreqItemset(items=[u'Sonnie A., Mindanao State University at Naawan', u'Jazzie, Mindanao State University', u'Brent Joy, Mindanao State University', u'Juzavil, Mindanao State University', u'Rose Ann, Mindanao State University'], freq=54),\n",
       " FreqItemset(items=[u'Sonnie A., Mindanao State University at Naawan', u'Jazzie, Mindanao State University', u'Rose Ann, Mindanao State University'], freq=54),\n",
       " FreqItemset(items=[u'Sonnie A., Mindanao State University at Naawan', u'Jazzie, Mindanao State University', u'Juzavil, Mindanao State University'], freq=54),\n",
       " FreqItemset(items=[u'Sonnie A., Mindanao State University at Naawan', u'Jazzie, Mindanao State University', u'Juzavil, Mindanao State University', u'Rose Ann, Mindanao State University'], freq=54),\n",
       " FreqItemset(items=[u'Sonnie A., Mindanao State University at Naawan', u'Juzavil, Mindanao State University'], freq=54),\n",
       " FreqItemset(items=[u'Sonnie A., Mindanao State University at Naawan', u'Juzavil, Mindanao State University', u'Rose Ann, Mindanao State University'], freq=54),\n",
       " FreqItemset(items=[u'Borghi B.', u'Istituto Sperimentale per la Cerealicoltura, Rome (Italy)'], freq=59),\n",
       " FreqItemset(items=[u'Tetyana, Oles Honchar Dnipropetrovsk National University', u'Olena, Oles Honchar Dnipropetrovsk National University'], freq=108),\n",
       " FreqItemset(items=[u'Gregory, K.E.', u'Cundiff, L.V.'], freq=78),\n",
       " FreqItemset(items=[u'S., Gulbarga University', u'Rao, Gulbarga University'], freq=54),\n",
       " FreqItemset(items=[u'Groot, C.P.G.M. de', u'Staveren, W.A. van'], freq=59),\n",
       " FreqItemset(items=[u'Bode, R.', u'Birnbaum, D.'], freq=52),\n",
       " FreqItemset(items=[u'Nisbet, D.J.', u'Anderson, R.C.'], freq=62),\n",
       " FreqItemset(items=[u'Francis Chizoruo, Federal University of Technology', u'Alexander, Federal University of Technology'], freq=54),\n",
       " FreqItemset(items=[u'Codina, C.', u'Bastida, J.'], freq=56),\n",
       " FreqItemset(items=[u'Barnali Ray, ', u'Somdeep, University of Calcutta'], freq=54),\n",
       " FreqItemset(items=[u'Barnali Ray, ', u'Somdeep, University of Calcutta', u'Punarbasu, University of Calcutta'], freq=54),\n",
       " FreqItemset(items=[u'Barnali Ray, ', u'Somdeep, University of Calcutta', u'Madhurima, University of Calcutta'], freq=54),\n",
       " FreqItemset(items=[u'Barnali Ray, ', u'Somdeep, University of Calcutta', u'Madhurima, University of Calcutta', u'Punarbasu, University of Calcutta'], freq=54),\n",
       " FreqItemset(items=[u'Barnali Ray, ', u'Punarbasu, University of Calcutta'], freq=54),\n",
       " FreqItemset(items=[u'Barnali Ray, ', u'Madhurima, University of Calcutta'], freq=54),\n",
       " FreqItemset(items=[u'Barnali Ray, ', u'Madhurima, University of Calcutta', u'Punarbasu, University of Calcutta'], freq=54),\n",
       " FreqItemset(items=[u'Callaway, T.R.', u'Nisbet, D.J.'], freq=57),\n",
       " FreqItemset(items=[u'Drudge, J.H.', u'Lyons, E.T.'], freq=74),\n",
       " FreqItemset(items=[u'S., St. John\\u2019s Pharmacy College', u'John Wilking, St. John\\u2019s Pharmacy College'], freq=54),\n",
       " FreqItemset(items=[u'S., St. John\\u2019s Pharmacy College', u'John Wilking, St. John\\u2019s Pharmacy College', u'Kuntal, Krupanidhi College of Pharmacy'], freq=54),\n",
       " FreqItemset(items=[u'S., St. John\\u2019s Pharmacy College', u'Kuntal, Krupanidhi College of Pharmacy'], freq=54),\n",
       " FreqItemset(items=[u'S., St. John\\u2019s Pharmacy College', u'Benson K., St. John\\u2019s Pharmacy College'], freq=54),\n",
       " FreqItemset(items=[u'S., St. John\\u2019s Pharmacy College', u'Benson K., St. John\\u2019s Pharmacy College', u'John Wilking, St. John\\u2019s Pharmacy College'], freq=54),\n",
       " FreqItemset(items=[u'S., St. John\\u2019s Pharmacy College', u'Benson K., St. John\\u2019s Pharmacy College', u'John Wilking, St. John\\u2019s Pharmacy College', u'Kuntal, Krupanidhi College of Pharmacy'], freq=54),\n",
       " FreqItemset(items=[u'S., St. John\\u2019s Pharmacy College', u'Benson K., St. John\\u2019s Pharmacy College', u'Kuntal, Krupanidhi College of Pharmacy'], freq=54),\n",
       " FreqItemset(items=[u'S., St. John\\u2019s Pharmacy College', u'Benson K., St. John\\u2019s Pharmacy College', u'Girish, St. John\\u2019s Pharmacy College'], freq=54),\n",
       " FreqItemset(items=[u'S., St. John\\u2019s Pharmacy College', u'Benson K., St. John\\u2019s Pharmacy College', u'Girish, St. John\\u2019s Pharmacy College', u'John Wilking, St. John\\u2019s Pharmacy College'], freq=54),\n",
       " FreqItemset(items=[u'S., St. John\\u2019s Pharmacy College', u'Benson K., St. John\\u2019s Pharmacy College', u'Girish, St. John\\u2019s Pharmacy College', u'John Wilking, St. John\\u2019s Pharmacy College', u'Kuntal, Krupanidhi College of Pharmacy'], freq=54),\n",
       " FreqItemset(items=[u'S., St. John\\u2019s Pharmacy College', u'Benson K., St. John\\u2019s Pharmacy College', u'Girish, St. John\\u2019s Pharmacy College', u'Kuntal, Krupanidhi College of Pharmacy'], freq=54),\n",
       " FreqItemset(items=[u'S., St. John\\u2019s Pharmacy College', u'Girish, St. John\\u2019s Pharmacy College'], freq=54),\n",
       " FreqItemset(items=[u'S., St. John\\u2019s Pharmacy College', u'Girish, St. John\\u2019s Pharmacy College', u'John Wilking, St. John\\u2019s Pharmacy College'], freq=54),\n",
       " FreqItemset(items=[u'S., St. John\\u2019s Pharmacy College', u'Girish, St. John\\u2019s Pharmacy College', u'John Wilking, St. John\\u2019s Pharmacy College', u'Kuntal, Krupanidhi College of Pharmacy'], freq=54),\n",
       " FreqItemset(items=[u'S., St. John\\u2019s Pharmacy College', u'Girish, St. John\\u2019s Pharmacy College', u'Kuntal, Krupanidhi College of Pharmacy'], freq=54),\n",
       " FreqItemset(items=[u'S., St. John\\u2019s Pharmacy College', u'Ganapathi G., St. John\\u2019s Pharmacy College'], freq=54),\n",
       " FreqItemset(items=[u'S., St. John\\u2019s Pharmacy College', u'Ganapathi G., St. John\\u2019s Pharmacy College', u'John Wilking, St. John\\u2019s Pharmacy College'], freq=54),\n",
       " FreqItemset(items=[u'S., St. John\\u2019s Pharmacy College', u'Ganapathi G., St. John\\u2019s Pharmacy College', u'John Wilking, St. John\\u2019s Pharmacy College', u'Kuntal, Krupanidhi College of Pharmacy'], freq=54),\n",
       " FreqItemset(items=[u'S., St. John\\u2019s Pharmacy College', u'Ganapathi G., St. John\\u2019s Pharmacy College', u'Kuntal, Krupanidhi College of Pharmacy'], freq=54),\n",
       " FreqItemset(items=[u'S., St. John\\u2019s Pharmacy College', u'Ganapathi G., St. John\\u2019s Pharmacy College', u'Benson K., St. John\\u2019s Pharmacy College'], freq=54),\n",
       " FreqItemset(items=[u'S., St. John\\u2019s Pharmacy College', u'Ganapathi G., St. John\\u2019s Pharmacy College', u'Benson K., St. John\\u2019s Pharmacy College', u'John Wilking, St. John\\u2019s Pharmacy College'], freq=54),\n",
       " FreqItemset(items=[u'S., St. John\\u2019s Pharmacy College', u'Ganapathi G., St. John\\u2019s Pharmacy College', u'Benson K., St. John\\u2019s Pharmacy College', u'John Wilking, St. John\\u2019s Pharmacy College', u'Kuntal, Krupanidhi College of Pharmacy'], freq=54),\n",
       " FreqItemset(items=[u'S., St. John\\u2019s Pharmacy College', u'Ganapathi G., St. John\\u2019s Pharmacy College', u'Benson K., St. John\\u2019s Pharmacy College', u'Kuntal, Krupanidhi College of Pharmacy'], freq=54),\n",
       " FreqItemset(items=[u'S., St. John\\u2019s Pharmacy College', u'Ganapathi G., St. John\\u2019s Pharmacy College', u'Benson K., St. John\\u2019s Pharmacy College', u'Girish, St. John\\u2019s Pharmacy College'], freq=54),\n",
       " FreqItemset(items=[u'S., St. John\\u2019s Pharmacy College', u'Ganapathi G., St. John\\u2019s Pharmacy College', u'Benson K., St. John\\u2019s Pharmacy College', u'Girish, St. John\\u2019s Pharmacy College', u'John Wilking, St. John\\u2019s Pharmacy College'], freq=54),\n",
       " FreqItemset(items=[u'S., St. John\\u2019s Pharmacy College', u'Ganapathi G., St. John\\u2019s Pharmacy College', u'Benson K., St. John\\u2019s Pharmacy College', u'Girish, St. John\\u2019s Pharmacy College', u'John Wilking, St. John\\u2019s Pharmacy College', u'Kuntal, Krupanidhi College of Pharmacy'], freq=54),\n",
       " FreqItemset(items=[u'S., St. John\\u2019s Pharmacy College', u'Ganapathi G., St. John\\u2019s Pharmacy College', u'Benson K., St. John\\u2019s Pharmacy College', u'Girish, St. John\\u2019s Pharmacy College', u'Kuntal, Krupanidhi College of Pharmacy'], freq=54),\n",
       " FreqItemset(items=[u'S., St. John\\u2019s Pharmacy College', u'Ganapathi G., St. John\\u2019s Pharmacy College', u'Girish, St. John\\u2019s Pharmacy College'], freq=54),\n",
       " FreqItemset(items=[u'S., St. John\\u2019s Pharmacy College', u'Ganapathi G., St. John\\u2019s Pharmacy College', u'Girish, St. John\\u2019s Pharmacy College', u'John Wilking, St. John\\u2019s Pharmacy College'], freq=54),\n",
       " FreqItemset(items=[u'S., St. John\\u2019s Pharmacy College', u'Ganapathi G., St. John\\u2019s Pharmacy College', u'Girish, St. John\\u2019s Pharmacy College', u'John Wilking, St. John\\u2019s Pharmacy College', u'Kuntal, Krupanidhi College of Pharmacy'], freq=54),\n",
       " FreqItemset(items=[u'S., St. John\\u2019s Pharmacy College', u'Ganapathi G., St. John\\u2019s Pharmacy College', u'Girish, St. John\\u2019s Pharmacy College', u'Kuntal, Krupanidhi College of Pharmacy'], freq=54),\n",
       " FreqItemset(items=[u'Gutenmann, W.H.', u'Lisk, D.J.'], freq=67),\n",
       " FreqItemset(items=[u'Hernandez, P.E.', u'Martin, R.'], freq=54),\n",
       " FreqItemset(items=[u'Alexey, Oles Honchar Dnipropetrovsk National University', u'Olga, University of Bath'], freq=54),\n",
       " FreqItemset(items=[u'Alexey, Oles Honchar Dnipropetrovsk National University', u'Olga, University of Bath', u'Olena, Oles Honchar Dnipropetrovsk National University'], freq=54),\n",
       " FreqItemset(items=[u'Alexey, Oles Honchar Dnipropetrovsk National University', u'Olena, Oles Honchar Dnipropetrovsk National University'], freq=54),\n",
       " FreqItemset(items=[u'McMillian, W.W.', u'Wiseman, B.R.'], freq=50),\n",
       " FreqItemset(items=[u'Nagarajan, A.V.C. College (Autonomous)', u'Rajarathnavel, A.V.C. College (Autonomous)'], freq=54),\n",
       " FreqItemset(items=[u'Nagarajan, A.V.C. College (Autonomous)', u'Golusu Babu, A.V.C. College (Autonomous)'], freq=54),\n",
       " FreqItemset(items=[u'Nagarajan, A.V.C. College (Autonomous)', u'Golusu Babu, A.V.C. College (Autonomous)', u'Rajarathnavel, A.V.C. College (Autonomous)'], freq=54),\n",
       " FreqItemset(items=[u'Nagarajan, A.V.C. College (Autonomous)', u'Golusu Babu, A.V.C. College (Autonomous)', u'Murali, A.V.C. College (Autonomous)'], freq=54),\n",
       " FreqItemset(items=[u'Nagarajan, A.V.C. College (Autonomous)', u'Golusu Babu, A.V.C. College (Autonomous)', u'Murali, A.V.C. College (Autonomous)', u'Rajarathnavel, A.V.C. College (Autonomous)'], freq=54),\n",
       " FreqItemset(items=[u'Nagarajan, A.V.C. College (Autonomous)', u'Murali, A.V.C. College (Autonomous)'], freq=54),\n",
       " FreqItemset(items=[u'Nagarajan, A.V.C. College (Autonomous)', u'Murali, A.V.C. College (Autonomous)', u'Rajarathnavel, A.V.C. College (Autonomous)'], freq=54),\n",
       " FreqItemset(items=[u'Henson, J.B.', u'Gorham, J.R.'], freq=54),\n",
       " FreqItemset(items=[u'Ku, P.K.', u'Miller, E.R.'], freq=53),\n",
       " FreqItemset(items=[u'N.N.M., MARA University of Technology', u'Z.S., MARA University of Technology'], freq=54),\n",
       " FreqItemset(items=[u'N.N.M., MARA University of Technology', u'Z.S., MARA University of Technology', u'W.N.A., MARA University of Technology'], freq=54),\n",
       " FreqItemset(items=[u'N.N.M., MARA University of Technology', u'Z.S., MARA University of Technology', u'W.N.A., MARA University of Technology', u'C., ETH'], freq=54),\n",
       " FreqItemset(items=[u'N.N.M., MARA University of Technology', u'Z.S., MARA University of Technology', u'C., ETH'], freq=54),\n",
       " FreqItemset(items=[u'N.N.M., MARA University of Technology', u'W.N.A., MARA University of Technology'], freq=54),\n",
       " FreqItemset(items=[u'N.N.M., MARA University of Technology', u'W.N.A., MARA University of Technology', u'C., ETH'], freq=54),\n",
       " FreqItemset(items=[u'N.N.M., MARA University of Technology', u'N.S., MARA University of Technology'], freq=54),\n",
       " FreqItemset(items=[u'N.N.M., MARA University of Technology', u'N.S., MARA University of Technology', u'Z.S., MARA University of Technology'], freq=54),\n",
       " FreqItemset(items=[u'N.N.M., MARA University of Technology', u'N.S., MARA University of Technology', u'Z.S., MARA University of Technology', u'W.N.A., MARA University of Technology'], freq=54),\n",
       " FreqItemset(items=[u'N.N.M., MARA University of Technology', u'N.S., MARA University of Technology', u'Z.S., MARA University of Technology', u'W.N.A., MARA University of Technology', u'C., ETH'], freq=54),\n",
       " FreqItemset(items=[u'N.N.M., MARA University of Technology', u'N.S., MARA University of Technology', u'Z.S., MARA University of Technology', u'C., ETH'], freq=54),\n",
       " FreqItemset(items=[u'N.N.M., MARA University of Technology', u'N.S., MARA University of Technology', u'W.N.A., MARA University of Technology'], freq=54),\n",
       " FreqItemset(items=[u'N.N.M., MARA University of Technology', u'N.S., MARA University of Technology', u'W.N.A., MARA University of Technology', u'C., ETH'], freq=54),\n",
       " FreqItemset(items=[u'N.N.M., MARA University of Technology', u'N.S., MARA University of Technology', u'C., ETH'], freq=54),\n",
       " FreqItemset(items=[u'N.N.M., MARA University of Technology', u'C., ETH'], freq=54),\n",
       " FreqItemset(items=[u'G., Rabindra Bharati University', u'S., Rabindra Bharati University'], freq=54),\n",
       " FreqItemset(items=[u'G., Rabindra Bharati University', u'S., Rabindra Bharati University', u'Sayan, Rabindra Bharati University'], freq=54),\n",
       " FreqItemset(items=[u'G., Rabindra Bharati University', u'Sayan, Rabindra Bharati University'], freq=54),\n",
       " FreqItemset(items=[u'S.D., Damasol Nogeria Limited', u'E.O., Olabisi Onabanjo University'], freq=54),\n",
       " FreqItemset(items=[u'S.D., Damasol Nogeria Limited', u'E.O., Olabisi Onabanjo University', u'J.O., Olabisi Onabanjo University'], freq=54),\n",
       " FreqItemset(items=[u'S.D., Damasol Nogeria Limited', u'J.O., Olabisi Onabanjo University'], freq=54),\n",
       " FreqItemset(items=[u'Oke, Federal Polytechnic Nekede Owerri Imo State', u'Chijioke, Federal Polytechnic Nekede'], freq=54),\n",
       " FreqItemset(items=[u'Ayoub, Payame Noor University', u'Bakhtyar, Payame Noor University'], freq=54),\n",
       " FreqItemset(items=[u'E.O., Olabisi Onabanjo University', u'J.O., Olabisi Onabanjo University'], freq=54),\n",
       " FreqItemset(items=[u'Farm Credit Administration.', u'United States'], freq=55),\n",
       " FreqItemset(items=[u'Trefny, D.', u'Sova, Z.'], freq=91),\n",
       " FreqItemset(items=[u'Taranisen, Chandbali College', u'Nirlipta, Chandbali College'], freq=54),\n",
       " FreqItemset(items=[u'Aliyu, Nassarawa State Polytechnic', u'Mohammed K., Lake Chad Research Institute'], freq=54),\n",
       " FreqItemset(items=[u'Reicheneder, E.', u'Narziss, L.'], freq=58),\n",
       " FreqItemset(items=[u'N., Shrushti Global Medicare and Research Center', u'Aamir, Shrushti Global Medicare and Research Center'], freq=54),\n",
       " FreqItemset(items=[u'N., Shrushti Global Medicare and Research Center', u'Aamir, Shrushti Global Medicare and Research Center', u'Ramprasad, Eurofins Genomics India Pvt Ltd.'], freq=54),\n",
       " FreqItemset(items=[u'N., Shrushti Global Medicare and Research Center', u'Ramprasad, Eurofins Genomics India Pvt Ltd.'], freq=54),\n",
       " FreqItemset(items=[u'N., Shrushti Global Medicare and Research Center', u'Anup, Sigma Test and Research Centre'], freq=54),\n",
       " FreqItemset(items=[u'N., Shrushti Global Medicare and Research Center', u'Anup, Sigma Test and Research Centre', u'Aamir, Shrushti Global Medicare and Research Center'], freq=54),\n",
       " FreqItemset(items=[u'N., Shrushti Global Medicare and Research Center', u'Anup, Sigma Test and Research Centre', u'Aamir, Shrushti Global Medicare and Research Center', u'Ramprasad, Eurofins Genomics India Pvt Ltd.'], freq=54),\n",
       " FreqItemset(items=[u'N., Shrushti Global Medicare and Research Center', u'Anup, Sigma Test and Research Centre', u'Ramprasad, Eurofins Genomics India Pvt Ltd.'], freq=54),\n",
       " FreqItemset(items=[u'N., Shrushti Global Medicare and Research Center', u'Anup, Sigma Test and Research Centre', u'Rahul, Oxford College of Science'], freq=54),\n",
       " FreqItemset(items=[u'N., Shrushti Global Medicare and Research Center', u'Anup, Sigma Test and Research Centre', u'Rahul, Oxford College of Science', u'Aamir, Shrushti Global Medicare and Research Center'], freq=54),\n",
       " FreqItemset(items=[u'N., Shrushti Global Medicare and Research Center', u'Anup, Sigma Test and Research Centre', u'Rahul, Oxford College of Science', u'Aamir, Shrushti Global Medicare and Research Center', u'Ramprasad, Eurofins Genomics India Pvt Ltd.'], freq=54),\n",
       " FreqItemset(items=[u'N., Shrushti Global Medicare and Research Center', u'Anup, Sigma Test and Research Centre', u'Rahul, Oxford College of Science', u'Ramprasad, Eurofins Genomics India Pvt Ltd.'], freq=54),\n",
       " FreqItemset(items=[u'N., Shrushti Global Medicare and Research Center', u'Rahul, Oxford College of Science'], freq=54),\n",
       " FreqItemset(items=[u'N., Shrushti Global Medicare and Research Center', u'Rahul, Oxford College of Science', u'Aamir, Shrushti Global Medicare and Research Center'], freq=54),\n",
       " FreqItemset(items=[u'N., Shrushti Global Medicare and Research Center', u'Rahul, Oxford College of Science', u'Aamir, Shrushti Global Medicare and Research Center', u'Ramprasad, Eurofins Genomics India Pvt Ltd.'], freq=54),\n",
       " FreqItemset(items=[u'N., Shrushti Global Medicare and Research Center', u'Rahul, Oxford College of Science', u'Ramprasad, Eurofins Genomics India Pvt Ltd.'], freq=54),\n",
       " FreqItemset(items=[u'Kabiru Baraya, College of Education', u'Buba A., Moddibo Adama University of Technology'], freq=54),\n",
       " FreqItemset(items=[u'I.D., University of Uyo', u'U.C., University of Uyo'], freq=54),\n",
       " FreqItemset(items=[u'Beldman, G.', u'Voragen, A.G.J.'], freq=67),\n",
       " FreqItemset(items=[u'K.D., Shree M. & N. Virani Science College', u'N.H., M. D. Science College'], freq=54),\n",
       " FreqItemset(items=[u'K.D., Shree M. & N. Virani Science College', u'N.H., M. D. Science College', u'A.H., M. D. Science College'], freq=54),\n",
       " FreqItemset(items=[u'K.D., Shree M. & N. Virani Science College', u'A.H., M. D. Science College'], freq=54),\n",
       " FreqItemset(items=[u'DePauw, R.M.', u'Clarke, J.M.'], freq=68),\n",
       " FreqItemset(items=[u'Janes, N.F.', u'Elliott, M.'], freq=50),\n",
       " FreqItemset(items=[u'Oklahoma State University', u'Cooperative Extension Service.'], freq=63),\n",
       " FreqItemset(items=[u'Al.C., Annamalai University', u'D., Annamalai University'], freq=54),\n",
       " FreqItemset(items=[u'Al.C., Annamalai University', u'D., Annamalai University', u'K., Annamalai University'], freq=54),\n",
       " FreqItemset(items=[u'Al.C., Annamalai University', u'D., Annamalai University', u'K., Annamalai University', u'R., Annamalai University'], freq=54),\n",
       " FreqItemset(items=[u'Al.C., Annamalai University', u'D., Annamalai University', u'R., Annamalai University'], freq=54),\n",
       " FreqItemset(items=[u'Al.C., Annamalai University', u'K., Annamalai University'], freq=54),\n",
       " FreqItemset(items=[u'Al.C., Annamalai University', u'K., Annamalai University', u'R., Annamalai University'], freq=54),\n",
       " FreqItemset(items=[u'Al.C., Annamalai University', u'R., Annamalai University'], freq=54),\n",
       " FreqItemset(items=[u'Jung, Yong-Taek', u'Yoon, Jung-Hoon'], freq=51),\n",
       " FreqItemset(items=[u'R.S., Federal College of Agriculture', u'M.A., University of Ibadan'], freq=54),\n",
       " FreqItemset(items=[u'C., Federal College of Education', u'V.I., Federal College of Education'], freq=54),\n",
       " FreqItemset(items=[u'C., Federal College of Education', u'N.D.E., Federal College of Education'], freq=54),\n",
       " FreqItemset(items=[u'C., Federal College of Education', u'N.D.E., Federal College of Education', u'V.I., Federal College of Education'], freq=54),\n",
       " FreqItemset(items=[u'C., Federal College of Education', u'N.D.E., Federal College of Education', u'M.E., Federal College of Education'], freq=54),\n",
       " FreqItemset(items=[u'C., Federal College of Education', u'N.D.E., Federal College of Education', u'M.E., Federal College of Education', u'V.I., Federal College of Education'], freq=54),\n",
       " FreqItemset(items=[u'C., Federal College of Education', u'N.D.E., Federal College of Education', u'M.E., Federal College of Education', u'A.Y., Federal College of Education'], freq=54),\n",
       " FreqItemset(items=[u'C., Federal College of Education', u'N.D.E., Federal College of Education', u'M.E., Federal College of Education', u'A.Y., Federal College of Education', u'V.I., Federal College of Education'], freq=54),\n",
       " FreqItemset(items=[u'C., Federal College of Education', u'N.D.E., Federal College of Education', u'A.Y., Federal College of Education'], freq=54),\n",
       " FreqItemset(items=[u'C., Federal College of Education', u'N.D.E., Federal College of Education', u'A.Y., Federal College of Education', u'V.I., Federal College of Education'], freq=54),\n",
       " FreqItemset(items=[u'C., Federal College of Education', u'M.E., Federal College of Education'], freq=54),\n",
       " FreqItemset(items=[u'C., Federal College of Education', u'M.E., Federal College of Education', u'V.I., Federal College of Education'], freq=54),\n",
       " FreqItemset(items=[u'C., Federal College of Education', u'M.E., Federal College of Education', u'A.Y., Federal College of Education'], freq=54),\n",
       " FreqItemset(items=[u'C., Federal College of Education', u'M.E., Federal College of Education', u'A.Y., Federal College of Education', u'V.I., Federal College of Education'], freq=54),\n",
       " FreqItemset(items=[u'C., Federal College of Education', u'A.Y., Federal College of Education'], freq=54),\n",
       " FreqItemset(items=[u'C., Federal College of Education', u'A.Y., Federal College of Education', u'V.I., Federal College of Education'], freq=54),\n",
       " FreqItemset(items=[u'Kettmann, R.', u'Burny, A.'], freq=56),\n",
       " FreqItemset(items=[u'Robab, Shahihd Beheshti University', u'Esmaeel, Payame Noor University'], freq=54),\n",
       " FreqItemset(items=[u'Robab, Shahihd Beheshti University', u'Gholamhussein, Payame Noor University'], freq=54),\n",
       " FreqItemset(items=[u'Robab, Shahihd Beheshti University', u'Gholamhussein, Payame Noor University', u'Esmaeel, Payame Noor University'], freq=54),\n",
       " FreqItemset(items=[u'Robab, Shahihd Beheshti University', u'Gholamhussein, Payame Noor University', u'Bakhtiar, Payame Noor University'], freq=54),\n",
       " FreqItemset(items=[u'Robab, Shahihd Beheshti University', u'Gholamhussein, Payame Noor University', u'Bakhtiar, Payame Noor University', u'Esmaeel, Payame Noor University'], freq=54),\n",
       " FreqItemset(items=[u'Robab, Shahihd Beheshti University', u'Bakhtiar, Payame Noor University'], freq=54),\n",
       " FreqItemset(items=[u'Robab, Shahihd Beheshti University', u'Bakhtiar, Payame Noor University', u'Esmaeel, Payame Noor University'], freq=54),\n",
       " FreqItemset(items=[u'Aamir, Base Fertility Medical Science Pvt Ltd.', u'Ashim, Dayananda Sagar Institutions'], freq=54),\n",
       " FreqItemset(items=[u'P.S., Annamalai University', u'K., Annamalai University'], freq=108),\n",
       " FreqItemset(items=[u'P.S., Annamalai University', u'B., Annamalai University'], freq=54),\n",
       " FreqItemset(items=[u'P.S., Annamalai University', u'B., Annamalai University', u'R., Annamalai University'], freq=54),\n",
       " FreqItemset(items=[u'P.S., Annamalai University', u'R., Annamalai University'], freq=54),\n",
       " FreqItemset(items=[u'C.P., Federal University of Technology', u'F.O., Federal University of Technology'], freq=54),\n",
       " FreqItemset(items=[u'C.P., Federal University of Technology', u'O.M., Federal University of Technology'], freq=54),\n",
       " FreqItemset(items=[u'C.P., Federal University of Technology', u'O.M., Federal University of Technology', u'F.O., Federal University of Technology'], freq=54),\n",
       " FreqItemset(items=[u'C.P., Federal University of Technology', u'Usman, University of Port Harcourt'], freq=54),\n",
       " FreqItemset(items=[u'C.P., Federal University of Technology', u'Usman, University of Port Harcourt', u'F.O., Federal University of Technology'], freq=54),\n",
       " FreqItemset(items=[u'C.P., Federal University of Technology', u'Usman, University of Port Harcourt', u'O.M., Federal University of Technology'], freq=54),\n",
       " FreqItemset(items=[u'C.P., Federal University of Technology', u'Usman, University of Port Harcourt', u'O.M., Federal University of Technology', u'F.O., Federal University of Technology'], freq=54),\n",
       " FreqItemset(items=[u'C.P., Federal University of Technology', u'Usman, University of Port Harcourt', u'S.A., Federal University of Technology'], freq=54),\n",
       " FreqItemset(items=[u'C.P., Federal University of Technology', u'Usman, University of Port Harcourt', u'S.A., Federal University of Technology', u'F.O., Federal University of Technology'], freq=54),\n",
       " FreqItemset(items=[u'C.P., Federal University of Technology', u'Usman, University of Port Harcourt', u'S.A., Federal University of Technology', u'O.M., Federal University of Technology'], freq=54),\n",
       " FreqItemset(items=[u'C.P., Federal University of Technology', u'Usman, University of Port Harcourt', u'S.A., Federal University of Technology', u'O.M., Federal University of Technology', u'F.O., Federal University of Technology'], freq=54),\n",
       " FreqItemset(items=[u'C.P., Federal University of Technology', u'C.E., Federal University Wukari'], freq=54),\n",
       " FreqItemset(items=[u'C.P., Federal University of Technology', u'C.E., Federal University Wukari', u'F.O., Federal University of Technology'], freq=54),\n",
       " FreqItemset(items=[u'C.P., Federal University of Technology', u'C.E., Federal University Wukari', u'O.M., Federal University of Technology'], freq=54),\n",
       " FreqItemset(items=[u'C.P., Federal University of Technology', u'C.E., Federal University Wukari', u'O.M., Federal University of Technology', u'F.O., Federal University of Technology'], freq=54),\n",
       " FreqItemset(items=[u'C.P., Federal University of Technology', u'C.E., Federal University Wukari', u'Usman, University of Port Harcourt'], freq=54),\n",
       " FreqItemset(items=[u'C.P., Federal University of Technology', u'C.E., Federal University Wukari', u'Usman, University of Port Harcourt', u'F.O., Federal University of Technology'], freq=54),\n",
       " FreqItemset(items=[u'C.P., Federal University of Technology', u'C.E., Federal University Wukari', u'Usman, University of Port Harcourt', u'O.M., Federal University of Technology'], freq=54),\n",
       " FreqItemset(items=[u'C.P., Federal University of Technology', u'C.E., Federal University Wukari', u'Usman, University of Port Harcourt', u'O.M., Federal University of Technology', u'F.O., Federal University of Technology'], freq=54),\n",
       " FreqItemset(items=[u'C.P., Federal University of Technology', u'C.E., Federal University Wukari', u'Usman, University of Port Harcourt', u'S.A., Federal University of Technology'], freq=54),\n",
       " FreqItemset(items=[u'C.P., Federal University of Technology', u'C.E., Federal University Wukari', u'Usman, University of Port Harcourt', u'S.A., Federal University of Technology', u'F.O., Federal University of Technology'], freq=54),\n",
       " FreqItemset(items=[u'C.P., Federal University of Technology', u'C.E., Federal University Wukari', u'Usman, University of Port Harcourt', u'S.A., Federal University of Technology', u'O.M., Federal University of Technology'], freq=54),\n",
       " FreqItemset(items=[u'C.P., Federal University of Technology', u'C.E., Federal University Wukari', u'Usman, University of Port Harcourt', u'S.A., Federal University of Technology', u'O.M., Federal University of Technology', u'F.O., Federal University of Technology'], freq=54),\n",
       " FreqItemset(items=[u'C.P., Federal University of Technology', u'C.E., Federal University Wukari', u'S.A., Federal University of Technology'], freq=54),\n",
       " FreqItemset(items=[u'C.P., Federal University of Technology', u'C.E., Federal University Wukari', u'S.A., Federal University of Technology', u'F.O., Federal University of Technology'], freq=54),\n",
       " FreqItemset(items=[u'C.P., Federal University of Technology', u'C.E., Federal University Wukari', u'S.A., Federal University of Technology', u'O.M., Federal University of Technology'], freq=54),\n",
       " FreqItemset(items=[u'C.P., Federal University of Technology', u'C.E., Federal University Wukari', u'S.A., Federal University of Technology', u'O.M., Federal University of Technology', u'F.O., Federal University of Technology'], freq=54),\n",
       " FreqItemset(items=[u'C.P., Federal University of Technology', u'S.A., Federal University of Technology'], freq=54),\n",
       " FreqItemset(items=[u'C.P., Federal University of Technology', u'S.A., Federal University of Technology', u'F.O., Federal University of Technology'], freq=54),\n",
       " FreqItemset(items=[u'C.P., Federal University of Technology', u'S.A., Federal University of Technology', u'O.M., Federal University of Technology'], freq=54),\n",
       " FreqItemset(items=[u'C.P., Federal University of Technology', u'S.A., Federal University of Technology', u'O.M., Federal University of Technology', u'F.O., Federal University of Technology'], freq=54),\n",
       " FreqItemset(items=[u'C.E., Federal University Wukari', u'F.O., Federal University of Technology'], freq=54),\n",
       " FreqItemset(items=[u'C.E., Federal University Wukari', u'O.M., Federal University of Technology'], freq=54),\n",
       " FreqItemset(items=[u'C.E., Federal University Wukari', u'O.M., Federal University of Technology', u'F.O., Federal University of Technology'], freq=54),\n",
       " FreqItemset(items=[u'C.E., Federal University Wukari', u'Usman, University of Port Harcourt'], freq=54),\n",
       " FreqItemset(items=[u'C.E., Federal University Wukari', u'Usman, University of Port Harcourt', u'F.O., Federal University of Technology'], freq=54),\n",
       " FreqItemset(items=[u'C.E., Federal University Wukari', u'Usman, University of Port Harcourt', u'O.M., Federal University of Technology'], freq=54),\n",
       " FreqItemset(items=[u'C.E., Federal University Wukari', u'Usman, University of Port Harcourt', u'O.M., Federal University of Technology', u'F.O., Federal University of Technology'], freq=54),\n",
       " FreqItemset(items=[u'C.E., Federal University Wukari', u'Usman, University of Port Harcourt', u'S.A., Federal University of Technology'], freq=54),\n",
       " FreqItemset(items=[u'C.E., Federal University Wukari', u'Usman, University of Port Harcourt', u'S.A., Federal University of Technology', u'F.O., Federal University of Technology'], freq=54),\n",
       " FreqItemset(items=[u'C.E., Federal University Wukari', u'Usman, University of Port Harcourt', u'S.A., Federal University of Technology', u'O.M., Federal University of Technology'], freq=54),\n",
       " FreqItemset(items=[u'C.E., Federal University Wukari', u'Usman, University of Port Harcourt', u'S.A., Federal University of Technology', u'O.M., Federal University of Technology', u'F.O., Federal University of Technology'], freq=54),\n",
       " FreqItemset(items=[u'C.E., Federal University Wukari', u'S.A., Federal University of Technology'], freq=54),\n",
       " FreqItemset(items=[u'C.E., Federal University Wukari', u'S.A., Federal University of Technology', u'F.O., Federal University of Technology'], freq=54),\n",
       " FreqItemset(items=[u'C.E., Federal University Wukari', u'S.A., Federal University of Technology', u'O.M., Federal University of Technology'], freq=54),\n",
       " FreqItemset(items=[u'C.E., Federal University Wukari', u'S.A., Federal University of Technology', u'O.M., Federal University of Technology', u'F.O., Federal University of Technology'], freq=54),\n",
       " FreqItemset(items=[u'Ma, Cuiqing', u'Xu, Ping'], freq=51),\n",
       " FreqItemset(items=[u'Koehler, P.G.', u'Patterson, R.S.'], freq=54),\n",
       " FreqItemset(items=[u'Jahanbakhsh, Science and Research Branch, Islamic Azad University', u'Ebad, Bureau of Water Resources'], freq=54),\n",
       " FreqItemset(items=[u'Jahanbakhsh, Science and Research Branch, Islamic Azad University', u'Ebad, Bureau of Water Resources', u'Farhad, Bureau of Water Resources'], freq=54),\n",
       " FreqItemset(items=[u'Jahanbakhsh, Science and Research Branch, Islamic Azad University', u'Farhad, Bureau of Water Resources'], freq=54),\n",
       " FreqItemset(items=[u'Akinpelu Festus, Ladoke Akintola University of Technology', u'Kasali Amofe, Ladoke Akintola University of Technology'], freq=54),\n",
       " FreqItemset(items=[u'Akinpelu Festus, Ladoke Akintola University of Technology', u'Kasali Amofe, Ladoke Akintola University of Technology', u'Gabriel Olulakin, Ladoke Akintola University of Technology'], freq=54),\n",
       " FreqItemset(items=[u'Akinpelu Festus, Ladoke Akintola University of Technology', u'Gabriel Olulakin, Ladoke Akintola University of Technology'], freq=54),\n",
       " FreqItemset(items=[u'I.J., Ahmadu Bello University', u'Y.A., Ahmadu Bello University'], freq=54),\n",
       " FreqItemset(items=[u'Arezoo, Agricultural and Natural Resources University of Gorgan', u'Mohamad, Agricultural and Natural Resources University of Gorgan'], freq=54),\n",
       " FreqItemset(items=[u'Sreelekha, GITAM University', u'H. Rahaman, GITAM University'], freq=54),\n",
       " FreqItemset(items=[u'Sreelekha, GITAM University', u'P., GITAM University'], freq=54),\n",
       " FreqItemset(items=[u'Sreelekha, GITAM University', u'P., GITAM University', u'H. Rahaman, GITAM University'], freq=54),\n",
       " FreqItemset(items=[u'Ebenezer Oyerinde, Ladoke Akintola University of Technology', u'Timothy Abiodun, Ladoke Akintola University of Technology'], freq=54),\n",
       " FreqItemset(items=[u'Ebenezer Oyerinde, Ladoke Akintola University of Technology', u'Timothy Abiodun, Ladoke Akintola University of Technology', u'Samuel Adelani, Ladoke Akintola University of Technology'], freq=54),\n",
       " FreqItemset(items=[u'Ebenezer Oyerinde, Ladoke Akintola University of Technology', u'Samuel Adelani, Ladoke Akintola University of Technology'], freq=54),\n",
       " FreqItemset(items=[u'Ebenezer Oyerinde, Ladoke Akintola University of Technology', u'Haleema Omolola, Ladoke Akintola University of Technology'], freq=54),\n",
       " FreqItemset(items=[u'Ebenezer Oyerinde, Ladoke Akintola University of Technology', u'Haleema Omolola, Ladoke Akintola University of Technology', u'Timothy Abiodun, Ladoke Akintola University of Technology'], freq=54),\n",
       " FreqItemset(items=[u'Ebenezer Oyerinde, Ladoke Akintola University of Technology', u'Haleema Omolola, Ladoke Akintola University of Technology', u'Timothy Abiodun, Ladoke Akintola University of Technology', u'Samuel Adelani, Ladoke Akintola University of Technology'], freq=54),\n",
       " FreqItemset(items=[u'Ebenezer Oyerinde, Ladoke Akintola University of Technology', u'Haleema Omolola, Ladoke Akintola University of Technology', u'Samuel Adelani, Ladoke Akintola University of Technology'], freq=54),\n",
       " FreqItemset(items=[u'Ebenezer Oyerinde, Ladoke Akintola University of Technology', u'Haleema Omolola, Ladoke Akintola University of Technology', u'Gabriel Olulakin, Ladoke Akintola University of Technology'], freq=54),\n",
       " FreqItemset(items=[u'Ebenezer Oyerinde, Ladoke Akintola University of Technology', u'Haleema Omolola, Ladoke Akintola University of Technology', u'Gabriel Olulakin, Ladoke Akintola University of Technology', u'Timothy Abiodun, Ladoke Akintola University of Technology'], freq=54),\n",
       " FreqItemset(items=[u'Ebenezer Oyerinde, Ladoke Akintola University of Technology', u'Haleema Omolola, Ladoke Akintola University of Technology', u'Gabriel Olulakin, Ladoke Akintola University of Technology', u'Timothy Abiodun, Ladoke Akintola University of Technology', u'Samuel Adelani, Ladoke Akintola University of Technology'], freq=54),\n",
       " FreqItemset(items=[u'Ebenezer Oyerinde, Ladoke Akintola University of Technology', u'Haleema Omolola, Ladoke Akintola University of Technology', u'Gabriel Olulakin, Ladoke Akintola University of Technology', u'Samuel Adelani, Ladoke Akintola University of Technology'], freq=54),\n",
       " FreqItemset(items=[u'Ebenezer Oyerinde, Ladoke Akintola University of Technology', u'Haleema Omolola, Ladoke Akintola University of Technology', u'Gabriel Olulakin, Ladoke Akintola University of Technology', u'Oladele Abiodun, Ladoke Akintola University of Technology'], freq=54),\n",
       " FreqItemset(items=[u'Ebenezer Oyerinde, Ladoke Akintola University of Technology', u'Haleema Omolola, Ladoke Akintola University of Technology', u'Gabriel Olulakin, Ladoke Akintola University of Technology', u'Oladele Abiodun, Ladoke Akintola University of Technology', u'Timothy Abiodun, Ladoke Akintola University of Technology'], freq=54),\n",
       " FreqItemset(items=[u'Ebenezer Oyerinde, Ladoke Akintola University of Technology', u'Haleema Omolola, Ladoke Akintola University of Technology', u'Gabriel Olulakin, Ladoke Akintola University of Technology', u'Oladele Abiodun, Ladoke Akintola University of Technology', u'Timothy Abiodun, Ladoke Akintola University of Technology', u'Samuel Adelani, Ladoke Akintola University of Technology'], freq=54),\n",
       " FreqItemset(items=[u'Ebenezer Oyerinde, Ladoke Akintola University of Technology', u'Haleema Omolola, Ladoke Akintola University of Technology', u'Gabriel Olulakin, Ladoke Akintola University of Technology', u'Oladele Abiodun, Ladoke Akintola University of Technology', u'Samuel Adelani, Ladoke Akintola University of Technology'], freq=54),\n",
       " FreqItemset(items=[u'Ebenezer Oyerinde, Ladoke Akintola University of Technology', u'Haleema Omolola, Ladoke Akintola University of Technology', u'Oladele Abiodun, Ladoke Akintola University of Technology'], freq=54),\n",
       " FreqItemset(items=[u'Ebenezer Oyerinde, Ladoke Akintola University of Technology', u'Haleema Omolola, Ladoke Akintola University of Technology', u'Oladele Abiodun, Ladoke Akintola University of Technology', u'Timothy Abiodun, Ladoke Akintola University of Technology'], freq=54),\n",
       " FreqItemset(items=[u'Ebenezer Oyerinde, Ladoke Akintola University of Technology', u'Haleema Omolola, Ladoke Akintola University of Technology', u'Oladele Abiodun, Ladoke Akintola University of Technology', u'Timothy Abiodun, Ladoke Akintola University of Technology', u'Samuel Adelani, Ladoke Akintola University of Technology'], freq=54),\n",
       " FreqItemset(items=[u'Ebenezer Oyerinde, Ladoke Akintola University of Technology', u'Haleema Omolola, Ladoke Akintola University of Technology', u'Oladele Abiodun, Ladoke Akintola University of Technology', u'Samuel Adelani, Ladoke Akintola University of Technology'], freq=54),\n",
       " FreqItemset(items=[u'Ebenezer Oyerinde, Ladoke Akintola University of Technology', u'Gabriel Olulakin, Ladoke Akintola University of Technology'], freq=54),\n",
       " FreqItemset(items=[u'Ebenezer Oyerinde, Ladoke Akintola University of Technology', u'Gabriel Olulakin, Ladoke Akintola University of Technology', u'Timothy Abiodun, Ladoke Akintola University of Technology'], freq=54),\n",
       " FreqItemset(items=[u'Ebenezer Oyerinde, Ladoke Akintola University of Technology', u'Gabriel Olulakin, Ladoke Akintola University of Technology', u'Timothy Abiodun, Ladoke Akintola University of Technology', u'Samuel Adelani, Ladoke Akintola University of Technology'], freq=54),\n",
       " FreqItemset(items=[u'Ebenezer Oyerinde, Ladoke Akintola University of Technology', u'Gabriel Olulakin, Ladoke Akintola University of Technology', u'Samuel Adelani, Ladoke Akintola University of Technology'], freq=54),\n",
       " FreqItemset(items=[u'Ebenezer Oyerinde, Ladoke Akintola University of Technology', u'Gabriel Olulakin, Ladoke Akintola University of Technology', u'Oladele Abiodun, Ladoke Akintola University of Technology'], freq=54),\n",
       " FreqItemset(items=[u'Ebenezer Oyerinde, Ladoke Akintola University of Technology', u'Gabriel Olulakin, Ladoke Akintola University of Technology', u'Oladele Abiodun, Ladoke Akintola University of Technology', u'Timothy Abiodun, Ladoke Akintola University of Technology'], freq=54),\n",
       " FreqItemset(items=[u'Ebenezer Oyerinde, Ladoke Akintola University of Technology', u'Gabriel Olulakin, Ladoke Akintola University of Technology', u'Oladele Abiodun, Ladoke Akintola University of Technology', u'Timothy Abiodun, Ladoke Akintola University of Technology', u'Samuel Adelani, Ladoke Akintola University of Technology'], freq=54),\n",
       " FreqItemset(items=[u'Ebenezer Oyerinde, Ladoke Akintola University of Technology', u'Gabriel Olulakin, Ladoke Akintola University of Technology', u'Oladele Abiodun, Ladoke Akintola University of Technology', u'Samuel Adelani, Ladoke Akintola University of Technology'], freq=54),\n",
       " FreqItemset(items=[u'Ebenezer Oyerinde, Ladoke Akintola University of Technology', u'Oladele Abiodun, Ladoke Akintola University of Technology'], freq=54),\n",
       " FreqItemset(items=[u'Ebenezer Oyerinde, Ladoke Akintola University of Technology', u'Oladele Abiodun, Ladoke Akintola University of Technology', u'Timothy Abiodun, Ladoke Akintola University of Technology'], freq=54),\n",
       " FreqItemset(items=[u'Ebenezer Oyerinde, Ladoke Akintola University of Technology', u'Oladele Abiodun, Ladoke Akintola University of Technology', u'Timothy Abiodun, Ladoke Akintola University of Technology', u'Samuel Adelani, Ladoke Akintola University of Technology'], freq=54),\n",
       " FreqItemset(items=[u'Ebenezer Oyerinde, Ladoke Akintola University of Technology', u'Oladele Abiodun, Ladoke Akintola University of Technology', u'Samuel Adelani, Ladoke Akintola University of Technology'], freq=54),\n",
       " FreqItemset(items=[u'G.M. Alagu, Annamalai University', u'S., Annamalai University'], freq=54),\n",
       " FreqItemset(items=[u'Ahemad, Gulbarga University Gulbarga', u'Divatar, Gulbarga University Gulbarga'], freq=54),\n",
       " FreqItemset(items=[u'Snehasikta, CSIR - Indian Institute of Chemical Biology', u'Kushal, University of Calcutta'], freq=54),\n",
       " FreqItemset(items=[u'Snehasikta, CSIR - Indian Institute of Chemical Biology', u'Kushal, University of Calcutta', u'Soumendra Nath, Rabindra Bharati University'], freq=54),\n",
       " FreqItemset(items=[u'Snehasikta, CSIR - Indian Institute of Chemical Biology', u'Kushal, University of Calcutta', u'Abantika, University of Calcutta'], freq=54),\n",
       " FreqItemset(items=[u'Snehasikta, CSIR - Indian Institute of Chemical Biology', u'Kushal, University of Calcutta', u'Abantika, University of Calcutta', u'Soumendra Nath, Rabindra Bharati University'], freq=54),\n",
       " FreqItemset(items=[u'Snehasikta, CSIR - Indian Institute of Chemical Biology', u'Kushal, University of Calcutta', u'Subhodeep, Asutosh College'], freq=54),\n",
       " FreqItemset(items=[u'Snehasikta, CSIR - Indian Institute of Chemical Biology', u'Kushal, University of Calcutta', u'Subhodeep, Asutosh College', u'Soumendra Nath, Rabindra Bharati University'], freq=54),\n",
       " FreqItemset(items=[u'Snehasikta, CSIR - Indian Institute of Chemical Biology', u'Kushal, University of Calcutta', u'Subhodeep, Asutosh College', u'Abantika, University of Calcutta'], freq=54),\n",
       " FreqItemset(items=[u'Snehasikta, CSIR - Indian Institute of Chemical Biology', u'Kushal, University of Calcutta', u'Subhodeep, Asutosh College', u'Abantika, University of Calcutta', u'Soumendra Nath, Rabindra Bharati University'], freq=54),\n",
       " FreqItemset(items=[u'Snehasikta, CSIR - Indian Institute of Chemical Biology', u'Soumendra Nath, Rabindra Bharati University'], freq=54),\n",
       " FreqItemset(items=[u'Snehasikta, CSIR - Indian Institute of Chemical Biology', u'Abantika, University of Calcutta'], freq=54),\n",
       " FreqItemset(items=[u'Snehasikta, CSIR - Indian Institute of Chemical Biology', u'Abantika, University of Calcutta', u'Soumendra Nath, Rabindra Bharati University'], freq=54),\n",
       " FreqItemset(items=[u'Snehasikta, CSIR - Indian Institute of Chemical Biology', u'Kaushik, Career Advancement Solutions'], freq=54),\n",
       " FreqItemset(items=[u'Snehasikta, CSIR - Indian Institute of Chemical Biology', u'Kaushik, Career Advancement Solutions', u'Soumendra Nath, Career Advancement Solutions'], freq=54),\n",
       " FreqItemset(items=[u'Snehasikta, CSIR - Indian Institute of Chemical Biology', u'Soumendra Nath, Career Advancement Solutions'], freq=54),\n",
       " FreqItemset(items=[u'Snehasikta, CSIR - Indian Institute of Chemical Biology', u'Subhodeep, Asutosh College'], freq=54),\n",
       " FreqItemset(items=[u'Snehasikta, CSIR - Indian Institute of Chemical Biology', u'Subhodeep, Asutosh College', u'Soumendra Nath, Rabindra Bharati University'], freq=54),\n",
       " FreqItemset(items=[u'Snehasikta, CSIR - Indian Institute of Chemical Biology', u'Subhodeep, Asutosh College', u'Abantika, University of Calcutta'], freq=54),\n",
       " FreqItemset(items=[u'Snehasikta, CSIR - Indian Institute of Chemical Biology', u'Subhodeep, Asutosh College', u'Abantika, University of Calcutta', u'Soumendra Nath, Rabindra Bharati University'], freq=54),\n",
       " FreqItemset(items=[u'K.B., Kerala Agriculture University', u'P.B., Kerala Agriculture University'], freq=54),\n",
       " FreqItemset(items=[u'Yue, Qinyan', u'Gao, Baoyu'], freq=80),\n",
       " FreqItemset(items=[u'Kaushik, Career Advancement Solutions', u'Soumendra Nath, Career Advancement Solutions'], freq=108),\n",
       " FreqItemset(items=[u'Blair, I.S.', u'McDowell, D.A.'], freq=61),\n",
       " FreqItemset(items=[u'Abdul J., United Arab Emirates University', u'Mohammed A., United Arab Emirates University'], freq=54),\n",
       " FreqItemset(items=[u'Abdul J., United Arab Emirates University', u'Shyam S., United Arab Emirates University'], freq=54),\n",
       " FreqItemset(items=[u'Abdul J., United Arab Emirates University', u'Shyam S., United Arab Emirates University', u'Mohammed A., United Arab Emirates University'], freq=54),\n",
       " FreqItemset(items=[u'Beyene, M.', u'Tekauz, A.'], freq=55),\n",
       " FreqItemset(items=[u'Beyene, M.', u'Stulzer, M.'], freq=57),\n",
       " FreqItemset(items=[u'Beyene, M.', u'Stulzer, M.', u'Tekauz, A.'], freq=55),\n",
       " FreqItemset(items=[u'O.I., Federal Polytechnic', u'Y.F., Federal Polytechnic'], freq=54),\n",
       " FreqItemset(items=[u'O.I., Federal Polytechnic', u'Y.F., Federal Polytechnic', u'C., Federal Polytechnic'], freq=54),\n",
       " FreqItemset(items=[u'O.I., Federal Polytechnic', u'Y.F., Federal Polytechnic', u'A.N., Federal Polytechnic'], freq=54),\n",
       " FreqItemset(items=[u'O.I., Federal Polytechnic', u'Y.F., Federal Polytechnic', u'A.N., Federal Polytechnic', u'C., Federal Polytechnic'], freq=54),\n",
       " FreqItemset(items=[u'O.I., Federal Polytechnic', u'W.E., Federal Polytechnic'], freq=54),\n",
       " FreqItemset(items=[u'O.I., Federal Polytechnic', u'W.E., Federal Polytechnic', u'Y.F., Federal Polytechnic'], freq=54),\n",
       " FreqItemset(items=[u'O.I., Federal Polytechnic', u'W.E., Federal Polytechnic', u'Y.F., Federal Polytechnic', u'C., Federal Polytechnic'], freq=54),\n",
       " FreqItemset(items=[u'O.I., Federal Polytechnic', u'W.E., Federal Polytechnic', u'Y.F., Federal Polytechnic', u'A.N., Federal Polytechnic'], freq=54),\n",
       " FreqItemset(items=[u'O.I., Federal Polytechnic', u'W.E., Federal Polytechnic', u'Y.F., Federal Polytechnic', u'A.N., Federal Polytechnic', u'C., Federal Polytechnic'], freq=54),\n",
       " FreqItemset(items=[u'O.I., Federal Polytechnic', u'W.E., Federal Polytechnic', u'C., Federal Polytechnic'], freq=54),\n",
       " FreqItemset(items=[u'O.I., Federal Polytechnic', u'W.E., Federal Polytechnic', u'A.N., Federal Polytechnic'], freq=54),\n",
       " FreqItemset(items=[u'O.I., Federal Polytechnic', u'W.E., Federal Polytechnic', u'A.N., Federal Polytechnic', u'C., Federal Polytechnic'], freq=54),\n",
       " FreqItemset(items=[u'O.I., Federal Polytechnic', u'C., Federal Polytechnic'], freq=54),\n",
       " FreqItemset(items=[u'O.I., Federal Polytechnic', u'A.N., Federal Polytechnic'], freq=54),\n",
       " FreqItemset(items=[u'O.I., Federal Polytechnic', u'A.N., Federal Polytechnic', u'C., Federal Polytechnic'], freq=54),\n",
       " FreqItemset(items=[u'Brooker, I.', u'Hall, N.'], freq=110),\n",
       " FreqItemset(items=[u'N., Annamalai University', u'T., Annamalai University'], freq=108),\n",
       " FreqItemset(items=[u'N., Annamalai University', u'T., Annamalai University', u'S., Annamalai University'], freq=54),\n",
       " FreqItemset(items=[u'N., Annamalai University', u'S., Annamalai University'], freq=108),\n",
       " FreqItemset(items=[u'A. Baleeshwar, Osmania University', u'V., Prof. Jayashankar Telangana State Agricultural University'], freq=54),\n",
       " FreqItemset(items=[u'A. Baleeshwar, Osmania University', u'A. Vijaya, Osmania University'], freq=54),\n",
       " FreqItemset(items=[u'A. Baleeshwar, Osmania University', u'A. Vijaya, Osmania University', u'V., Prof. Jayashankar Telangana State Agricultural University'], freq=54),\n",
       " FreqItemset(items=[u'M.M., Cross River State University of Technology', u'Philip O., University of Maiduguri'], freq=54),\n",
       " FreqItemset(items=[u'Mortensen H.P.', u'Madsen A.'], freq=82),\n",
       " FreqItemset(items=[u'Schwarz, F.J.', u'Kirchgessner, M.'], freq=53),\n",
       " FreqItemset(items=[u'Arezoo, Gorgan University of Agricultural Sciences and Natural Resources', u'Mohamad, Agricultural and Natural Resources University of Gorgan'], freq=54),\n",
       " FreqItemset(items=[u'Juzavil, Mindanao State University', u'Rose Ann, Mindanao State University'], freq=54),\n",
       " FreqItemset(items=[u'Bruno, M.', u'Rodriguez, B.'], freq=50),\n",
       " FreqItemset(items=[u'Girish, St. John\\u2019s Pharmacy College', u'John Wilking, St. John\\u2019s Pharmacy College'], freq=54),\n",
       " FreqItemset(items=[u'Girish, St. John\\u2019s Pharmacy College', u'John Wilking, St. John\\u2019s Pharmacy College', u'Kuntal, Krupanidhi College of Pharmacy'], freq=54),\n",
       " FreqItemset(items=[u'Girish, St. John\\u2019s Pharmacy College', u'Kuntal, Krupanidhi College of Pharmacy'], freq=54),\n",
       " FreqItemset(items=[u'S., Government Arts College', u'T.M. Sathees, A.V.C. College (Autonomous)'], freq=54),\n",
       " FreqItemset(items=[u'Moore, S.R.', u'Lawrence, K.S.'], freq=54),\n",
       " FreqItemset(items=[u'Moses Onyilo, University of Agriculture', u'Felix Terna, Akperan Orshi College of Agriculture'], freq=54),\n",
       " FreqItemset(items=[u'Moses Onyilo, University of Agriculture', u'Felix Terna, Akperan Orshi College of Agriculture', u'Michael Ojore, University of Agriculture'], freq=54),\n",
       " FreqItemset(items=[u'Moses Onyilo, University of Agriculture', u'Michael Ojore, University of Agriculture'], freq=54),\n",
       " FreqItemset(items=[u'Poschacher G. (ed.)', u'Bundesministerium fuer Land- und Forstwirtschaft, Vienna (Austria)'], freq=63),\n",
       " FreqItemset(items=[u'S.C., GKVK, University of Agricultural Sciences', u'B.C., GKVK, University of Agricultural Sciences'], freq=54),\n",
       " FreqItemset(items=[u'S.C., GKVK, University of Agricultural Sciences', u'B.C., GKVK, University of Agricultural Sciences', u'B.B., GKVK, University of Agricultural Sciences'], freq=54),\n",
       " FreqItemset(items=[u'S.C., GKVK, University of Agricultural Sciences', u'S.B., GKVK, University of Agricultural Sciences'], freq=54),\n",
       " FreqItemset(items=[u'S.C., GKVK, University of Agricultural Sciences', u'S.B., GKVK, University of Agricultural Sciences', u'B.C., GKVK, University of Agricultural Sciences'], freq=54),\n",
       " FreqItemset(items=[u'S.C., GKVK, University of Agricultural Sciences', u'S.B., GKVK, University of Agricultural Sciences', u'B.C., GKVK, University of Agricultural Sciences', u'B.B., GKVK, University of Agricultural Sciences'], freq=54),\n",
       " FreqItemset(items=[u'S.C., GKVK, University of Agricultural Sciences', u'S.B., GKVK, University of Agricultural Sciences', u'B.B., GKVK, University of Agricultural Sciences'], freq=54),\n",
       " ...]"
      ]
     },
     "execution_count": 61,
     "metadata": {},
     "output_type": "execute_result"
    }
   ],
   "source": [
    "result"
   ]
  },
  {
   "cell_type": "code",
   "execution_count": null,
   "metadata": {
    "collapsed": true
   },
   "outputs": [],
   "source": []
  }
 ],
 "metadata": {
  "kernelspec": {
   "display_name": "Python 2",
   "language": "python",
   "name": "python2"
  },
  "language_info": {
   "codemirror_mode": {
    "name": "ipython",
    "version": 2
   },
   "file_extension": ".py",
   "mimetype": "text/x-python",
   "name": "python",
   "nbconvert_exporter": "python",
   "pygments_lexer": "ipython2",
   "version": "2.7.12"
  }
 },
 "nbformat": 4,
 "nbformat_minor": 0
}
